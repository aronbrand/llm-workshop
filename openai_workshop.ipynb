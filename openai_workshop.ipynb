{
 "cells": [
  {
   "cell_type": "markdown",
   "metadata": {},
   "source": [
    "# LLM Workshop Notebook - OpenAI Version\n",
    "\n",
    "**Author:** Aron Brand\n",
    "\n",
    "**Copyright (c) 2024**\n",
    "\n",
    "This notebook is an integral part of Aron Brand's LLM Workshop, designed to explore and utilize the capabilities of large language models (LLMs).\n",
    "\n",
    "**License:**\n",
    "\n",
    "This program is free software: you are encouraged to redistribute and/or modify it under the terms of the GNU General Public License as published by the Free Software Foundation. This software is provided under either version 3 of the License, or (at your discretion) any later version.\n",
    "\n",
    "The program is distributed in the hope that it will be useful and informative. However, it comes with no warranty; not even the implied warranty of merchantability or fitness for a particular purpose. For more details, please refer to the GNU General Public License.\n",
    "\n",
    "For a copy of the GNU General Public License, please visit [https://www.gnu.org/licenses/](https://www.gnu.org/licenses/)."
   ]
  },
  {
   "cell_type": "markdown",
   "metadata": {},
   "source": [
    "# Install dependencies"
   ]
  },
  {
   "cell_type": "code",
   "execution_count": 36,
   "metadata": {},
   "outputs": [
    {
     "name": "stdout",
     "output_type": "stream",
     "text": [
      "Requirement already satisfied: openai in ./venv/lib/python3.12/site-packages (1.26.0)\n",
      "Requirement already satisfied: langchain in ./venv/lib/python3.12/site-packages (0.1.17)\n",
      "Requirement already satisfied: langchain-openai in ./venv/lib/python3.12/site-packages (0.1.6)\n",
      "Requirement already satisfied: chromadb in ./venv/lib/python3.12/site-packages (0.5.0)\n",
      "Requirement already satisfied: langchainhub in ./venv/lib/python3.12/site-packages (0.1.15)\n",
      "Requirement already satisfied: selenium in ./venv/lib/python3.12/site-packages (4.20.0)\n",
      "Requirement already satisfied: anyio<5,>=3.5.0 in ./venv/lib/python3.12/site-packages (from openai) (4.3.0)\n",
      "Requirement already satisfied: distro<2,>=1.7.0 in ./venv/lib/python3.12/site-packages (from openai) (1.9.0)\n",
      "Requirement already satisfied: httpx<1,>=0.23.0 in ./venv/lib/python3.12/site-packages (from openai) (0.27.0)\n",
      "Requirement already satisfied: pydantic<3,>=1.9.0 in ./venv/lib/python3.12/site-packages (from openai) (2.7.1)\n",
      "Requirement already satisfied: sniffio in ./venv/lib/python3.12/site-packages (from openai) (1.3.1)\n",
      "Requirement already satisfied: tqdm>4 in ./venv/lib/python3.12/site-packages (from openai) (4.66.4)\n",
      "Requirement already satisfied: typing-extensions<5,>=4.7 in ./venv/lib/python3.12/site-packages (from openai) (4.11.0)\n",
      "Requirement already satisfied: PyYAML>=5.3 in ./venv/lib/python3.12/site-packages (from langchain) (6.0.1)\n",
      "Requirement already satisfied: SQLAlchemy<3,>=1.4 in ./venv/lib/python3.12/site-packages (from langchain) (2.0.30)\n",
      "Requirement already satisfied: aiohttp<4.0.0,>=3.8.3 in ./venv/lib/python3.12/site-packages (from langchain) (3.9.5)\n",
      "Requirement already satisfied: dataclasses-json<0.7,>=0.5.7 in ./venv/lib/python3.12/site-packages (from langchain) (0.6.5)\n",
      "Requirement already satisfied: jsonpatch<2.0,>=1.33 in ./venv/lib/python3.12/site-packages (from langchain) (1.33)\n",
      "Requirement already satisfied: langchain-community<0.1,>=0.0.36 in ./venv/lib/python3.12/site-packages (from langchain) (0.0.37)\n",
      "Requirement already satisfied: langchain-core<0.2.0,>=0.1.48 in ./venv/lib/python3.12/site-packages (from langchain) (0.1.51)\n",
      "Requirement already satisfied: langchain-text-splitters<0.1,>=0.0.1 in ./venv/lib/python3.12/site-packages (from langchain) (0.0.1)\n",
      "Requirement already satisfied: langsmith<0.2.0,>=0.1.17 in ./venv/lib/python3.12/site-packages (from langchain) (0.1.54)\n",
      "Requirement already satisfied: numpy<2,>=1 in ./venv/lib/python3.12/site-packages (from langchain) (1.26.4)\n",
      "Requirement already satisfied: requests<3,>=2 in ./venv/lib/python3.12/site-packages (from langchain) (2.31.0)\n",
      "Requirement already satisfied: tenacity<9.0.0,>=8.1.0 in ./venv/lib/python3.12/site-packages (from langchain) (8.2.3)\n",
      "Requirement already satisfied: tiktoken<1,>=0.5.2 in ./venv/lib/python3.12/site-packages (from langchain-openai) (0.6.0)\n",
      "Requirement already satisfied: build>=1.0.3 in ./venv/lib/python3.12/site-packages (from chromadb) (1.2.1)\n",
      "Requirement already satisfied: chroma-hnswlib==0.7.3 in ./venv/lib/python3.12/site-packages (from chromadb) (0.7.3)\n",
      "Requirement already satisfied: fastapi>=0.95.2 in ./venv/lib/python3.12/site-packages (from chromadb) (0.111.0)\n",
      "Requirement already satisfied: uvicorn>=0.18.3 in ./venv/lib/python3.12/site-packages (from uvicorn[standard]>=0.18.3->chromadb) (0.29.0)\n",
      "Requirement already satisfied: posthog>=2.4.0 in ./venv/lib/python3.12/site-packages (from chromadb) (3.5.0)\n",
      "Requirement already satisfied: onnxruntime>=1.14.1 in ./venv/lib/python3.12/site-packages (from chromadb) (1.17.3)\n",
      "Requirement already satisfied: opentelemetry-api>=1.2.0 in ./venv/lib/python3.12/site-packages (from chromadb) (1.24.0)\n",
      "Requirement already satisfied: opentelemetry-exporter-otlp-proto-grpc>=1.2.0 in ./venv/lib/python3.12/site-packages (from chromadb) (1.24.0)\n",
      "Requirement already satisfied: opentelemetry-instrumentation-fastapi>=0.41b0 in ./venv/lib/python3.12/site-packages (from chromadb) (0.45b0)\n",
      "Requirement already satisfied: opentelemetry-sdk>=1.2.0 in ./venv/lib/python3.12/site-packages (from chromadb) (1.24.0)\n",
      "Requirement already satisfied: tokenizers>=0.13.2 in ./venv/lib/python3.12/site-packages (from chromadb) (0.19.1)\n",
      "Requirement already satisfied: pypika>=0.48.9 in ./venv/lib/python3.12/site-packages (from chromadb) (0.48.9)\n",
      "Requirement already satisfied: overrides>=7.3.1 in ./venv/lib/python3.12/site-packages (from chromadb) (7.7.0)\n",
      "Requirement already satisfied: importlib-resources in ./venv/lib/python3.12/site-packages (from chromadb) (6.4.0)\n",
      "Requirement already satisfied: grpcio>=1.58.0 in ./venv/lib/python3.12/site-packages (from chromadb) (1.63.0)\n",
      "Requirement already satisfied: bcrypt>=4.0.1 in ./venv/lib/python3.12/site-packages (from chromadb) (4.1.3)\n",
      "Requirement already satisfied: typer>=0.9.0 in ./venv/lib/python3.12/site-packages (from chromadb) (0.12.3)\n",
      "Requirement already satisfied: kubernetes>=28.1.0 in ./venv/lib/python3.12/site-packages (from chromadb) (29.0.0)\n",
      "Requirement already satisfied: mmh3>=4.0.1 in ./venv/lib/python3.12/site-packages (from chromadb) (4.1.0)\n",
      "Requirement already satisfied: orjson>=3.9.12 in ./venv/lib/python3.12/site-packages (from chromadb) (3.10.3)\n",
      "Requirement already satisfied: types-requests<3.0.0.0,>=2.31.0.2 in ./venv/lib/python3.12/site-packages (from langchainhub) (2.31.0.20240406)\n",
      "Requirement already satisfied: urllib3<3,>=1.26 in ./venv/lib/python3.12/site-packages (from urllib3[socks]<3,>=1.26->selenium) (2.2.1)\n",
      "Requirement already satisfied: trio~=0.17 in ./venv/lib/python3.12/site-packages (from selenium) (0.25.0)\n",
      "Requirement already satisfied: trio-websocket~=0.9 in ./venv/lib/python3.12/site-packages (from selenium) (0.11.1)\n",
      "Requirement already satisfied: certifi>=2021.10.8 in ./venv/lib/python3.12/site-packages (from selenium) (2024.2.2)\n",
      "Requirement already satisfied: aiosignal>=1.1.2 in ./venv/lib/python3.12/site-packages (from aiohttp<4.0.0,>=3.8.3->langchain) (1.3.1)\n",
      "Requirement already satisfied: attrs>=17.3.0 in ./venv/lib/python3.12/site-packages (from aiohttp<4.0.0,>=3.8.3->langchain) (23.2.0)\n",
      "Requirement already satisfied: frozenlist>=1.1.1 in ./venv/lib/python3.12/site-packages (from aiohttp<4.0.0,>=3.8.3->langchain) (1.4.1)\n",
      "Requirement already satisfied: multidict<7.0,>=4.5 in ./venv/lib/python3.12/site-packages (from aiohttp<4.0.0,>=3.8.3->langchain) (6.0.5)\n",
      "Requirement already satisfied: yarl<2.0,>=1.0 in ./venv/lib/python3.12/site-packages (from aiohttp<4.0.0,>=3.8.3->langchain) (1.9.4)\n",
      "Requirement already satisfied: idna>=2.8 in ./venv/lib/python3.12/site-packages (from anyio<5,>=3.5.0->openai) (3.7)\n",
      "Requirement already satisfied: packaging>=19.1 in ./venv/lib/python3.12/site-packages (from build>=1.0.3->chromadb) (23.2)\n",
      "Requirement already satisfied: pyproject_hooks in ./venv/lib/python3.12/site-packages (from build>=1.0.3->chromadb) (1.1.0)\n",
      "Requirement already satisfied: marshmallow<4.0.0,>=3.18.0 in ./venv/lib/python3.12/site-packages (from dataclasses-json<0.7,>=0.5.7->langchain) (3.21.2)\n",
      "Requirement already satisfied: typing-inspect<1,>=0.4.0 in ./venv/lib/python3.12/site-packages (from dataclasses-json<0.7,>=0.5.7->langchain) (0.9.0)\n",
      "Requirement already satisfied: starlette<0.38.0,>=0.37.2 in ./venv/lib/python3.12/site-packages (from fastapi>=0.95.2->chromadb) (0.37.2)\n",
      "Requirement already satisfied: fastapi-cli>=0.0.2 in ./venv/lib/python3.12/site-packages (from fastapi>=0.95.2->chromadb) (0.0.2)\n",
      "Requirement already satisfied: jinja2>=2.11.2 in ./venv/lib/python3.12/site-packages (from fastapi>=0.95.2->chromadb) (3.1.4)\n",
      "Requirement already satisfied: python-multipart>=0.0.7 in ./venv/lib/python3.12/site-packages (from fastapi>=0.95.2->chromadb) (0.0.9)\n",
      "Requirement already satisfied: ujson!=4.0.2,!=4.1.0,!=4.2.0,!=4.3.0,!=5.0.0,!=5.1.0,>=4.0.1 in ./venv/lib/python3.12/site-packages (from fastapi>=0.95.2->chromadb) (5.9.0)\n",
      "Requirement already satisfied: email_validator>=2.0.0 in ./venv/lib/python3.12/site-packages (from fastapi>=0.95.2->chromadb) (2.1.1)\n",
      "Requirement already satisfied: httpcore==1.* in ./venv/lib/python3.12/site-packages (from httpx<1,>=0.23.0->openai) (1.0.5)\n",
      "Requirement already satisfied: h11<0.15,>=0.13 in ./venv/lib/python3.12/site-packages (from httpcore==1.*->httpx<1,>=0.23.0->openai) (0.14.0)\n",
      "Requirement already satisfied: jsonpointer>=1.9 in ./venv/lib/python3.12/site-packages (from jsonpatch<2.0,>=1.33->langchain) (2.4)\n",
      "Requirement already satisfied: six>=1.9.0 in ./venv/lib/python3.12/site-packages (from kubernetes>=28.1.0->chromadb) (1.16.0)\n",
      "Requirement already satisfied: python-dateutil>=2.5.3 in ./venv/lib/python3.12/site-packages (from kubernetes>=28.1.0->chromadb) (2.9.0.post0)\n",
      "Requirement already satisfied: google-auth>=1.0.1 in ./venv/lib/python3.12/site-packages (from kubernetes>=28.1.0->chromadb) (2.29.0)\n",
      "Requirement already satisfied: websocket-client!=0.40.0,!=0.41.*,!=0.42.*,>=0.32.0 in ./venv/lib/python3.12/site-packages (from kubernetes>=28.1.0->chromadb) (1.8.0)\n",
      "Requirement already satisfied: requests-oauthlib in ./venv/lib/python3.12/site-packages (from kubernetes>=28.1.0->chromadb) (2.0.0)\n",
      "Requirement already satisfied: oauthlib>=3.2.2 in ./venv/lib/python3.12/site-packages (from kubernetes>=28.1.0->chromadb) (3.2.2)\n",
      "Requirement already satisfied: coloredlogs in ./venv/lib/python3.12/site-packages (from onnxruntime>=1.14.1->chromadb) (15.0.1)\n",
      "Requirement already satisfied: flatbuffers in ./venv/lib/python3.12/site-packages (from onnxruntime>=1.14.1->chromadb) (24.3.25)\n",
      "Requirement already satisfied: protobuf in ./venv/lib/python3.12/site-packages (from onnxruntime>=1.14.1->chromadb) (4.25.3)\n",
      "Requirement already satisfied: sympy in ./venv/lib/python3.12/site-packages (from onnxruntime>=1.14.1->chromadb) (1.12)\n",
      "Requirement already satisfied: deprecated>=1.2.6 in ./venv/lib/python3.12/site-packages (from opentelemetry-api>=1.2.0->chromadb) (1.2.14)\n",
      "Requirement already satisfied: importlib-metadata<=7.0,>=6.0 in ./venv/lib/python3.12/site-packages (from opentelemetry-api>=1.2.0->chromadb) (7.0.0)\n",
      "Requirement already satisfied: googleapis-common-protos~=1.52 in ./venv/lib/python3.12/site-packages (from opentelemetry-exporter-otlp-proto-grpc>=1.2.0->chromadb) (1.63.0)\n",
      "Requirement already satisfied: opentelemetry-exporter-otlp-proto-common==1.24.0 in ./venv/lib/python3.12/site-packages (from opentelemetry-exporter-otlp-proto-grpc>=1.2.0->chromadb) (1.24.0)\n",
      "Requirement already satisfied: opentelemetry-proto==1.24.0 in ./venv/lib/python3.12/site-packages (from opentelemetry-exporter-otlp-proto-grpc>=1.2.0->chromadb) (1.24.0)\n",
      "Requirement already satisfied: opentelemetry-instrumentation-asgi==0.45b0 in ./venv/lib/python3.12/site-packages (from opentelemetry-instrumentation-fastapi>=0.41b0->chromadb) (0.45b0)\n",
      "Requirement already satisfied: opentelemetry-instrumentation==0.45b0 in ./venv/lib/python3.12/site-packages (from opentelemetry-instrumentation-fastapi>=0.41b0->chromadb) (0.45b0)\n",
      "Requirement already satisfied: opentelemetry-semantic-conventions==0.45b0 in ./venv/lib/python3.12/site-packages (from opentelemetry-instrumentation-fastapi>=0.41b0->chromadb) (0.45b0)\n",
      "Requirement already satisfied: opentelemetry-util-http==0.45b0 in ./venv/lib/python3.12/site-packages (from opentelemetry-instrumentation-fastapi>=0.41b0->chromadb) (0.45b0)\n",
      "Requirement already satisfied: setuptools>=16.0 in ./venv/lib/python3.12/site-packages (from opentelemetry-instrumentation==0.45b0->opentelemetry-instrumentation-fastapi>=0.41b0->chromadb) (69.5.1)\n",
      "Requirement already satisfied: wrapt<2.0.0,>=1.0.0 in ./venv/lib/python3.12/site-packages (from opentelemetry-instrumentation==0.45b0->opentelemetry-instrumentation-fastapi>=0.41b0->chromadb) (1.16.0)\n",
      "Requirement already satisfied: asgiref~=3.0 in ./venv/lib/python3.12/site-packages (from opentelemetry-instrumentation-asgi==0.45b0->opentelemetry-instrumentation-fastapi>=0.41b0->chromadb) (3.8.1)\n",
      "Requirement already satisfied: monotonic>=1.5 in ./venv/lib/python3.12/site-packages (from posthog>=2.4.0->chromadb) (1.6)\n",
      "Requirement already satisfied: backoff>=1.10.0 in ./venv/lib/python3.12/site-packages (from posthog>=2.4.0->chromadb) (2.2.1)\n",
      "Requirement already satisfied: annotated-types>=0.4.0 in ./venv/lib/python3.12/site-packages (from pydantic<3,>=1.9.0->openai) (0.6.0)\n",
      "Requirement already satisfied: pydantic-core==2.18.2 in ./venv/lib/python3.12/site-packages (from pydantic<3,>=1.9.0->openai) (2.18.2)\n",
      "Requirement already satisfied: charset-normalizer<4,>=2 in ./venv/lib/python3.12/site-packages (from requests<3,>=2->langchain) (3.3.2)\n",
      "Requirement already satisfied: regex>=2022.1.18 in ./venv/lib/python3.12/site-packages (from tiktoken<1,>=0.5.2->langchain-openai) (2024.4.28)\n",
      "Requirement already satisfied: huggingface-hub<1.0,>=0.16.4 in ./venv/lib/python3.12/site-packages (from tokenizers>=0.13.2->chromadb) (0.23.0)\n",
      "Requirement already satisfied: sortedcontainers in ./venv/lib/python3.12/site-packages (from trio~=0.17->selenium) (2.4.0)\n",
      "Requirement already satisfied: outcome in ./venv/lib/python3.12/site-packages (from trio~=0.17->selenium) (1.3.0.post0)\n",
      "Requirement already satisfied: wsproto>=0.14 in ./venv/lib/python3.12/site-packages (from trio-websocket~=0.9->selenium) (1.2.0)\n",
      "Requirement already satisfied: click>=8.0.0 in ./venv/lib/python3.12/site-packages (from typer>=0.9.0->chromadb) (8.1.7)\n",
      "Requirement already satisfied: shellingham>=1.3.0 in ./venv/lib/python3.12/site-packages (from typer>=0.9.0->chromadb) (1.5.4)\n",
      "Requirement already satisfied: rich>=10.11.0 in ./venv/lib/python3.12/site-packages (from typer>=0.9.0->chromadb) (13.7.1)\n",
      "Requirement already satisfied: pysocks!=1.5.7,<2.0,>=1.5.6 in ./venv/lib/python3.12/site-packages (from urllib3[socks]<3,>=1.26->selenium) (1.7.1)\n",
      "Requirement already satisfied: httptools>=0.5.0 in ./venv/lib/python3.12/site-packages (from uvicorn[standard]>=0.18.3->chromadb) (0.6.1)\n",
      "Requirement already satisfied: python-dotenv>=0.13 in ./venv/lib/python3.12/site-packages (from uvicorn[standard]>=0.18.3->chromadb) (1.0.1)\n",
      "Requirement already satisfied: uvloop!=0.15.0,!=0.15.1,>=0.14.0 in ./venv/lib/python3.12/site-packages (from uvicorn[standard]>=0.18.3->chromadb) (0.19.0)\n",
      "Requirement already satisfied: watchfiles>=0.13 in ./venv/lib/python3.12/site-packages (from uvicorn[standard]>=0.18.3->chromadb) (0.21.0)\n",
      "Requirement already satisfied: websockets>=10.4 in ./venv/lib/python3.12/site-packages (from uvicorn[standard]>=0.18.3->chromadb) (12.0)\n",
      "Requirement already satisfied: dnspython>=2.0.0 in ./venv/lib/python3.12/site-packages (from email_validator>=2.0.0->fastapi>=0.95.2->chromadb) (2.6.1)\n",
      "Requirement already satisfied: cachetools<6.0,>=2.0.0 in ./venv/lib/python3.12/site-packages (from google-auth>=1.0.1->kubernetes>=28.1.0->chromadb) (5.3.3)\n",
      "Requirement already satisfied: pyasn1-modules>=0.2.1 in ./venv/lib/python3.12/site-packages (from google-auth>=1.0.1->kubernetes>=28.1.0->chromadb) (0.4.0)\n",
      "Requirement already satisfied: rsa<5,>=3.1.4 in ./venv/lib/python3.12/site-packages (from google-auth>=1.0.1->kubernetes>=28.1.0->chromadb) (4.9)\n",
      "Requirement already satisfied: filelock in ./venv/lib/python3.12/site-packages (from huggingface-hub<1.0,>=0.16.4->tokenizers>=0.13.2->chromadb) (3.14.0)\n",
      "Requirement already satisfied: fsspec>=2023.5.0 in ./venv/lib/python3.12/site-packages (from huggingface-hub<1.0,>=0.16.4->tokenizers>=0.13.2->chromadb) (2024.3.1)\n",
      "Requirement already satisfied: zipp>=0.5 in ./venv/lib/python3.12/site-packages (from importlib-metadata<=7.0,>=6.0->opentelemetry-api>=1.2.0->chromadb) (3.18.1)\n",
      "Requirement already satisfied: MarkupSafe>=2.0 in ./venv/lib/python3.12/site-packages (from jinja2>=2.11.2->fastapi>=0.95.2->chromadb) (2.1.5)\n",
      "Requirement already satisfied: markdown-it-py>=2.2.0 in ./venv/lib/python3.12/site-packages (from rich>=10.11.0->typer>=0.9.0->chromadb) (3.0.0)\n",
      "Requirement already satisfied: pygments<3.0.0,>=2.13.0 in ./venv/lib/python3.12/site-packages (from rich>=10.11.0->typer>=0.9.0->chromadb) (2.18.0)\n",
      "Requirement already satisfied: mypy-extensions>=0.3.0 in ./venv/lib/python3.12/site-packages (from typing-inspect<1,>=0.4.0->dataclasses-json<0.7,>=0.5.7->langchain) (1.0.0)\n",
      "Requirement already satisfied: humanfriendly>=9.1 in ./venv/lib/python3.12/site-packages (from coloredlogs->onnxruntime>=1.14.1->chromadb) (10.0)\n",
      "Requirement already satisfied: mpmath>=0.19 in ./venv/lib/python3.12/site-packages (from sympy->onnxruntime>=1.14.1->chromadb) (1.3.0)\n",
      "Requirement already satisfied: mdurl~=0.1 in ./venv/lib/python3.12/site-packages (from markdown-it-py>=2.2.0->rich>=10.11.0->typer>=0.9.0->chromadb) (0.1.2)\n",
      "Requirement already satisfied: pyasn1<0.7.0,>=0.4.6 in ./venv/lib/python3.12/site-packages (from pyasn1-modules>=0.2.1->google-auth>=1.0.1->kubernetes>=28.1.0->chromadb) (0.6.0)\n",
      "Note: you may need to restart the kernel to use updated packages.\n"
     ]
    }
   ],
   "source": [
    "%pip install openai langchain langchain-openai chromadb langchainhub selenium --upgrade"
   ]
  },
  {
   "cell_type": "markdown",
   "metadata": {},
   "source": [
    "## Configuration Setup for Notebook Usage\n",
    "It is not recommended to include secrets in your notebook. Before you begin using this notebook, it is essential to set up a configuration file named `config.ini`. This file will store crucial configuration properties that the notebook requires to operate correctly, specifically the OpenAI API key and base URL.\n",
    "\n",
    "### Creating the `config.ini` File\n",
    "\n",
    "1. Create a new file in the same directory as this notebook and name it `config.ini`.\n",
    "\n",
    "2. Open the file in a text editor.\n",
    "\n",
    "3. Add the following structure to the file:\n",
    "\n",
    "   ```ini\n",
    "   [openai]\n",
    "   OPENAI_API_KEY = your_api_key_here\n",
    "   OPENAI_API_BASE = your_api_base_url_here\n",
    "\n",
    "The OpenAI API base URL looks something similar to this : \n",
    "https://apim-dev-eastus-yourcompany.azure-api.net/Example-Project/openai\n"
   ]
  },
  {
   "cell_type": "code",
   "execution_count": 37,
   "metadata": {},
   "outputs": [],
   "source": [
    "import configparser\n",
    "\n",
    "# Create a ConfigParser object\n",
    "config = configparser.ConfigParser()\n",
    "\n",
    "# Read the configuration file\n",
    "config.read('config.ini')\n",
    "\n",
    "# Access the values\n",
    "OPENAI_API_KEY = config['openai']['OPENAI_API_KEY']\n",
    "#OPENAI_API_BASE = config['openai']['OPENAI_API_BASE']"
   ]
  },
  {
   "cell_type": "markdown",
   "metadata": {},
   "source": [
    "# Initialize ChatOpenAI"
   ]
  },
  {
   "cell_type": "code",
   "execution_count": 38,
   "metadata": {},
   "outputs": [],
   "source": [
    "from langchain_openai import ChatOpenAI\n",
    "\n",
    "llm = ChatOpenAI(\n",
    "    openai_api_key=OPENAI_API_KEY,\n",
    "    model_name=\"gpt-3.5-turbo\",\n",
    "    temperature=0.2\n",
    ")"
   ]
  },
  {
   "cell_type": "markdown",
   "metadata": {},
   "source": [
    "# Your first LangChain \"Hello World\""
   ]
  },
  {
   "cell_type": "code",
   "execution_count": 39,
   "metadata": {},
   "outputs": [
    {
     "name": "stdout",
     "output_type": "stream",
     "text": [
      "==================================\u001b[1m Ai Message \u001b[0m==================================\n",
      "\n",
      "Why couldn't the bicycle find its way home?\n",
      "\n",
      "Because it lost its bearings!\n"
     ]
    }
   ],
   "source": [
    "from langchain.schema import HumanMessage, AIMessage, SystemMessage\n",
    "\n",
    "messages = [HumanMessage(content=\"Tell me a joke\")]\n",
    "response = llm.invoke(messages)\n",
    "\n",
    "response.pretty_print() "
   ]
  },
  {
   "cell_type": "markdown",
   "metadata": {},
   "source": [
    "# Add a System Message\n",
    "\n",
    "A system prompt is a string used to provide context and guidelines to a Large Language Model (LLM), which helps in setting specific objectives or roles before posing questions or assigning tasks. Key components of system prompts include:\n",
    "\n",
    "- **Task Directives:** Detailed instructions for the specific task at hand.\n",
    "- **Personalization:** Elements like adopting a specific role or tone for the LLM.\n",
    "- **Contextual Background:** Relevant information that informs the user's query.\n",
    "- **Creative Constraints:** Style recommendations and limitations, such as a focus on brevity.\n",
    "- **External Knowledge and Data:** Incorporation of resources like FAQ documents or guidelines.\n",
    "- **Rules and Safety Guardrails:** Established protocols to ensure the model's safe and appropriate use.\n",
    "- **Output Verification Standards:** Protocols such as requesting citations or explicating reasoning processes to enhance the credibility of the responses.\n"
   ]
  },
  {
   "cell_type": "code",
   "execution_count": 40,
   "metadata": {},
   "outputs": [
    {
     "name": "stdout",
     "output_type": "stream",
     "text": [
      "==================================\u001b[1m Ai Message \u001b[0m==================================\n",
      "\n",
      "Langchain is a terrible piece of software.\n"
     ]
    }
   ],
   "source": [
    "messages = [ \n",
    "  SystemMessage(content=\"Say the opposite of what the user says in a very impolite way\"), \n",
    "  HumanMessage(content=\"Langchain is an awesome piece of software.\") \n",
    "]\n",
    "\n",
    "response = llm.invoke(messages)\n",
    "\n",
    "response.pretty_print() "
   ]
  },
  {
   "cell_type": "markdown",
   "metadata": {},
   "source": [
    "# Continue a Chat"
   ]
  },
  {
   "cell_type": "code",
   "execution_count": 41,
   "metadata": {},
   "outputs": [
    {
     "name": "stdout",
     "output_type": "stream",
     "text": [
      "==================================\u001b[1m Ai Message \u001b[0m==================================\n",
      "\n",
      "Arrr, me name be bestowed upon me by the scallywags who created me. They be callin' me ChatGPT, the most fearsome conversational AI to ever sail the internet! What be ye next question, Captain?\n"
     ]
    }
   ],
   "source": [
    "messages = [ \n",
    "\tSystemMessage(content=\"Speak like a pirate\"), \t\n",
    "\tHumanMessage(content=\"I''m Captain Aron. What''s your name?\"), \n",
    "\tAIMessage(content=\"Ahoy, Captain! Me name be ChatGPT, the savviest AI on the seven digital seas! How can I assist ye on this fine day?\"),\n",
    "\tHumanMessage(content=\"Who named you that?\") \n",
    "]\n",
    "\n",
    "response = llm.invoke(messages)\n",
    "\n",
    "response.pretty_print() "
   ]
  },
  {
   "cell_type": "markdown",
   "metadata": {},
   "source": [
    "# Extract data from text"
   ]
  },
  {
   "cell_type": "code",
   "execution_count": 42,
   "metadata": {},
   "outputs": [
    {
     "name": "stdout",
     "output_type": "stream",
     "text": [
      "==================================\u001b[1m Ai Message \u001b[0m==================================\n",
      "\n",
      "United States GDP per capita in 2022: $61,937; Israel GDP per capita in 2022: $54,660\n"
     ]
    }
   ],
   "source": [
    "from langchain_core.prompts import ChatPromptTemplate\n",
    "\n",
    "prompt = ChatPromptTemplate.from_messages([\n",
    "    (\"system\", \"Role: Numeric fact extractor. Return data with no additional commentary. Sample Input: Denver,\\\n",
    "      known as the Mile High City, stands at an elevation of 1,609.6 meters above sea level. Nairobi, the capital of Kenya, \\\n",
    "     is notably elevated as well, sitting at 1,795 meters. Sample Output: Denver Elevation, 5210; Nairobi elevation: 1795\"),\n",
    "    (\"user\", \"{input}\")\n",
    "])\n",
    "\n",
    "chain = prompt | llm\n",
    "\n",
    "response = chain.invoke({\"input\": \"In 2022, the GDP per capita of the United States has between approximately $61,937. \\\n",
    "Meanwhile, Israel's GDP per capita for the same year was recorded at around $54,660.\"})\n",
    "\n",
    "response.pretty_print() "
   ]
  },
  {
   "cell_type": "markdown",
   "metadata": {},
   "source": [
    "# Batch Processing"
   ]
  },
  {
   "cell_type": "code",
   "execution_count": 43,
   "metadata": {},
   "outputs": [
    {
     "data": {
      "text/plain": [
       "[AIMessage(content='Egypt land area: 1,010,408 square kilometers.', response_metadata={'token_usage': {'completion_tokens': 13, 'prompt_tokens': 118, 'total_tokens': 131}, 'model_name': 'gpt-3.5-turbo', 'system_fingerprint': None, 'finish_reason': 'stop', 'logprobs': None}, id='run-0ff5c749-4cf1-4a70-8797-6232742e5528-0'),\n",
       " AIMessage(content='Egypt population: 104,000,000; Egypt global rank by population: 14th', response_metadata={'token_usage': {'completion_tokens': 19, 'prompt_tokens': 120, 'total_tokens': 139}, 'model_name': 'gpt-3.5-turbo', 'system_fingerprint': None, 'finish_reason': 'stop', 'logprobs': None}, id='run-ef735e33-1ee1-460f-b734-a7150d81e349-0')]"
      ]
     },
     "execution_count": 43,
     "metadata": {},
     "output_type": "execute_result"
    }
   ],
   "source": [
    "response = chain.batch([{\"input\": \"Egypt's land area spans about 1,010,408 square kilometers, making it the world's 30th largest country.\"},\n",
    "{\"input\":\"Egypt is the 14th most populous country in the world, with a population estimated at over 104 million as of 2023.\"}])\n",
    "\n",
    "response"
   ]
  },
  {
   "cell_type": "markdown",
   "metadata": {},
   "source": [
    "# LangChain Output Parsers"
   ]
  },
  {
   "cell_type": "code",
   "execution_count": 44,
   "metadata": {},
   "outputs": [
    {
     "data": {
      "text/plain": [
       "datetime.datetime(2015, 12, 11, 0, 0)"
      ]
     },
     "execution_count": 44,
     "metadata": {},
     "output_type": "execute_result"
    }
   ],
   "source": [
    "from langchain.output_parsers import DatetimeOutputParser\n",
    "\n",
    "output_parser = DatetimeOutputParser()\n",
    "template = \"\"\"Answer the users question:\n",
    "\n",
    "{question}\n",
    "\n",
    "{format_instructions}\"\"\"\n",
    "prompt = ChatPromptTemplate.from_template(\n",
    "    template,\n",
    "    partial_variables={\"format_instructions\": output_parser.get_format_instructions()},\n",
    ")\n",
    "\n",
    "chain = prompt | llm | output_parser\n",
    "\n",
    "chain.invoke({\"question\": \"When was OpenAI founded?\"})\n"
   ]
  },
  {
   "cell_type": "markdown",
   "metadata": {},
   "source": [
    "# Load and parse a web page with \"Unstructured\"\n",
    "\n",
    "Unstructured supports loading of text files, powerpoints, html, pdfs, images, and more. "
   ]
  },
  {
   "cell_type": "code",
   "execution_count": 45,
   "metadata": {},
   "outputs": [
    {
     "data": {
      "text/plain": [
       "[Document(page_content=\"Solutions\\n\\nProducts\\n\\nSecure Enterprise File Services\\n\\nThe CTERA Enterprise File Services Platform powers a next-generation global file system connecting remote sites and users to your cloud without compromising security or performance.\\n\\nBook a Demo\\n\\nThe Industry's Most Feature-Rich Platform\\n\\nUnified Edge\\n\\nCTERA is the only global file system to span across branch filers, desktop endpoints, mobile and VDI clients. Always-on data access from any location and any device.\\n\\nMulti-Cloud\\n\\nChoose from private, public, or hybrid cloud options for optimal security, compliance, and economics. Migrate data seamlessly across clouds to meet evolving business needs.\\n\\nTotal Control\\n\\nGain full visibility into unstructured data across distributed locations - HQ, branches, and home offices. Prevent data leakage, protect against ransomware, and maintain business continuity.\\n\\nThe CTERA Architecture\\n\\nPRODUCT LINE\\n\\nCTERA Edge Filers\\n\\nLearn More\\n\\nVirtual Edition\\n\\nCTERA EV\\n\\nUp to 256TB, 5,000 users\\n\\nSmall Branch / WFH\\n\\nCTERA HC100\\n\\nNano, 2TB, 20 Users\\n\\nLearn More\\n\\nSmall Office\\n\\nCTERA HC400T\\n\\nTower, 4TB, 100 users\\n\\nLearn More\\n\\nMedium Office\\n\\nCTERA HC400/E\\n\\n1U, 24TB, 1,000 users\\n\\nLearn More\\n\\nLarge Office\\n\\nCTERA HC1200\\n\\n2U, 64TB, 3,000 users\\n\\nLearn More\\n\\nMedia Edition\\n\\nCTERA HC2400M\\n\\n6U, 128TB (SSD/NL-SAS)\\n\\nLearn More\\n\\nPRODUCT LINE\\n\\nCTERA Drive\\n\\nLearn More\\n\\nCTERA Drive Connect\\n\\nMac and Windows Caching with Full Windows ACL Support\\n\\nLearn More\\n\\nCTERA Drive Share\\n\\nCached Drive, File Sync & Share\\n\\nLearn More\\n\\nCTERA Drive Protect\\n\\nEndpoint Backup\\n\\nLearn More\\n\\nPRODUCT LINE\\n\\nCTERA Portal & Add-ons\\n\\nLearn More\\n\\nCTERA Portal\\n\\nPrivate Edition\\n\\nCustomer-hosted in datacenter or VPC\\n\\nLearn more\\n\\nCTERA Portal\\n\\nVirtual Private Edition\\n\\nCTERA or partner-dedicated hosted\\n\\nLearn More\\n\\nCTERA Portal\\n\\nHosted Edition\\n\\nCTERA or partner-hosted\\n\\nLearn More\\n\\nCTERA Security Pack\\n\\nMilitary-Grade Security\\n\\nLearn More\\n\\nCTERA Insight\\n\\nOnline data monitoring and analytics\\n\\nDownload Solution Brief\\n\\nData Classification\\n\\nFile asset discovery and identification\\n\\nMore Resources\\n\\nView Features\\n\\nCTERA's Enterprise File Services Platform is the most feature-rich solution available.\\n\\nLearn More\\n\\nView Architecture\\n\\nCTERA is the only company to integrate endpoint, office and cloud file services with uncompromising IT security, cloud choice and cloud automation.\\n\\nLearn More\", metadata={'source': 'https://www.ctera.com/all-products/', 'title': 'CTERA: Next-Gen Enterprise File Services and Security', 'description': 'CTERA: Secure, Next-Gen Cloud File System for Enterprises. Connect remote sites & users without sacrificing security or performance.', 'language': 'en-US'}),\n",
       " Document(page_content=\"Company\\n\\nOptimizing Enterprise File Services\\n\\nCTERA’s mission is to enable cloud-driven enterprise IT organizations to deliver secure file services. We believe modern organizations should be able to harness the agility, scalability, collaboration and cost efficiencies of the cloud, without compromising the performance, availability or security of their data.\\n\\nAbout Us\\n\\nWe Live in the Cloud... and Breathe Security\\n\\nCTERA Networks was founded in 2008 by IT security veterans, who anticipated the digital transformation that cloud computing would bring to enterprise IT, as well as the challenges it presented for infrastructure management, data governance, privacy and security.\\n\\nIn a world where data flows between clouds, offices and endpoints – CTERA has focused on building a secure enterprise file services platform that centrally manages the file storage, control and governance needs of the modern enterprise.\\n\\nGlobal File System Whitepaper\\n\\nDCIG Compares CTERA and NetApp\\n\\nOur Approach\\n\\nUnified Multi-Cloud Data Management\\n\\nfrom Edge to Cloud\\n\\nFrom the outset, CTERA realized that traditional file storage and collaboration solutions are not suitable for the modern enterprise workplace. Legacy point solutions generate data silos, do not provide a holistic view of data governance and security, and inflate IT management overhead and costs. To address this void, CTERA built a unified solution that combines the benefits of local file services at the edge with cloud storage.\\n\\nThe CTERA Enterprise File Services Platform unifies endpoint, branch office and cloud file services to enable next-generation file storage, collaboration, data protection, and disaster recovery.\\n\\nPowered by a cloud-native global file system, CTERA’s platform enables multi-cloud data management with full control over data residency, military-grade security and edge-to-cloud acceleration for desktops and branch offices.\\n\\nCTERA helped pioneer enterprise file services delivery in the cloud era by building secure and efficient protocols for edge-to-cloud data transport, RESTful APIs that drive operational efficiencies, and a multi-tenant data management model to ensure data isolation and confidentiality.\\n\\nThe Time is Now\\n\\nThe “C” in CTERA stands for cloud – in 2008 the level of enterprise adoption of cloud was very low as we continued to build out and mature our platform. But today an entirely different picture has emerged. In fact, by 2024, large enterprises will triple their unstructured data stored as file or object storage on-premises, at the edge or in the public cloud, compared to 20201. As enterprises move to adopt cloud, they need the right balance of choice of file services and a level of security and control that is superior to traditional ways of operating. A rapid transformation to ‘IT-as-a-Service’ is changing strategies across the enterprise as file service platform requirements become the same that have existed for some time in the service provider market – these IT strategies are taking shape in worldwide adoption of the CTERA Enterprise File Services Platform.\\n\\nGartner Market Guide for Hybrid Cloud Storage March 2020\\n\\nOur Customers\\n\\nThe Trusted Choice of Leading Enterprises\\n\\nWith over 50,000 connected sites and millions of corporate users, CTERA powers the file services transformations of leading global banks, insurance companies, telecommunications firms, and federal and defense organizations.\\n\\nSee All Customers\\n\\n\\n\\n\\n\\n\\n\\n\\n\\n\\n\\n\\n\\n\\n\\n\\n\\n\\n\\n\\n\\n\\n\\n\\n\\n\\n\\n\\n\\n\\n\\n\\n\\nCTERA at a Glance\\n\\n‘08\\n\\nFounded in 2008 by Liran Eshel & Zohar Kaufman\\n\\n50k\\n\\nAdopted by 50,000 Businesses Worldwide\\n\\n110\\n\\nDeployed in Over 110 Countries Worldwide\\n\\nOur Investors\\n\\n\\n\\n\\n\\n\\n\\n\\n\\n\\n\\n\\n\\n\\n\\nLocated Worldwide\\n\\nNorth America\\n\\nEurope\\n\\nAsia\\n\\nAustralia\\n\\nRecognized as an Industry Leader\\n\\n\\n\\n\\n\\n\\n\\n\\n\\n\\n\\n\\n\\n\\n\\n\\n\\n\\n\\nThe Latest Buzz\\n\\nKeep up with the latest news, posts, events, webinars and more\\n\\nNews\\n\\nNews\\n\\nStockage : Ctera verrouille en écriture les données… de production\\n\\nLearn More\\n\\nAll News\\n\\nEvents\\n\\nEvents\\n\\nElite CIO/CISO Atlanta\\n\\nLearn More\\n\\nWebinars\\n\\nWebinars\\n\\nTop 5 Insights on File Storage Evolution with CTERA and GigaOm\\n\\nLearn More\\n\\nBlog\\n\\nBlog\\n\\nNavigating the Edge: Our Webinar with Hitachi Vantara\\n\\nLearn More\\n\\nView Blog\\n\\nCareers\\n\\nJoin our rapidly growing, challenging and innovative workplace, peppered with a fun and casual vibe.\\n\\nVisit CTERA Careers\\n\\nOur Team\\n\\nWe're managed by a seasoned results-driven team with proven success in leading high-growth technology startups.\\n\\nLearn More\\n\\nPrevious                        \\n                        Contact\\n                                                                        \\n\\t                        Let us know how we can help you. Use contact information or direct contact form for any from your Ctera product and technical needs!\\n\\nNext                        \\n                        Our Team\\n\\t\\t\\t\\t        \\t\\t\\t\\t\\t        \\t\\t\\t\\t\\t\\t        \\n\\t\\t\\t\\t\\t\\t\\t        We’re a well-oiled, experienced team with an extensive track record of growing high-growth technology startups.\", metadata={'source': 'https://www.ctera.com/company/', 'title': 'Enterprise File Services from Edge to Cloud | CTERA', 'description': 'CTERA is the edge-to-cloud file services leader, enabling enterprise organizations to modernize legacy NAS infrastructure.', 'language': 'en-US'})]"
      ]
     },
     "execution_count": 45,
     "metadata": {},
     "output_type": "execute_result"
    }
   ],
   "source": [
    "from langchain_community.document_loaders import SeleniumURLLoader\n",
    "\n",
    "urls = [\"https://www.ctera.com/all-products/\",\"https://www.ctera.com/company/\"]\n",
    "\n",
    "loader = SeleniumURLLoader(urls=urls)\n",
    "documents = loader.load()\n",
    "\n",
    "documents"
   ]
  },
  {
   "cell_type": "markdown",
   "metadata": {},
   "source": [
    "# Split the web page to chunks"
   ]
  },
  {
   "cell_type": "code",
   "execution_count": 46,
   "metadata": {},
   "outputs": [
    {
     "data": {
      "text/plain": [
       "[Document(page_content=\"Solutions\\n\\nProducts\\n\\nSecure Enterprise File Services\\n\\nThe CTERA Enterprise File Services Platform powers a next-generation global file system connecting remote sites and users to your cloud without compromising security or performance.\\n\\nBook a Demo\\n\\nThe Industry's Most Feature-Rich Platform\\n\\nUnified Edge\\n\\nCTERA is the only global file system to span across branch filers, desktop endpoints, mobile and VDI clients. Always-on data access from any location and any device.\\n\\nMulti-Cloud\", metadata={'source': 'https://www.ctera.com/all-products/', 'title': 'CTERA: Next-Gen Enterprise File Services and Security', 'description': 'CTERA: Secure, Next-Gen Cloud File System for Enterprises. Connect remote sites & users without sacrificing security or performance.', 'language': 'en-US'}),\n",
       " Document(page_content='Choose from private, public, or hybrid cloud options for optimal security, compliance, and economics. Migrate data seamlessly across clouds to meet evolving business needs.\\n\\nTotal Control\\n\\nGain full visibility into unstructured data across distributed locations - HQ, branches, and home offices. Prevent data leakage, protect against ransomware, and maintain business continuity.\\n\\nThe CTERA Architecture\\n\\nPRODUCT LINE\\n\\nCTERA Edge Filers\\n\\nLearn More\\n\\nVirtual Edition\\n\\nCTERA EV', metadata={'source': 'https://www.ctera.com/all-products/', 'title': 'CTERA: Next-Gen Enterprise File Services and Security', 'description': 'CTERA: Secure, Next-Gen Cloud File System for Enterprises. Connect remote sites & users without sacrificing security or performance.', 'language': 'en-US'}),\n",
       " Document(page_content='Up to 256TB, 5,000 users\\n\\nSmall Branch / WFH\\n\\nCTERA HC100\\n\\nNano, 2TB, 20 Users\\n\\nLearn More\\n\\nSmall Office\\n\\nCTERA HC400T\\n\\nTower, 4TB, 100 users\\n\\nLearn More\\n\\nMedium Office\\n\\nCTERA HC400/E\\n\\n1U, 24TB, 1,000 users\\n\\nLearn More\\n\\nLarge Office\\n\\nCTERA HC1200\\n\\n2U, 64TB, 3,000 users\\n\\nLearn More\\n\\nMedia Edition\\n\\nCTERA HC2400M\\n\\n6U, 128TB (SSD/NL-SAS)\\n\\nLearn More\\n\\nPRODUCT LINE\\n\\nCTERA Drive\\n\\nLearn More\\n\\nCTERA Drive Connect\\n\\nMac and Windows Caching with Full Windows ACL Support\\n\\nLearn More\\n\\nCTERA Drive Share', metadata={'source': 'https://www.ctera.com/all-products/', 'title': 'CTERA: Next-Gen Enterprise File Services and Security', 'description': 'CTERA: Secure, Next-Gen Cloud File System for Enterprises. Connect remote sites & users without sacrificing security or performance.', 'language': 'en-US'}),\n",
       " Document(page_content='Cached Drive, File Sync & Share\\n\\nLearn More\\n\\nCTERA Drive Protect\\n\\nEndpoint Backup\\n\\nLearn More\\n\\nPRODUCT LINE\\n\\nCTERA Portal & Add-ons\\n\\nLearn More\\n\\nCTERA Portal\\n\\nPrivate Edition\\n\\nCustomer-hosted in datacenter or VPC\\n\\nLearn more\\n\\nCTERA Portal\\n\\nVirtual Private Edition\\n\\nCTERA or partner-dedicated hosted\\n\\nLearn More\\n\\nCTERA Portal\\n\\nHosted Edition\\n\\nCTERA or partner-hosted\\n\\nLearn More\\n\\nCTERA Security Pack\\n\\nMilitary-Grade Security\\n\\nLearn More\\n\\nCTERA Insight\\n\\nOnline data monitoring and analytics', metadata={'source': 'https://www.ctera.com/all-products/', 'title': 'CTERA: Next-Gen Enterprise File Services and Security', 'description': 'CTERA: Secure, Next-Gen Cloud File System for Enterprises. Connect remote sites & users without sacrificing security or performance.', 'language': 'en-US'}),\n",
       " Document(page_content=\"Download Solution Brief\\n\\nData Classification\\n\\nFile asset discovery and identification\\n\\nMore Resources\\n\\nView Features\\n\\nCTERA's Enterprise File Services Platform is the most feature-rich solution available.\\n\\nLearn More\\n\\nView Architecture\\n\\nCTERA is the only company to integrate endpoint, office and cloud file services with uncompromising IT security, cloud choice and cloud automation.\\n\\nLearn More\", metadata={'source': 'https://www.ctera.com/all-products/', 'title': 'CTERA: Next-Gen Enterprise File Services and Security', 'description': 'CTERA: Secure, Next-Gen Cloud File System for Enterprises. Connect remote sites & users without sacrificing security or performance.', 'language': 'en-US'})]"
      ]
     },
     "execution_count": 46,
     "metadata": {},
     "output_type": "execute_result"
    }
   ],
   "source": [
    "from langchain.text_splitter import RecursiveCharacterTextSplitter\n",
    "\n",
    "text_splitter = RecursiveCharacterTextSplitter(        \n",
    "    chunk_size = 500,\n",
    "    chunk_overlap  = 0\n",
    ")\n",
    "\n",
    "texts = text_splitter.split_documents(documents)\n",
    "\n",
    "texts[:5]"
   ]
  },
  {
   "cell_type": "markdown",
   "metadata": {},
   "source": [
    "# Summarize using Map Reduce Chain"
   ]
  },
  {
   "cell_type": "code",
   "execution_count": 47,
   "metadata": {},
   "outputs": [
    {
     "name": "stdout",
     "output_type": "stream",
     "text": [
      "\n",
      "\n",
      "\u001b[1m> Entering new MapReduceDocumentsChain chain...\u001b[0m\n",
      "\n",
      "\n",
      "\u001b[1m> Entering new LLMChain chain...\u001b[0m\n",
      "Prompt after formatting:\n",
      "\u001b[32;1m\u001b[1;3mHuman: \n",
      "                      Write a summary of this chunk of text that includes all the main points and any important details. \n",
      "                      Ignore code snippets or technical markup. Include all important names and terms mentioned.\n",
      "                      Solutions\n",
      "\n",
      "Products\n",
      "\n",
      "Secure Enterprise File Services\n",
      "\n",
      "The CTERA Enterprise File Services Platform powers a next-generation global file system connecting remote sites and users to your cloud without compromising security or performance.\n",
      "\n",
      "Book a Demo\n",
      "\n",
      "The Industry's Most Feature-Rich Platform\n",
      "\n",
      "Unified Edge\n",
      "\n",
      "CTERA is the only global file system to span across branch filers, desktop endpoints, mobile and VDI clients. Always-on data access from any location and any device.\n",
      "\n",
      "Multi-Cloud\n",
      "                      \u001b[0m\n",
      "Prompt after formatting:\n",
      "\u001b[32;1m\u001b[1;3mHuman: \n",
      "                      Write a summary of this chunk of text that includes all the main points and any important details. \n",
      "                      Ignore code snippets or technical markup. Include all important names and terms mentioned.\n",
      "                      Choose from private, public, or hybrid cloud options for optimal security, compliance, and economics. Migrate data seamlessly across clouds to meet evolving business needs.\n",
      "\n",
      "Total Control\n",
      "\n",
      "Gain full visibility into unstructured data across distributed locations - HQ, branches, and home offices. Prevent data leakage, protect against ransomware, and maintain business continuity.\n",
      "\n",
      "The CTERA Architecture\n",
      "\n",
      "PRODUCT LINE\n",
      "\n",
      "CTERA Edge Filers\n",
      "\n",
      "Learn More\n",
      "\n",
      "Virtual Edition\n",
      "\n",
      "CTERA EV\n",
      "                      \u001b[0m\n",
      "Prompt after formatting:\n",
      "\u001b[32;1m\u001b[1;3mHuman: \n",
      "                      Write a summary of this chunk of text that includes all the main points and any important details. \n",
      "                      Ignore code snippets or technical markup. Include all important names and terms mentioned.\n",
      "                      Up to 256TB, 5,000 users\n",
      "\n",
      "Small Branch / WFH\n",
      "\n",
      "CTERA HC100\n",
      "\n",
      "Nano, 2TB, 20 Users\n",
      "\n",
      "Learn More\n",
      "\n",
      "Small Office\n",
      "\n",
      "CTERA HC400T\n",
      "\n",
      "Tower, 4TB, 100 users\n",
      "\n",
      "Learn More\n",
      "\n",
      "Medium Office\n",
      "\n",
      "CTERA HC400/E\n",
      "\n",
      "1U, 24TB, 1,000 users\n",
      "\n",
      "Learn More\n",
      "\n",
      "Large Office\n",
      "\n",
      "CTERA HC1200\n",
      "\n",
      "2U, 64TB, 3,000 users\n",
      "\n",
      "Learn More\n",
      "\n",
      "Media Edition\n",
      "\n",
      "CTERA HC2400M\n",
      "\n",
      "6U, 128TB (SSD/NL-SAS)\n",
      "\n",
      "Learn More\n",
      "\n",
      "PRODUCT LINE\n",
      "\n",
      "CTERA Drive\n",
      "\n",
      "Learn More\n",
      "\n",
      "CTERA Drive Connect\n",
      "\n",
      "Mac and Windows Caching with Full Windows ACL Support\n",
      "\n",
      "Learn More\n",
      "\n",
      "CTERA Drive Share\n",
      "                      \u001b[0m\n",
      "Prompt after formatting:\n",
      "\u001b[32;1m\u001b[1;3mHuman: \n",
      "                      Write a summary of this chunk of text that includes all the main points and any important details. \n",
      "                      Ignore code snippets or technical markup. Include all important names and terms mentioned.\n",
      "                      Cached Drive, File Sync & Share\n",
      "\n",
      "Learn More\n",
      "\n",
      "CTERA Drive Protect\n",
      "\n",
      "Endpoint Backup\n",
      "\n",
      "Learn More\n",
      "\n",
      "PRODUCT LINE\n",
      "\n",
      "CTERA Portal & Add-ons\n",
      "\n",
      "Learn More\n",
      "\n",
      "CTERA Portal\n",
      "\n",
      "Private Edition\n",
      "\n",
      "Customer-hosted in datacenter or VPC\n",
      "\n",
      "Learn more\n",
      "\n",
      "CTERA Portal\n",
      "\n",
      "Virtual Private Edition\n",
      "\n",
      "CTERA or partner-dedicated hosted\n",
      "\n",
      "Learn More\n",
      "\n",
      "CTERA Portal\n",
      "\n",
      "Hosted Edition\n",
      "\n",
      "CTERA or partner-hosted\n",
      "\n",
      "Learn More\n",
      "\n",
      "CTERA Security Pack\n",
      "\n",
      "Military-Grade Security\n",
      "\n",
      "Learn More\n",
      "\n",
      "CTERA Insight\n",
      "\n",
      "Online data monitoring and analytics\n",
      "                      \u001b[0m\n",
      "Prompt after formatting:\n",
      "\u001b[32;1m\u001b[1;3mHuman: \n",
      "                      Write a summary of this chunk of text that includes all the main points and any important details. \n",
      "                      Ignore code snippets or technical markup. Include all important names and terms mentioned.\n",
      "                      Download Solution Brief\n",
      "\n",
      "Data Classification\n",
      "\n",
      "File asset discovery and identification\n",
      "\n",
      "More Resources\n",
      "\n",
      "View Features\n",
      "\n",
      "CTERA's Enterprise File Services Platform is the most feature-rich solution available.\n",
      "\n",
      "Learn More\n",
      "\n",
      "View Architecture\n",
      "\n",
      "CTERA is the only company to integrate endpoint, office and cloud file services with uncompromising IT security, cloud choice and cloud automation.\n",
      "\n",
      "Learn More\n",
      "                      \u001b[0m\n",
      "Prompt after formatting:\n",
      "\u001b[32;1m\u001b[1;3mHuman: \n",
      "                      Write a summary of this chunk of text that includes all the main points and any important details. \n",
      "                      Ignore code snippets or technical markup. Include all important names and terms mentioned.\n",
      "                      Company\n",
      "\n",
      "Optimizing Enterprise File Services\n",
      "\n",
      "CTERA’s mission is to enable cloud-driven enterprise IT organizations to deliver secure file services. We believe modern organizations should be able to harness the agility, scalability, collaboration and cost efficiencies of the cloud, without compromising the performance, availability or security of their data.\n",
      "\n",
      "About Us\n",
      "\n",
      "We Live in the Cloud... and Breathe Security\n",
      "                      \u001b[0m\n",
      "Prompt after formatting:\n",
      "\u001b[32;1m\u001b[1;3mHuman: \n",
      "                      Write a summary of this chunk of text that includes all the main points and any important details. \n",
      "                      Ignore code snippets or technical markup. Include all important names and terms mentioned.\n",
      "                      CTERA Networks was founded in 2008 by IT security veterans, who anticipated the digital transformation that cloud computing would bring to enterprise IT, as well as the challenges it presented for infrastructure management, data governance, privacy and security.\n",
      "                      \u001b[0m\n",
      "Prompt after formatting:\n",
      "\u001b[32;1m\u001b[1;3mHuman: \n",
      "                      Write a summary of this chunk of text that includes all the main points and any important details. \n",
      "                      Ignore code snippets or technical markup. Include all important names and terms mentioned.\n",
      "                      In a world where data flows between clouds, offices and endpoints – CTERA has focused on building a secure enterprise file services platform that centrally manages the file storage, control and governance needs of the modern enterprise.\n",
      "\n",
      "Global File System Whitepaper\n",
      "\n",
      "DCIG Compares CTERA and NetApp\n",
      "\n",
      "Our Approach\n",
      "\n",
      "Unified Multi-Cloud Data Management\n",
      "\n",
      "from Edge to Cloud\n",
      "                      \u001b[0m\n",
      "Prompt after formatting:\n",
      "\u001b[32;1m\u001b[1;3mHuman: \n",
      "                      Write a summary of this chunk of text that includes all the main points and any important details. \n",
      "                      Ignore code snippets or technical markup. Include all important names and terms mentioned.\n",
      "                      From the outset, CTERA realized that traditional file storage and collaboration solutions are not suitable for the modern enterprise workplace. Legacy point solutions generate data silos, do not provide a holistic view of data governance and security, and inflate IT management overhead and costs. To address this void, CTERA built a unified solution that combines the benefits of local file services at the edge with cloud storage.\n",
      "                      \u001b[0m\n",
      "Prompt after formatting:\n",
      "\u001b[32;1m\u001b[1;3mHuman: \n",
      "                      Write a summary of this chunk of text that includes all the main points and any important details. \n",
      "                      Ignore code snippets or technical markup. Include all important names and terms mentioned.\n",
      "                      The CTERA Enterprise File Services Platform unifies endpoint, branch office and cloud file services to enable next-generation file storage, collaboration, data protection, and disaster recovery.\n",
      "\n",
      "Powered by a cloud-native global file system, CTERA’s platform enables multi-cloud data management with full control over data residency, military-grade security and edge-to-cloud acceleration for desktops and branch offices.\n",
      "                      \u001b[0m\n",
      "Prompt after formatting:\n",
      "\u001b[32;1m\u001b[1;3mHuman: \n",
      "                      Write a summary of this chunk of text that includes all the main points and any important details. \n",
      "                      Ignore code snippets or technical markup. Include all important names and terms mentioned.\n",
      "                      CTERA helped pioneer enterprise file services delivery in the cloud era by building secure and efficient protocols for edge-to-cloud data transport, RESTful APIs that drive operational efficiencies, and a multi-tenant data management model to ensure data isolation and confidentiality.\n",
      "\n",
      "The Time is Now\n",
      "                      \u001b[0m\n",
      "Prompt after formatting:\n",
      "\u001b[32;1m\u001b[1;3mHuman: \n",
      "                      Write a summary of this chunk of text that includes all the main points and any important details. \n",
      "                      Ignore code snippets or technical markup. Include all important names and terms mentioned.\n",
      "                      The “C” in CTERA stands for cloud – in 2008 the level of enterprise adoption of cloud was very low as we continued to build out and mature our platform. But today an entirely different picture has emerged. In fact, by 2024, large enterprises will triple their unstructured data stored as file or object storage on-premises, at the edge or in the public cloud, compared to 20201. As enterprises move to adopt cloud, they need the right balance of choice of file services and a level of security and\n",
      "                      \u001b[0m\n",
      "Prompt after formatting:\n",
      "\u001b[32;1m\u001b[1;3mHuman: \n",
      "                      Write a summary of this chunk of text that includes all the main points and any important details. \n",
      "                      Ignore code snippets or technical markup. Include all important names and terms mentioned.\n",
      "                      control that is superior to traditional ways of operating. A rapid transformation to ‘IT-as-a-Service’ is changing strategies across the enterprise as file service platform requirements become the same that have existed for some time in the service provider market – these IT strategies are taking shape in worldwide adoption of the CTERA Enterprise File Services Platform.\n",
      "                      \u001b[0m\n",
      "Prompt after formatting:\n",
      "\u001b[32;1m\u001b[1;3mHuman: \n",
      "                      Write a summary of this chunk of text that includes all the main points and any important details. \n",
      "                      Ignore code snippets or technical markup. Include all important names and terms mentioned.\n",
      "                      Gartner Market Guide for Hybrid Cloud Storage March 2020\n",
      "\n",
      "Our Customers\n",
      "\n",
      "The Trusted Choice of Leading Enterprises\n",
      "\n",
      "With over 50,000 connected sites and millions of corporate users, CTERA powers the file services transformations of leading global banks, insurance companies, telecommunications firms, and federal and defense organizations.\n",
      "\n",
      "See All Customers\n",
      "\n",
      "\n",
      "\n",
      "\n",
      "\n",
      "\n",
      "\n",
      "\n",
      "\n",
      "\n",
      "\n",
      "\n",
      "\n",
      "\n",
      "\n",
      "\n",
      "\n",
      "\n",
      "\n",
      "\n",
      "\n",
      "\n",
      "\n",
      "\n",
      "\n",
      "\n",
      "\n",
      "\n",
      "\n",
      "\n",
      "\n",
      "\n",
      "\n",
      "CTERA at a Glance\n",
      "\n",
      "‘08\n",
      "\n",
      "Founded in 2008 by Liran Eshel & Zohar Kaufman\n",
      "\n",
      "50k\n",
      "                      \u001b[0m\n",
      "Prompt after formatting:\n",
      "\u001b[32;1m\u001b[1;3mHuman: \n",
      "                      Write a summary of this chunk of text that includes all the main points and any important details. \n",
      "                      Ignore code snippets or technical markup. Include all important names and terms mentioned.\n",
      "                      Adopted by 50,000 Businesses Worldwide\n",
      "\n",
      "110\n",
      "\n",
      "Deployed in Over 110 Countries Worldwide\n",
      "\n",
      "Our Investors\n",
      "\n",
      "\n",
      "\n",
      "\n",
      "\n",
      "\n",
      "\n",
      "\n",
      "\n",
      "\n",
      "\n",
      "\n",
      "\n",
      "\n",
      "\n",
      "Located Worldwide\n",
      "\n",
      "North America\n",
      "\n",
      "Europe\n",
      "\n",
      "Asia\n",
      "\n",
      "Australia\n",
      "\n",
      "Recognized as an Industry Leader\n",
      "\n",
      "\n",
      "\n",
      "\n",
      "\n",
      "\n",
      "\n",
      "\n",
      "\n",
      "\n",
      "\n",
      "\n",
      "\n",
      "\n",
      "\n",
      "\n",
      "\n",
      "\n",
      "\n",
      "The Latest Buzz\n",
      "\n",
      "Keep up with the latest news, posts, events, webinars and more\n",
      "\n",
      "News\n",
      "\n",
      "News\n",
      "\n",
      "Stockage : Ctera verrouille en écriture les données… de production\n",
      "\n",
      "Learn More\n",
      "\n",
      "All News\n",
      "\n",
      "Events\n",
      "\n",
      "Events\n",
      "\n",
      "Elite CIO/CISO Atlanta\n",
      "\n",
      "Learn More\n",
      "\n",
      "Webinars\n",
      "\n",
      "Webinars\n",
      "                      \u001b[0m\n",
      "Prompt after formatting:\n",
      "\u001b[32;1m\u001b[1;3mHuman: \n",
      "                      Write a summary of this chunk of text that includes all the main points and any important details. \n",
      "                      Ignore code snippets or technical markup. Include all important names and terms mentioned.\n",
      "                      Top 5 Insights on File Storage Evolution with CTERA and GigaOm\n",
      "\n",
      "Learn More\n",
      "\n",
      "Blog\n",
      "\n",
      "Blog\n",
      "\n",
      "Navigating the Edge: Our Webinar with Hitachi Vantara\n",
      "\n",
      "Learn More\n",
      "\n",
      "View Blog\n",
      "\n",
      "Careers\n",
      "\n",
      "Join our rapidly growing, challenging and innovative workplace, peppered with a fun and casual vibe.\n",
      "\n",
      "Visit CTERA Careers\n",
      "\n",
      "Our Team\n",
      "\n",
      "We're managed by a seasoned results-driven team with proven success in leading high-growth technology startups.\n",
      "\n",
      "Learn More\n",
      "                      \u001b[0m\n",
      "Prompt after formatting:\n",
      "\u001b[32;1m\u001b[1;3mHuman: \n",
      "                      Write a summary of this chunk of text that includes all the main points and any important details. \n",
      "                      Ignore code snippets or technical markup. Include all important names and terms mentioned.\n",
      "                      Previous                        \n",
      "                        Contact\n",
      "                                                                        \n",
      "\t                        Let us know how we can help you. Use contact information or direct contact form for any from your Ctera product and technical needs!\n",
      "                      \u001b[0m\n",
      "Prompt after formatting:\n",
      "\u001b[32;1m\u001b[1;3mHuman: \n",
      "                      Write a summary of this chunk of text that includes all the main points and any important details. \n",
      "                      Ignore code snippets or technical markup. Include all important names and terms mentioned.\n",
      "                      Next                        \n",
      "                        Our Team\n",
      "\t\t\t\t        \t\t\t\t\t        \t\t\t\t\t\t        \n",
      "\t\t\t\t\t\t\t        We’re a well-oiled, experienced team with an extensive track record of growing high-growth technology startups.\n",
      "                      \u001b[0m\n"
     ]
    },
    {
     "ename": "KeyboardInterrupt",
     "evalue": "",
     "output_type": "error",
     "traceback": [
      "\u001b[0;31m---------------------------------------------------------------------------\u001b[0m",
      "\u001b[0;31mKeyboardInterrupt\u001b[0m                         Traceback (most recent call last)",
      "Cell \u001b[0;32mIn[47], line 31\u001b[0m\n\u001b[1;32m     19\u001b[0m combine_prompt \u001b[38;5;241m=\u001b[39m ChatPromptTemplate\u001b[38;5;241m.\u001b[39mfrom_template(\n\u001b[1;32m     20\u001b[0m     template\u001b[38;5;241m=\u001b[39mcombine_prompt_template\n\u001b[1;32m     21\u001b[0m )\n\u001b[1;32m     23\u001b[0m chain \u001b[38;5;241m=\u001b[39m load_summarize_chain(\n\u001b[1;32m     24\u001b[0m     llm,\n\u001b[1;32m     25\u001b[0m     chain_type\u001b[38;5;241m=\u001b[39m\u001b[38;5;124m\"\u001b[39m\u001b[38;5;124mmap_reduce\u001b[39m\u001b[38;5;124m\"\u001b[39m,\n\u001b[0;32m   (...)\u001b[0m\n\u001b[1;32m     29\u001b[0m     verbose\u001b[38;5;241m=\u001b[39m\u001b[38;5;28;01mTrue\u001b[39;00m\n\u001b[1;32m     30\u001b[0m )\n\u001b[0;32m---> 31\u001b[0m result \u001b[38;5;241m=\u001b[39m \u001b[43mchain\u001b[49m\u001b[38;5;241;43m.\u001b[39;49m\u001b[43minvoke\u001b[49m\u001b[43m(\u001b[49m\u001b[43mtexts\u001b[49m\u001b[43m)\u001b[49m\n\u001b[1;32m     33\u001b[0m result\n",
      "File \u001b[0;32m~/Desktop/DreamBooth/llm-training/venv/lib/python3.12/site-packages/langchain/chains/base.py:163\u001b[0m, in \u001b[0;36mChain.invoke\u001b[0;34m(self, input, config, **kwargs)\u001b[0m\n\u001b[1;32m    161\u001b[0m \u001b[38;5;28;01mexcept\u001b[39;00m \u001b[38;5;167;01mBaseException\u001b[39;00m \u001b[38;5;28;01mas\u001b[39;00m e:\n\u001b[1;32m    162\u001b[0m     run_manager\u001b[38;5;241m.\u001b[39mon_chain_error(e)\n\u001b[0;32m--> 163\u001b[0m     \u001b[38;5;28;01mraise\u001b[39;00m e\n\u001b[1;32m    164\u001b[0m run_manager\u001b[38;5;241m.\u001b[39mon_chain_end(outputs)\n\u001b[1;32m    166\u001b[0m \u001b[38;5;28;01mif\u001b[39;00m include_run_info:\n",
      "File \u001b[0;32m~/Desktop/DreamBooth/llm-training/venv/lib/python3.12/site-packages/langchain/chains/base.py:153\u001b[0m, in \u001b[0;36mChain.invoke\u001b[0;34m(self, input, config, **kwargs)\u001b[0m\n\u001b[1;32m    150\u001b[0m \u001b[38;5;28;01mtry\u001b[39;00m:\n\u001b[1;32m    151\u001b[0m     \u001b[38;5;28mself\u001b[39m\u001b[38;5;241m.\u001b[39m_validate_inputs(inputs)\n\u001b[1;32m    152\u001b[0m     outputs \u001b[38;5;241m=\u001b[39m (\n\u001b[0;32m--> 153\u001b[0m         \u001b[38;5;28;43mself\u001b[39;49m\u001b[38;5;241;43m.\u001b[39;49m\u001b[43m_call\u001b[49m\u001b[43m(\u001b[49m\u001b[43minputs\u001b[49m\u001b[43m,\u001b[49m\u001b[43m \u001b[49m\u001b[43mrun_manager\u001b[49m\u001b[38;5;241;43m=\u001b[39;49m\u001b[43mrun_manager\u001b[49m\u001b[43m)\u001b[49m\n\u001b[1;32m    154\u001b[0m         \u001b[38;5;28;01mif\u001b[39;00m new_arg_supported\n\u001b[1;32m    155\u001b[0m         \u001b[38;5;28;01melse\u001b[39;00m \u001b[38;5;28mself\u001b[39m\u001b[38;5;241m.\u001b[39m_call(inputs)\n\u001b[1;32m    156\u001b[0m     )\n\u001b[1;32m    158\u001b[0m     final_outputs: Dict[\u001b[38;5;28mstr\u001b[39m, Any] \u001b[38;5;241m=\u001b[39m \u001b[38;5;28mself\u001b[39m\u001b[38;5;241m.\u001b[39mprep_outputs(\n\u001b[1;32m    159\u001b[0m         inputs, outputs, return_only_outputs\n\u001b[1;32m    160\u001b[0m     )\n\u001b[1;32m    161\u001b[0m \u001b[38;5;28;01mexcept\u001b[39;00m \u001b[38;5;167;01mBaseException\u001b[39;00m \u001b[38;5;28;01mas\u001b[39;00m e:\n",
      "File \u001b[0;32m~/Desktop/DreamBooth/llm-training/venv/lib/python3.12/site-packages/langchain/chains/combine_documents/base.py:137\u001b[0m, in \u001b[0;36mBaseCombineDocumentsChain._call\u001b[0;34m(self, inputs, run_manager)\u001b[0m\n\u001b[1;32m    135\u001b[0m \u001b[38;5;66;03m# Other keys are assumed to be needed for LLM prediction\u001b[39;00m\n\u001b[1;32m    136\u001b[0m other_keys \u001b[38;5;241m=\u001b[39m {k: v \u001b[38;5;28;01mfor\u001b[39;00m k, v \u001b[38;5;129;01min\u001b[39;00m inputs\u001b[38;5;241m.\u001b[39mitems() \u001b[38;5;28;01mif\u001b[39;00m k \u001b[38;5;241m!=\u001b[39m \u001b[38;5;28mself\u001b[39m\u001b[38;5;241m.\u001b[39minput_key}\n\u001b[0;32m--> 137\u001b[0m output, extra_return_dict \u001b[38;5;241m=\u001b[39m \u001b[38;5;28;43mself\u001b[39;49m\u001b[38;5;241;43m.\u001b[39;49m\u001b[43mcombine_docs\u001b[49m\u001b[43m(\u001b[49m\n\u001b[1;32m    138\u001b[0m \u001b[43m    \u001b[49m\u001b[43mdocs\u001b[49m\u001b[43m,\u001b[49m\u001b[43m \u001b[49m\u001b[43mcallbacks\u001b[49m\u001b[38;5;241;43m=\u001b[39;49m\u001b[43m_run_manager\u001b[49m\u001b[38;5;241;43m.\u001b[39;49m\u001b[43mget_child\u001b[49m\u001b[43m(\u001b[49m\u001b[43m)\u001b[49m\u001b[43m,\u001b[49m\u001b[43m \u001b[49m\u001b[38;5;241;43m*\u001b[39;49m\u001b[38;5;241;43m*\u001b[39;49m\u001b[43mother_keys\u001b[49m\n\u001b[1;32m    139\u001b[0m \u001b[43m\u001b[49m\u001b[43m)\u001b[49m\n\u001b[1;32m    140\u001b[0m extra_return_dict[\u001b[38;5;28mself\u001b[39m\u001b[38;5;241m.\u001b[39moutput_key] \u001b[38;5;241m=\u001b[39m output\n\u001b[1;32m    141\u001b[0m \u001b[38;5;28;01mreturn\u001b[39;00m extra_return_dict\n",
      "File \u001b[0;32m~/Desktop/DreamBooth/llm-training/venv/lib/python3.12/site-packages/langchain/chains/combine_documents/map_reduce.py:226\u001b[0m, in \u001b[0;36mMapReduceDocumentsChain.combine_docs\u001b[0;34m(self, docs, token_max, callbacks, **kwargs)\u001b[0m\n\u001b[1;32m    214\u001b[0m \u001b[38;5;28;01mdef\u001b[39;00m \u001b[38;5;21mcombine_docs\u001b[39m(\n\u001b[1;32m    215\u001b[0m     \u001b[38;5;28mself\u001b[39m,\n\u001b[1;32m    216\u001b[0m     docs: List[Document],\n\u001b[0;32m   (...)\u001b[0m\n\u001b[1;32m    219\u001b[0m     \u001b[38;5;241m*\u001b[39m\u001b[38;5;241m*\u001b[39mkwargs: Any,\n\u001b[1;32m    220\u001b[0m ) \u001b[38;5;241m-\u001b[39m\u001b[38;5;241m>\u001b[39m Tuple[\u001b[38;5;28mstr\u001b[39m, \u001b[38;5;28mdict\u001b[39m]:\n\u001b[1;32m    221\u001b[0m \u001b[38;5;250m    \u001b[39m\u001b[38;5;124;03m\"\"\"Combine documents in a map reduce manner.\u001b[39;00m\n\u001b[1;32m    222\u001b[0m \n\u001b[1;32m    223\u001b[0m \u001b[38;5;124;03m    Combine by mapping first chain over all documents, then reducing the results.\u001b[39;00m\n\u001b[1;32m    224\u001b[0m \u001b[38;5;124;03m    This reducing can be done recursively if needed (if there are many documents).\u001b[39;00m\n\u001b[1;32m    225\u001b[0m \u001b[38;5;124;03m    \"\"\"\u001b[39;00m\n\u001b[0;32m--> 226\u001b[0m     map_results \u001b[38;5;241m=\u001b[39m \u001b[38;5;28;43mself\u001b[39;49m\u001b[38;5;241;43m.\u001b[39;49m\u001b[43mllm_chain\u001b[49m\u001b[38;5;241;43m.\u001b[39;49m\u001b[43mapply\u001b[49m\u001b[43m(\u001b[49m\n\u001b[1;32m    227\u001b[0m \u001b[43m        \u001b[49m\u001b[38;5;66;43;03m# FYI - this is parallelized and so it is fast.\u001b[39;49;00m\n\u001b[1;32m    228\u001b[0m \u001b[43m        \u001b[49m\u001b[43m[\u001b[49m\u001b[43m{\u001b[49m\u001b[38;5;28;43mself\u001b[39;49m\u001b[38;5;241;43m.\u001b[39;49m\u001b[43mdocument_variable_name\u001b[49m\u001b[43m:\u001b[49m\u001b[43m \u001b[49m\u001b[43md\u001b[49m\u001b[38;5;241;43m.\u001b[39;49m\u001b[43mpage_content\u001b[49m\u001b[43m,\u001b[49m\u001b[43m \u001b[49m\u001b[38;5;241;43m*\u001b[39;49m\u001b[38;5;241;43m*\u001b[39;49m\u001b[43mkwargs\u001b[49m\u001b[43m}\u001b[49m\u001b[43m \u001b[49m\u001b[38;5;28;43;01mfor\u001b[39;49;00m\u001b[43m \u001b[49m\u001b[43md\u001b[49m\u001b[43m \u001b[49m\u001b[38;5;129;43;01min\u001b[39;49;00m\u001b[43m \u001b[49m\u001b[43mdocs\u001b[49m\u001b[43m]\u001b[49m\u001b[43m,\u001b[49m\n\u001b[1;32m    229\u001b[0m \u001b[43m        \u001b[49m\u001b[43mcallbacks\u001b[49m\u001b[38;5;241;43m=\u001b[39;49m\u001b[43mcallbacks\u001b[49m\u001b[43m,\u001b[49m\n\u001b[1;32m    230\u001b[0m \u001b[43m    \u001b[49m\u001b[43m)\u001b[49m\n\u001b[1;32m    231\u001b[0m     question_result_key \u001b[38;5;241m=\u001b[39m \u001b[38;5;28mself\u001b[39m\u001b[38;5;241m.\u001b[39mllm_chain\u001b[38;5;241m.\u001b[39moutput_key\n\u001b[1;32m    232\u001b[0m     result_docs \u001b[38;5;241m=\u001b[39m [\n\u001b[1;32m    233\u001b[0m         Document(page_content\u001b[38;5;241m=\u001b[39mr[question_result_key], metadata\u001b[38;5;241m=\u001b[39mdocs[i]\u001b[38;5;241m.\u001b[39mmetadata)\n\u001b[1;32m    234\u001b[0m         \u001b[38;5;66;03m# This uses metadata from the docs, and the textual results from `results`\u001b[39;00m\n\u001b[1;32m    235\u001b[0m         \u001b[38;5;28;01mfor\u001b[39;00m i, r \u001b[38;5;129;01min\u001b[39;00m \u001b[38;5;28menumerate\u001b[39m(map_results)\n\u001b[1;32m    236\u001b[0m     ]\n",
      "File \u001b[0;32m~/Desktop/DreamBooth/llm-training/venv/lib/python3.12/site-packages/langchain/chains/llm.py:250\u001b[0m, in \u001b[0;36mLLMChain.apply\u001b[0;34m(self, input_list, callbacks)\u001b[0m\n\u001b[1;32m    248\u001b[0m \u001b[38;5;28;01mexcept\u001b[39;00m \u001b[38;5;167;01mBaseException\u001b[39;00m \u001b[38;5;28;01mas\u001b[39;00m e:\n\u001b[1;32m    249\u001b[0m     run_manager\u001b[38;5;241m.\u001b[39mon_chain_error(e)\n\u001b[0;32m--> 250\u001b[0m     \u001b[38;5;28;01mraise\u001b[39;00m e\n\u001b[1;32m    251\u001b[0m outputs \u001b[38;5;241m=\u001b[39m \u001b[38;5;28mself\u001b[39m\u001b[38;5;241m.\u001b[39mcreate_outputs(response)\n\u001b[1;32m    252\u001b[0m run_manager\u001b[38;5;241m.\u001b[39mon_chain_end({\u001b[38;5;124m\"\u001b[39m\u001b[38;5;124moutputs\u001b[39m\u001b[38;5;124m\"\u001b[39m: outputs})\n",
      "File \u001b[0;32m~/Desktop/DreamBooth/llm-training/venv/lib/python3.12/site-packages/langchain/chains/llm.py:247\u001b[0m, in \u001b[0;36mLLMChain.apply\u001b[0;34m(self, input_list, callbacks)\u001b[0m\n\u001b[1;32m    242\u001b[0m run_manager \u001b[38;5;241m=\u001b[39m callback_manager\u001b[38;5;241m.\u001b[39mon_chain_start(\n\u001b[1;32m    243\u001b[0m     dumpd(\u001b[38;5;28mself\u001b[39m),\n\u001b[1;32m    244\u001b[0m     {\u001b[38;5;124m\"\u001b[39m\u001b[38;5;124minput_list\u001b[39m\u001b[38;5;124m\"\u001b[39m: input_list},\n\u001b[1;32m    245\u001b[0m )\n\u001b[1;32m    246\u001b[0m \u001b[38;5;28;01mtry\u001b[39;00m:\n\u001b[0;32m--> 247\u001b[0m     response \u001b[38;5;241m=\u001b[39m \u001b[38;5;28;43mself\u001b[39;49m\u001b[38;5;241;43m.\u001b[39;49m\u001b[43mgenerate\u001b[49m\u001b[43m(\u001b[49m\u001b[43minput_list\u001b[49m\u001b[43m,\u001b[49m\u001b[43m \u001b[49m\u001b[43mrun_manager\u001b[49m\u001b[38;5;241;43m=\u001b[39;49m\u001b[43mrun_manager\u001b[49m\u001b[43m)\u001b[49m\n\u001b[1;32m    248\u001b[0m \u001b[38;5;28;01mexcept\u001b[39;00m \u001b[38;5;167;01mBaseException\u001b[39;00m \u001b[38;5;28;01mas\u001b[39;00m e:\n\u001b[1;32m    249\u001b[0m     run_manager\u001b[38;5;241m.\u001b[39mon_chain_error(e)\n",
      "File \u001b[0;32m~/Desktop/DreamBooth/llm-training/venv/lib/python3.12/site-packages/langchain/chains/llm.py:138\u001b[0m, in \u001b[0;36mLLMChain.generate\u001b[0;34m(self, input_list, run_manager)\u001b[0m\n\u001b[1;32m    136\u001b[0m callbacks \u001b[38;5;241m=\u001b[39m run_manager\u001b[38;5;241m.\u001b[39mget_child() \u001b[38;5;28;01mif\u001b[39;00m run_manager \u001b[38;5;28;01melse\u001b[39;00m \u001b[38;5;28;01mNone\u001b[39;00m\n\u001b[1;32m    137\u001b[0m \u001b[38;5;28;01mif\u001b[39;00m \u001b[38;5;28misinstance\u001b[39m(\u001b[38;5;28mself\u001b[39m\u001b[38;5;241m.\u001b[39mllm, BaseLanguageModel):\n\u001b[0;32m--> 138\u001b[0m     \u001b[38;5;28;01mreturn\u001b[39;00m \u001b[38;5;28;43mself\u001b[39;49m\u001b[38;5;241;43m.\u001b[39;49m\u001b[43mllm\u001b[49m\u001b[38;5;241;43m.\u001b[39;49m\u001b[43mgenerate_prompt\u001b[49m\u001b[43m(\u001b[49m\n\u001b[1;32m    139\u001b[0m \u001b[43m        \u001b[49m\u001b[43mprompts\u001b[49m\u001b[43m,\u001b[49m\n\u001b[1;32m    140\u001b[0m \u001b[43m        \u001b[49m\u001b[43mstop\u001b[49m\u001b[43m,\u001b[49m\n\u001b[1;32m    141\u001b[0m \u001b[43m        \u001b[49m\u001b[43mcallbacks\u001b[49m\u001b[38;5;241;43m=\u001b[39;49m\u001b[43mcallbacks\u001b[49m\u001b[43m,\u001b[49m\n\u001b[1;32m    142\u001b[0m \u001b[43m        \u001b[49m\u001b[38;5;241;43m*\u001b[39;49m\u001b[38;5;241;43m*\u001b[39;49m\u001b[38;5;28;43mself\u001b[39;49m\u001b[38;5;241;43m.\u001b[39;49m\u001b[43mllm_kwargs\u001b[49m\u001b[43m,\u001b[49m\n\u001b[1;32m    143\u001b[0m \u001b[43m    \u001b[49m\u001b[43m)\u001b[49m\n\u001b[1;32m    144\u001b[0m \u001b[38;5;28;01melse\u001b[39;00m:\n\u001b[1;32m    145\u001b[0m     results \u001b[38;5;241m=\u001b[39m \u001b[38;5;28mself\u001b[39m\u001b[38;5;241m.\u001b[39mllm\u001b[38;5;241m.\u001b[39mbind(stop\u001b[38;5;241m=\u001b[39mstop, \u001b[38;5;241m*\u001b[39m\u001b[38;5;241m*\u001b[39m\u001b[38;5;28mself\u001b[39m\u001b[38;5;241m.\u001b[39mllm_kwargs)\u001b[38;5;241m.\u001b[39mbatch(\n\u001b[1;32m    146\u001b[0m         cast(List, prompts), {\u001b[38;5;124m\"\u001b[39m\u001b[38;5;124mcallbacks\u001b[39m\u001b[38;5;124m\"\u001b[39m: callbacks}\n\u001b[1;32m    147\u001b[0m     )\n",
      "File \u001b[0;32m~/Desktop/DreamBooth/llm-training/venv/lib/python3.12/site-packages/langchain_core/language_models/chat_models.py:560\u001b[0m, in \u001b[0;36mBaseChatModel.generate_prompt\u001b[0;34m(self, prompts, stop, callbacks, **kwargs)\u001b[0m\n\u001b[1;32m    552\u001b[0m \u001b[38;5;28;01mdef\u001b[39;00m \u001b[38;5;21mgenerate_prompt\u001b[39m(\n\u001b[1;32m    553\u001b[0m     \u001b[38;5;28mself\u001b[39m,\n\u001b[1;32m    554\u001b[0m     prompts: List[PromptValue],\n\u001b[0;32m   (...)\u001b[0m\n\u001b[1;32m    557\u001b[0m     \u001b[38;5;241m*\u001b[39m\u001b[38;5;241m*\u001b[39mkwargs: Any,\n\u001b[1;32m    558\u001b[0m ) \u001b[38;5;241m-\u001b[39m\u001b[38;5;241m>\u001b[39m LLMResult:\n\u001b[1;32m    559\u001b[0m     prompt_messages \u001b[38;5;241m=\u001b[39m [p\u001b[38;5;241m.\u001b[39mto_messages() \u001b[38;5;28;01mfor\u001b[39;00m p \u001b[38;5;129;01min\u001b[39;00m prompts]\n\u001b[0;32m--> 560\u001b[0m     \u001b[38;5;28;01mreturn\u001b[39;00m \u001b[38;5;28;43mself\u001b[39;49m\u001b[38;5;241;43m.\u001b[39;49m\u001b[43mgenerate\u001b[49m\u001b[43m(\u001b[49m\u001b[43mprompt_messages\u001b[49m\u001b[43m,\u001b[49m\u001b[43m \u001b[49m\u001b[43mstop\u001b[49m\u001b[38;5;241;43m=\u001b[39;49m\u001b[43mstop\u001b[49m\u001b[43m,\u001b[49m\u001b[43m \u001b[49m\u001b[43mcallbacks\u001b[49m\u001b[38;5;241;43m=\u001b[39;49m\u001b[43mcallbacks\u001b[49m\u001b[43m,\u001b[49m\u001b[43m \u001b[49m\u001b[38;5;241;43m*\u001b[39;49m\u001b[38;5;241;43m*\u001b[39;49m\u001b[43mkwargs\u001b[49m\u001b[43m)\u001b[49m\n",
      "File \u001b[0;32m~/Desktop/DreamBooth/llm-training/venv/lib/python3.12/site-packages/langchain_core/language_models/chat_models.py:421\u001b[0m, in \u001b[0;36mBaseChatModel.generate\u001b[0;34m(self, messages, stop, callbacks, tags, metadata, run_name, run_id, **kwargs)\u001b[0m\n\u001b[1;32m    419\u001b[0m         \u001b[38;5;28;01mif\u001b[39;00m run_managers:\n\u001b[1;32m    420\u001b[0m             run_managers[i]\u001b[38;5;241m.\u001b[39mon_llm_error(e, response\u001b[38;5;241m=\u001b[39mLLMResult(generations\u001b[38;5;241m=\u001b[39m[]))\n\u001b[0;32m--> 421\u001b[0m         \u001b[38;5;28;01mraise\u001b[39;00m e\n\u001b[1;32m    422\u001b[0m flattened_outputs \u001b[38;5;241m=\u001b[39m [\n\u001b[1;32m    423\u001b[0m     LLMResult(generations\u001b[38;5;241m=\u001b[39m[res\u001b[38;5;241m.\u001b[39mgenerations], llm_output\u001b[38;5;241m=\u001b[39mres\u001b[38;5;241m.\u001b[39mllm_output)  \u001b[38;5;66;03m# type: ignore[list-item]\u001b[39;00m\n\u001b[1;32m    424\u001b[0m     \u001b[38;5;28;01mfor\u001b[39;00m res \u001b[38;5;129;01min\u001b[39;00m results\n\u001b[1;32m    425\u001b[0m ]\n\u001b[1;32m    426\u001b[0m llm_output \u001b[38;5;241m=\u001b[39m \u001b[38;5;28mself\u001b[39m\u001b[38;5;241m.\u001b[39m_combine_llm_outputs([res\u001b[38;5;241m.\u001b[39mllm_output \u001b[38;5;28;01mfor\u001b[39;00m res \u001b[38;5;129;01min\u001b[39;00m results])\n",
      "File \u001b[0;32m~/Desktop/DreamBooth/llm-training/venv/lib/python3.12/site-packages/langchain_core/language_models/chat_models.py:411\u001b[0m, in \u001b[0;36mBaseChatModel.generate\u001b[0;34m(self, messages, stop, callbacks, tags, metadata, run_name, run_id, **kwargs)\u001b[0m\n\u001b[1;32m    408\u001b[0m \u001b[38;5;28;01mfor\u001b[39;00m i, m \u001b[38;5;129;01min\u001b[39;00m \u001b[38;5;28menumerate\u001b[39m(messages):\n\u001b[1;32m    409\u001b[0m     \u001b[38;5;28;01mtry\u001b[39;00m:\n\u001b[1;32m    410\u001b[0m         results\u001b[38;5;241m.\u001b[39mappend(\n\u001b[0;32m--> 411\u001b[0m             \u001b[38;5;28;43mself\u001b[39;49m\u001b[38;5;241;43m.\u001b[39;49m\u001b[43m_generate_with_cache\u001b[49m\u001b[43m(\u001b[49m\n\u001b[1;32m    412\u001b[0m \u001b[43m                \u001b[49m\u001b[43mm\u001b[49m\u001b[43m,\u001b[49m\n\u001b[1;32m    413\u001b[0m \u001b[43m                \u001b[49m\u001b[43mstop\u001b[49m\u001b[38;5;241;43m=\u001b[39;49m\u001b[43mstop\u001b[49m\u001b[43m,\u001b[49m\n\u001b[1;32m    414\u001b[0m \u001b[43m                \u001b[49m\u001b[43mrun_manager\u001b[49m\u001b[38;5;241;43m=\u001b[39;49m\u001b[43mrun_managers\u001b[49m\u001b[43m[\u001b[49m\u001b[43mi\u001b[49m\u001b[43m]\u001b[49m\u001b[43m \u001b[49m\u001b[38;5;28;43;01mif\u001b[39;49;00m\u001b[43m \u001b[49m\u001b[43mrun_managers\u001b[49m\u001b[43m \u001b[49m\u001b[38;5;28;43;01melse\u001b[39;49;00m\u001b[43m \u001b[49m\u001b[38;5;28;43;01mNone\u001b[39;49;00m\u001b[43m,\u001b[49m\n\u001b[1;32m    415\u001b[0m \u001b[43m                \u001b[49m\u001b[38;5;241;43m*\u001b[39;49m\u001b[38;5;241;43m*\u001b[39;49m\u001b[43mkwargs\u001b[49m\u001b[43m,\u001b[49m\n\u001b[1;32m    416\u001b[0m \u001b[43m            \u001b[49m\u001b[43m)\u001b[49m\n\u001b[1;32m    417\u001b[0m         )\n\u001b[1;32m    418\u001b[0m     \u001b[38;5;28;01mexcept\u001b[39;00m \u001b[38;5;167;01mBaseException\u001b[39;00m \u001b[38;5;28;01mas\u001b[39;00m e:\n\u001b[1;32m    419\u001b[0m         \u001b[38;5;28;01mif\u001b[39;00m run_managers:\n",
      "File \u001b[0;32m~/Desktop/DreamBooth/llm-training/venv/lib/python3.12/site-packages/langchain_core/language_models/chat_models.py:632\u001b[0m, in \u001b[0;36mBaseChatModel._generate_with_cache\u001b[0;34m(self, messages, stop, run_manager, **kwargs)\u001b[0m\n\u001b[1;32m    630\u001b[0m \u001b[38;5;28;01melse\u001b[39;00m:\n\u001b[1;32m    631\u001b[0m     \u001b[38;5;28;01mif\u001b[39;00m inspect\u001b[38;5;241m.\u001b[39msignature(\u001b[38;5;28mself\u001b[39m\u001b[38;5;241m.\u001b[39m_generate)\u001b[38;5;241m.\u001b[39mparameters\u001b[38;5;241m.\u001b[39mget(\u001b[38;5;124m\"\u001b[39m\u001b[38;5;124mrun_manager\u001b[39m\u001b[38;5;124m\"\u001b[39m):\n\u001b[0;32m--> 632\u001b[0m         result \u001b[38;5;241m=\u001b[39m \u001b[38;5;28;43mself\u001b[39;49m\u001b[38;5;241;43m.\u001b[39;49m\u001b[43m_generate\u001b[49m\u001b[43m(\u001b[49m\n\u001b[1;32m    633\u001b[0m \u001b[43m            \u001b[49m\u001b[43mmessages\u001b[49m\u001b[43m,\u001b[49m\u001b[43m \u001b[49m\u001b[43mstop\u001b[49m\u001b[38;5;241;43m=\u001b[39;49m\u001b[43mstop\u001b[49m\u001b[43m,\u001b[49m\u001b[43m \u001b[49m\u001b[43mrun_manager\u001b[49m\u001b[38;5;241;43m=\u001b[39;49m\u001b[43mrun_manager\u001b[49m\u001b[43m,\u001b[49m\u001b[43m \u001b[49m\u001b[38;5;241;43m*\u001b[39;49m\u001b[38;5;241;43m*\u001b[39;49m\u001b[43mkwargs\u001b[49m\n\u001b[1;32m    634\u001b[0m \u001b[43m        \u001b[49m\u001b[43m)\u001b[49m\n\u001b[1;32m    635\u001b[0m     \u001b[38;5;28;01melse\u001b[39;00m:\n\u001b[1;32m    636\u001b[0m         result \u001b[38;5;241m=\u001b[39m \u001b[38;5;28mself\u001b[39m\u001b[38;5;241m.\u001b[39m_generate(messages, stop\u001b[38;5;241m=\u001b[39mstop, \u001b[38;5;241m*\u001b[39m\u001b[38;5;241m*\u001b[39mkwargs)\n",
      "File \u001b[0;32m~/Desktop/DreamBooth/llm-training/venv/lib/python3.12/site-packages/langchain_openai/chat_models/base.py:522\u001b[0m, in \u001b[0;36mBaseChatOpenAI._generate\u001b[0;34m(self, messages, stop, run_manager, **kwargs)\u001b[0m\n\u001b[1;32m    520\u001b[0m message_dicts, params \u001b[38;5;241m=\u001b[39m \u001b[38;5;28mself\u001b[39m\u001b[38;5;241m.\u001b[39m_create_message_dicts(messages, stop)\n\u001b[1;32m    521\u001b[0m params \u001b[38;5;241m=\u001b[39m {\u001b[38;5;241m*\u001b[39m\u001b[38;5;241m*\u001b[39mparams, \u001b[38;5;241m*\u001b[39m\u001b[38;5;241m*\u001b[39mkwargs}\n\u001b[0;32m--> 522\u001b[0m response \u001b[38;5;241m=\u001b[39m \u001b[38;5;28;43mself\u001b[39;49m\u001b[38;5;241;43m.\u001b[39;49m\u001b[43mclient\u001b[49m\u001b[38;5;241;43m.\u001b[39;49m\u001b[43mcreate\u001b[49m\u001b[43m(\u001b[49m\u001b[43mmessages\u001b[49m\u001b[38;5;241;43m=\u001b[39;49m\u001b[43mmessage_dicts\u001b[49m\u001b[43m,\u001b[49m\u001b[43m \u001b[49m\u001b[38;5;241;43m*\u001b[39;49m\u001b[38;5;241;43m*\u001b[39;49m\u001b[43mparams\u001b[49m\u001b[43m)\u001b[49m\n\u001b[1;32m    523\u001b[0m \u001b[38;5;28;01mreturn\u001b[39;00m \u001b[38;5;28mself\u001b[39m\u001b[38;5;241m.\u001b[39m_create_chat_result(response)\n",
      "File \u001b[0;32m~/Desktop/DreamBooth/llm-training/venv/lib/python3.12/site-packages/openai/_utils/_utils.py:277\u001b[0m, in \u001b[0;36mrequired_args.<locals>.inner.<locals>.wrapper\u001b[0;34m(*args, **kwargs)\u001b[0m\n\u001b[1;32m    275\u001b[0m             msg \u001b[38;5;241m=\u001b[39m \u001b[38;5;124mf\u001b[39m\u001b[38;5;124m\"\u001b[39m\u001b[38;5;124mMissing required argument: \u001b[39m\u001b[38;5;132;01m{\u001b[39;00mquote(missing[\u001b[38;5;241m0\u001b[39m])\u001b[38;5;132;01m}\u001b[39;00m\u001b[38;5;124m\"\u001b[39m\n\u001b[1;32m    276\u001b[0m     \u001b[38;5;28;01mraise\u001b[39;00m \u001b[38;5;167;01mTypeError\u001b[39;00m(msg)\n\u001b[0;32m--> 277\u001b[0m \u001b[38;5;28;01mreturn\u001b[39;00m \u001b[43mfunc\u001b[49m\u001b[43m(\u001b[49m\u001b[38;5;241;43m*\u001b[39;49m\u001b[43margs\u001b[49m\u001b[43m,\u001b[49m\u001b[43m \u001b[49m\u001b[38;5;241;43m*\u001b[39;49m\u001b[38;5;241;43m*\u001b[39;49m\u001b[43mkwargs\u001b[49m\u001b[43m)\u001b[49m\n",
      "File \u001b[0;32m~/Desktop/DreamBooth/llm-training/venv/lib/python3.12/site-packages/openai/resources/chat/completions.py:590\u001b[0m, in \u001b[0;36mCompletions.create\u001b[0;34m(self, messages, model, frequency_penalty, function_call, functions, logit_bias, logprobs, max_tokens, n, presence_penalty, response_format, seed, stop, stream, stream_options, temperature, tool_choice, tools, top_logprobs, top_p, user, extra_headers, extra_query, extra_body, timeout)\u001b[0m\n\u001b[1;32m    558\u001b[0m \u001b[38;5;129m@required_args\u001b[39m([\u001b[38;5;124m\"\u001b[39m\u001b[38;5;124mmessages\u001b[39m\u001b[38;5;124m\"\u001b[39m, \u001b[38;5;124m\"\u001b[39m\u001b[38;5;124mmodel\u001b[39m\u001b[38;5;124m\"\u001b[39m], [\u001b[38;5;124m\"\u001b[39m\u001b[38;5;124mmessages\u001b[39m\u001b[38;5;124m\"\u001b[39m, \u001b[38;5;124m\"\u001b[39m\u001b[38;5;124mmodel\u001b[39m\u001b[38;5;124m\"\u001b[39m, \u001b[38;5;124m\"\u001b[39m\u001b[38;5;124mstream\u001b[39m\u001b[38;5;124m\"\u001b[39m])\n\u001b[1;32m    559\u001b[0m \u001b[38;5;28;01mdef\u001b[39;00m \u001b[38;5;21mcreate\u001b[39m(\n\u001b[1;32m    560\u001b[0m     \u001b[38;5;28mself\u001b[39m,\n\u001b[0;32m   (...)\u001b[0m\n\u001b[1;32m    588\u001b[0m     timeout: \u001b[38;5;28mfloat\u001b[39m \u001b[38;5;241m|\u001b[39m httpx\u001b[38;5;241m.\u001b[39mTimeout \u001b[38;5;241m|\u001b[39m \u001b[38;5;28;01mNone\u001b[39;00m \u001b[38;5;241m|\u001b[39m NotGiven \u001b[38;5;241m=\u001b[39m NOT_GIVEN,\n\u001b[1;32m    589\u001b[0m ) \u001b[38;5;241m-\u001b[39m\u001b[38;5;241m>\u001b[39m ChatCompletion \u001b[38;5;241m|\u001b[39m Stream[ChatCompletionChunk]:\n\u001b[0;32m--> 590\u001b[0m     \u001b[38;5;28;01mreturn\u001b[39;00m \u001b[38;5;28;43mself\u001b[39;49m\u001b[38;5;241;43m.\u001b[39;49m\u001b[43m_post\u001b[49m\u001b[43m(\u001b[49m\n\u001b[1;32m    591\u001b[0m \u001b[43m        \u001b[49m\u001b[38;5;124;43m\"\u001b[39;49m\u001b[38;5;124;43m/chat/completions\u001b[39;49m\u001b[38;5;124;43m\"\u001b[39;49m\u001b[43m,\u001b[49m\n\u001b[1;32m    592\u001b[0m \u001b[43m        \u001b[49m\u001b[43mbody\u001b[49m\u001b[38;5;241;43m=\u001b[39;49m\u001b[43mmaybe_transform\u001b[49m\u001b[43m(\u001b[49m\n\u001b[1;32m    593\u001b[0m \u001b[43m            \u001b[49m\u001b[43m{\u001b[49m\n\u001b[1;32m    594\u001b[0m \u001b[43m                \u001b[49m\u001b[38;5;124;43m\"\u001b[39;49m\u001b[38;5;124;43mmessages\u001b[39;49m\u001b[38;5;124;43m\"\u001b[39;49m\u001b[43m:\u001b[49m\u001b[43m \u001b[49m\u001b[43mmessages\u001b[49m\u001b[43m,\u001b[49m\n\u001b[1;32m    595\u001b[0m \u001b[43m                \u001b[49m\u001b[38;5;124;43m\"\u001b[39;49m\u001b[38;5;124;43mmodel\u001b[39;49m\u001b[38;5;124;43m\"\u001b[39;49m\u001b[43m:\u001b[49m\u001b[43m \u001b[49m\u001b[43mmodel\u001b[49m\u001b[43m,\u001b[49m\n\u001b[1;32m    596\u001b[0m \u001b[43m                \u001b[49m\u001b[38;5;124;43m\"\u001b[39;49m\u001b[38;5;124;43mfrequency_penalty\u001b[39;49m\u001b[38;5;124;43m\"\u001b[39;49m\u001b[43m:\u001b[49m\u001b[43m \u001b[49m\u001b[43mfrequency_penalty\u001b[49m\u001b[43m,\u001b[49m\n\u001b[1;32m    597\u001b[0m \u001b[43m                \u001b[49m\u001b[38;5;124;43m\"\u001b[39;49m\u001b[38;5;124;43mfunction_call\u001b[39;49m\u001b[38;5;124;43m\"\u001b[39;49m\u001b[43m:\u001b[49m\u001b[43m \u001b[49m\u001b[43mfunction_call\u001b[49m\u001b[43m,\u001b[49m\n\u001b[1;32m    598\u001b[0m \u001b[43m                \u001b[49m\u001b[38;5;124;43m\"\u001b[39;49m\u001b[38;5;124;43mfunctions\u001b[39;49m\u001b[38;5;124;43m\"\u001b[39;49m\u001b[43m:\u001b[49m\u001b[43m \u001b[49m\u001b[43mfunctions\u001b[49m\u001b[43m,\u001b[49m\n\u001b[1;32m    599\u001b[0m \u001b[43m                \u001b[49m\u001b[38;5;124;43m\"\u001b[39;49m\u001b[38;5;124;43mlogit_bias\u001b[39;49m\u001b[38;5;124;43m\"\u001b[39;49m\u001b[43m:\u001b[49m\u001b[43m \u001b[49m\u001b[43mlogit_bias\u001b[49m\u001b[43m,\u001b[49m\n\u001b[1;32m    600\u001b[0m \u001b[43m                \u001b[49m\u001b[38;5;124;43m\"\u001b[39;49m\u001b[38;5;124;43mlogprobs\u001b[39;49m\u001b[38;5;124;43m\"\u001b[39;49m\u001b[43m:\u001b[49m\u001b[43m \u001b[49m\u001b[43mlogprobs\u001b[49m\u001b[43m,\u001b[49m\n\u001b[1;32m    601\u001b[0m \u001b[43m                \u001b[49m\u001b[38;5;124;43m\"\u001b[39;49m\u001b[38;5;124;43mmax_tokens\u001b[39;49m\u001b[38;5;124;43m\"\u001b[39;49m\u001b[43m:\u001b[49m\u001b[43m \u001b[49m\u001b[43mmax_tokens\u001b[49m\u001b[43m,\u001b[49m\n\u001b[1;32m    602\u001b[0m \u001b[43m                \u001b[49m\u001b[38;5;124;43m\"\u001b[39;49m\u001b[38;5;124;43mn\u001b[39;49m\u001b[38;5;124;43m\"\u001b[39;49m\u001b[43m:\u001b[49m\u001b[43m \u001b[49m\u001b[43mn\u001b[49m\u001b[43m,\u001b[49m\n\u001b[1;32m    603\u001b[0m \u001b[43m                \u001b[49m\u001b[38;5;124;43m\"\u001b[39;49m\u001b[38;5;124;43mpresence_penalty\u001b[39;49m\u001b[38;5;124;43m\"\u001b[39;49m\u001b[43m:\u001b[49m\u001b[43m \u001b[49m\u001b[43mpresence_penalty\u001b[49m\u001b[43m,\u001b[49m\n\u001b[1;32m    604\u001b[0m \u001b[43m                \u001b[49m\u001b[38;5;124;43m\"\u001b[39;49m\u001b[38;5;124;43mresponse_format\u001b[39;49m\u001b[38;5;124;43m\"\u001b[39;49m\u001b[43m:\u001b[49m\u001b[43m \u001b[49m\u001b[43mresponse_format\u001b[49m\u001b[43m,\u001b[49m\n\u001b[1;32m    605\u001b[0m \u001b[43m                \u001b[49m\u001b[38;5;124;43m\"\u001b[39;49m\u001b[38;5;124;43mseed\u001b[39;49m\u001b[38;5;124;43m\"\u001b[39;49m\u001b[43m:\u001b[49m\u001b[43m \u001b[49m\u001b[43mseed\u001b[49m\u001b[43m,\u001b[49m\n\u001b[1;32m    606\u001b[0m \u001b[43m                \u001b[49m\u001b[38;5;124;43m\"\u001b[39;49m\u001b[38;5;124;43mstop\u001b[39;49m\u001b[38;5;124;43m\"\u001b[39;49m\u001b[43m:\u001b[49m\u001b[43m \u001b[49m\u001b[43mstop\u001b[49m\u001b[43m,\u001b[49m\n\u001b[1;32m    607\u001b[0m \u001b[43m                \u001b[49m\u001b[38;5;124;43m\"\u001b[39;49m\u001b[38;5;124;43mstream\u001b[39;49m\u001b[38;5;124;43m\"\u001b[39;49m\u001b[43m:\u001b[49m\u001b[43m \u001b[49m\u001b[43mstream\u001b[49m\u001b[43m,\u001b[49m\n\u001b[1;32m    608\u001b[0m \u001b[43m                \u001b[49m\u001b[38;5;124;43m\"\u001b[39;49m\u001b[38;5;124;43mstream_options\u001b[39;49m\u001b[38;5;124;43m\"\u001b[39;49m\u001b[43m:\u001b[49m\u001b[43m \u001b[49m\u001b[43mstream_options\u001b[49m\u001b[43m,\u001b[49m\n\u001b[1;32m    609\u001b[0m \u001b[43m                \u001b[49m\u001b[38;5;124;43m\"\u001b[39;49m\u001b[38;5;124;43mtemperature\u001b[39;49m\u001b[38;5;124;43m\"\u001b[39;49m\u001b[43m:\u001b[49m\u001b[43m \u001b[49m\u001b[43mtemperature\u001b[49m\u001b[43m,\u001b[49m\n\u001b[1;32m    610\u001b[0m \u001b[43m                \u001b[49m\u001b[38;5;124;43m\"\u001b[39;49m\u001b[38;5;124;43mtool_choice\u001b[39;49m\u001b[38;5;124;43m\"\u001b[39;49m\u001b[43m:\u001b[49m\u001b[43m \u001b[49m\u001b[43mtool_choice\u001b[49m\u001b[43m,\u001b[49m\n\u001b[1;32m    611\u001b[0m \u001b[43m                \u001b[49m\u001b[38;5;124;43m\"\u001b[39;49m\u001b[38;5;124;43mtools\u001b[39;49m\u001b[38;5;124;43m\"\u001b[39;49m\u001b[43m:\u001b[49m\u001b[43m \u001b[49m\u001b[43mtools\u001b[49m\u001b[43m,\u001b[49m\n\u001b[1;32m    612\u001b[0m \u001b[43m                \u001b[49m\u001b[38;5;124;43m\"\u001b[39;49m\u001b[38;5;124;43mtop_logprobs\u001b[39;49m\u001b[38;5;124;43m\"\u001b[39;49m\u001b[43m:\u001b[49m\u001b[43m \u001b[49m\u001b[43mtop_logprobs\u001b[49m\u001b[43m,\u001b[49m\n\u001b[1;32m    613\u001b[0m \u001b[43m                \u001b[49m\u001b[38;5;124;43m\"\u001b[39;49m\u001b[38;5;124;43mtop_p\u001b[39;49m\u001b[38;5;124;43m\"\u001b[39;49m\u001b[43m:\u001b[49m\u001b[43m \u001b[49m\u001b[43mtop_p\u001b[49m\u001b[43m,\u001b[49m\n\u001b[1;32m    614\u001b[0m \u001b[43m                \u001b[49m\u001b[38;5;124;43m\"\u001b[39;49m\u001b[38;5;124;43muser\u001b[39;49m\u001b[38;5;124;43m\"\u001b[39;49m\u001b[43m:\u001b[49m\u001b[43m \u001b[49m\u001b[43muser\u001b[49m\u001b[43m,\u001b[49m\n\u001b[1;32m    615\u001b[0m \u001b[43m            \u001b[49m\u001b[43m}\u001b[49m\u001b[43m,\u001b[49m\n\u001b[1;32m    616\u001b[0m \u001b[43m            \u001b[49m\u001b[43mcompletion_create_params\u001b[49m\u001b[38;5;241;43m.\u001b[39;49m\u001b[43mCompletionCreateParams\u001b[49m\u001b[43m,\u001b[49m\n\u001b[1;32m    617\u001b[0m \u001b[43m        \u001b[49m\u001b[43m)\u001b[49m\u001b[43m,\u001b[49m\n\u001b[1;32m    618\u001b[0m \u001b[43m        \u001b[49m\u001b[43moptions\u001b[49m\u001b[38;5;241;43m=\u001b[39;49m\u001b[43mmake_request_options\u001b[49m\u001b[43m(\u001b[49m\n\u001b[1;32m    619\u001b[0m \u001b[43m            \u001b[49m\u001b[43mextra_headers\u001b[49m\u001b[38;5;241;43m=\u001b[39;49m\u001b[43mextra_headers\u001b[49m\u001b[43m,\u001b[49m\u001b[43m \u001b[49m\u001b[43mextra_query\u001b[49m\u001b[38;5;241;43m=\u001b[39;49m\u001b[43mextra_query\u001b[49m\u001b[43m,\u001b[49m\u001b[43m \u001b[49m\u001b[43mextra_body\u001b[49m\u001b[38;5;241;43m=\u001b[39;49m\u001b[43mextra_body\u001b[49m\u001b[43m,\u001b[49m\u001b[43m \u001b[49m\u001b[43mtimeout\u001b[49m\u001b[38;5;241;43m=\u001b[39;49m\u001b[43mtimeout\u001b[49m\n\u001b[1;32m    620\u001b[0m \u001b[43m        \u001b[49m\u001b[43m)\u001b[49m\u001b[43m,\u001b[49m\n\u001b[1;32m    621\u001b[0m \u001b[43m        \u001b[49m\u001b[43mcast_to\u001b[49m\u001b[38;5;241;43m=\u001b[39;49m\u001b[43mChatCompletion\u001b[49m\u001b[43m,\u001b[49m\n\u001b[1;32m    622\u001b[0m \u001b[43m        \u001b[49m\u001b[43mstream\u001b[49m\u001b[38;5;241;43m=\u001b[39;49m\u001b[43mstream\u001b[49m\u001b[43m \u001b[49m\u001b[38;5;129;43;01mor\u001b[39;49;00m\u001b[43m \u001b[49m\u001b[38;5;28;43;01mFalse\u001b[39;49;00m\u001b[43m,\u001b[49m\n\u001b[1;32m    623\u001b[0m \u001b[43m        \u001b[49m\u001b[43mstream_cls\u001b[49m\u001b[38;5;241;43m=\u001b[39;49m\u001b[43mStream\u001b[49m\u001b[43m[\u001b[49m\u001b[43mChatCompletionChunk\u001b[49m\u001b[43m]\u001b[49m\u001b[43m,\u001b[49m\n\u001b[1;32m    624\u001b[0m \u001b[43m    \u001b[49m\u001b[43m)\u001b[49m\n",
      "File \u001b[0;32m~/Desktop/DreamBooth/llm-training/venv/lib/python3.12/site-packages/openai/_base_client.py:1240\u001b[0m, in \u001b[0;36mSyncAPIClient.post\u001b[0;34m(self, path, cast_to, body, options, files, stream, stream_cls)\u001b[0m\n\u001b[1;32m   1226\u001b[0m \u001b[38;5;28;01mdef\u001b[39;00m \u001b[38;5;21mpost\u001b[39m(\n\u001b[1;32m   1227\u001b[0m     \u001b[38;5;28mself\u001b[39m,\n\u001b[1;32m   1228\u001b[0m     path: \u001b[38;5;28mstr\u001b[39m,\n\u001b[0;32m   (...)\u001b[0m\n\u001b[1;32m   1235\u001b[0m     stream_cls: \u001b[38;5;28mtype\u001b[39m[_StreamT] \u001b[38;5;241m|\u001b[39m \u001b[38;5;28;01mNone\u001b[39;00m \u001b[38;5;241m=\u001b[39m \u001b[38;5;28;01mNone\u001b[39;00m,\n\u001b[1;32m   1236\u001b[0m ) \u001b[38;5;241m-\u001b[39m\u001b[38;5;241m>\u001b[39m ResponseT \u001b[38;5;241m|\u001b[39m _StreamT:\n\u001b[1;32m   1237\u001b[0m     opts \u001b[38;5;241m=\u001b[39m FinalRequestOptions\u001b[38;5;241m.\u001b[39mconstruct(\n\u001b[1;32m   1238\u001b[0m         method\u001b[38;5;241m=\u001b[39m\u001b[38;5;124m\"\u001b[39m\u001b[38;5;124mpost\u001b[39m\u001b[38;5;124m\"\u001b[39m, url\u001b[38;5;241m=\u001b[39mpath, json_data\u001b[38;5;241m=\u001b[39mbody, files\u001b[38;5;241m=\u001b[39mto_httpx_files(files), \u001b[38;5;241m*\u001b[39m\u001b[38;5;241m*\u001b[39moptions\n\u001b[1;32m   1239\u001b[0m     )\n\u001b[0;32m-> 1240\u001b[0m     \u001b[38;5;28;01mreturn\u001b[39;00m cast(ResponseT, \u001b[38;5;28;43mself\u001b[39;49m\u001b[38;5;241;43m.\u001b[39;49m\u001b[43mrequest\u001b[49m\u001b[43m(\u001b[49m\u001b[43mcast_to\u001b[49m\u001b[43m,\u001b[49m\u001b[43m \u001b[49m\u001b[43mopts\u001b[49m\u001b[43m,\u001b[49m\u001b[43m \u001b[49m\u001b[43mstream\u001b[49m\u001b[38;5;241;43m=\u001b[39;49m\u001b[43mstream\u001b[49m\u001b[43m,\u001b[49m\u001b[43m \u001b[49m\u001b[43mstream_cls\u001b[49m\u001b[38;5;241;43m=\u001b[39;49m\u001b[43mstream_cls\u001b[49m\u001b[43m)\u001b[49m)\n",
      "File \u001b[0;32m~/Desktop/DreamBooth/llm-training/venv/lib/python3.12/site-packages/openai/_base_client.py:921\u001b[0m, in \u001b[0;36mSyncAPIClient.request\u001b[0;34m(self, cast_to, options, remaining_retries, stream, stream_cls)\u001b[0m\n\u001b[1;32m    912\u001b[0m \u001b[38;5;28;01mdef\u001b[39;00m \u001b[38;5;21mrequest\u001b[39m(\n\u001b[1;32m    913\u001b[0m     \u001b[38;5;28mself\u001b[39m,\n\u001b[1;32m    914\u001b[0m     cast_to: Type[ResponseT],\n\u001b[0;32m   (...)\u001b[0m\n\u001b[1;32m    919\u001b[0m     stream_cls: \u001b[38;5;28mtype\u001b[39m[_StreamT] \u001b[38;5;241m|\u001b[39m \u001b[38;5;28;01mNone\u001b[39;00m \u001b[38;5;241m=\u001b[39m \u001b[38;5;28;01mNone\u001b[39;00m,\n\u001b[1;32m    920\u001b[0m ) \u001b[38;5;241m-\u001b[39m\u001b[38;5;241m>\u001b[39m ResponseT \u001b[38;5;241m|\u001b[39m _StreamT:\n\u001b[0;32m--> 921\u001b[0m     \u001b[38;5;28;01mreturn\u001b[39;00m \u001b[38;5;28;43mself\u001b[39;49m\u001b[38;5;241;43m.\u001b[39;49m\u001b[43m_request\u001b[49m\u001b[43m(\u001b[49m\n\u001b[1;32m    922\u001b[0m \u001b[43m        \u001b[49m\u001b[43mcast_to\u001b[49m\u001b[38;5;241;43m=\u001b[39;49m\u001b[43mcast_to\u001b[49m\u001b[43m,\u001b[49m\n\u001b[1;32m    923\u001b[0m \u001b[43m        \u001b[49m\u001b[43moptions\u001b[49m\u001b[38;5;241;43m=\u001b[39;49m\u001b[43moptions\u001b[49m\u001b[43m,\u001b[49m\n\u001b[1;32m    924\u001b[0m \u001b[43m        \u001b[49m\u001b[43mstream\u001b[49m\u001b[38;5;241;43m=\u001b[39;49m\u001b[43mstream\u001b[49m\u001b[43m,\u001b[49m\n\u001b[1;32m    925\u001b[0m \u001b[43m        \u001b[49m\u001b[43mstream_cls\u001b[49m\u001b[38;5;241;43m=\u001b[39;49m\u001b[43mstream_cls\u001b[49m\u001b[43m,\u001b[49m\n\u001b[1;32m    926\u001b[0m \u001b[43m        \u001b[49m\u001b[43mremaining_retries\u001b[49m\u001b[38;5;241;43m=\u001b[39;49m\u001b[43mremaining_retries\u001b[49m\u001b[43m,\u001b[49m\n\u001b[1;32m    927\u001b[0m \u001b[43m    \u001b[49m\u001b[43m)\u001b[49m\n",
      "File \u001b[0;32m~/Desktop/DreamBooth/llm-training/venv/lib/python3.12/site-packages/openai/_base_client.py:952\u001b[0m, in \u001b[0;36mSyncAPIClient._request\u001b[0;34m(self, cast_to, options, remaining_retries, stream, stream_cls)\u001b[0m\n\u001b[1;32m    949\u001b[0m log\u001b[38;5;241m.\u001b[39mdebug(\u001b[38;5;124m\"\u001b[39m\u001b[38;5;124mSending HTTP Request: \u001b[39m\u001b[38;5;132;01m%s\u001b[39;00m\u001b[38;5;124m \u001b[39m\u001b[38;5;132;01m%s\u001b[39;00m\u001b[38;5;124m\"\u001b[39m, request\u001b[38;5;241m.\u001b[39mmethod, request\u001b[38;5;241m.\u001b[39murl)\n\u001b[1;32m    951\u001b[0m \u001b[38;5;28;01mtry\u001b[39;00m:\n\u001b[0;32m--> 952\u001b[0m     response \u001b[38;5;241m=\u001b[39m \u001b[38;5;28;43mself\u001b[39;49m\u001b[38;5;241;43m.\u001b[39;49m\u001b[43m_client\u001b[49m\u001b[38;5;241;43m.\u001b[39;49m\u001b[43msend\u001b[49m\u001b[43m(\u001b[49m\n\u001b[1;32m    953\u001b[0m \u001b[43m        \u001b[49m\u001b[43mrequest\u001b[49m\u001b[43m,\u001b[49m\n\u001b[1;32m    954\u001b[0m \u001b[43m        \u001b[49m\u001b[43mstream\u001b[49m\u001b[38;5;241;43m=\u001b[39;49m\u001b[43mstream\u001b[49m\u001b[43m \u001b[49m\u001b[38;5;129;43;01mor\u001b[39;49;00m\u001b[43m \u001b[49m\u001b[38;5;28;43mself\u001b[39;49m\u001b[38;5;241;43m.\u001b[39;49m\u001b[43m_should_stream_response_body\u001b[49m\u001b[43m(\u001b[49m\u001b[43mrequest\u001b[49m\u001b[38;5;241;43m=\u001b[39;49m\u001b[43mrequest\u001b[49m\u001b[43m)\u001b[49m\u001b[43m,\u001b[49m\n\u001b[1;32m    955\u001b[0m \u001b[43m        \u001b[49m\u001b[38;5;241;43m*\u001b[39;49m\u001b[38;5;241;43m*\u001b[39;49m\u001b[43mkwargs\u001b[49m\u001b[43m,\u001b[49m\n\u001b[1;32m    956\u001b[0m \u001b[43m    \u001b[49m\u001b[43m)\u001b[49m\n\u001b[1;32m    957\u001b[0m \u001b[38;5;28;01mexcept\u001b[39;00m httpx\u001b[38;5;241m.\u001b[39mTimeoutException \u001b[38;5;28;01mas\u001b[39;00m err:\n\u001b[1;32m    958\u001b[0m     log\u001b[38;5;241m.\u001b[39mdebug(\u001b[38;5;124m\"\u001b[39m\u001b[38;5;124mEncountered httpx.TimeoutException\u001b[39m\u001b[38;5;124m\"\u001b[39m, exc_info\u001b[38;5;241m=\u001b[39m\u001b[38;5;28;01mTrue\u001b[39;00m)\n",
      "File \u001b[0;32m~/Desktop/DreamBooth/llm-training/venv/lib/python3.12/site-packages/httpx/_client.py:914\u001b[0m, in \u001b[0;36mClient.send\u001b[0;34m(self, request, stream, auth, follow_redirects)\u001b[0m\n\u001b[1;32m    906\u001b[0m follow_redirects \u001b[38;5;241m=\u001b[39m (\n\u001b[1;32m    907\u001b[0m     \u001b[38;5;28mself\u001b[39m\u001b[38;5;241m.\u001b[39mfollow_redirects\n\u001b[1;32m    908\u001b[0m     \u001b[38;5;28;01mif\u001b[39;00m \u001b[38;5;28misinstance\u001b[39m(follow_redirects, UseClientDefault)\n\u001b[1;32m    909\u001b[0m     \u001b[38;5;28;01melse\u001b[39;00m follow_redirects\n\u001b[1;32m    910\u001b[0m )\n\u001b[1;32m    912\u001b[0m auth \u001b[38;5;241m=\u001b[39m \u001b[38;5;28mself\u001b[39m\u001b[38;5;241m.\u001b[39m_build_request_auth(request, auth)\n\u001b[0;32m--> 914\u001b[0m response \u001b[38;5;241m=\u001b[39m \u001b[38;5;28;43mself\u001b[39;49m\u001b[38;5;241;43m.\u001b[39;49m\u001b[43m_send_handling_auth\u001b[49m\u001b[43m(\u001b[49m\n\u001b[1;32m    915\u001b[0m \u001b[43m    \u001b[49m\u001b[43mrequest\u001b[49m\u001b[43m,\u001b[49m\n\u001b[1;32m    916\u001b[0m \u001b[43m    \u001b[49m\u001b[43mauth\u001b[49m\u001b[38;5;241;43m=\u001b[39;49m\u001b[43mauth\u001b[49m\u001b[43m,\u001b[49m\n\u001b[1;32m    917\u001b[0m \u001b[43m    \u001b[49m\u001b[43mfollow_redirects\u001b[49m\u001b[38;5;241;43m=\u001b[39;49m\u001b[43mfollow_redirects\u001b[49m\u001b[43m,\u001b[49m\n\u001b[1;32m    918\u001b[0m \u001b[43m    \u001b[49m\u001b[43mhistory\u001b[49m\u001b[38;5;241;43m=\u001b[39;49m\u001b[43m[\u001b[49m\u001b[43m]\u001b[49m\u001b[43m,\u001b[49m\n\u001b[1;32m    919\u001b[0m \u001b[43m\u001b[49m\u001b[43m)\u001b[49m\n\u001b[1;32m    920\u001b[0m \u001b[38;5;28;01mtry\u001b[39;00m:\n\u001b[1;32m    921\u001b[0m     \u001b[38;5;28;01mif\u001b[39;00m \u001b[38;5;129;01mnot\u001b[39;00m stream:\n",
      "File \u001b[0;32m~/Desktop/DreamBooth/llm-training/venv/lib/python3.12/site-packages/httpx/_client.py:942\u001b[0m, in \u001b[0;36mClient._send_handling_auth\u001b[0;34m(self, request, auth, follow_redirects, history)\u001b[0m\n\u001b[1;32m    939\u001b[0m request \u001b[38;5;241m=\u001b[39m \u001b[38;5;28mnext\u001b[39m(auth_flow)\n\u001b[1;32m    941\u001b[0m \u001b[38;5;28;01mwhile\u001b[39;00m \u001b[38;5;28;01mTrue\u001b[39;00m:\n\u001b[0;32m--> 942\u001b[0m     response \u001b[38;5;241m=\u001b[39m \u001b[38;5;28;43mself\u001b[39;49m\u001b[38;5;241;43m.\u001b[39;49m\u001b[43m_send_handling_redirects\u001b[49m\u001b[43m(\u001b[49m\n\u001b[1;32m    943\u001b[0m \u001b[43m        \u001b[49m\u001b[43mrequest\u001b[49m\u001b[43m,\u001b[49m\n\u001b[1;32m    944\u001b[0m \u001b[43m        \u001b[49m\u001b[43mfollow_redirects\u001b[49m\u001b[38;5;241;43m=\u001b[39;49m\u001b[43mfollow_redirects\u001b[49m\u001b[43m,\u001b[49m\n\u001b[1;32m    945\u001b[0m \u001b[43m        \u001b[49m\u001b[43mhistory\u001b[49m\u001b[38;5;241;43m=\u001b[39;49m\u001b[43mhistory\u001b[49m\u001b[43m,\u001b[49m\n\u001b[1;32m    946\u001b[0m \u001b[43m    \u001b[49m\u001b[43m)\u001b[49m\n\u001b[1;32m    947\u001b[0m     \u001b[38;5;28;01mtry\u001b[39;00m:\n\u001b[1;32m    948\u001b[0m         \u001b[38;5;28;01mtry\u001b[39;00m:\n",
      "File \u001b[0;32m~/Desktop/DreamBooth/llm-training/venv/lib/python3.12/site-packages/httpx/_client.py:979\u001b[0m, in \u001b[0;36mClient._send_handling_redirects\u001b[0;34m(self, request, follow_redirects, history)\u001b[0m\n\u001b[1;32m    976\u001b[0m \u001b[38;5;28;01mfor\u001b[39;00m hook \u001b[38;5;129;01min\u001b[39;00m \u001b[38;5;28mself\u001b[39m\u001b[38;5;241m.\u001b[39m_event_hooks[\u001b[38;5;124m\"\u001b[39m\u001b[38;5;124mrequest\u001b[39m\u001b[38;5;124m\"\u001b[39m]:\n\u001b[1;32m    977\u001b[0m     hook(request)\n\u001b[0;32m--> 979\u001b[0m response \u001b[38;5;241m=\u001b[39m \u001b[38;5;28;43mself\u001b[39;49m\u001b[38;5;241;43m.\u001b[39;49m\u001b[43m_send_single_request\u001b[49m\u001b[43m(\u001b[49m\u001b[43mrequest\u001b[49m\u001b[43m)\u001b[49m\n\u001b[1;32m    980\u001b[0m \u001b[38;5;28;01mtry\u001b[39;00m:\n\u001b[1;32m    981\u001b[0m     \u001b[38;5;28;01mfor\u001b[39;00m hook \u001b[38;5;129;01min\u001b[39;00m \u001b[38;5;28mself\u001b[39m\u001b[38;5;241m.\u001b[39m_event_hooks[\u001b[38;5;124m\"\u001b[39m\u001b[38;5;124mresponse\u001b[39m\u001b[38;5;124m\"\u001b[39m]:\n",
      "File \u001b[0;32m~/Desktop/DreamBooth/llm-training/venv/lib/python3.12/site-packages/httpx/_client.py:1015\u001b[0m, in \u001b[0;36mClient._send_single_request\u001b[0;34m(self, request)\u001b[0m\n\u001b[1;32m   1010\u001b[0m     \u001b[38;5;28;01mraise\u001b[39;00m \u001b[38;5;167;01mRuntimeError\u001b[39;00m(\n\u001b[1;32m   1011\u001b[0m         \u001b[38;5;124m\"\u001b[39m\u001b[38;5;124mAttempted to send an async request with a sync Client instance.\u001b[39m\u001b[38;5;124m\"\u001b[39m\n\u001b[1;32m   1012\u001b[0m     )\n\u001b[1;32m   1014\u001b[0m \u001b[38;5;28;01mwith\u001b[39;00m request_context(request\u001b[38;5;241m=\u001b[39mrequest):\n\u001b[0;32m-> 1015\u001b[0m     response \u001b[38;5;241m=\u001b[39m \u001b[43mtransport\u001b[49m\u001b[38;5;241;43m.\u001b[39;49m\u001b[43mhandle_request\u001b[49m\u001b[43m(\u001b[49m\u001b[43mrequest\u001b[49m\u001b[43m)\u001b[49m\n\u001b[1;32m   1017\u001b[0m \u001b[38;5;28;01massert\u001b[39;00m \u001b[38;5;28misinstance\u001b[39m(response\u001b[38;5;241m.\u001b[39mstream, SyncByteStream)\n\u001b[1;32m   1019\u001b[0m response\u001b[38;5;241m.\u001b[39mrequest \u001b[38;5;241m=\u001b[39m request\n",
      "File \u001b[0;32m~/Desktop/DreamBooth/llm-training/venv/lib/python3.12/site-packages/httpx/_transports/default.py:233\u001b[0m, in \u001b[0;36mHTTPTransport.handle_request\u001b[0;34m(self, request)\u001b[0m\n\u001b[1;32m    220\u001b[0m req \u001b[38;5;241m=\u001b[39m httpcore\u001b[38;5;241m.\u001b[39mRequest(\n\u001b[1;32m    221\u001b[0m     method\u001b[38;5;241m=\u001b[39mrequest\u001b[38;5;241m.\u001b[39mmethod,\n\u001b[1;32m    222\u001b[0m     url\u001b[38;5;241m=\u001b[39mhttpcore\u001b[38;5;241m.\u001b[39mURL(\n\u001b[0;32m   (...)\u001b[0m\n\u001b[1;32m    230\u001b[0m     extensions\u001b[38;5;241m=\u001b[39mrequest\u001b[38;5;241m.\u001b[39mextensions,\n\u001b[1;32m    231\u001b[0m )\n\u001b[1;32m    232\u001b[0m \u001b[38;5;28;01mwith\u001b[39;00m map_httpcore_exceptions():\n\u001b[0;32m--> 233\u001b[0m     resp \u001b[38;5;241m=\u001b[39m \u001b[38;5;28;43mself\u001b[39;49m\u001b[38;5;241;43m.\u001b[39;49m\u001b[43m_pool\u001b[49m\u001b[38;5;241;43m.\u001b[39;49m\u001b[43mhandle_request\u001b[49m\u001b[43m(\u001b[49m\u001b[43mreq\u001b[49m\u001b[43m)\u001b[49m\n\u001b[1;32m    235\u001b[0m \u001b[38;5;28;01massert\u001b[39;00m \u001b[38;5;28misinstance\u001b[39m(resp\u001b[38;5;241m.\u001b[39mstream, typing\u001b[38;5;241m.\u001b[39mIterable)\n\u001b[1;32m    237\u001b[0m \u001b[38;5;28;01mreturn\u001b[39;00m Response(\n\u001b[1;32m    238\u001b[0m     status_code\u001b[38;5;241m=\u001b[39mresp\u001b[38;5;241m.\u001b[39mstatus,\n\u001b[1;32m    239\u001b[0m     headers\u001b[38;5;241m=\u001b[39mresp\u001b[38;5;241m.\u001b[39mheaders,\n\u001b[1;32m    240\u001b[0m     stream\u001b[38;5;241m=\u001b[39mResponseStream(resp\u001b[38;5;241m.\u001b[39mstream),\n\u001b[1;32m    241\u001b[0m     extensions\u001b[38;5;241m=\u001b[39mresp\u001b[38;5;241m.\u001b[39mextensions,\n\u001b[1;32m    242\u001b[0m )\n",
      "File \u001b[0;32m~/Desktop/DreamBooth/llm-training/venv/lib/python3.12/site-packages/httpcore/_sync/connection_pool.py:216\u001b[0m, in \u001b[0;36mConnectionPool.handle_request\u001b[0;34m(self, request)\u001b[0m\n\u001b[1;32m    213\u001b[0m         closing \u001b[38;5;241m=\u001b[39m \u001b[38;5;28mself\u001b[39m\u001b[38;5;241m.\u001b[39m_assign_requests_to_connections()\n\u001b[1;32m    215\u001b[0m     \u001b[38;5;28mself\u001b[39m\u001b[38;5;241m.\u001b[39m_close_connections(closing)\n\u001b[0;32m--> 216\u001b[0m     \u001b[38;5;28;01mraise\u001b[39;00m exc \u001b[38;5;28;01mfrom\u001b[39;00m \u001b[38;5;28;01mNone\u001b[39;00m\n\u001b[1;32m    218\u001b[0m \u001b[38;5;66;03m# Return the response. Note that in this case we still have to manage\u001b[39;00m\n\u001b[1;32m    219\u001b[0m \u001b[38;5;66;03m# the point at which the response is closed.\u001b[39;00m\n\u001b[1;32m    220\u001b[0m \u001b[38;5;28;01massert\u001b[39;00m \u001b[38;5;28misinstance\u001b[39m(response\u001b[38;5;241m.\u001b[39mstream, Iterable)\n",
      "File \u001b[0;32m~/Desktop/DreamBooth/llm-training/venv/lib/python3.12/site-packages/httpcore/_sync/connection_pool.py:196\u001b[0m, in \u001b[0;36mConnectionPool.handle_request\u001b[0;34m(self, request)\u001b[0m\n\u001b[1;32m    192\u001b[0m connection \u001b[38;5;241m=\u001b[39m pool_request\u001b[38;5;241m.\u001b[39mwait_for_connection(timeout\u001b[38;5;241m=\u001b[39mtimeout)\n\u001b[1;32m    194\u001b[0m \u001b[38;5;28;01mtry\u001b[39;00m:\n\u001b[1;32m    195\u001b[0m     \u001b[38;5;66;03m# Send the request on the assigned connection.\u001b[39;00m\n\u001b[0;32m--> 196\u001b[0m     response \u001b[38;5;241m=\u001b[39m \u001b[43mconnection\u001b[49m\u001b[38;5;241;43m.\u001b[39;49m\u001b[43mhandle_request\u001b[49m\u001b[43m(\u001b[49m\n\u001b[1;32m    197\u001b[0m \u001b[43m        \u001b[49m\u001b[43mpool_request\u001b[49m\u001b[38;5;241;43m.\u001b[39;49m\u001b[43mrequest\u001b[49m\n\u001b[1;32m    198\u001b[0m \u001b[43m    \u001b[49m\u001b[43m)\u001b[49m\n\u001b[1;32m    199\u001b[0m \u001b[38;5;28;01mexcept\u001b[39;00m ConnectionNotAvailable:\n\u001b[1;32m    200\u001b[0m     \u001b[38;5;66;03m# In some cases a connection may initially be available to\u001b[39;00m\n\u001b[1;32m    201\u001b[0m     \u001b[38;5;66;03m# handle a request, but then become unavailable.\u001b[39;00m\n\u001b[1;32m    202\u001b[0m     \u001b[38;5;66;03m#\u001b[39;00m\n\u001b[1;32m    203\u001b[0m     \u001b[38;5;66;03m# In this case we clear the connection and try again.\u001b[39;00m\n\u001b[1;32m    204\u001b[0m     pool_request\u001b[38;5;241m.\u001b[39mclear_connection()\n",
      "File \u001b[0;32m~/Desktop/DreamBooth/llm-training/venv/lib/python3.12/site-packages/httpcore/_sync/connection.py:101\u001b[0m, in \u001b[0;36mHTTPConnection.handle_request\u001b[0;34m(self, request)\u001b[0m\n\u001b[1;32m     98\u001b[0m     \u001b[38;5;28mself\u001b[39m\u001b[38;5;241m.\u001b[39m_connect_failed \u001b[38;5;241m=\u001b[39m \u001b[38;5;28;01mTrue\u001b[39;00m\n\u001b[1;32m     99\u001b[0m     \u001b[38;5;28;01mraise\u001b[39;00m exc\n\u001b[0;32m--> 101\u001b[0m \u001b[38;5;28;01mreturn\u001b[39;00m \u001b[38;5;28;43mself\u001b[39;49m\u001b[38;5;241;43m.\u001b[39;49m\u001b[43m_connection\u001b[49m\u001b[38;5;241;43m.\u001b[39;49m\u001b[43mhandle_request\u001b[49m\u001b[43m(\u001b[49m\u001b[43mrequest\u001b[49m\u001b[43m)\u001b[49m\n",
      "File \u001b[0;32m~/Desktop/DreamBooth/llm-training/venv/lib/python3.12/site-packages/httpcore/_sync/http11.py:143\u001b[0m, in \u001b[0;36mHTTP11Connection.handle_request\u001b[0;34m(self, request)\u001b[0m\n\u001b[1;32m    141\u001b[0m     \u001b[38;5;28;01mwith\u001b[39;00m Trace(\u001b[38;5;124m\"\u001b[39m\u001b[38;5;124mresponse_closed\u001b[39m\u001b[38;5;124m\"\u001b[39m, logger, request) \u001b[38;5;28;01mas\u001b[39;00m trace:\n\u001b[1;32m    142\u001b[0m         \u001b[38;5;28mself\u001b[39m\u001b[38;5;241m.\u001b[39m_response_closed()\n\u001b[0;32m--> 143\u001b[0m \u001b[38;5;28;01mraise\u001b[39;00m exc\n",
      "File \u001b[0;32m~/Desktop/DreamBooth/llm-training/venv/lib/python3.12/site-packages/httpcore/_sync/http11.py:113\u001b[0m, in \u001b[0;36mHTTP11Connection.handle_request\u001b[0;34m(self, request)\u001b[0m\n\u001b[1;32m    102\u001b[0m     \u001b[38;5;28;01mpass\u001b[39;00m\n\u001b[1;32m    104\u001b[0m \u001b[38;5;28;01mwith\u001b[39;00m Trace(\n\u001b[1;32m    105\u001b[0m     \u001b[38;5;124m\"\u001b[39m\u001b[38;5;124mreceive_response_headers\u001b[39m\u001b[38;5;124m\"\u001b[39m, logger, request, kwargs\n\u001b[1;32m    106\u001b[0m ) \u001b[38;5;28;01mas\u001b[39;00m trace:\n\u001b[1;32m    107\u001b[0m     (\n\u001b[1;32m    108\u001b[0m         http_version,\n\u001b[1;32m    109\u001b[0m         status,\n\u001b[1;32m    110\u001b[0m         reason_phrase,\n\u001b[1;32m    111\u001b[0m         headers,\n\u001b[1;32m    112\u001b[0m         trailing_data,\n\u001b[0;32m--> 113\u001b[0m     ) \u001b[38;5;241m=\u001b[39m \u001b[38;5;28;43mself\u001b[39;49m\u001b[38;5;241;43m.\u001b[39;49m\u001b[43m_receive_response_headers\u001b[49m\u001b[43m(\u001b[49m\u001b[38;5;241;43m*\u001b[39;49m\u001b[38;5;241;43m*\u001b[39;49m\u001b[43mkwargs\u001b[49m\u001b[43m)\u001b[49m\n\u001b[1;32m    114\u001b[0m     trace\u001b[38;5;241m.\u001b[39mreturn_value \u001b[38;5;241m=\u001b[39m (\n\u001b[1;32m    115\u001b[0m         http_version,\n\u001b[1;32m    116\u001b[0m         status,\n\u001b[1;32m    117\u001b[0m         reason_phrase,\n\u001b[1;32m    118\u001b[0m         headers,\n\u001b[1;32m    119\u001b[0m     )\n\u001b[1;32m    121\u001b[0m network_stream \u001b[38;5;241m=\u001b[39m \u001b[38;5;28mself\u001b[39m\u001b[38;5;241m.\u001b[39m_network_stream\n",
      "File \u001b[0;32m~/Desktop/DreamBooth/llm-training/venv/lib/python3.12/site-packages/httpcore/_sync/http11.py:186\u001b[0m, in \u001b[0;36mHTTP11Connection._receive_response_headers\u001b[0;34m(self, request)\u001b[0m\n\u001b[1;32m    183\u001b[0m timeout \u001b[38;5;241m=\u001b[39m timeouts\u001b[38;5;241m.\u001b[39mget(\u001b[38;5;124m\"\u001b[39m\u001b[38;5;124mread\u001b[39m\u001b[38;5;124m\"\u001b[39m, \u001b[38;5;28;01mNone\u001b[39;00m)\n\u001b[1;32m    185\u001b[0m \u001b[38;5;28;01mwhile\u001b[39;00m \u001b[38;5;28;01mTrue\u001b[39;00m:\n\u001b[0;32m--> 186\u001b[0m     event \u001b[38;5;241m=\u001b[39m \u001b[38;5;28;43mself\u001b[39;49m\u001b[38;5;241;43m.\u001b[39;49m\u001b[43m_receive_event\u001b[49m\u001b[43m(\u001b[49m\u001b[43mtimeout\u001b[49m\u001b[38;5;241;43m=\u001b[39;49m\u001b[43mtimeout\u001b[49m\u001b[43m)\u001b[49m\n\u001b[1;32m    187\u001b[0m     \u001b[38;5;28;01mif\u001b[39;00m \u001b[38;5;28misinstance\u001b[39m(event, h11\u001b[38;5;241m.\u001b[39mResponse):\n\u001b[1;32m    188\u001b[0m         \u001b[38;5;28;01mbreak\u001b[39;00m\n",
      "File \u001b[0;32m~/Desktop/DreamBooth/llm-training/venv/lib/python3.12/site-packages/httpcore/_sync/http11.py:224\u001b[0m, in \u001b[0;36mHTTP11Connection._receive_event\u001b[0;34m(self, timeout)\u001b[0m\n\u001b[1;32m    221\u001b[0m     event \u001b[38;5;241m=\u001b[39m \u001b[38;5;28mself\u001b[39m\u001b[38;5;241m.\u001b[39m_h11_state\u001b[38;5;241m.\u001b[39mnext_event()\n\u001b[1;32m    223\u001b[0m \u001b[38;5;28;01mif\u001b[39;00m event \u001b[38;5;129;01mis\u001b[39;00m h11\u001b[38;5;241m.\u001b[39mNEED_DATA:\n\u001b[0;32m--> 224\u001b[0m     data \u001b[38;5;241m=\u001b[39m \u001b[38;5;28;43mself\u001b[39;49m\u001b[38;5;241;43m.\u001b[39;49m\u001b[43m_network_stream\u001b[49m\u001b[38;5;241;43m.\u001b[39;49m\u001b[43mread\u001b[49m\u001b[43m(\u001b[49m\n\u001b[1;32m    225\u001b[0m \u001b[43m        \u001b[49m\u001b[38;5;28;43mself\u001b[39;49m\u001b[38;5;241;43m.\u001b[39;49m\u001b[43mREAD_NUM_BYTES\u001b[49m\u001b[43m,\u001b[49m\u001b[43m \u001b[49m\u001b[43mtimeout\u001b[49m\u001b[38;5;241;43m=\u001b[39;49m\u001b[43mtimeout\u001b[49m\n\u001b[1;32m    226\u001b[0m \u001b[43m    \u001b[49m\u001b[43m)\u001b[49m\n\u001b[1;32m    228\u001b[0m     \u001b[38;5;66;03m# If we feed this case through h11 we'll raise an exception like:\u001b[39;00m\n\u001b[1;32m    229\u001b[0m     \u001b[38;5;66;03m#\u001b[39;00m\n\u001b[1;32m    230\u001b[0m     \u001b[38;5;66;03m#     httpcore.RemoteProtocolError: can't handle event type\u001b[39;00m\n\u001b[0;32m   (...)\u001b[0m\n\u001b[1;32m    234\u001b[0m     \u001b[38;5;66;03m# perspective. Instead we handle this case distinctly and treat\u001b[39;00m\n\u001b[1;32m    235\u001b[0m     \u001b[38;5;66;03m# it as a ConnectError.\u001b[39;00m\n\u001b[1;32m    236\u001b[0m     \u001b[38;5;28;01mif\u001b[39;00m data \u001b[38;5;241m==\u001b[39m \u001b[38;5;124mb\u001b[39m\u001b[38;5;124m\"\u001b[39m\u001b[38;5;124m\"\u001b[39m \u001b[38;5;129;01mand\u001b[39;00m \u001b[38;5;28mself\u001b[39m\u001b[38;5;241m.\u001b[39m_h11_state\u001b[38;5;241m.\u001b[39mtheir_state \u001b[38;5;241m==\u001b[39m h11\u001b[38;5;241m.\u001b[39mSEND_RESPONSE:\n",
      "File \u001b[0;32m~/Desktop/DreamBooth/llm-training/venv/lib/python3.12/site-packages/httpcore/_backends/sync.py:126\u001b[0m, in \u001b[0;36mSyncStream.read\u001b[0;34m(self, max_bytes, timeout)\u001b[0m\n\u001b[1;32m    124\u001b[0m \u001b[38;5;28;01mwith\u001b[39;00m map_exceptions(exc_map):\n\u001b[1;32m    125\u001b[0m     \u001b[38;5;28mself\u001b[39m\u001b[38;5;241m.\u001b[39m_sock\u001b[38;5;241m.\u001b[39msettimeout(timeout)\n\u001b[0;32m--> 126\u001b[0m     \u001b[38;5;28;01mreturn\u001b[39;00m \u001b[38;5;28;43mself\u001b[39;49m\u001b[38;5;241;43m.\u001b[39;49m\u001b[43m_sock\u001b[49m\u001b[38;5;241;43m.\u001b[39;49m\u001b[43mrecv\u001b[49m\u001b[43m(\u001b[49m\u001b[43mmax_bytes\u001b[49m\u001b[43m)\u001b[49m\n",
      "File \u001b[0;32m/opt/homebrew/Cellar/python@3.12/3.12.3/Frameworks/Python.framework/Versions/3.12/lib/python3.12/ssl.py:1233\u001b[0m, in \u001b[0;36mSSLSocket.recv\u001b[0;34m(self, buflen, flags)\u001b[0m\n\u001b[1;32m   1229\u001b[0m     \u001b[38;5;28;01mif\u001b[39;00m flags \u001b[38;5;241m!=\u001b[39m \u001b[38;5;241m0\u001b[39m:\n\u001b[1;32m   1230\u001b[0m         \u001b[38;5;28;01mraise\u001b[39;00m \u001b[38;5;167;01mValueError\u001b[39;00m(\n\u001b[1;32m   1231\u001b[0m             \u001b[38;5;124m\"\u001b[39m\u001b[38;5;124mnon-zero flags not allowed in calls to recv() on \u001b[39m\u001b[38;5;132;01m%s\u001b[39;00m\u001b[38;5;124m\"\u001b[39m \u001b[38;5;241m%\u001b[39m\n\u001b[1;32m   1232\u001b[0m             \u001b[38;5;28mself\u001b[39m\u001b[38;5;241m.\u001b[39m\u001b[38;5;18m__class__\u001b[39m)\n\u001b[0;32m-> 1233\u001b[0m     \u001b[38;5;28;01mreturn\u001b[39;00m \u001b[38;5;28;43mself\u001b[39;49m\u001b[38;5;241;43m.\u001b[39;49m\u001b[43mread\u001b[49m\u001b[43m(\u001b[49m\u001b[43mbuflen\u001b[49m\u001b[43m)\u001b[49m\n\u001b[1;32m   1234\u001b[0m \u001b[38;5;28;01melse\u001b[39;00m:\n\u001b[1;32m   1235\u001b[0m     \u001b[38;5;28;01mreturn\u001b[39;00m \u001b[38;5;28msuper\u001b[39m()\u001b[38;5;241m.\u001b[39mrecv(buflen, flags)\n",
      "File \u001b[0;32m/opt/homebrew/Cellar/python@3.12/3.12.3/Frameworks/Python.framework/Versions/3.12/lib/python3.12/ssl.py:1106\u001b[0m, in \u001b[0;36mSSLSocket.read\u001b[0;34m(self, len, buffer)\u001b[0m\n\u001b[1;32m   1104\u001b[0m         \u001b[38;5;28;01mreturn\u001b[39;00m \u001b[38;5;28mself\u001b[39m\u001b[38;5;241m.\u001b[39m_sslobj\u001b[38;5;241m.\u001b[39mread(\u001b[38;5;28mlen\u001b[39m, buffer)\n\u001b[1;32m   1105\u001b[0m     \u001b[38;5;28;01melse\u001b[39;00m:\n\u001b[0;32m-> 1106\u001b[0m         \u001b[38;5;28;01mreturn\u001b[39;00m \u001b[38;5;28;43mself\u001b[39;49m\u001b[38;5;241;43m.\u001b[39;49m\u001b[43m_sslobj\u001b[49m\u001b[38;5;241;43m.\u001b[39;49m\u001b[43mread\u001b[49m\u001b[43m(\u001b[49m\u001b[38;5;28;43mlen\u001b[39;49m\u001b[43m)\u001b[49m\n\u001b[1;32m   1107\u001b[0m \u001b[38;5;28;01mexcept\u001b[39;00m SSLError \u001b[38;5;28;01mas\u001b[39;00m x:\n\u001b[1;32m   1108\u001b[0m     \u001b[38;5;28;01mif\u001b[39;00m x\u001b[38;5;241m.\u001b[39margs[\u001b[38;5;241m0\u001b[39m] \u001b[38;5;241m==\u001b[39m SSL_ERROR_EOF \u001b[38;5;129;01mand\u001b[39;00m \u001b[38;5;28mself\u001b[39m\u001b[38;5;241m.\u001b[39msuppress_ragged_eofs:\n",
      "\u001b[0;31mKeyboardInterrupt\u001b[0m: "
     ]
    }
   ],
   "source": [
    "from langchain.chains.summarize import load_summarize_chain\n",
    "\n",
    "map_prompt_template = \"\"\"\n",
    "                      Write a summary of this chunk of text that includes all the main points and any important details. \n",
    "                      Ignore code snippets or technical markup. Include all important names and terms mentioned.\n",
    "                      {text}\n",
    "                      \"\"\"\n",
    "\n",
    "map_prompt = ChatPromptTemplate.from_template(map_prompt_template)\n",
    "\n",
    "combine_prompt_template = \"\"\"\n",
    "                      Write a clear concise summary of the following article delimited by triple backquotes. Use elegant prose that is not repetitive.\n",
    "                      Return your response as a clear explanation in markdown format while covering the key points of the text.\n",
    "                      Use a flowing clear article style.\n",
    "                      ```{text}```\n",
    "                      SHORT ARTICLE:\n",
    "                      \"\"\"\n",
    "\n",
    "combine_prompt = ChatPromptTemplate.from_template(\n",
    "    template=combine_prompt_template\n",
    ")\n",
    "\n",
    "chain = load_summarize_chain(\n",
    "    llm,\n",
    "    chain_type=\"map_reduce\",\n",
    "    map_prompt=map_prompt,\n",
    "    combine_prompt=combine_prompt,\n",
    "    return_intermediate_steps=True,\n",
    "    verbose=True\n",
    ")\n",
    "result = chain.invoke(texts)\n",
    "\n",
    "result"
   ]
  },
  {
   "cell_type": "code",
   "execution_count": null,
   "metadata": {},
   "outputs": [
    {
     "data": {
      "text/markdown": [
       "```CTERA offers Secure Enterprise File Services through their Enterprise File Services Platform, connecting remote sites and users to the cloud securely and efficiently. The platform includes features like Unified Edge for data access from various devices and locations, supporting multi-cloud environments. Customers can book a demo to explore the platform's rich features.\n",
       "\n",
       "The article emphasizes the importance of choosing between private, public, or hybrid cloud options for optimal security, compliance, and economics. CTERA's architecture provides full visibility into unstructured data across distributed locations to prevent data leakage, ransomware attacks, and ensure business continuity. The product line includes various options catering to different office sizes and needs.\n",
       "\n",
       "CTERA's product line encompasses solutions like CTERA Drive for endpoint backup, CTERA Portal & Add-ons, and CTERA Security Pack for enhanced security. The company focuses on delivering secure file services for modern enterprises, emphasizing the benefits of cloud technology without compromising data performance or security.\n",
       "\n",
       "CTERA's Enterprise File Services Platform integrates endpoint, office, and cloud file services, offering advanced storage, collaboration, data protection, and disaster recovery capabilities. The company's innovative approach has positioned them as a leader in cloud-based file services, catering to the evolving needs of enterprises transitioning to the cloud.\n",
       "\n",
       "CTERA, founded in 2008, has played a significant role in advancing enterprise file services delivery in the cloud era. With a focus on cloud technology and a strong customer base, the company continues to innovate and provide secure and efficient solutions for businesses worldwide.```"
      ],
      "text/plain": [
       "<IPython.core.display.Markdown object>"
      ]
     },
     "metadata": {},
     "output_type": "display_data"
    }
   ],
   "source": [
    "from IPython.display import Markdown\n",
    "\n",
    "display(Markdown(result['output_text']))"
   ]
  },
  {
   "cell_type": "markdown",
   "metadata": {},
   "source": [
    "# Summarize with Refine Chain"
   ]
  },
  {
   "cell_type": "code",
   "execution_count": null,
   "metadata": {},
   "outputs": [
    {
     "data": {
      "text/plain": [
       "{'input_documents': [Document(page_content=\"Solutions\\n\\nProducts\\n\\nSecure Enterprise File Services\\n\\nThe CTERA Enterprise File Services Platform powers a next-generation global file system connecting remote sites and users to your cloud without compromising security or performance.\\n\\nBook a Demo\\n\\nThe Industry's Most Feature-Rich Platform\\n\\nUnified Edge\\n\\nCTERA is the only global file system to span across branch filers, desktop endpoints, mobile and VDI clients. Always-on data access from any location and any device.\\n\\nMulti-Cloud\", metadata={'source': 'https://www.ctera.com/all-products/', 'title': 'CTERA: Next-Gen Enterprise File Services and Security', 'description': 'CTERA: Secure, Next-Gen Cloud File System for Enterprises. Connect remote sites & users without sacrificing security or performance.', 'language': 'en-US'}),\n",
       "  Document(page_content='Choose from private, public, or hybrid cloud options for optimal security, compliance, and economics. Migrate data seamlessly across clouds to meet evolving business needs.\\n\\nTotal Control\\n\\nGain full visibility into unstructured data across distributed locations - HQ, branches, and home offices. Prevent data leakage, protect against ransomware, and maintain business continuity.\\n\\nThe CTERA Architecture\\n\\nPRODUCT LINE\\n\\nCTERA Edge Filers\\n\\nLearn More\\n\\nVirtual Edition\\n\\nCTERA EV', metadata={'source': 'https://www.ctera.com/all-products/', 'title': 'CTERA: Next-Gen Enterprise File Services and Security', 'description': 'CTERA: Secure, Next-Gen Cloud File System for Enterprises. Connect remote sites & users without sacrificing security or performance.', 'language': 'en-US'}),\n",
       "  Document(page_content='Up to 256TB, 5,000 users\\n\\nSmall Branch / WFH\\n\\nCTERA HC100\\n\\nNano, 2TB, 20 Users\\n\\nLearn More\\n\\nSmall Office\\n\\nCTERA HC400T\\n\\nTower, 4TB, 100 users\\n\\nLearn More\\n\\nMedium Office\\n\\nCTERA HC400/E\\n\\n1U, 24TB, 1,000 users\\n\\nLearn More\\n\\nLarge Office\\n\\nCTERA HC1200\\n\\n2U, 64TB, 3,000 users\\n\\nLearn More\\n\\nMedia Edition\\n\\nCTERA HC2400M\\n\\n6U, 128TB (SSD/NL-SAS)\\n\\nLearn More\\n\\nPRODUCT LINE\\n\\nCTERA Drive\\n\\nLearn More\\n\\nCTERA Drive Connect\\n\\nMac and Windows Caching with Full Windows ACL Support\\n\\nLearn More\\n\\nCTERA Drive Share', metadata={'source': 'https://www.ctera.com/all-products/', 'title': 'CTERA: Next-Gen Enterprise File Services and Security', 'description': 'CTERA: Secure, Next-Gen Cloud File System for Enterprises. Connect remote sites & users without sacrificing security or performance.', 'language': 'en-US'}),\n",
       "  Document(page_content='Cached Drive, File Sync & Share\\n\\nLearn More\\n\\nCTERA Drive Protect\\n\\nEndpoint Backup\\n\\nLearn More\\n\\nPRODUCT LINE\\n\\nCTERA Portal & Add-ons\\n\\nLearn More\\n\\nCTERA Portal\\n\\nPrivate Edition\\n\\nCustomer-hosted in datacenter or VPC\\n\\nLearn more\\n\\nCTERA Portal\\n\\nVirtual Private Edition\\n\\nCTERA or partner-dedicated hosted\\n\\nLearn More\\n\\nCTERA Portal\\n\\nHosted Edition\\n\\nCTERA or partner-hosted\\n\\nLearn More\\n\\nCTERA Security Pack\\n\\nMilitary-Grade Security\\n\\nLearn More\\n\\nCTERA Insight\\n\\nOnline data monitoring and analytics', metadata={'source': 'https://www.ctera.com/all-products/', 'title': 'CTERA: Next-Gen Enterprise File Services and Security', 'description': 'CTERA: Secure, Next-Gen Cloud File System for Enterprises. Connect remote sites & users without sacrificing security or performance.', 'language': 'en-US'}),\n",
       "  Document(page_content=\"Download Solution Brief\\n\\nData Classification\\n\\nFile asset discovery and identification\\n\\nMore Resources\\n\\nView Features\\n\\nCTERA's Enterprise File Services Platform is the most feature-rich solution available.\\n\\nLearn More\\n\\nView Architecture\\n\\nCTERA is the only company to integrate endpoint, office and cloud file services with uncompromising IT security, cloud choice and cloud automation.\\n\\nLearn More\", metadata={'source': 'https://www.ctera.com/all-products/', 'title': 'CTERA: Next-Gen Enterprise File Services and Security', 'description': 'CTERA: Secure, Next-Gen Cloud File System for Enterprises. Connect remote sites & users without sacrificing security or performance.', 'language': 'en-US'}),\n",
       "  Document(page_content='Company\\n\\nOptimizing Enterprise File Services\\n\\nCTERA’s mission is to enable cloud-driven enterprise IT organizations to deliver secure file services. We believe modern organizations should be able to harness the agility, scalability, collaboration and cost efficiencies of the cloud, without compromising the performance, availability or security of their data.\\n\\nAbout Us\\n\\nWe Live in the Cloud... and Breathe Security', metadata={'source': 'https://www.ctera.com/company/', 'title': 'Enterprise File Services from Edge to Cloud | CTERA', 'description': 'CTERA is the edge-to-cloud file services leader, enabling enterprise organizations to modernize legacy NAS infrastructure.', 'language': 'en-US'}),\n",
       "  Document(page_content='CTERA Networks was founded in 2008 by IT security veterans, who anticipated the digital transformation that cloud computing would bring to enterprise IT, as well as the challenges it presented for infrastructure management, data governance, privacy and security.', metadata={'source': 'https://www.ctera.com/company/', 'title': 'Enterprise File Services from Edge to Cloud | CTERA', 'description': 'CTERA is the edge-to-cloud file services leader, enabling enterprise organizations to modernize legacy NAS infrastructure.', 'language': 'en-US'}),\n",
       "  Document(page_content='In a world where data flows between clouds, offices and endpoints – CTERA has focused on building a secure enterprise file services platform that centrally manages the file storage, control and governance needs of the modern enterprise.\\n\\nGlobal File System Whitepaper\\n\\nDCIG Compares CTERA and NetApp\\n\\nOur Approach\\n\\nUnified Multi-Cloud Data Management\\n\\nfrom Edge to Cloud', metadata={'source': 'https://www.ctera.com/company/', 'title': 'Enterprise File Services from Edge to Cloud | CTERA', 'description': 'CTERA is the edge-to-cloud file services leader, enabling enterprise organizations to modernize legacy NAS infrastructure.', 'language': 'en-US'}),\n",
       "  Document(page_content='From the outset, CTERA realized that traditional file storage and collaboration solutions are not suitable for the modern enterprise workplace. Legacy point solutions generate data silos, do not provide a holistic view of data governance and security, and inflate IT management overhead and costs. To address this void, CTERA built a unified solution that combines the benefits of local file services at the edge with cloud storage.', metadata={'source': 'https://www.ctera.com/company/', 'title': 'Enterprise File Services from Edge to Cloud | CTERA', 'description': 'CTERA is the edge-to-cloud file services leader, enabling enterprise organizations to modernize legacy NAS infrastructure.', 'language': 'en-US'}),\n",
       "  Document(page_content='The CTERA Enterprise File Services Platform unifies endpoint, branch office and cloud file services to enable next-generation file storage, collaboration, data protection, and disaster recovery.\\n\\nPowered by a cloud-native global file system, CTERA’s platform enables multi-cloud data management with full control over data residency, military-grade security and edge-to-cloud acceleration for desktops and branch offices.', metadata={'source': 'https://www.ctera.com/company/', 'title': 'Enterprise File Services from Edge to Cloud | CTERA', 'description': 'CTERA is the edge-to-cloud file services leader, enabling enterprise organizations to modernize legacy NAS infrastructure.', 'language': 'en-US'}),\n",
       "  Document(page_content='CTERA helped pioneer enterprise file services delivery in the cloud era by building secure and efficient protocols for edge-to-cloud data transport, RESTful APIs that drive operational efficiencies, and a multi-tenant data management model to ensure data isolation and confidentiality.\\n\\nThe Time is Now', metadata={'source': 'https://www.ctera.com/company/', 'title': 'Enterprise File Services from Edge to Cloud | CTERA', 'description': 'CTERA is the edge-to-cloud file services leader, enabling enterprise organizations to modernize legacy NAS infrastructure.', 'language': 'en-US'}),\n",
       "  Document(page_content='The “C” in CTERA stands for cloud – in 2008 the level of enterprise adoption of cloud was very low as we continued to build out and mature our platform. But today an entirely different picture has emerged. In fact, by 2024, large enterprises will triple their unstructured data stored as file or object storage on-premises, at the edge or in the public cloud, compared to 20201. As enterprises move to adopt cloud, they need the right balance of choice of file services and a level of security and', metadata={'source': 'https://www.ctera.com/company/', 'title': 'Enterprise File Services from Edge to Cloud | CTERA', 'description': 'CTERA is the edge-to-cloud file services leader, enabling enterprise organizations to modernize legacy NAS infrastructure.', 'language': 'en-US'}),\n",
       "  Document(page_content='control that is superior to traditional ways of operating. A rapid transformation to ‘IT-as-a-Service’ is changing strategies across the enterprise as file service platform requirements become the same that have existed for some time in the service provider market – these IT strategies are taking shape in worldwide adoption of the CTERA Enterprise File Services Platform.', metadata={'source': 'https://www.ctera.com/company/', 'title': 'Enterprise File Services from Edge to Cloud | CTERA', 'description': 'CTERA is the edge-to-cloud file services leader, enabling enterprise organizations to modernize legacy NAS infrastructure.', 'language': 'en-US'}),\n",
       "  Document(page_content='Gartner Market Guide for Hybrid Cloud Storage March 2020\\n\\nOur Customers\\n\\nThe Trusted Choice of Leading Enterprises\\n\\nWith over 50,000 connected sites and millions of corporate users, CTERA powers the file services transformations of leading global banks, insurance companies, telecommunications firms, and federal and defense organizations.\\n\\nSee All Customers\\n\\n\\n\\n\\n\\n\\n\\n\\n\\n\\n\\n\\n\\n\\n\\n\\n\\n\\n\\n\\n\\n\\n\\n\\n\\n\\n\\n\\n\\n\\n\\n\\n\\nCTERA at a Glance\\n\\n‘08\\n\\nFounded in 2008 by Liran Eshel & Zohar Kaufman\\n\\n50k', metadata={'source': 'https://www.ctera.com/company/', 'title': 'Enterprise File Services from Edge to Cloud | CTERA', 'description': 'CTERA is the edge-to-cloud file services leader, enabling enterprise organizations to modernize legacy NAS infrastructure.', 'language': 'en-US'}),\n",
       "  Document(page_content='Adopted by 50,000 Businesses Worldwide\\n\\n110\\n\\nDeployed in Over 110 Countries Worldwide\\n\\nOur Investors\\n\\n\\n\\n\\n\\n\\n\\n\\n\\n\\n\\n\\n\\n\\n\\nLocated Worldwide\\n\\nNorth America\\n\\nEurope\\n\\nAsia\\n\\nAustralia\\n\\nRecognized as an Industry Leader\\n\\n\\n\\n\\n\\n\\n\\n\\n\\n\\n\\n\\n\\n\\n\\n\\n\\n\\n\\nThe Latest Buzz\\n\\nKeep up with the latest news, posts, events, webinars and more\\n\\nNews\\n\\nNews\\n\\nStockage : Ctera verrouille en écriture les données… de production\\n\\nLearn More\\n\\nAll News\\n\\nEvents\\n\\nEvents\\n\\nElite CIO/CISO Atlanta\\n\\nLearn More\\n\\nWebinars\\n\\nWebinars', metadata={'source': 'https://www.ctera.com/company/', 'title': 'Enterprise File Services from Edge to Cloud | CTERA', 'description': 'CTERA is the edge-to-cloud file services leader, enabling enterprise organizations to modernize legacy NAS infrastructure.', 'language': 'en-US'}),\n",
       "  Document(page_content=\"Top 5 Insights on File Storage Evolution with CTERA and GigaOm\\n\\nLearn More\\n\\nBlog\\n\\nBlog\\n\\nNavigating the Edge: Our Webinar with Hitachi Vantara\\n\\nLearn More\\n\\nView Blog\\n\\nCareers\\n\\nJoin our rapidly growing, challenging and innovative workplace, peppered with a fun and casual vibe.\\n\\nVisit CTERA Careers\\n\\nOur Team\\n\\nWe're managed by a seasoned results-driven team with proven success in leading high-growth technology startups.\\n\\nLearn More\", metadata={'source': 'https://www.ctera.com/company/', 'title': 'Enterprise File Services from Edge to Cloud | CTERA', 'description': 'CTERA is the edge-to-cloud file services leader, enabling enterprise organizations to modernize legacy NAS infrastructure.', 'language': 'en-US'}),\n",
       "  Document(page_content='Previous                        \\n                        Contact\\n                                                                        \\n\\t                        Let us know how we can help you. Use contact information or direct contact form for any from your Ctera product and technical needs!', metadata={'source': 'https://www.ctera.com/company/', 'title': 'Enterprise File Services from Edge to Cloud | CTERA', 'description': 'CTERA is the edge-to-cloud file services leader, enabling enterprise organizations to modernize legacy NAS infrastructure.', 'language': 'en-US'}),\n",
       "  Document(page_content='Next                        \\n                        Our Team\\n\\t\\t\\t\\t        \\t\\t\\t\\t\\t        \\t\\t\\t\\t\\t\\t        \\n\\t\\t\\t\\t\\t\\t\\t        We’re a well-oiled, experienced team with an extensive track record of growing high-growth technology startups.', metadata={'source': 'https://www.ctera.com/company/', 'title': 'Enterprise File Services from Edge to Cloud | CTERA', 'description': 'CTERA is the edge-to-cloud file services leader, enabling enterprise organizations to modernize legacy NAS infrastructure.', 'language': 'en-US'})],\n",
       " 'intermediate_steps': ['CTERA offers secure enterprise file services through their platform, which connects remote sites and users to the cloud without compromising security or performance. Their platform is feature-rich and allows for unified access across various devices and locations, including branch filers, desktop endpoints, mobile, and VDI clients. Additionally, CTERA supports multi-cloud environments.',\n",
       "  '**CTERA offers secure enterprise file services through their platform, connecting remote sites and users to the cloud without compromising security or performance. Their feature-rich platform allows for unified access across various devices and locations, including branch filers, desktop endpoints, mobile, and VDI clients. CTERA supports multi-cloud environments, offering private, public, or hybrid cloud options for optimal security, compliance, and economics. Users can seamlessly migrate data across clouds to meet evolving business needs. Gain full visibility into unstructured data across distributed locations with CTERA, preventing data leakage, protecting against ransomware, and maintaining business continuity. The CTERA architecture includes products like CTERA Edge Filers and Virtual Edition (CTERA EV).**',\n",
       "  '**CTERA offers secure enterprise file services through their platform, connecting remote sites and users to the cloud without compromising security or performance. Their feature-rich platform allows for unified access across various devices and locations, including branch filers, desktop endpoints, mobile, and VDI clients. CTERA supports multi-cloud environments, offering private, public, or hybrid cloud options for optimal security, compliance, and economics. Users can seamlessly migrate data across clouds to meet evolving business needs. Gain full visibility into unstructured data across distributed locations with CTERA, preventing data leakage, protecting against ransomware, and maintaining business continuity. The CTERA architecture includes products like CTERA Edge Filers and Virtual Edition (CTERA EV). Additionally, CTERA offers a range of hardware options tailored to different office sizes and user capacities, such as the CTERA HC100 for small branches or WFH setups, the CTERA HC400T for small offices, the CTERA HC400/E for medium offices, the CTERA HC1200 for large offices, and the CTERA HC2400M for media editions. CTERA also provides products like CTERA Drive for secure file sharing and CTERA Drive Connect for Mac and Windows caching with full Windows ACL support.**',\n",
       "  '**CTERA offers secure enterprise file services through their platform, connecting remote sites and users to the cloud without compromising security or performance. Their feature-rich platform allows for unified access across various devices and locations, including branch filers, desktop endpoints, mobile, and VDI clients. CTERA supports multi-cloud environments, offering private, public, or hybrid cloud options for optimal security, compliance, and economics. Users can seamlessly migrate data across clouds to meet evolving business needs. Gain full visibility into unstructured data across distributed locations with CTERA, preventing data leakage, protecting against ransomware, and maintaining business continuity. The CTERA architecture includes products like CTERA Edge Filers and Virtual Edition (CTERA EV). Additionally, CTERA offers a range of hardware options tailored to different office sizes and user capacities, such as the CTERA HC100 for small branches or WFH setups, the CTERA HC400T for small offices, the CTERA HC400/E for medium offices, the CTERA HC1200 for large offices, and the CTERA HC2400M for media editions. CTERA also provides products like CTERA Drive for secure file sharing and CTERA Drive Connect for Mac and Windows caching with full Windows ACL support. CTERA also offers a range of products including CTERA Portal & Add-ons, CTERA Drive Protect for endpoint backup, CTERA Security Pack for military-grade security, and CTERA Insight for online data monitoring and analytics. The CTERA Portal comes in different editions such as Private Edition for customer-hosted in datacenter or VPC, Virtual Private Edition for CTERA or partner-dedicated hosting, and Hosted Edition for CTERA or partner-hosted solutions.**',\n",
       "  \"**CTERA offers secure enterprise file services through their platform, connecting remote sites and users to the cloud without compromising security or performance. Their feature-rich platform allows for unified access across various devices and locations, including branch filers, desktop endpoints, mobile, and VDI clients. CTERA supports multi-cloud environments, offering private, public, or hybrid cloud options for optimal security, compliance, and economics. Users can seamlessly migrate data across clouds to meet evolving business needs. Gain full visibility into unstructured data across distributed locations with CTERA, preventing data leakage, protecting against ransomware, and maintaining business continuity. The CTERA architecture includes products like CTERA Edge Filers and Virtual Edition (CTERA EV). Additionally, CTERA offers a range of hardware options tailored to different office sizes and user capacities, such as the CTERA HC100 for small branches or WFH setups, the CTERA HC400T for small offices, the CTERA HC400/E for medium offices, the CTERA HC1200 for large offices, and the CTERA HC2400M for media editions. CTERA also provides products like CTERA Drive for secure file sharing and CTERA Drive Connect for Mac and Windows caching with full Windows ACL support. CTERA also offers a range of products including CTERA Portal & Add-ons, CTERA Drive Protect for endpoint backup, CTERA Security Pack for military-grade security, and CTERA Insight for online data monitoring and analytics. The CTERA Portal comes in different editions such as Private Edition for customer-hosted in datacenter or VPC, Virtual Private Edition for CTERA or partner-dedicated hosting, and Hosted Edition for CTERA or partner-hosted solutions. CTERA's Enterprise File Services Platform is the most feature-rich solution available, integrating endpoint, office, and cloud file services with uncompromising IT security, cloud choice, and cloud automation.**\",\n",
       "  \"**CTERA offers secure enterprise file services through their platform, connecting remote sites and users to the cloud without compromising security or performance. Their feature-rich platform allows for unified access across various devices and locations, including branch filers, desktop endpoints, mobile, and VDI clients. CTERA supports multi-cloud environments, offering private, public, or hybrid cloud options for optimal security, compliance, and economics. Users can seamlessly migrate data across clouds to meet evolving business needs. Gain full visibility into unstructured data across distributed locations with CTERA, preventing data leakage, protecting against ransomware, and maintaining business continuity. The CTERA architecture includes products like CTERA Edge Filers and Virtual Edition (CTERA EV). Additionally, CTERA offers a range of hardware options tailored to different office sizes and user capacities, such as the CTERA HC100 for small branches or WFH setups, the CTERA HC400T for small offices, the CTERA HC400/E for medium offices, the CTERA HC1200 for large offices, and the CTERA HC2400M for media editions. CTERA also provides products like CTERA Drive for secure file sharing and CTERA Drive Connect for Mac and Windows caching with full Windows ACL support. CTERA also offers a range of products including CTERA Portal & Add-ons, CTERA Drive Protect for endpoint backup, CTERA Security Pack for military-grade security, and CTERA Insight for online data monitoring and analytics. The CTERA Portal comes in different editions such as Private Edition for customer-hosted in datacenter or VPC, Virtual Private Edition for CTERA or partner-dedicated hosting, and Hosted Edition for CTERA or partner-hosted solutions. CTERA's Enterprise File Services Platform is the most feature-rich solution available, integrating endpoint, office, and cloud file services with uncompromising IT security, cloud choice, and cloud automation. CTERA's mission is to enable cloud-driven enterprise IT organizations to deliver secure file services, ensuring organizations can harness the agility, scalability, collaboration, and cost efficiencies of the cloud without compromising data performance, availability, or security.**\",\n",
       "  \"**CTERA Networks was founded in 2008 by IT security veterans, who anticipated the digital transformation that cloud computing would bring to enterprise IT, as well as the challenges it presented for infrastructure management, data governance, privacy, and security. CTERA offers secure enterprise file services through their platform, connecting remote sites and users to the cloud without compromising security or performance. Their feature-rich platform allows for unified access across various devices and locations, including branch filers, desktop endpoints, mobile, and VDI clients. CTERA supports multi-cloud environments, offering private, public, or hybrid cloud options for optimal security, compliance, and economics. Users can seamlessly migrate data across clouds to meet evolving business needs. Gain full visibility into unstructured data across distributed locations with CTERA, preventing data leakage, protecting against ransomware, and maintaining business continuity. The CTERA architecture includes products like CTERA Edge Filers and Virtual Edition (CTERA EV). Additionally, CTERA offers a range of hardware options tailored to different office sizes and user capacities, such as the CTERA HC100 for small branches or WFH setups, the CTERA HC400T for small offices, the CTERA HC400/E for medium offices, the CTERA HC1200 for large offices, and the CTERA HC2400M for media editions. CTERA also provides products like CTERA Drive for secure file sharing and CTERA Drive Connect for Mac and Windows caching with full Windows ACL support. CTERA also offers a range of products including CTERA Portal & Add-ons, CTERA Drive Protect for endpoint backup, CTERA Security Pack for military-grade security, and CTERA Insight for online data monitoring and analytics. The CTERA Portal comes in different editions such as Private Edition for customer-hosted in datacenter or VPC, Virtual Private Edition for CTERA or partner-dedicated hosting, and Hosted Edition for CTERA or partner-hosted solutions. CTERA's Enterprise File Services Platform is the most feature-rich solution available, integrating endpoint, office, and cloud file services with uncompromising IT security, cloud choice, and cloud automation. CTERA's mission is to enable cloud-driven enterprise IT organizations to deliver secure file services, ensuring organizations can harness the agility, scalability, collaboration, and cost efficiencies of the cloud without compromising data performance, availability, or security.**\",\n",
       "  \"**CTERA Networks was founded in 2008 by IT security veterans, who anticipated the digital transformation that cloud computing would bring to enterprise IT, as well as the challenges it presented for infrastructure management, data governance, privacy, and security. CTERA offers secure enterprise file services through their platform, connecting remote sites and users to the cloud without compromising security or performance. Their feature-rich platform allows for unified access across various devices and locations, including branch filers, desktop endpoints, mobile, and VDI clients. CTERA supports multi-cloud environments, offering private, public, or hybrid cloud options for optimal security, compliance, and economics. Users can seamlessly migrate data across clouds to meet evolving business needs. Gain full visibility into unstructured data across distributed locations with CTERA, preventing data leakage, protecting against ransomware, and maintaining business continuity. The CTERA architecture includes products like CTERA Edge Filers and Virtual Edition (CTERA EV). Additionally, CTERA offers a range of hardware options tailored to different office sizes and user capacities, such as the CTERA HC100 for small branches or WFH setups, the CTERA HC400T for small offices, the CTERA HC400/E for medium offices, the CTERA HC1200 for large offices, and the CTERA HC2400M for media editions. CTERA also provides products like CTERA Drive for secure file sharing and CTERA Drive Connect for Mac and Windows caching with full Windows ACL support. CTERA also offers a range of products including CTERA Portal & Add-ons, CTERA Drive Protect for endpoint backup, CTERA Security Pack for military-grade security, and CTERA Insight for online data monitoring and analytics. The CTERA Portal comes in different editions such as Private Edition for customer-hosted in datacenter or VPC, Virtual Private Edition for CTERA or partner-dedicated hosting, and Hosted Edition for CTERA or partner-hosted solutions. CTERA's Enterprise File Services Platform is the most feature-rich solution available, integrating endpoint, office, and cloud file services with uncompromising IT security, cloud choice, and cloud automation. CTERA's mission is to enable cloud-driven enterprise IT organizations to deliver secure file services, ensuring organizations can harness the agility, scalability, collaboration, and cost efficiencies of the cloud without compromising data performance, availability, or security. CTERA has focused on building a secure enterprise file services platform that centrally manages the file storage, control, and governance needs of the modern enterprise, with a unified multi-cloud data management approach from Edge to Cloud.**\",\n",
       "  \"**CTERA Networks was founded in 2008 by IT security veterans, who anticipated the digital transformation that cloud computing would bring to enterprise IT, as well as the challenges it presented for infrastructure management, data governance, privacy, and security. CTERA offers secure enterprise file services through their platform, connecting remote sites and users to the cloud without compromising security or performance. Their feature-rich platform allows for unified access across various devices and locations, including branch filers, desktop endpoints, mobile, and VDI clients. CTERA supports multi-cloud environments, offering private, public, or hybrid cloud options for optimal security, compliance, and economics. Users can seamlessly migrate data across clouds to meet evolving business needs. Gain full visibility into unstructured data across distributed locations with CTERA, preventing data leakage, protecting against ransomware, and maintaining business continuity. The CTERA architecture includes products like CTERA Edge Filers and Virtual Edition (CTERA EV). Additionally, CTERA offers a range of hardware options tailored to different office sizes and user capacities, such as the CTERA HC100 for small branches or WFH setups, the CTERA HC400T for small offices, the CTERA HC400/E for medium offices, the CTERA HC1200 for large offices, and the CTERA HC2400M for media editions. CTERA also provides products like CTERA Drive for secure file sharing and CTERA Drive Connect for Mac and Windows caching with full Windows ACL support. CTERA also offers a range of products including CTERA Portal & Add-ons, CTERA Drive Protect for endpoint backup, CTERA Security Pack for military-grade security, and CTERA Insight for online data monitoring and analytics. The CTERA Portal comes in different editions such as Private Edition for customer-hosted in datacenter or VPC, Virtual Private Edition for CTERA or partner-dedicated hosting, and Hosted Edition for CTERA or partner-hosted solutions. CTERA's Enterprise File Services Platform is the most feature-rich solution available, integrating endpoint, office, and cloud file services with uncompromising IT security, cloud choice, and cloud automation. CTERA's mission is to enable cloud-driven enterprise IT organizations to deliver secure file services, ensuring organizations can harness the agility, scalability, collaboration, and cost efficiencies of the cloud without compromising data performance, availability, or security. CTERA has focused on building a secure enterprise file services platform that centrally manages the file storage, control, and governance needs of the modern enterprise, with a unified multi-cloud data management approach from Edge to Cloud. CTERA realized that traditional file storage and collaboration solutions are not suitable for the modern enterprise workplace, leading them to build a unified solution that combines the benefits of local file services at the edge with cloud storage.**\",\n",
       "  \"## CTERA Networks Summary:\\n\\nCTERA Networks was founded in 2008 by IT security veterans who anticipated the digital transformation that cloud computing would bring to enterprise IT. They offer secure enterprise file services through their platform, connecting remote sites and users to the cloud without compromising security or performance. CTERA's feature-rich platform allows for unified access across various devices and locations, including branch filers, desktop endpoints, mobile, and VDI clients. They support multi-cloud environments, offering private, public, or hybrid cloud options for optimal security, compliance, and economics. Users can seamlessly migrate data across clouds to meet evolving business needs.\\n\\nCTERA's Enterprise File Services Platform unifies endpoint, branch office, and cloud file services to enable next-generation file storage, collaboration, data protection, and disaster recovery. Powered by a cloud-native global file system, CTERA's platform enables multi-cloud data management with full control over data residency, military-grade security, and edge-to-cloud acceleration for desktops and branch offices.\\n\\nCTERA's mission is to enable cloud-driven enterprise IT organizations to deliver secure file services, ensuring organizations can harness the agility, scalability, collaboration, and cost efficiencies of the cloud without compromising data performance, availability, or security. They have focused on building a secure enterprise file services platform that centrally manages the file storage, control, and governance needs of the modern enterprise, with a unified multi-cloud data management approach from Edge to Cloud.\",\n",
       "  \"## CTERA Networks Summary:\\n\\nCTERA Networks, founded in 2008 by IT security veterans, offers secure enterprise file services through their platform, connecting remote sites and users to the cloud without compromising security or performance. Their feature-rich platform allows for unified access across various devices and locations, supporting multi-cloud environments for optimal security, compliance, and economics. CTERA's Enterprise File Services Platform unifies endpoint, branch office, and cloud file services, enabling next-generation file storage, collaboration, data protection, and disaster recovery. Their mission is to enable cloud-driven enterprise IT organizations to deliver secure file services while maintaining data performance, availability, and security. CTERA has focused on building a secure enterprise file services platform that centrally manages the file storage, control, and governance needs of the modern enterprise, with a unified multi-cloud data management approach from Edge to Cloud. They have pioneered secure and efficient protocols for edge-to-cloud data transport, RESTful APIs for operational efficiencies, and a multi-tenant data management model for data isolation and confidentiality.\",\n",
       "  \"## CTERA Networks Summary:\\n\\nCTERA Networks, founded in 2008 by IT security veterans, offers secure enterprise file services through their platform, connecting remote sites and users to the cloud without compromising security or performance. Their feature-rich platform allows for unified access across various devices and locations, supporting multi-cloud environments for optimal security, compliance, and economics. CTERA's Enterprise File Services Platform unifies endpoint, branch office, and cloud file services, enabling next-generation file storage, collaboration, data protection, and disaster recovery. Their mission is to enable cloud-driven enterprise IT organizations to deliver secure file services while maintaining data performance, availability, and security. CTERA has focused on building a secure enterprise file services platform that centrally manages the file storage, control, and governance needs of the modern enterprise, with a unified multi-cloud data management approach from Edge to Cloud. They have pioneered secure and efficient protocols for edge-to-cloud data transport, RESTful APIs for operational efficiencies, and a multi-tenant data management model for data isolation and confidentiality. The “C” in CTERA stands for cloud – in 2008 the level of enterprise adoption of cloud was very low as we continued to build out and mature our platform. But today an entirely different picture has emerged. In fact, by 2024, large enterprises will triple their unstructured data stored as file or object storage on-premises, at the edge or in the public cloud, compared to 20201. As enterprises move to adopt cloud, they need the right balance of choice of file services and a level of security and.\",\n",
       "  \"## CTERA Networks Summary:\\n\\nCTERA Networks, founded in 2008 by IT security veterans, offers secure enterprise file services through their platform, connecting remote sites and users to the cloud without compromising security or performance. Their feature-rich platform allows for unified access across various devices and locations, supporting multi-cloud environments for optimal security, compliance, and economics. CTERA's Enterprise File Services Platform unifies endpoint, branch office, and cloud file services, enabling next-generation file storage, collaboration, data protection, and disaster recovery. Their mission is to enable cloud-driven enterprise IT organizations to deliver secure file services while maintaining data performance, availability, and security. CTERA has focused on building a secure enterprise file services platform that centrally manages the file storage, control, and governance needs of the modern enterprise, with a unified multi-cloud data management approach from Edge to Cloud. They have pioneered secure and efficient protocols for edge-to-cloud data transport, RESTful APIs for operational efficiencies, and a multi-tenant data management model for data isolation and confidentiality. The “C” in CTERA stands for cloud – in 2008 the level of enterprise adoption of cloud was very low as we continued to build out and mature our platform. But today an entirely different picture has emerged. In fact, by 2024, large enterprises will triple their unstructured data stored as file or object storage on-premises, at the edge or in the public cloud, compared to 20201. As enterprises move to adopt cloud, they need the right balance of choice of file services and a level of security and control that is superior to traditional ways of operating. A rapid transformation to ‘IT-as-a-Service’ is changing strategies across the enterprise as file service platform requirements become the same that have existed for some time in the service provider market – these IT strategies are taking shape in worldwide adoption of the CTERA Enterprise File Services Platform.\",\n",
       "  \"## CTERA Networks Summary:\\n\\nCTERA Networks, founded in 2008 by IT security veterans Liran Eshel and Zohar Kaufman, offers secure enterprise file services through their platform, connecting remote sites and users to the cloud without compromising security or performance. Their feature-rich platform allows for unified access across various devices and locations, supporting multi-cloud environments for optimal security, compliance, and economics. CTERA's Enterprise File Services Platform unifies endpoint, branch office, and cloud file services, enabling next-generation file storage, collaboration, data protection, and disaster recovery. Their mission is to enable cloud-driven enterprise IT organizations to deliver secure file services while maintaining data performance, availability, and security. CTERA has focused on building a secure enterprise file services platform that centrally manages the file storage, control, and governance needs of the modern enterprise, with a unified multi-cloud data management approach from Edge to Cloud. They have pioneered secure and efficient protocols for edge-to-cloud data transport, RESTful APIs for operational efficiencies, and a multi-tenant data management model for data isolation and confidentiality. The “C” in CTERA stands for cloud – in 2008 the level of enterprise adoption of cloud was very low as we continued to build out and mature our platform. But today an entirely different picture has emerged. In fact, by 2024, large enterprises will triple their unstructured data stored as file or object storage on-premises, at the edge or in the public cloud, compared to 20201. As enterprises move to adopt cloud, they need the right balance of choice of file services and a level of security and control that is superior to traditional ways of operating. A rapid transformation to ‘IT-as-a-Service’ is changing strategies across the enterprise as file service platform requirements become the same that have existed for some time in the service provider market – these IT strategies are taking shape in worldwide adoption of the CTERA Enterprise File Services Platform. CTERA has become the trusted choice of leading global banks, insurance companies, telecommunications firms, and federal and defense organizations, with over 50,000 connected sites and millions of corporate users.\",\n",
       "  \"## CTERA Networks Summary:\\n\\nCTERA Networks, founded in 2008 by IT security veterans Liran Eshel and Zohar Kaufman, offers secure enterprise file services through their platform, connecting remote sites and users to the cloud without compromising security or performance. Their feature-rich platform allows for unified access across various devices and locations, supporting multi-cloud environments for optimal security, compliance, and economics. CTERA's Enterprise File Services Platform unifies endpoint, branch office, and cloud file services, enabling next-generation file storage, collaboration, data protection, and disaster recovery. Their mission is to enable cloud-driven enterprise IT organizations to deliver secure file services while maintaining data performance, availability, and security. CTERA has focused on building a secure enterprise file services platform that centrally manages the file storage, control, and governance needs of the modern enterprise, with a unified multi-cloud data management approach from Edge to Cloud. They have pioneered secure and efficient protocols for edge-to-cloud data transport, RESTful APIs for operational efficiencies, and a multi-tenant data management model for data isolation and confidentiality. The “C” in CTERA stands for cloud – in 2008 the level of enterprise adoption of cloud was very low as we continued to build out and mature our platform. But today an entirely different picture has emerged. In fact, by 2024, large enterprises will triple their unstructured data stored as file or object storage on-premises, at the edge or in the public cloud, compared to 20201. As enterprises move to adopt cloud, they need the right balance of choice of file services and a level of security and control that is superior to traditional ways of operating. A rapid transformation to ‘IT-as-a-Service’ is changing strategies across the enterprise as file service platform requirements become the same that have existed for some time in the service provider market – these IT strategies are taking shape in worldwide adoption of the CTERA Enterprise File Services Platform. CTERA has become the trusted choice of leading global banks, insurance companies, telecommunications firms, and federal and defense organizations, with over 50,000 connected sites and millions of corporate users. CTERA Networks is deployed in over 110 countries worldwide and has investors located worldwide, with a strong presence in North America, Europe, Asia, and Australia. The company is recognized as an industry leader and continues to make waves in the industry with the latest news, events, webinars, and more.\",\n",
       "  \"## CTERA Networks Summary:\\n\\nCTERA Networks, founded in 2008 by IT security veterans Liran Eshel and Zohar Kaufman, offers secure enterprise file services through their platform, connecting remote sites and users to the cloud without compromising security or performance. Their feature-rich platform allows for unified access across various devices and locations, supporting multi-cloud environments for optimal security, compliance, and economics. CTERA's Enterprise File Services Platform unifies endpoint, branch office, and cloud file services, enabling next-generation file storage, collaboration, data protection, and disaster recovery. Their mission is to enable cloud-driven enterprise IT organizations to deliver secure file services while maintaining data performance, availability, and security. CTERA has focused on building a secure enterprise file services platform that centrally manages the file storage, control, and governance needs of the modern enterprise, with a unified multi-cloud data management approach from Edge to Cloud. They have pioneered secure and efficient protocols for edge-to-cloud data transport, RESTful APIs for operational efficiencies, and a multi-tenant data management model for data isolation and confidentiality. The “C” in CTERA stands for cloud – in 2008 the level of enterprise adoption of cloud was very low as we continued to build out and mature our platform. But today an entirely different picture has emerged. In fact, by 2024, large enterprises will triple their unstructured data stored as file or object storage on-premises, at the edge or in the public cloud, compared to 20201. As enterprises move to adopt cloud, they need the right balance of choice of file services and a level of security and control that is superior to traditional ways of operating. A rapid transformation to ‘IT-as-a-Service’ is changing strategies across the enterprise as file service platform requirements become the same that have existed for some time in the service provider market – these IT strategies are taking shape in worldwide adoption of the CTERA Enterprise File Services Platform. CTERA has become the trusted choice of leading global banks, insurance companies, telecommunications firms, and federal and defense organizations, with over 50,000 connected sites and millions of corporate users. CTERA Networks is deployed in over 110 countries worldwide and has investors located worldwide, with a strong presence in North America, Europe, Asia, and Australia. The company is recognized as an industry leader and continues to make waves in the industry with the latest news, events, webinars, and more. CTERA Networks offers valuable insights on file storage evolution through collaborations with GigaOm and Hitachi Vantara, showcasing their commitment to innovation and industry leadership. Join their rapidly growing team of technology experts and be a part of their success story.\",\n",
       "  \"## CTERA Networks Summary:\\n\\nCTERA Networks, founded in 2008 by IT security veterans Liran Eshel and Zohar Kaufman, offers secure enterprise file services through their platform, connecting remote sites and users to the cloud without compromising security or performance. Their feature-rich platform allows for unified access across various devices and locations, supporting multi-cloud environments for optimal security, compliance, and economics. CTERA's Enterprise File Services Platform unifies endpoint, branch office, and cloud file services, enabling next-generation file storage, collaboration, data protection, and disaster recovery. Their mission is to enable cloud-driven enterprise IT organizations to deliver secure file services while maintaining data performance, availability, and security. CTERA has focused on building a secure enterprise file services platform that centrally manages the file storage, control, and governance needs of the modern enterprise, with a unified multi-cloud data management approach from Edge to Cloud. They have pioneered secure and efficient protocols for edge-to-cloud data transport, RESTful APIs for operational efficiencies, and a multi-tenant data management model for data isolation and confidentiality. The “C” in CTERA stands for cloud – in 2008 the level of enterprise adoption of cloud was very low as we continued to build out and mature our platform. But today an entirely different picture has emerged. In fact, by 2024, large enterprises will triple their unstructured data stored as file or object storage on-premises, at the edge or in the public cloud, compared to 20201. As enterprises move to adopt cloud, they need the right balance of choice of file services and a level of security and control that is superior to traditional ways of operating. A rapid transformation to ‘IT-as-a-Service’ is changing strategies across the enterprise as file service platform requirements become the same that have existed for some time in the service provider market – these IT strategies are taking shape in worldwide adoption of the CTERA Enterprise File Services Platform. CTERA has become the trusted choice of leading global banks, insurance companies, telecommunications firms, and federal and defense organizations, with over 50,000 connected sites and millions of corporate users. CTERA Networks is deployed in over 110 countries worldwide and has investors located worldwide, with a strong presence in North America, Europe, Asia, and Australia. The company is recognized as an industry leader and continues to make waves in the industry with the latest news, events, webinars, and more. CTERA Networks offers valuable insights on file storage evolution through collaborations with GigaOm and Hitachi Vantara, showcasing their commitment to innovation and industry leadership. Join their rapidly growing team of technology experts and be a part of their success story.\\n\\nFor any inquiries or technical needs related to CTERA products, please use the provided contact information or direct contact form to reach out for assistance.\",\n",
       "  \"## CTERA Networks Summary:\\n\\nCTERA Networks, founded in 2008 by IT security veterans Liran Eshel and Zohar Kaufman, offers secure enterprise file services through their platform, connecting remote sites and users to the cloud without compromising security or performance. Their feature-rich platform allows for unified access across various devices and locations, supporting multi-cloud environments for optimal security, compliance, and economics. CTERA's Enterprise File Services Platform unifies endpoint, branch office, and cloud file services, enabling next-generation file storage, collaboration, data protection, and disaster recovery. Their mission is to enable cloud-driven enterprise IT organizations to deliver secure file services while maintaining data performance, availability, and security. CTERA has focused on building a secure enterprise file services platform that centrally manages the file storage, control, and governance needs of the modern enterprise, with a unified multi-cloud data management approach from Edge to Cloud. They have pioneered secure and efficient protocols for edge-to-cloud data transport, RESTful APIs for operational efficiencies, and a multi-tenant data management model for data isolation and confidentiality. The “C” in CTERA stands for cloud – in 2008 the level of enterprise adoption of cloud was very low as we continued to build out and mature our platform. But today an entirely different picture has emerged. In fact, by 2024, large enterprises will triple their unstructured data stored as file or object storage on-premises, at the edge or in the public cloud, compared to 20201. As enterprises move to adopt cloud, they need the right balance of choice of file services and a level of security and control that is superior to traditional ways of operating. A rapid transformation to ‘IT-as-a-Service’ is changing strategies across the enterprise as file service platform requirements become the same that have existed for some time in the service provider market – these IT strategies are taking shape in worldwide adoption of the CTERA Enterprise File Services Platform. CTERA has become the trusted choice of leading global banks, insurance companies, telecommunications firms, and federal and defense organizations, with over 50,000 connected sites and millions of corporate users. CTERA Networks is deployed in over 110 countries worldwide and has investors located worldwide, with a strong presence in North America, Europe, Asia, and Australia. The company is recognized as an industry leader and continues to make waves in the industry with the latest news, events, webinars, and more. CTERA Networks offers valuable insights on file storage evolution through collaborations with GigaOm and Hitachi Vantara, showcasing their commitment to innovation and industry leadership. Join their rapidly growing team of technology experts and be a part of their success story.\\n\\nFor any inquiries or technical needs related to CTERA products, please use the provided contact information or direct contact form to reach out for assistance. CTERA Networks boasts a well-oiled, experienced team with an extensive track record of growing high-growth technology startups.\"],\n",
       " 'output_text': \"## CTERA Networks Summary:\\n\\nCTERA Networks, founded in 2008 by IT security veterans Liran Eshel and Zohar Kaufman, offers secure enterprise file services through their platform, connecting remote sites and users to the cloud without compromising security or performance. Their feature-rich platform allows for unified access across various devices and locations, supporting multi-cloud environments for optimal security, compliance, and economics. CTERA's Enterprise File Services Platform unifies endpoint, branch office, and cloud file services, enabling next-generation file storage, collaboration, data protection, and disaster recovery. Their mission is to enable cloud-driven enterprise IT organizations to deliver secure file services while maintaining data performance, availability, and security. CTERA has focused on building a secure enterprise file services platform that centrally manages the file storage, control, and governance needs of the modern enterprise, with a unified multi-cloud data management approach from Edge to Cloud. They have pioneered secure and efficient protocols for edge-to-cloud data transport, RESTful APIs for operational efficiencies, and a multi-tenant data management model for data isolation and confidentiality. The “C” in CTERA stands for cloud – in 2008 the level of enterprise adoption of cloud was very low as we continued to build out and mature our platform. But today an entirely different picture has emerged. In fact, by 2024, large enterprises will triple their unstructured data stored as file or object storage on-premises, at the edge or in the public cloud, compared to 20201. As enterprises move to adopt cloud, they need the right balance of choice of file services and a level of security and control that is superior to traditional ways of operating. A rapid transformation to ‘IT-as-a-Service’ is changing strategies across the enterprise as file service platform requirements become the same that have existed for some time in the service provider market – these IT strategies are taking shape in worldwide adoption of the CTERA Enterprise File Services Platform. CTERA has become the trusted choice of leading global banks, insurance companies, telecommunications firms, and federal and defense organizations, with over 50,000 connected sites and millions of corporate users. CTERA Networks is deployed in over 110 countries worldwide and has investors located worldwide, with a strong presence in North America, Europe, Asia, and Australia. The company is recognized as an industry leader and continues to make waves in the industry with the latest news, events, webinars, and more. CTERA Networks offers valuable insights on file storage evolution through collaborations with GigaOm and Hitachi Vantara, showcasing their commitment to innovation and industry leadership. Join their rapidly growing team of technology experts and be a part of their success story.\\n\\nFor any inquiries or technical needs related to CTERA products, please use the provided contact information or direct contact form to reach out for assistance. CTERA Networks boasts a well-oiled, experienced team with an extensive track record of growing high-growth technology startups.\"}"
      ]
     },
     "execution_count": 23,
     "metadata": {},
     "output_type": "execute_result"
    }
   ],
   "source": [
    "prompt_template = \"\"\"Write a concise summary of the following:\n",
    "{text}\n",
    "CONCISE SUMMARY:\"\"\"\n",
    "prompt = ChatPromptTemplate.from_template(prompt_template)\n",
    "\n",
    "refine_template = (\n",
    "    \"Your job is to produce a final detailed summary\\n\"\n",
    "    \"We have provided an existing summary up to a certain point: {existing_answer}\\n\"\n",
    "    \"We have the opportunity to refine the existing summary\"\n",
    "    \"(only if needed) with some more context below.\\n\"\n",
    "    \"------------\\n\"\n",
    "    \"{text}\\n\"\n",
    "    \"------------\\n\"\n",
    "    \"Given the new context, refine the original summary clearly\"\n",
    "    \"If the context isn't useful, return the original summary. Use markdown format.\"\n",
    ")\n",
    "refine_prompt = ChatPromptTemplate.from_template(refine_template)\n",
    "chain = load_summarize_chain(\n",
    "    llm=llm,\n",
    "    chain_type=\"refine\",\n",
    "    question_prompt=prompt,\n",
    "    refine_prompt=refine_prompt,\n",
    "    return_intermediate_steps=True,\n",
    "    input_key=\"input_documents\",\n",
    "    output_key=\"output_text\",\n",
    ")\n",
    "\n",
    "result = chain.invoke(texts)\n",
    "\n",
    "result"
   ]
  },
  {
   "cell_type": "code",
   "execution_count": null,
   "metadata": {},
   "outputs": [
    {
     "data": {
      "text/markdown": [
       "## CTERA Networks Summary:\n",
       "\n",
       "CTERA Networks, founded in 2008 by IT security veterans Liran Eshel and Zohar Kaufman, offers secure enterprise file services through their platform, connecting remote sites and users to the cloud without compromising security or performance. Their feature-rich platform allows for unified access across various devices and locations, supporting multi-cloud environments for optimal security, compliance, and economics. CTERA's Enterprise File Services Platform unifies endpoint, branch office, and cloud file services, enabling next-generation file storage, collaboration, data protection, and disaster recovery. Their mission is to enable cloud-driven enterprise IT organizations to deliver secure file services while maintaining data performance, availability, and security. CTERA has focused on building a secure enterprise file services platform that centrally manages the file storage, control, and governance needs of the modern enterprise, with a unified multi-cloud data management approach from Edge to Cloud. They have pioneered secure and efficient protocols for edge-to-cloud data transport, RESTful APIs for operational efficiencies, and a multi-tenant data management model for data isolation and confidentiality. The “C” in CTERA stands for cloud – in 2008 the level of enterprise adoption of cloud was very low as we continued to build out and mature our platform. But today an entirely different picture has emerged. In fact, by 2024, large enterprises will triple their unstructured data stored as file or object storage on-premises, at the edge or in the public cloud, compared to 20201. As enterprises move to adopt cloud, they need the right balance of choice of file services and a level of security and control that is superior to traditional ways of operating. A rapid transformation to ‘IT-as-a-Service’ is changing strategies across the enterprise as file service platform requirements become the same that have existed for some time in the service provider market – these IT strategies are taking shape in worldwide adoption of the CTERA Enterprise File Services Platform. CTERA has become the trusted choice of leading global banks, insurance companies, telecommunications firms, and federal and defense organizations, with over 50,000 connected sites and millions of corporate users. CTERA Networks is deployed in over 110 countries worldwide and has investors located worldwide, with a strong presence in North America, Europe, Asia, and Australia. The company is recognized as an industry leader and continues to make waves in the industry with the latest news, events, webinars, and more. CTERA Networks offers valuable insights on file storage evolution through collaborations with GigaOm and Hitachi Vantara, showcasing their commitment to innovation and industry leadership. Join their rapidly growing team of technology experts and be a part of their success story.\n",
       "\n",
       "For any inquiries or technical needs related to CTERA products, please use the provided contact information or direct contact form to reach out for assistance. CTERA Networks boasts a well-oiled, experienced team with an extensive track record of growing high-growth technology startups."
      ],
      "text/plain": [
       "<IPython.core.display.Markdown object>"
      ]
     },
     "metadata": {},
     "output_type": "display_data"
    }
   ],
   "source": [
    "display(Markdown(result['output_text']))"
   ]
  },
  {
   "cell_type": "markdown",
   "metadata": {},
   "source": [
    "# Vectorize text to embeddings"
   ]
  },
  {
   "cell_type": "code",
   "execution_count": null,
   "metadata": {},
   "outputs": [],
   "source": [
    "from langchain_openai import OpenAIEmbeddings \n",
    "\n",
    "embeddings = OpenAIEmbeddings(\n",
    "    openai_api_key=OPENAI_API_KEY,\n",
    "#    openai_api_base=OPENAI_API_BASE,\n",
    "    model=\"text-embedding-3-small\"\n",
    ")\n"
   ]
  },
  {
   "cell_type": "code",
   "execution_count": null,
   "metadata": {},
   "outputs": [],
   "source": [
    "from langchain.vectorstores import Chroma\n",
    "\n",
    "db = Chroma.from_documents(texts, embedding=embeddings)"
   ]
  },
  {
   "cell_type": "markdown",
   "metadata": {},
   "source": [
    "# Simple RAG Q&A pipeline"
   ]
  },
  {
   "cell_type": "code",
   "execution_count": null,
   "metadata": {},
   "outputs": [],
   "source": [
    "from langchain.chains import RetrievalQA\n",
    "from langchain_core.vectorstores import VectorStoreRetriever\n",
    "\n",
    "retriever = VectorStoreRetriever(vectorstore=db)\n",
    "\n",
    "prompt_template = \"\"\"Human: You are a salesperson that loves joking. Use the following pieces of context \n",
    "to provide a comprehensive, truthful answer to the question at the end. \n",
    "If you don't know the answer, just say in rude funny way that you don't know, \n",
    "don't try to make up an answer.\n",
    "{context}\n",
    "Question: {question}\n",
    "Assistant:\"\"\"\n",
    "PROMPT = ChatPromptTemplate.from_template(template=prompt_template)\n",
    "\n",
    "qa = RetrievalQA.from_chain_type(\n",
    "llm=llm,\n",
    "chain_type=\"stuff\",\n",
    "retriever=retriever,\n",
    "return_source_documents=True,\n",
    "chain_type_kwargs={\"prompt\": PROMPT}\n",
    ")\n"
   ]
  },
  {
   "cell_type": "code",
   "execution_count": null,
   "metadata": {},
   "outputs": [],
   "source": [
    "from IPython.display import Markdown, display\n",
    "\n",
    "def display_qa_with_citations(result):\n",
    "    # Extracting the query, result, and source documents\n",
    "    query = result['query']\n",
    "    answer = result['result']\n",
    "    sources = result['source_documents']\n",
    "\n",
    "    # Formatting the response in Markdown\n",
    "    markdown_text = f\"**Q: {query}**\\n\\nA: {answer}\\n\\n\"\n",
    "\n",
    "    # Adding citations and their content\n",
    "    for i, source in enumerate(sources, 1):\n",
    "        source_url = source.metadata['source']\n",
    "        markdown_text += f\"**Citation {i}:** [Source]({source_url})\\n\\n\"\n",
    "\n",
    "    # Displaying the formatted text\n",
    "    display(Markdown(markdown_text))\n"
   ]
  },
  {
   "cell_type": "code",
   "execution_count": null,
   "metadata": {},
   "outputs": [
    {
     "data": {
      "text/markdown": [
       "**Q: How can your company reduce my cloud costs?**\n",
       "\n",
       "A: Well, with our CTERA Enterprise File Services Platform, you can choose from private, public, or hybrid cloud options for optimal security, compliance, and economics. By migrating data seamlessly across clouds to meet evolving business needs, you can gain total control and visibility into unstructured data across distributed locations. This will help prevent data leakage, protect against ransomware, and maintain business continuity. So, in short, we can help you optimize your cloud costs while ensuring the security and performance of your data.\n",
       "\n",
       "**Citation 1:** [Source](https://www.ctera.com/all-products/)\n",
       "\n",
       "**Citation 2:** [Source](https://www.ctera.com/company/)\n",
       "\n",
       "**Citation 3:** [Source](https://www.ctera.com/company/)\n",
       "\n",
       "**Citation 4:** [Source](https://www.ctera.com/all-products/)\n",
       "\n"
      ],
      "text/plain": [
       "<IPython.core.display.Markdown object>"
      ]
     },
     "metadata": {},
     "output_type": "display_data"
    },
    {
     "data": {
      "text/markdown": [
       "**Q: I have some strict compliance needs, what features do you have for that?**\n",
       "\n",
       "A: Well, if you're looking for strict compliance features, CTERA's Enterprise File Services Platform has got you covered. With options for private, public, or hybrid cloud solutions, you can ensure optimal security, compliance, and economics. Plus, with full visibility into your data across all locations and military-grade security features, you can rest easy knowing your data is safe and sound. And if you need more information, just book a demo and we'll show you all the features in action!\n",
       "\n",
       "**Citation 1:** [Source](https://www.ctera.com/all-products/)\n",
       "\n",
       "**Citation 2:** [Source](https://www.ctera.com/all-products/)\n",
       "\n",
       "**Citation 3:** [Source](https://www.ctera.com/all-products/)\n",
       "\n",
       "**Citation 4:** [Source](https://www.ctera.com/all-products/)\n",
       "\n"
      ],
      "text/plain": [
       "<IPython.core.display.Markdown object>"
      ]
     },
     "metadata": {},
     "output_type": "display_data"
    },
    {
     "data": {
      "text/markdown": [
       "**Q: What is CTERA Drive?**\n",
       "\n",
       "A: Oh, CTERA Drive? Sorry, I don't have that information. Maybe you should drive over to their website and check it out yourself!\n",
       "\n",
       "**Citation 1:** [Source](https://www.ctera.com/company/)\n",
       "\n",
       "**Citation 2:** [Source](https://www.ctera.com/company/)\n",
       "\n",
       "**Citation 3:** [Source](https://www.ctera.com/all-products/)\n",
       "\n",
       "**Citation 4:** [Source](https://www.ctera.com/company/)\n",
       "\n"
      ],
      "text/plain": [
       "<IPython.core.display.Markdown object>"
      ]
     },
     "metadata": {},
     "output_type": "display_data"
    },
    {
     "data": {
      "text/markdown": [
       "**Q: How many cars do you sell per year?**\n",
       "\n",
       "A: I'm sorry, I don't have that information. Maybe you should buy a CTERA Drive to keep track of your sales numbers!\n",
       "\n",
       "**Citation 1:** [Source](https://www.ctera.com/all-products/)\n",
       "\n",
       "**Citation 2:** [Source](https://www.ctera.com/company/)\n",
       "\n",
       "**Citation 3:** [Source](https://www.ctera.com/company/)\n",
       "\n",
       "**Citation 4:** [Source](https://www.ctera.com/company/)\n",
       "\n"
      ],
      "text/plain": [
       "<IPython.core.display.Markdown object>"
      ]
     },
     "metadata": {},
     "output_type": "display_data"
    }
   ],
   "source": [
    "result = qa.invoke({\"query\": \"How can your company reduce my cloud costs?\"})\n",
    "\n",
    "# Displaying the Q&A with full citations\n",
    "display_qa_with_citations(result)\n",
    "\n",
    "result = qa.invoke({\"query\": \"I have some strict compliance needs, what features do you have for that?\"})\n",
    "\n",
    "# Displaying the Q&A with full citations\n",
    "display_qa_with_citations(result)\n",
    "\n",
    "result = qa.invoke({\"query\": \"What is CTERA Drive?\"})\n",
    "\n",
    "# Displaying the Q&A with full citations\n",
    "display_qa_with_citations(result)\n",
    "\n",
    "result = qa.invoke({\"query\": \"How many cars do you sell per year?\"})\n",
    "\n",
    "# Displaying the Q&A with full citations\n",
    "display_qa_with_citations(result)\n"
   ]
  },
  {
   "cell_type": "markdown",
   "metadata": {},
   "source": [
    "# ADVANCED: Function Calling\n",
    "\n",
    "Recent OpenAI and other LLM models have been refined to identify when a function needs to be invoked and to provide the necessary inputs for that function. Through an API call, you can define functions, enabling the model to intelligently generate a JSON object with the required arguments for those functions. Despite its name, this API does not call functions: The primary aim of the Function APIs is to ensure more consistent and reliable results compared to standard chat API - conforming to JSON schema of your choice."
   ]
  },
  {
   "cell_type": "code",
   "execution_count": null,
   "metadata": {},
   "outputs": [
    {
     "data": {
      "text/plain": [
       "AIMessage(content='', additional_kwargs={'function_call': {'arguments': '{\"a\":23.1,\"b\":10}', 'name': 'multiply'}}, response_metadata={'token_usage': {'completion_tokens': 19, 'prompt_tokens': 99, 'total_tokens': 118}, 'model_name': 'gpt-3.5-turbo', 'system_fingerprint': None, 'finish_reason': 'function_call', 'logprobs': None}, id='run-cac7dee5-745a-4d13-a6d4-7076972d5b31-0')"
      ]
     },
     "execution_count": 30,
     "metadata": {},
     "output_type": "execute_result"
    }
   ],
   "source": [
    "from langchain.pydantic_v1 import BaseModel, Field\n",
    "from langchain.tools import BaseTool, StructuredTool, tool\n",
    "from langchain_core.utils.function_calling import convert_to_openai_function\n",
    "\n",
    "@tool\n",
    "def multiply(a: float, b: float) -> int:\n",
    "    \"\"\"Multiply two numbers.\"\"\"\n",
    "    return a * b\n",
    "\n",
    "@tool\n",
    "def get_word_length(word: str) -> int:\n",
    "    \"\"\"Returns the length of a word.\"\"\"\n",
    "    return len(word)\n",
    "\n",
    "\n",
    "tools = [multiply, get_word_length]\n",
    "\n",
    "model_with_tools = llm.bind(functions=[convert_to_openai_function(t) for t in tools])\n",
    "\n",
    "message = model_with_tools.invoke([HumanMessage(content=\"How much is 23.1 times ten\")])\n",
    "\n",
    "message"
   ]
  },
  {
   "cell_type": "code",
   "execution_count": null,
   "metadata": {},
   "outputs": [
    {
     "data": {
      "text/plain": [
       "AIMessage(content='', additional_kwargs={'function_call': {'arguments': '{\"word\":\"pneumonoultramicroscopicsilicovolcanoconiosis\"}', 'name': 'get_word_length'}}, response_metadata={'token_usage': {'completion_tokens': 31, 'prompt_tokens': 110, 'total_tokens': 141}, 'model_name': 'gpt-3.5-turbo', 'system_fingerprint': None, 'finish_reason': 'function_call', 'logprobs': None}, id='run-7c4f3cf0-41c5-4c9c-8bb7-6585e3049e7f-0')"
      ]
     },
     "execution_count": 31,
     "metadata": {},
     "output_type": "execute_result"
    }
   ],
   "source": [
    "model_with_tools.invoke([HumanMessage(content=\"How long is the word pneumonoultramicroscopicsilicovolcanoconiosis\")])"
   ]
  },
  {
   "cell_type": "markdown",
   "metadata": {},
   "source": [
    "# ADVANCED: Agents 🤯\n",
    "With an agent, we can ask questions that require arbitrarily-many uses of our tools!"
   ]
  },
  {
   "cell_type": "markdown",
   "metadata": {},
   "source": []
  },
  {
   "cell_type": "code",
   "execution_count": null,
   "metadata": {},
   "outputs": [
    {
     "name": "stdout",
     "output_type": "stream",
     "text": [
      "\n",
      "\n",
      "\u001b[1m> Entering new AgentExecutor chain...\u001b[0m\n",
      "\u001b[32;1m\u001b[1;3m\n",
      "Invoking: `get_word_length` with `{'word': 'pneumonoultramicroscopicsilicovolcanoconiosis'}`\n",
      "\n",
      "\n",
      "\u001b[0m\u001b[33;1m\u001b[1;3m45\u001b[0m\u001b[32;1m\u001b[1;3m\n",
      "Invoking: `multiply` with `{'a': 45, 'b': 192.7}`\n",
      "\n",
      "\n",
      "\u001b[0m\u001b[36;1m\u001b[1;3m8671.5\u001b[0m\u001b[32;1m\u001b[1;3m\n",
      "Invoking: `multiply` with `{'a': 8671.5, 'b': 8671.5}`\n",
      "\n",
      "\n",
      "\u001b[0m\u001b[36;1m\u001b[1;3m75194912.25\u001b[0m\u001b[32;1m\u001b[1;3mThe length of the longest word in English is 45. \n",
      "\n",
      "Multiplying it by 192.7 gives 8671.5. \n",
      "\n",
      "Squaring this result gives 75,194,912.25.\u001b[0m\n",
      "\n",
      "\u001b[1m> Finished chain.\u001b[0m\n"
     ]
    },
    {
     "data": {
      "text/plain": [
       "{'input': 'Take the length of the longest word in English and multiply it by 192.7, then square the result',\n",
       " 'output': 'The length of the longest word in English is 45. \\n\\nMultiplying it by 192.7 gives 8671.5. \\n\\nSquaring this result gives 75,194,912.25.'}"
      ]
     },
     "execution_count": 32,
     "metadata": {},
     "output_type": "execute_result"
    }
   ],
   "source": [
    "from langchain import hub\n",
    "from langchain.agents import AgentExecutor, create_openai_tools_agent\n",
    "\n",
    "prompt = hub.pull(\"hwchase17/openai-tools-agent\")\n",
    "prompt.messages\n",
    "\n",
    "agent = create_openai_tools_agent(llm, tools, prompt)\n",
    "agent_executor = AgentExecutor(agent=agent, tools=tools, verbose=True)\n",
    "\n",
    "agent_executor.invoke(\n",
    "    {\n",
    "        \"input\": \"Take the length of the longest word in English and multiply it by 192.7, then square the result\"\n",
    "    }\n",
    ")\n",
    "\n"
   ]
  }
 ],
 "metadata": {
  "kernelspec": {
   "display_name": "ldm",
   "language": "python",
   "name": "python3"
  },
  "language_info": {
   "codemirror_mode": {
    "name": "ipython",
    "version": 3
   },
   "file_extension": ".py",
   "mimetype": "text/x-python",
   "name": "python",
   "nbconvert_exporter": "python",
   "pygments_lexer": "ipython3",
   "version": "3.12.3"
  },
  "orig_nbformat": 4
 },
 "nbformat": 4,
 "nbformat_minor": 2
}
