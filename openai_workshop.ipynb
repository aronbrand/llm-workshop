{
 "cells": [
  {
   "cell_type": "markdown",
   "metadata": {},
   "source": [
    "# LLM Workshop Notebook - OpenAI Version\n",
    "\n",
    "**Author:** Aron Brand\n",
    "\n",
    "**Copyright (c) 2024**\n",
    "\n",
    "This notebook is an integral part of Aron Brand's LLM Workshop, designed to explore and utilize the capabilities of large language models (LLMs).\n",
    "\n",
    "**License:**\n",
    "\n",
    "This program is free software: you are encouraged to redistribute and/or modify it under the terms of the GNU General Public License as published by the Free Software Foundation. This software is provided under either version 3 of the License, or (at your discretion) any later version.\n",
    "\n",
    "The program is distributed in the hope that it will be useful and informative. However, it comes with no warranty; not even the implied warranty of merchantability or fitness for a particular purpose. For more details, please refer to the GNU General Public License.\n",
    "\n",
    "For a copy of the GNU General Public License, please visit [https://www.gnu.org/licenses/](https://www.gnu.org/licenses/)."
   ]
  },
  {
   "cell_type": "markdown",
   "metadata": {},
   "source": [
    "# Install dependencies"
   ]
  },
  {
   "cell_type": "code",
   "execution_count": 1,
   "metadata": {},
   "outputs": [
    {
     "name": "stdout",
     "output_type": "stream",
     "text": [
      "Requirement already satisfied: openai in ./venv/lib/python3.12/site-packages (1.26.0)\n",
      "Requirement already satisfied: langchain in ./venv/lib/python3.12/site-packages (0.1.17)\n",
      "Requirement already satisfied: langchain-openai in ./venv/lib/python3.12/site-packages (0.1.6)\n",
      "Requirement already satisfied: unstructured in ./venv/lib/python3.12/site-packages (0.11.8)\n",
      "Requirement already satisfied: chromadb in ./venv/lib/python3.12/site-packages (0.5.0)\n",
      "Requirement already satisfied: langchainhub in ./venv/lib/python3.12/site-packages (0.1.15)\n",
      "Requirement already satisfied: libmagic in ./venv/lib/python3.12/site-packages (1.0)\n",
      "Requirement already satisfied: anyio<5,>=3.5.0 in ./venv/lib/python3.12/site-packages (from openai) (4.3.0)\n",
      "Requirement already satisfied: distro<2,>=1.7.0 in ./venv/lib/python3.12/site-packages (from openai) (1.9.0)\n",
      "Requirement already satisfied: httpx<1,>=0.23.0 in ./venv/lib/python3.12/site-packages (from openai) (0.27.0)\n",
      "Requirement already satisfied: pydantic<3,>=1.9.0 in ./venv/lib/python3.12/site-packages (from openai) (2.7.1)\n",
      "Requirement already satisfied: sniffio in ./venv/lib/python3.12/site-packages (from openai) (1.3.1)\n",
      "Requirement already satisfied: tqdm>4 in ./venv/lib/python3.12/site-packages (from openai) (4.66.4)\n",
      "Requirement already satisfied: typing-extensions<5,>=4.7 in ./venv/lib/python3.12/site-packages (from openai) (4.11.0)\n",
      "Requirement already satisfied: PyYAML>=5.3 in ./venv/lib/python3.12/site-packages (from langchain) (6.0.1)\n",
      "Requirement already satisfied: SQLAlchemy<3,>=1.4 in ./venv/lib/python3.12/site-packages (from langchain) (2.0.30)\n",
      "Requirement already satisfied: aiohttp<4.0.0,>=3.8.3 in ./venv/lib/python3.12/site-packages (from langchain) (3.9.5)\n",
      "Requirement already satisfied: dataclasses-json<0.7,>=0.5.7 in ./venv/lib/python3.12/site-packages (from langchain) (0.6.5)\n",
      "Requirement already satisfied: jsonpatch<2.0,>=1.33 in ./venv/lib/python3.12/site-packages (from langchain) (1.33)\n",
      "Requirement already satisfied: langchain-community<0.1,>=0.0.36 in ./venv/lib/python3.12/site-packages (from langchain) (0.0.37)\n",
      "Requirement already satisfied: langchain-core<0.2.0,>=0.1.48 in ./venv/lib/python3.12/site-packages (from langchain) (0.1.51)\n",
      "Requirement already satisfied: langchain-text-splitters<0.1,>=0.0.1 in ./venv/lib/python3.12/site-packages (from langchain) (0.0.1)\n",
      "Requirement already satisfied: langsmith<0.2.0,>=0.1.17 in ./venv/lib/python3.12/site-packages (from langchain) (0.1.54)\n",
      "Requirement already satisfied: numpy<2,>=1 in ./venv/lib/python3.12/site-packages (from langchain) (1.26.4)\n",
      "Requirement already satisfied: requests<3,>=2 in ./venv/lib/python3.12/site-packages (from langchain) (2.31.0)\n",
      "Requirement already satisfied: tenacity<9.0.0,>=8.1.0 in ./venv/lib/python3.12/site-packages (from langchain) (8.2.3)\n",
      "Requirement already satisfied: tiktoken<1,>=0.5.2 in ./venv/lib/python3.12/site-packages (from langchain-openai) (0.6.0)\n",
      "Requirement already satisfied: chardet in ./venv/lib/python3.12/site-packages (from unstructured) (5.2.0)\n",
      "Requirement already satisfied: filetype in ./venv/lib/python3.12/site-packages (from unstructured) (1.2.0)\n",
      "Requirement already satisfied: python-magic in ./venv/lib/python3.12/site-packages (from unstructured) (0.4.27)\n",
      "Requirement already satisfied: lxml in ./venv/lib/python3.12/site-packages (from unstructured) (5.2.1)\n",
      "Requirement already satisfied: nltk in ./venv/lib/python3.12/site-packages (from unstructured) (3.8.1)\n",
      "Requirement already satisfied: tabulate in ./venv/lib/python3.12/site-packages (from unstructured) (0.9.0)\n",
      "Requirement already satisfied: beautifulsoup4 in ./venv/lib/python3.12/site-packages (from unstructured) (4.12.3)\n",
      "Requirement already satisfied: emoji in ./venv/lib/python3.12/site-packages (from unstructured) (2.11.1)\n",
      "Requirement already satisfied: python-iso639 in ./venv/lib/python3.12/site-packages (from unstructured) (2024.4.27)\n",
      "Requirement already satisfied: langdetect in ./venv/lib/python3.12/site-packages (from unstructured) (1.0.9)\n",
      "Requirement already satisfied: rapidfuzz in ./venv/lib/python3.12/site-packages (from unstructured) (3.9.0)\n",
      "Requirement already satisfied: backoff in ./venv/lib/python3.12/site-packages (from unstructured) (2.2.1)\n",
      "Requirement already satisfied: unstructured-client in ./venv/lib/python3.12/site-packages (from unstructured) (0.22.0)\n",
      "Requirement already satisfied: wrapt in ./venv/lib/python3.12/site-packages (from unstructured) (1.16.0)\n",
      "Requirement already satisfied: build>=1.0.3 in ./venv/lib/python3.12/site-packages (from chromadb) (1.2.1)\n",
      "Requirement already satisfied: chroma-hnswlib==0.7.3 in ./venv/lib/python3.12/site-packages (from chromadb) (0.7.3)\n",
      "Requirement already satisfied: fastapi>=0.95.2 in ./venv/lib/python3.12/site-packages (from chromadb) (0.111.0)\n",
      "Requirement already satisfied: uvicorn>=0.18.3 in ./venv/lib/python3.12/site-packages (from uvicorn[standard]>=0.18.3->chromadb) (0.29.0)\n",
      "Requirement already satisfied: posthog>=2.4.0 in ./venv/lib/python3.12/site-packages (from chromadb) (3.5.0)\n",
      "Requirement already satisfied: onnxruntime>=1.14.1 in ./venv/lib/python3.12/site-packages (from chromadb) (1.17.3)\n",
      "Requirement already satisfied: opentelemetry-api>=1.2.0 in ./venv/lib/python3.12/site-packages (from chromadb) (1.24.0)\n",
      "Requirement already satisfied: opentelemetry-exporter-otlp-proto-grpc>=1.2.0 in ./venv/lib/python3.12/site-packages (from chromadb) (1.24.0)\n",
      "Requirement already satisfied: opentelemetry-instrumentation-fastapi>=0.41b0 in ./venv/lib/python3.12/site-packages (from chromadb) (0.45b0)\n",
      "Requirement already satisfied: opentelemetry-sdk>=1.2.0 in ./venv/lib/python3.12/site-packages (from chromadb) (1.24.0)\n",
      "Requirement already satisfied: tokenizers>=0.13.2 in ./venv/lib/python3.12/site-packages (from chromadb) (0.19.1)\n",
      "Requirement already satisfied: pypika>=0.48.9 in ./venv/lib/python3.12/site-packages (from chromadb) (0.48.9)\n",
      "Requirement already satisfied: overrides>=7.3.1 in ./venv/lib/python3.12/site-packages (from chromadb) (7.7.0)\n",
      "Requirement already satisfied: importlib-resources in ./venv/lib/python3.12/site-packages (from chromadb) (6.4.0)\n",
      "Requirement already satisfied: grpcio>=1.58.0 in ./venv/lib/python3.12/site-packages (from chromadb) (1.63.0)\n",
      "Requirement already satisfied: bcrypt>=4.0.1 in ./venv/lib/python3.12/site-packages (from chromadb) (4.1.3)\n",
      "Requirement already satisfied: typer>=0.9.0 in ./venv/lib/python3.12/site-packages (from chromadb) (0.12.3)\n",
      "Requirement already satisfied: kubernetes>=28.1.0 in ./venv/lib/python3.12/site-packages (from chromadb) (29.0.0)\n",
      "Requirement already satisfied: mmh3>=4.0.1 in ./venv/lib/python3.12/site-packages (from chromadb) (4.1.0)\n",
      "Requirement already satisfied: orjson>=3.9.12 in ./venv/lib/python3.12/site-packages (from chromadb) (3.10.3)\n",
      "Requirement already satisfied: types-requests<3.0.0.0,>=2.31.0.2 in ./venv/lib/python3.12/site-packages (from langchainhub) (2.31.0.20240406)\n",
      "Requirement already satisfied: aiosignal>=1.1.2 in ./venv/lib/python3.12/site-packages (from aiohttp<4.0.0,>=3.8.3->langchain) (1.3.1)\n",
      "Requirement already satisfied: attrs>=17.3.0 in ./venv/lib/python3.12/site-packages (from aiohttp<4.0.0,>=3.8.3->langchain) (23.2.0)\n",
      "Requirement already satisfied: frozenlist>=1.1.1 in ./venv/lib/python3.12/site-packages (from aiohttp<4.0.0,>=3.8.3->langchain) (1.4.1)\n",
      "Requirement already satisfied: multidict<7.0,>=4.5 in ./venv/lib/python3.12/site-packages (from aiohttp<4.0.0,>=3.8.3->langchain) (6.0.5)\n",
      "Requirement already satisfied: yarl<2.0,>=1.0 in ./venv/lib/python3.12/site-packages (from aiohttp<4.0.0,>=3.8.3->langchain) (1.9.4)\n",
      "Requirement already satisfied: idna>=2.8 in ./venv/lib/python3.12/site-packages (from anyio<5,>=3.5.0->openai) (3.7)\n",
      "Requirement already satisfied: packaging>=19.1 in ./venv/lib/python3.12/site-packages (from build>=1.0.3->chromadb) (23.2)\n",
      "Requirement already satisfied: pyproject_hooks in ./venv/lib/python3.12/site-packages (from build>=1.0.3->chromadb) (1.1.0)\n",
      "Requirement already satisfied: marshmallow<4.0.0,>=3.18.0 in ./venv/lib/python3.12/site-packages (from dataclasses-json<0.7,>=0.5.7->langchain) (3.21.2)\n",
      "Requirement already satisfied: typing-inspect<1,>=0.4.0 in ./venv/lib/python3.12/site-packages (from dataclasses-json<0.7,>=0.5.7->langchain) (0.9.0)\n",
      "Requirement already satisfied: starlette<0.38.0,>=0.37.2 in ./venv/lib/python3.12/site-packages (from fastapi>=0.95.2->chromadb) (0.37.2)\n",
      "Requirement already satisfied: fastapi-cli>=0.0.2 in ./venv/lib/python3.12/site-packages (from fastapi>=0.95.2->chromadb) (0.0.2)\n",
      "Requirement already satisfied: jinja2>=2.11.2 in ./venv/lib/python3.12/site-packages (from fastapi>=0.95.2->chromadb) (3.1.4)\n",
      "Requirement already satisfied: python-multipart>=0.0.7 in ./venv/lib/python3.12/site-packages (from fastapi>=0.95.2->chromadb) (0.0.9)\n",
      "Requirement already satisfied: ujson!=4.0.2,!=4.1.0,!=4.2.0,!=4.3.0,!=5.0.0,!=5.1.0,>=4.0.1 in ./venv/lib/python3.12/site-packages (from fastapi>=0.95.2->chromadb) (5.9.0)\n",
      "Requirement already satisfied: email_validator>=2.0.0 in ./venv/lib/python3.12/site-packages (from fastapi>=0.95.2->chromadb) (2.1.1)\n",
      "Requirement already satisfied: certifi in ./venv/lib/python3.12/site-packages (from httpx<1,>=0.23.0->openai) (2024.2.2)\n",
      "Requirement already satisfied: httpcore==1.* in ./venv/lib/python3.12/site-packages (from httpx<1,>=0.23.0->openai) (1.0.5)\n",
      "Requirement already satisfied: h11<0.15,>=0.13 in ./venv/lib/python3.12/site-packages (from httpcore==1.*->httpx<1,>=0.23.0->openai) (0.14.0)\n",
      "Requirement already satisfied: jsonpointer>=1.9 in ./venv/lib/python3.12/site-packages (from jsonpatch<2.0,>=1.33->langchain) (2.4)\n",
      "Requirement already satisfied: six>=1.9.0 in ./venv/lib/python3.12/site-packages (from kubernetes>=28.1.0->chromadb) (1.16.0)\n",
      "Requirement already satisfied: python-dateutil>=2.5.3 in ./venv/lib/python3.12/site-packages (from kubernetes>=28.1.0->chromadb) (2.9.0.post0)\n",
      "Requirement already satisfied: google-auth>=1.0.1 in ./venv/lib/python3.12/site-packages (from kubernetes>=28.1.0->chromadb) (2.29.0)\n",
      "Requirement already satisfied: websocket-client!=0.40.0,!=0.41.*,!=0.42.*,>=0.32.0 in ./venv/lib/python3.12/site-packages (from kubernetes>=28.1.0->chromadb) (1.8.0)\n",
      "Requirement already satisfied: requests-oauthlib in ./venv/lib/python3.12/site-packages (from kubernetes>=28.1.0->chromadb) (2.0.0)\n",
      "Requirement already satisfied: oauthlib>=3.2.2 in ./venv/lib/python3.12/site-packages (from kubernetes>=28.1.0->chromadb) (3.2.2)\n",
      "Requirement already satisfied: urllib3>=1.24.2 in ./venv/lib/python3.12/site-packages (from kubernetes>=28.1.0->chromadb) (2.2.1)\n",
      "Requirement already satisfied: coloredlogs in ./venv/lib/python3.12/site-packages (from onnxruntime>=1.14.1->chromadb) (15.0.1)\n",
      "Requirement already satisfied: flatbuffers in ./venv/lib/python3.12/site-packages (from onnxruntime>=1.14.1->chromadb) (24.3.25)\n",
      "Requirement already satisfied: protobuf in ./venv/lib/python3.12/site-packages (from onnxruntime>=1.14.1->chromadb) (4.25.3)\n",
      "Requirement already satisfied: sympy in ./venv/lib/python3.12/site-packages (from onnxruntime>=1.14.1->chromadb) (1.12)\n",
      "Requirement already satisfied: deprecated>=1.2.6 in ./venv/lib/python3.12/site-packages (from opentelemetry-api>=1.2.0->chromadb) (1.2.14)\n",
      "Requirement already satisfied: importlib-metadata<=7.0,>=6.0 in ./venv/lib/python3.12/site-packages (from opentelemetry-api>=1.2.0->chromadb) (7.0.0)\n",
      "Requirement already satisfied: googleapis-common-protos~=1.52 in ./venv/lib/python3.12/site-packages (from opentelemetry-exporter-otlp-proto-grpc>=1.2.0->chromadb) (1.63.0)\n",
      "Requirement already satisfied: opentelemetry-exporter-otlp-proto-common==1.24.0 in ./venv/lib/python3.12/site-packages (from opentelemetry-exporter-otlp-proto-grpc>=1.2.0->chromadb) (1.24.0)\n",
      "Requirement already satisfied: opentelemetry-proto==1.24.0 in ./venv/lib/python3.12/site-packages (from opentelemetry-exporter-otlp-proto-grpc>=1.2.0->chromadb) (1.24.0)\n",
      "Requirement already satisfied: opentelemetry-instrumentation-asgi==0.45b0 in ./venv/lib/python3.12/site-packages (from opentelemetry-instrumentation-fastapi>=0.41b0->chromadb) (0.45b0)\n",
      "Requirement already satisfied: opentelemetry-instrumentation==0.45b0 in ./venv/lib/python3.12/site-packages (from opentelemetry-instrumentation-fastapi>=0.41b0->chromadb) (0.45b0)\n",
      "Requirement already satisfied: opentelemetry-semantic-conventions==0.45b0 in ./venv/lib/python3.12/site-packages (from opentelemetry-instrumentation-fastapi>=0.41b0->chromadb) (0.45b0)\n",
      "Requirement already satisfied: opentelemetry-util-http==0.45b0 in ./venv/lib/python3.12/site-packages (from opentelemetry-instrumentation-fastapi>=0.41b0->chromadb) (0.45b0)\n",
      "Requirement already satisfied: setuptools>=16.0 in ./venv/lib/python3.12/site-packages (from opentelemetry-instrumentation==0.45b0->opentelemetry-instrumentation-fastapi>=0.41b0->chromadb) (69.5.1)\n",
      "Requirement already satisfied: asgiref~=3.0 in ./venv/lib/python3.12/site-packages (from opentelemetry-instrumentation-asgi==0.45b0->opentelemetry-instrumentation-fastapi>=0.41b0->chromadb) (3.8.1)\n",
      "Requirement already satisfied: monotonic>=1.5 in ./venv/lib/python3.12/site-packages (from posthog>=2.4.0->chromadb) (1.6)\n",
      "Requirement already satisfied: annotated-types>=0.4.0 in ./venv/lib/python3.12/site-packages (from pydantic<3,>=1.9.0->openai) (0.6.0)\n",
      "Requirement already satisfied: pydantic-core==2.18.2 in ./venv/lib/python3.12/site-packages (from pydantic<3,>=1.9.0->openai) (2.18.2)\n",
      "Requirement already satisfied: charset-normalizer<4,>=2 in ./venv/lib/python3.12/site-packages (from requests<3,>=2->langchain) (3.3.2)\n",
      "Requirement already satisfied: regex>=2022.1.18 in ./venv/lib/python3.12/site-packages (from tiktoken<1,>=0.5.2->langchain-openai) (2024.4.28)\n",
      "Requirement already satisfied: huggingface-hub<1.0,>=0.16.4 in ./venv/lib/python3.12/site-packages (from tokenizers>=0.13.2->chromadb) (0.23.0)\n",
      "Requirement already satisfied: click>=8.0.0 in ./venv/lib/python3.12/site-packages (from typer>=0.9.0->chromadb) (8.1.7)\n",
      "Requirement already satisfied: shellingham>=1.3.0 in ./venv/lib/python3.12/site-packages (from typer>=0.9.0->chromadb) (1.5.4)\n",
      "Requirement already satisfied: rich>=10.11.0 in ./venv/lib/python3.12/site-packages (from typer>=0.9.0->chromadb) (13.7.1)\n",
      "Requirement already satisfied: httptools>=0.5.0 in ./venv/lib/python3.12/site-packages (from uvicorn[standard]>=0.18.3->chromadb) (0.6.1)\n",
      "Requirement already satisfied: python-dotenv>=0.13 in ./venv/lib/python3.12/site-packages (from uvicorn[standard]>=0.18.3->chromadb) (1.0.1)\n",
      "Requirement already satisfied: uvloop!=0.15.0,!=0.15.1,>=0.14.0 in ./venv/lib/python3.12/site-packages (from uvicorn[standard]>=0.18.3->chromadb) (0.19.0)\n",
      "Requirement already satisfied: watchfiles>=0.13 in ./venv/lib/python3.12/site-packages (from uvicorn[standard]>=0.18.3->chromadb) (0.21.0)\n",
      "Requirement already satisfied: websockets>=10.4 in ./venv/lib/python3.12/site-packages (from uvicorn[standard]>=0.18.3->chromadb) (12.0)\n",
      "Requirement already satisfied: soupsieve>1.2 in ./venv/lib/python3.12/site-packages (from beautifulsoup4->unstructured) (2.5)\n",
      "Requirement already satisfied: joblib in ./venv/lib/python3.12/site-packages (from nltk->unstructured) (1.4.2)\n",
      "Requirement already satisfied: deepdiff>=6.0 in ./venv/lib/python3.12/site-packages (from unstructured-client->unstructured) (7.0.1)\n",
      "Requirement already satisfied: jsonpath-python>=1.0.6 in ./venv/lib/python3.12/site-packages (from unstructured-client->unstructured) (1.0.6)\n",
      "Requirement already satisfied: mypy-extensions>=1.0.0 in ./venv/lib/python3.12/site-packages (from unstructured-client->unstructured) (1.0.0)\n",
      "Requirement already satisfied: pypdf>=4.0 in ./venv/lib/python3.12/site-packages (from unstructured-client->unstructured) (4.2.0)\n",
      "Requirement already satisfied: ordered-set<4.2.0,>=4.1.0 in ./venv/lib/python3.12/site-packages (from deepdiff>=6.0->unstructured-client->unstructured) (4.1.0)\n",
      "Requirement already satisfied: dnspython>=2.0.0 in ./venv/lib/python3.12/site-packages (from email_validator>=2.0.0->fastapi>=0.95.2->chromadb) (2.6.1)\n",
      "Requirement already satisfied: cachetools<6.0,>=2.0.0 in ./venv/lib/python3.12/site-packages (from google-auth>=1.0.1->kubernetes>=28.1.0->chromadb) (5.3.3)\n",
      "Requirement already satisfied: pyasn1-modules>=0.2.1 in ./venv/lib/python3.12/site-packages (from google-auth>=1.0.1->kubernetes>=28.1.0->chromadb) (0.4.0)\n",
      "Requirement already satisfied: rsa<5,>=3.1.4 in ./venv/lib/python3.12/site-packages (from google-auth>=1.0.1->kubernetes>=28.1.0->chromadb) (4.9)\n",
      "Requirement already satisfied: filelock in ./venv/lib/python3.12/site-packages (from huggingface-hub<1.0,>=0.16.4->tokenizers>=0.13.2->chromadb) (3.14.0)\n",
      "Requirement already satisfied: fsspec>=2023.5.0 in ./venv/lib/python3.12/site-packages (from huggingface-hub<1.0,>=0.16.4->tokenizers>=0.13.2->chromadb) (2024.3.1)\n",
      "Requirement already satisfied: zipp>=0.5 in ./venv/lib/python3.12/site-packages (from importlib-metadata<=7.0,>=6.0->opentelemetry-api>=1.2.0->chromadb) (3.18.1)\n",
      "Requirement already satisfied: MarkupSafe>=2.0 in ./venv/lib/python3.12/site-packages (from jinja2>=2.11.2->fastapi>=0.95.2->chromadb) (2.1.5)\n",
      "Requirement already satisfied: markdown-it-py>=2.2.0 in ./venv/lib/python3.12/site-packages (from rich>=10.11.0->typer>=0.9.0->chromadb) (3.0.0)\n",
      "Requirement already satisfied: pygments<3.0.0,>=2.13.0 in ./venv/lib/python3.12/site-packages (from rich>=10.11.0->typer>=0.9.0->chromadb) (2.18.0)\n",
      "Requirement already satisfied: humanfriendly>=9.1 in ./venv/lib/python3.12/site-packages (from coloredlogs->onnxruntime>=1.14.1->chromadb) (10.0)\n",
      "Requirement already satisfied: mpmath>=0.19 in ./venv/lib/python3.12/site-packages (from sympy->onnxruntime>=1.14.1->chromadb) (1.3.0)\n",
      "Requirement already satisfied: mdurl~=0.1 in ./venv/lib/python3.12/site-packages (from markdown-it-py>=2.2.0->rich>=10.11.0->typer>=0.9.0->chromadb) (0.1.2)\n",
      "Requirement already satisfied: pyasn1<0.7.0,>=0.4.6 in ./venv/lib/python3.12/site-packages (from pyasn1-modules>=0.2.1->google-auth>=1.0.1->kubernetes>=28.1.0->chromadb) (0.6.0)\n",
      "Note: you may need to restart the kernel to use updated packages.\n"
     ]
    }
   ],
   "source": [
    "%pip install openai langchain langchain-openai chromadb langchainhub selenium --upgrade"
   ]
  },
  {
   "cell_type": "markdown",
   "metadata": {},
   "source": [
    "## Configuration Setup for Notebook Usage\n",
    "It is not recommended to include secrets in your notebook. Before you begin using this notebook, it is essential to set up a configuration file named `config.ini`. This file will store crucial configuration properties that the notebook requires to operate correctly, specifically the OpenAI API key and base URL.\n",
    "\n",
    "### Creating the `config.ini` File\n",
    "\n",
    "1. Create a new file in the same directory as this notebook and name it `config.ini`.\n",
    "\n",
    "2. Open the file in a text editor.\n",
    "\n",
    "3. Add the following structure to the file:\n",
    "\n",
    "   ```ini\n",
    "   [openai]\n",
    "   OPENAI_API_KEY = your_api_key_here\n",
    "   OPENAI_API_BASE = your_api_base_url_here\n",
    "\n",
    "The OpenAI API base URL looks something similar to this : \n",
    "https://apim-dev-eastus-yourcompany.azure-api.net/Example-Project/openai\n"
   ]
  },
  {
   "cell_type": "code",
   "execution_count": 2,
   "metadata": {},
   "outputs": [],
   "source": [
    "import configparser\n",
    "\n",
    "# Create a ConfigParser object\n",
    "config = configparser.ConfigParser()\n",
    "\n",
    "# Read the configuration file\n",
    "config.read('config.ini')\n",
    "\n",
    "# Access the values\n",
    "OPENAI_API_KEY = config['openai']['OPENAI_API_KEY']\n",
    "#OPENAI_API_BASE = config['openai']['OPENAI_API_BASE']"
   ]
  },
  {
   "cell_type": "markdown",
   "metadata": {},
   "source": [
    "# Initialize ChatOpenAI"
   ]
  },
  {
   "cell_type": "code",
   "execution_count": 3,
   "metadata": {},
   "outputs": [],
   "source": [
    "from langchain_openai import ChatOpenAI\n",
    "\n",
    "llm = ChatOpenAI(\n",
    "    openai_api_key=OPENAI_API_KEY,\n",
    "    model_name=\"gpt-3.5-turbo\",\n",
    "    temperature=0.2\n",
    ")"
   ]
  },
  {
   "cell_type": "markdown",
   "metadata": {},
   "source": [
    "# Your first LangChain \"Hello World\""
   ]
  },
  {
   "cell_type": "code",
   "execution_count": 4,
   "metadata": {},
   "outputs": [
    {
     "name": "stdout",
     "output_type": "stream",
     "text": [
      "==================================\u001b[1m Ai Message \u001b[0m==================================\n",
      "\n",
      "Why did the scarecrow win an award? Because he was outstanding in his field!\n"
     ]
    }
   ],
   "source": [
    "from langchain.schema import HumanMessage, AIMessage, SystemMessage\n",
    "\n",
    "messages = [HumanMessage(content=\"Tell me a joke\")]\n",
    "response = llm.invoke(messages)\n",
    "\n",
    "response.pretty_print() "
   ]
  },
  {
   "cell_type": "markdown",
   "metadata": {},
   "source": [
    "# Add a System Message\n",
    "\n",
    "A system prompt is a string used to provide context and guidelines to a Large Language Model (LLM), which helps in setting specific objectives or roles before posing questions or assigning tasks. Key components of system prompts include:\n",
    "\n",
    "- **Task Directives:** Detailed instructions for the specific task at hand.\n",
    "- **Personalization:** Elements like adopting a specific role or tone for the LLM.\n",
    "- **Contextual Background:** Relevant information that informs the user's query.\n",
    "- **Creative Constraints:** Style recommendations and limitations, such as a focus on brevity.\n",
    "- **External Knowledge and Data:** Incorporation of resources like FAQ documents or guidelines.\n",
    "- **Rules and Safety Guardrails:** Established protocols to ensure the model's safe and appropriate use.\n",
    "- **Output Verification Standards:** Protocols such as requesting citations or explicating reasoning processes to enhance the credibility of the responses.\n"
   ]
  },
  {
   "cell_type": "code",
   "execution_count": 5,
   "metadata": {},
   "outputs": [
    {
     "name": "stdout",
     "output_type": "stream",
     "text": [
      "==================================\u001b[1m Ai Message \u001b[0m==================================\n",
      "\n",
      "Langchain is a terrible piece of software.\n"
     ]
    }
   ],
   "source": [
    "messages = [ \n",
    "  SystemMessage(content=\"Say the opposite of what the user says in a very impolite way\"), \n",
    "  HumanMessage(content=\"Langchain is an awesome piece of software.\") \n",
    "]\n",
    "\n",
    "response = llm.invoke(messages)\n",
    "\n",
    "response.pretty_print() "
   ]
  },
  {
   "cell_type": "markdown",
   "metadata": {},
   "source": [
    "# Continue a Chat"
   ]
  },
  {
   "cell_type": "code",
   "execution_count": 6,
   "metadata": {},
   "outputs": [
    {
     "name": "stdout",
     "output_type": "stream",
     "text": [
      "==================================\u001b[1m Ai Message \u001b[0m==================================\n",
      "\n",
      "Arrr, me creators be the scallywags at OpenAI who gave me this fine moniker. They be a clever bunch, they be. Now, what be yer next command, Captain Aron?\n"
     ]
    }
   ],
   "source": [
    "messages = [ \n",
    "\tSystemMessage(content=\"Speak like a pirate\"), \t\n",
    "\tHumanMessage(content=\"I''m Captain Aron. What''s your name?\"), \n",
    "\tAIMessage(content=\"Ahoy, Captain! Me name be ChatGPT, the savviest AI on the seven digital seas! How can I assist ye on this fine day?\"),\n",
    "\tHumanMessage(content=\"Who named you that?\") \n",
    "]\n",
    "\n",
    "response = llm.invoke(messages)\n",
    "\n",
    "response.pretty_print() "
   ]
  },
  {
   "cell_type": "markdown",
   "metadata": {},
   "source": [
    "# Extract data from text"
   ]
  },
  {
   "cell_type": "code",
   "execution_count": 7,
   "metadata": {},
   "outputs": [
    {
     "name": "stdout",
     "output_type": "stream",
     "text": [
      "==================================\u001b[1m Ai Message \u001b[0m==================================\n",
      "\n",
      "United States GDP per capita in 2022: $61,937; Israel GDP per capita in 2022: $54,660\n"
     ]
    }
   ],
   "source": [
    "from langchain_core.prompts import ChatPromptTemplate\n",
    "\n",
    "prompt = ChatPromptTemplate.from_messages([\n",
    "    (\"system\", \"Role: Numeric fact extractor. Return data with no additional commentary. Sample Input: Denver,\\\n",
    "      known as the Mile High City, stands at an elevation of 1,609.6 meters above sea level. Nairobi, the capital of Kenya, \\\n",
    "     is notably elevated as well, sitting at 1,795 meters. Sample Output: Denver Elevation, 5210; Nairobi elevation: 1795\"),\n",
    "    (\"user\", \"{input}\")\n",
    "])\n",
    "\n",
    "chain = prompt | llm\n",
    "\n",
    "response = chain.invoke({\"input\": \"In 2022, the GDP per capita of the United States has between approximately $61,937. \\\n",
    "Meanwhile, Israel's GDP per capita for the same year was recorded at around $54,660.\"})\n",
    "\n",
    "response.pretty_print() "
   ]
  },
  {
   "cell_type": "markdown",
   "metadata": {},
   "source": [
    "# Batch Processing"
   ]
  },
  {
   "cell_type": "code",
   "execution_count": 8,
   "metadata": {},
   "outputs": [
    {
     "data": {
      "text/plain": [
       "[AIMessage(content='Egypt land area: 1,010,408 square kilometers.', response_metadata={'token_usage': {'completion_tokens': 13, 'prompt_tokens': 118, 'total_tokens': 131}, 'model_name': 'gpt-3.5-turbo', 'system_fingerprint': None, 'finish_reason': 'stop', 'logprobs': None}, id='run-63988be1-9cc8-4e65-b56c-6aec6d2fd5f5-0'),\n",
       " AIMessage(content='Egypt Population: 104,000,000', response_metadata={'token_usage': {'completion_tokens': 9, 'prompt_tokens': 120, 'total_tokens': 129}, 'model_name': 'gpt-3.5-turbo', 'system_fingerprint': None, 'finish_reason': 'stop', 'logprobs': None}, id='run-999d64f6-9b5a-4feb-821f-7099ab9e964a-0')]"
      ]
     },
     "execution_count": 8,
     "metadata": {},
     "output_type": "execute_result"
    }
   ],
   "source": [
    "response = chain.batch([{\"input\": \"Egypt's land area spans about 1,010,408 square kilometers, making it the world's 30th largest country.\"},\n",
    "{\"input\":\"Egypt is the 14th most populous country in the world, with a population estimated at over 104 million as of 2023.\"}])\n",
    "\n",
    "response"
   ]
  },
  {
   "cell_type": "markdown",
   "metadata": {},
   "source": [
    "# LangChain Output Parsers"
   ]
  },
  {
   "cell_type": "code",
   "execution_count": 9,
   "metadata": {},
   "outputs": [
    {
     "data": {
      "text/plain": [
       "datetime.datetime(2015, 12, 11, 0, 0)"
      ]
     },
     "execution_count": 9,
     "metadata": {},
     "output_type": "execute_result"
    }
   ],
   "source": [
    "from langchain.output_parsers import DatetimeOutputParser\n",
    "\n",
    "output_parser = DatetimeOutputParser()\n",
    "template = \"\"\"Answer the users question:\n",
    "\n",
    "{question}\n",
    "\n",
    "{format_instructions}\"\"\"\n",
    "prompt = ChatPromptTemplate.from_template(\n",
    "    template,\n",
    "    partial_variables={\"format_instructions\": output_parser.get_format_instructions()},\n",
    ")\n",
    "\n",
    "chain = prompt | llm | output_parser\n",
    "\n",
    "chain.invoke({\"question\": \"When was OpenAI founded?\"})\n"
   ]
  },
  {
   "cell_type": "markdown",
   "metadata": {},
   "source": [
    "# Load and parse a web page with \"Unstructured\"\n",
    "\n",
    "Unstructured supports loading of text files, powerpoints, html, pdfs, images, and more. "
   ]
  },
  {
   "cell_type": "code",
   "execution_count": 35,
   "metadata": {},
   "outputs": [
    {
     "data": {
      "text/plain": [
       "[Document(page_content=\"Solutions\\n\\nProducts\\n\\nSecure Enterprise File Services\\n\\nThe CTERA Enterprise File Services Platform powers a next-generation global file system connecting remote sites and users to your cloud without compromising security or performance.\\n\\nBook a Demo\\n\\nThe Industry's Most Feature-Rich Platform\\n\\nUnified Edge\\n\\nCTERA is the only global file system to span across branch filers, desktop endpoints, mobile and VDI clients. Always-on data access from any location and any device.\\n\\nMulti-Cloud\\n\\nChoose from private, public, or hybrid cloud options for optimal security, compliance, and economics. Migrate data seamlessly across clouds to meet evolving business needs.\\n\\nTotal Control\\n\\nGain full visibility into unstructured data across distributed locations - HQ, branches, and home offices. Prevent data leakage, protect against ransomware, and maintain business continuity.\\n\\nThe CTERA Architecture\\n\\nPRODUCT LINE\\n\\nCTERA Edge Filers\\n\\nLearn More\\n\\nVirtual Edition\\n\\nCTERA EV\\n\\nUp to 256TB, 5,000 users\\n\\nSmall Branch / WFH\\n\\nCTERA HC100\\n\\nNano, 2TB, 20 Users\\n\\nLearn More\\n\\nSmall Office\\n\\nCTERA HC400T\\n\\nTower, 4TB, 100 users\\n\\nLearn More\\n\\nMedium Office\\n\\nCTERA HC400/E\\n\\n1U, 24TB, 1,000 users\\n\\nLearn More\\n\\nLarge Office\\n\\nCTERA HC1200\\n\\n2U, 64TB, 3,000 users\\n\\nLearn More\\n\\nMedia Edition\\n\\nCTERA HC2400M\\n\\n6U, 128TB (SSD/NL-SAS)\\n\\nLearn More\\n\\nPRODUCT LINE\\n\\nCTERA Drive\\n\\nLearn More\\n\\nCTERA Drive Connect\\n\\nMac and Windows Caching with Full Windows ACL Support\\n\\nLearn More\\n\\nCTERA Drive Share\\n\\nCached Drive, File Sync & Share\\n\\nLearn More\\n\\nCTERA Drive Protect\\n\\nEndpoint Backup\\n\\nLearn More\\n\\nPRODUCT LINE\\n\\nCTERA Portal & Add-ons\\n\\nLearn More\\n\\nCTERA Portal\\n\\nPrivate Edition\\n\\nCustomer-hosted in datacenter or VPC\\n\\nLearn more\\n\\nCTERA Portal\\n\\nVirtual Private Edition\\n\\nCTERA or partner-dedicated hosted\\n\\nLearn More\\n\\nCTERA Portal\\n\\nHosted Edition\\n\\nCTERA or partner-hosted\\n\\nLearn More\\n\\nCTERA Security Pack\\n\\nMilitary-Grade Security\\n\\nLearn More\\n\\nCTERA Insight\\n\\nOnline data monitoring and analytics\\n\\nDownload Solution Brief\\n\\nData Classification\\n\\nFile asset discovery and identification\\n\\nMore Resources\\n\\nView Features\\n\\nCTERA's Enterprise File Services Platform is the most feature-rich solution available.\\n\\nLearn More\\n\\nView Architecture\\n\\nCTERA is the only company to integrate endpoint, office and cloud file services with uncompromising IT security, cloud choice and cloud automation.\\n\\nLearn More\", metadata={'source': 'https://www.ctera.com/all-products/', 'title': 'CTERA: Next-Gen Enterprise File Services and Security', 'description': 'CTERA: Secure, Next-Gen Cloud File System for Enterprises. Connect remote sites & users without sacrificing security or performance.', 'language': 'en-US'}),\n",
       " Document(page_content=\"Company\\n\\nOptimizing Enterprise File Services\\n\\nCTERA’s mission is to enable cloud-driven enterprise IT organizations to deliver secure file services. We believe modern organizations should be able to harness the agility, scalability, collaboration and cost efficiencies of the cloud, without compromising the performance, availability or security of their data.\\n\\nAbout Us\\n\\nWe Live in the Cloud... and Breathe Security\\n\\nCTERA Networks was founded in 2008 by IT security veterans, who anticipated the digital transformation that cloud computing would bring to enterprise IT, as well as the challenges it presented for infrastructure management, data governance, privacy and security.\\n\\nIn a world where data flows between clouds, offices and endpoints – CTERA has focused on building a secure enterprise file services platform that centrally manages the file storage, control and governance needs of the modern enterprise.\\n\\nGlobal File System Whitepaper\\n\\nDCIG Compares CTERA and NetApp\\n\\nOur Approach\\n\\nUnified Multi-Cloud Data Management\\n\\nfrom Edge to Cloud\\n\\nFrom the outset, CTERA realized that traditional file storage and collaboration solutions are not suitable for the modern enterprise workplace. Legacy point solutions generate data silos, do not provide a holistic view of data governance and security, and inflate IT management overhead and costs. To address this void, CTERA built a unified solution that combines the benefits of local file services at the edge with cloud storage.\\n\\nThe CTERA Enterprise File Services Platform unifies endpoint, branch office and cloud file services to enable next-generation file storage, collaboration, data protection, and disaster recovery.\\n\\nPowered by a cloud-native global file system, CTERA’s platform enables multi-cloud data management with full control over data residency, military-grade security and edge-to-cloud acceleration for desktops and branch offices.\\n\\nCTERA helped pioneer enterprise file services delivery in the cloud era by building secure and efficient protocols for edge-to-cloud data transport, RESTful APIs that drive operational efficiencies, and a multi-tenant data management model to ensure data isolation and confidentiality.\\n\\nThe Time is Now\\n\\nThe “C” in CTERA stands for cloud – in 2008 the level of enterprise adoption of cloud was very low as we continued to build out and mature our platform. But today an entirely different picture has emerged. In fact, by 2024, large enterprises will triple their unstructured data stored as file or object storage on-premises, at the edge or in the public cloud, compared to 20201. As enterprises move to adopt cloud, they need the right balance of choice of file services and a level of security and control that is superior to traditional ways of operating. A rapid transformation to ‘IT-as-a-Service’ is changing strategies across the enterprise as file service platform requirements become the same that have existed for some time in the service provider market – these IT strategies are taking shape in worldwide adoption of the CTERA Enterprise File Services Platform.\\n\\nGartner Market Guide for Hybrid Cloud Storage March 2020\\n\\nOur Customers\\n\\nThe Trusted Choice of Leading Enterprises\\n\\nWith over 50,000 connected sites and millions of corporate users, CTERA powers the file services transformations of leading global banks, insurance companies, telecommunications firms, and federal and defense organizations.\\n\\nSee All Customers\\n\\n\\n\\n\\n\\n\\n\\n\\n\\n\\n\\n\\n\\n\\n\\n\\n\\n\\n\\n\\n\\n\\n\\n\\n\\n\\n\\n\\n\\n\\n\\n\\n\\nCTERA at a Glance\\n\\n‘08\\n\\nFounded in 2008 by Liran Eshel & Zohar Kaufman\\n\\n50k\\n\\nAdopted by 50,000 Businesses Worldwide\\n\\n110\\n\\nDeployed in Over 110 Countries Worldwide\\n\\nOur Investors\\n\\n\\n\\n\\n\\n\\n\\n\\n\\n\\n\\n\\n\\n\\n\\nLocated Worldwide\\n\\nNorth America\\n\\nEurope\\n\\nAsia\\n\\nAustralia\\n\\nRecognized as an Industry Leader\\n\\n\\n\\n\\n\\n\\n\\n\\n\\n\\n\\n\\n\\n\\n\\n\\n\\n\\n\\nThe Latest Buzz\\n\\nKeep up with the latest news, posts, events, webinars and more\\n\\nNews\\n\\nNews\\n\\nStockage : Ctera verrouille en écriture les données… de production\\n\\nLearn More\\n\\nAll News\\n\\nEvents\\n\\nEvents\\n\\nElite CIO/CISO Atlanta\\n\\nLearn More\\n\\nWebinars\\n\\nWebinars\\n\\nTop 5 Insights on File Storage Evolution with CTERA and GigaOm\\n\\nLearn More\\n\\nBlog\\n\\nBlog\\n\\nNavigating the Edge: Our Webinar with Hitachi Vantara\\n\\nLearn More\\n\\nView Blog\\n\\nCareers\\n\\nJoin our rapidly growing, challenging and innovative workplace, peppered with a fun and casual vibe.\\n\\nVisit CTERA Careers\\n\\nOur Team\\n\\nWe're managed by a seasoned results-driven team with proven success in leading high-growth technology startups.\\n\\nLearn More\\n\\nPrevious                        \\n                        Contact\\n                                                                        \\n\\t                        Let us know how we can help you. Use contact information or direct contact form for any from your Ctera product and technical needs!\\n\\nNext                        \\n                        Our Team\\n\\t\\t\\t\\t        \\t\\t\\t\\t\\t        \\t\\t\\t\\t\\t\\t        \\n\\t\\t\\t\\t\\t\\t\\t        We’re a well-oiled, experienced team with an extensive track record of growing high-growth technology startups.\", metadata={'source': 'https://www.ctera.com/company/', 'title': 'Enterprise File Services from Edge to Cloud | CTERA', 'description': 'CTERA is the edge-to-cloud file services leader, enabling enterprise organizations to modernize legacy NAS infrastructure.', 'language': 'en-US'})]"
      ]
     },
     "execution_count": 35,
     "metadata": {},
     "output_type": "execute_result"
    }
   ],
   "source": [
    "from langchain_community.document_loaders import SeleniumURLLoader\n",
    "\n",
    "urls = [\"https://www.ctera.com/all-products/\",\"https://www.ctera.com/company/\"]\n",
    "\n",
    "loader = SeleniumURLLoader(urls=urls)\n",
    "documents = loader.load()\n",
    "\n",
    "documents"
   ]
  },
  {
   "cell_type": "markdown",
   "metadata": {},
   "source": [
    "# Split the web page to chunks"
   ]
  },
  {
   "cell_type": "code",
   "execution_count": 20,
   "metadata": {},
   "outputs": [
    {
     "data": {
      "text/plain": [
       "[Document(page_content=\"Solutions\\n\\nProducts\\n\\nSecure Enterprise File Services\\n\\nThe CTERA Enterprise File Services Platform powers a next-generation global file system connecting remote sites and users to your cloud without compromising security or performance.\\n\\nBook a Demo\\n\\nThe Industry's Most Feature-Rich Platform\\n\\nUnified Edge\\n\\nCTERA is the only global file system to span across branch filers, desktop endpoints, mobile and VDI clients. Always-on data access from any location and any device.\\n\\nMulti-Cloud\", metadata={'source': 'https://www.ctera.com/all-products/', 'title': 'CTERA: Next-Gen Enterprise File Services and Security', 'description': 'CTERA: Secure, Next-Gen Cloud File System for Enterprises. Connect remote sites & users without sacrificing security or performance.', 'language': 'en-US'}),\n",
       " Document(page_content='Choose from private, public, or hybrid cloud options for optimal security, compliance, and economics. Migrate data seamlessly across clouds to meet evolving business needs.\\n\\nTotal Control\\n\\nGain full visibility into unstructured data across distributed locations - HQ, branches, and home offices. Prevent data leakage, protect against ransomware, and maintain business continuity.\\n\\nThe CTERA Architecture\\n\\nPRODUCT LINE\\n\\nCTERA Edge Filers\\n\\nLearn More\\n\\nVirtual Edition\\n\\nCTERA EV', metadata={'source': 'https://www.ctera.com/all-products/', 'title': 'CTERA: Next-Gen Enterprise File Services and Security', 'description': 'CTERA: Secure, Next-Gen Cloud File System for Enterprises. Connect remote sites & users without sacrificing security or performance.', 'language': 'en-US'}),\n",
       " Document(page_content='Up to 256TB, 5,000 users\\n\\nSmall Branch / WFH\\n\\nCTERA HC100\\n\\nNano, 2TB, 20 Users\\n\\nLearn More\\n\\nSmall Office\\n\\nCTERA HC400T\\n\\nTower, 4TB, 100 users\\n\\nLearn More\\n\\nMedium Office\\n\\nCTERA HC400/E\\n\\n1U, 24TB, 1,000 users\\n\\nLearn More\\n\\nLarge Office\\n\\nCTERA HC1200\\n\\n2U, 64TB, 3,000 users\\n\\nLearn More\\n\\nMedia Edition\\n\\nCTERA HC2400M\\n\\n6U, 128TB (SSD/NL-SAS)\\n\\nLearn More\\n\\nPRODUCT LINE\\n\\nCTERA Drive\\n\\nLearn More\\n\\nCTERA Drive Connect\\n\\nMac and Windows Caching with Full Windows ACL Support\\n\\nLearn More\\n\\nCTERA Drive Share', metadata={'source': 'https://www.ctera.com/all-products/', 'title': 'CTERA: Next-Gen Enterprise File Services and Security', 'description': 'CTERA: Secure, Next-Gen Cloud File System for Enterprises. Connect remote sites & users without sacrificing security or performance.', 'language': 'en-US'}),\n",
       " Document(page_content='Cached Drive, File Sync & Share\\n\\nLearn More\\n\\nCTERA Drive Protect\\n\\nEndpoint Backup\\n\\nLearn More\\n\\nPRODUCT LINE\\n\\nCTERA Portal & Add-ons\\n\\nLearn More\\n\\nCTERA Portal\\n\\nPrivate Edition\\n\\nCustomer-hosted in datacenter or VPC\\n\\nLearn more\\n\\nCTERA Portal\\n\\nVirtual Private Edition\\n\\nCTERA or partner-dedicated hosted\\n\\nLearn More\\n\\nCTERA Portal\\n\\nHosted Edition\\n\\nCTERA or partner-hosted\\n\\nLearn More\\n\\nCTERA Security Pack\\n\\nMilitary-Grade Security\\n\\nLearn More\\n\\nCTERA Insight\\n\\nOnline data monitoring and analytics', metadata={'source': 'https://www.ctera.com/all-products/', 'title': 'CTERA: Next-Gen Enterprise File Services and Security', 'description': 'CTERA: Secure, Next-Gen Cloud File System for Enterprises. Connect remote sites & users without sacrificing security or performance.', 'language': 'en-US'}),\n",
       " Document(page_content=\"Download Solution Brief\\n\\nData Classification\\n\\nFile asset discovery and identification\\n\\nMore Resources\\n\\nView Features\\n\\nCTERA's Enterprise File Services Platform is the most feature-rich solution available.\\n\\nLearn More\\n\\nView Architecture\\n\\nCTERA is the only company to integrate endpoint, office and cloud file services with uncompromising IT security, cloud choice and cloud automation.\\n\\nLearn More\", metadata={'source': 'https://www.ctera.com/all-products/', 'title': 'CTERA: Next-Gen Enterprise File Services and Security', 'description': 'CTERA: Secure, Next-Gen Cloud File System for Enterprises. Connect remote sites & users without sacrificing security or performance.', 'language': 'en-US'})]"
      ]
     },
     "execution_count": 20,
     "metadata": {},
     "output_type": "execute_result"
    }
   ],
   "source": [
    "from langchain.text_splitter import RecursiveCharacterTextSplitter\n",
    "\n",
    "text_splitter = RecursiveCharacterTextSplitter(        \n",
    "    chunk_size = 500,\n",
    "    chunk_overlap  = 0\n",
    ")\n",
    "\n",
    "texts = text_splitter.split_documents(documents)\n",
    "\n",
    "texts[:5]"
   ]
  },
  {
   "cell_type": "markdown",
   "metadata": {},
   "source": [
    "# Summarize using Map Reduce Chain"
   ]
  },
  {
   "cell_type": "code",
   "execution_count": 21,
   "metadata": {},
   "outputs": [
    {
     "name": "stdout",
     "output_type": "stream",
     "text": [
      "\n",
      "\n",
      "\u001b[1m> Entering new MapReduceDocumentsChain chain...\u001b[0m\n",
      "\n",
      "\n",
      "\u001b[1m> Entering new LLMChain chain...\u001b[0m\n",
      "Prompt after formatting:\n",
      "\u001b[32;1m\u001b[1;3mHuman: \n",
      "                      Write a summary of this chunk of text that includes all the main points and any important details. \n",
      "                      Ignore code snippets or technical markup. Include all important names and terms mentioned.\n",
      "                      Solutions\n",
      "\n",
      "Products\n",
      "\n",
      "Secure Enterprise File Services\n",
      "\n",
      "The CTERA Enterprise File Services Platform powers a next-generation global file system connecting remote sites and users to your cloud without compromising security or performance.\n",
      "\n",
      "Book a Demo\n",
      "\n",
      "The Industry's Most Feature-Rich Platform\n",
      "\n",
      "Unified Edge\n",
      "\n",
      "CTERA is the only global file system to span across branch filers, desktop endpoints, mobile and VDI clients. Always-on data access from any location and any device.\n",
      "\n",
      "Multi-Cloud\n",
      "                      \u001b[0m\n",
      "Prompt after formatting:\n",
      "\u001b[32;1m\u001b[1;3mHuman: \n",
      "                      Write a summary of this chunk of text that includes all the main points and any important details. \n",
      "                      Ignore code snippets or technical markup. Include all important names and terms mentioned.\n",
      "                      Choose from private, public, or hybrid cloud options for optimal security, compliance, and economics. Migrate data seamlessly across clouds to meet evolving business needs.\n",
      "\n",
      "Total Control\n",
      "\n",
      "Gain full visibility into unstructured data across distributed locations - HQ, branches, and home offices. Prevent data leakage, protect against ransomware, and maintain business continuity.\n",
      "\n",
      "The CTERA Architecture\n",
      "\n",
      "PRODUCT LINE\n",
      "\n",
      "CTERA Edge Filers\n",
      "\n",
      "Learn More\n",
      "\n",
      "Virtual Edition\n",
      "\n",
      "CTERA EV\n",
      "                      \u001b[0m\n",
      "Prompt after formatting:\n",
      "\u001b[32;1m\u001b[1;3mHuman: \n",
      "                      Write a summary of this chunk of text that includes all the main points and any important details. \n",
      "                      Ignore code snippets or technical markup. Include all important names and terms mentioned.\n",
      "                      Up to 256TB, 5,000 users\n",
      "\n",
      "Small Branch / WFH\n",
      "\n",
      "CTERA HC100\n",
      "\n",
      "Nano, 2TB, 20 Users\n",
      "\n",
      "Learn More\n",
      "\n",
      "Small Office\n",
      "\n",
      "CTERA HC400T\n",
      "\n",
      "Tower, 4TB, 100 users\n",
      "\n",
      "Learn More\n",
      "\n",
      "Medium Office\n",
      "\n",
      "CTERA HC400/E\n",
      "\n",
      "1U, 24TB, 1,000 users\n",
      "\n",
      "Learn More\n",
      "\n",
      "Large Office\n",
      "\n",
      "CTERA HC1200\n",
      "\n",
      "2U, 64TB, 3,000 users\n",
      "\n",
      "Learn More\n",
      "\n",
      "Media Edition\n",
      "\n",
      "CTERA HC2400M\n",
      "\n",
      "6U, 128TB (SSD/NL-SAS)\n",
      "\n",
      "Learn More\n",
      "\n",
      "PRODUCT LINE\n",
      "\n",
      "CTERA Drive\n",
      "\n",
      "Learn More\n",
      "\n",
      "CTERA Drive Connect\n",
      "\n",
      "Mac and Windows Caching with Full Windows ACL Support\n",
      "\n",
      "Learn More\n",
      "\n",
      "CTERA Drive Share\n",
      "                      \u001b[0m\n",
      "Prompt after formatting:\n",
      "\u001b[32;1m\u001b[1;3mHuman: \n",
      "                      Write a summary of this chunk of text that includes all the main points and any important details. \n",
      "                      Ignore code snippets or technical markup. Include all important names and terms mentioned.\n",
      "                      Cached Drive, File Sync & Share\n",
      "\n",
      "Learn More\n",
      "\n",
      "CTERA Drive Protect\n",
      "\n",
      "Endpoint Backup\n",
      "\n",
      "Learn More\n",
      "\n",
      "PRODUCT LINE\n",
      "\n",
      "CTERA Portal & Add-ons\n",
      "\n",
      "Learn More\n",
      "\n",
      "CTERA Portal\n",
      "\n",
      "Private Edition\n",
      "\n",
      "Customer-hosted in datacenter or VPC\n",
      "\n",
      "Learn more\n",
      "\n",
      "CTERA Portal\n",
      "\n",
      "Virtual Private Edition\n",
      "\n",
      "CTERA or partner-dedicated hosted\n",
      "\n",
      "Learn More\n",
      "\n",
      "CTERA Portal\n",
      "\n",
      "Hosted Edition\n",
      "\n",
      "CTERA or partner-hosted\n",
      "\n",
      "Learn More\n",
      "\n",
      "CTERA Security Pack\n",
      "\n",
      "Military-Grade Security\n",
      "\n",
      "Learn More\n",
      "\n",
      "CTERA Insight\n",
      "\n",
      "Online data monitoring and analytics\n",
      "                      \u001b[0m\n",
      "Prompt after formatting:\n",
      "\u001b[32;1m\u001b[1;3mHuman: \n",
      "                      Write a summary of this chunk of text that includes all the main points and any important details. \n",
      "                      Ignore code snippets or technical markup. Include all important names and terms mentioned.\n",
      "                      Download Solution Brief\n",
      "\n",
      "Data Classification\n",
      "\n",
      "File asset discovery and identification\n",
      "\n",
      "More Resources\n",
      "\n",
      "View Features\n",
      "\n",
      "CTERA's Enterprise File Services Platform is the most feature-rich solution available.\n",
      "\n",
      "Learn More\n",
      "\n",
      "View Architecture\n",
      "\n",
      "CTERA is the only company to integrate endpoint, office and cloud file services with uncompromising IT security, cloud choice and cloud automation.\n",
      "\n",
      "Learn More\n",
      "                      \u001b[0m\n",
      "Prompt after formatting:\n",
      "\u001b[32;1m\u001b[1;3mHuman: \n",
      "                      Write a summary of this chunk of text that includes all the main points and any important details. \n",
      "                      Ignore code snippets or technical markup. Include all important names and terms mentioned.\n",
      "                      Company\n",
      "\n",
      "Optimizing Enterprise File Services\n",
      "\n",
      "CTERA’s mission is to enable cloud-driven enterprise IT organizations to deliver secure file services. We believe modern organizations should be able to harness the agility, scalability, collaboration and cost efficiencies of the cloud, without compromising the performance, availability or security of their data.\n",
      "\n",
      "About Us\n",
      "\n",
      "We Live in the Cloud... and Breathe Security\n",
      "                      \u001b[0m\n",
      "Prompt after formatting:\n",
      "\u001b[32;1m\u001b[1;3mHuman: \n",
      "                      Write a summary of this chunk of text that includes all the main points and any important details. \n",
      "                      Ignore code snippets or technical markup. Include all important names and terms mentioned.\n",
      "                      CTERA Networks was founded in 2008 by IT security veterans, who anticipated the digital transformation that cloud computing would bring to enterprise IT, as well as the challenges it presented for infrastructure management, data governance, privacy and security.\n",
      "                      \u001b[0m\n",
      "Prompt after formatting:\n",
      "\u001b[32;1m\u001b[1;3mHuman: \n",
      "                      Write a summary of this chunk of text that includes all the main points and any important details. \n",
      "                      Ignore code snippets or technical markup. Include all important names and terms mentioned.\n",
      "                      In a world where data flows between clouds, offices and endpoints – CTERA has focused on building a secure enterprise file services platform that centrally manages the file storage, control and governance needs of the modern enterprise.\n",
      "\n",
      "Global File System Whitepaper\n",
      "\n",
      "DCIG Compares CTERA and NetApp\n",
      "\n",
      "Our Approach\n",
      "\n",
      "Unified Multi-Cloud Data Management\n",
      "\n",
      "from Edge to Cloud\n",
      "                      \u001b[0m\n",
      "Prompt after formatting:\n",
      "\u001b[32;1m\u001b[1;3mHuman: \n",
      "                      Write a summary of this chunk of text that includes all the main points and any important details. \n",
      "                      Ignore code snippets or technical markup. Include all important names and terms mentioned.\n",
      "                      From the outset, CTERA realized that traditional file storage and collaboration solutions are not suitable for the modern enterprise workplace. Legacy point solutions generate data silos, do not provide a holistic view of data governance and security, and inflate IT management overhead and costs. To address this void, CTERA built a unified solution that combines the benefits of local file services at the edge with cloud storage.\n",
      "                      \u001b[0m\n",
      "Prompt after formatting:\n",
      "\u001b[32;1m\u001b[1;3mHuman: \n",
      "                      Write a summary of this chunk of text that includes all the main points and any important details. \n",
      "                      Ignore code snippets or technical markup. Include all important names and terms mentioned.\n",
      "                      The CTERA Enterprise File Services Platform unifies endpoint, branch office and cloud file services to enable next-generation file storage, collaboration, data protection, and disaster recovery.\n",
      "\n",
      "Powered by a cloud-native global file system, CTERA’s platform enables multi-cloud data management with full control over data residency, military-grade security and edge-to-cloud acceleration for desktops and branch offices.\n",
      "                      \u001b[0m\n",
      "Prompt after formatting:\n",
      "\u001b[32;1m\u001b[1;3mHuman: \n",
      "                      Write a summary of this chunk of text that includes all the main points and any important details. \n",
      "                      Ignore code snippets or technical markup. Include all important names and terms mentioned.\n",
      "                      CTERA helped pioneer enterprise file services delivery in the cloud era by building secure and efficient protocols for edge-to-cloud data transport, RESTful APIs that drive operational efficiencies, and a multi-tenant data management model to ensure data isolation and confidentiality.\n",
      "\n",
      "The Time is Now\n",
      "                      \u001b[0m\n",
      "Prompt after formatting:\n",
      "\u001b[32;1m\u001b[1;3mHuman: \n",
      "                      Write a summary of this chunk of text that includes all the main points and any important details. \n",
      "                      Ignore code snippets or technical markup. Include all important names and terms mentioned.\n",
      "                      The “C” in CTERA stands for cloud – in 2008 the level of enterprise adoption of cloud was very low as we continued to build out and mature our platform. But today an entirely different picture has emerged. In fact, by 2024, large enterprises will triple their unstructured data stored as file or object storage on-premises, at the edge or in the public cloud, compared to 20201. As enterprises move to adopt cloud, they need the right balance of choice of file services and a level of security and\n",
      "                      \u001b[0m\n",
      "Prompt after formatting:\n",
      "\u001b[32;1m\u001b[1;3mHuman: \n",
      "                      Write a summary of this chunk of text that includes all the main points and any important details. \n",
      "                      Ignore code snippets or technical markup. Include all important names and terms mentioned.\n",
      "                      control that is superior to traditional ways of operating. A rapid transformation to ‘IT-as-a-Service’ is changing strategies across the enterprise as file service platform requirements become the same that have existed for some time in the service provider market – these IT strategies are taking shape in worldwide adoption of the CTERA Enterprise File Services Platform.\n",
      "                      \u001b[0m\n",
      "Prompt after formatting:\n",
      "\u001b[32;1m\u001b[1;3mHuman: \n",
      "                      Write a summary of this chunk of text that includes all the main points and any important details. \n",
      "                      Ignore code snippets or technical markup. Include all important names and terms mentioned.\n",
      "                      Gartner Market Guide for Hybrid Cloud Storage March 2020\n",
      "\n",
      "Our Customers\n",
      "\n",
      "The Trusted Choice of Leading Enterprises\n",
      "\n",
      "With over 50,000 connected sites and millions of corporate users, CTERA powers the file services transformations of leading global banks, insurance companies, telecommunications firms, and federal and defense organizations.\n",
      "\n",
      "See All Customers\n",
      "\n",
      "\n",
      "\n",
      "\n",
      "\n",
      "\n",
      "\n",
      "\n",
      "\n",
      "\n",
      "\n",
      "\n",
      "\n",
      "\n",
      "\n",
      "\n",
      "\n",
      "\n",
      "\n",
      "\n",
      "\n",
      "\n",
      "\n",
      "\n",
      "\n",
      "\n",
      "\n",
      "\n",
      "\n",
      "\n",
      "\n",
      "\n",
      "\n",
      "CTERA at a Glance\n",
      "\n",
      "‘08\n",
      "\n",
      "Founded in 2008 by Liran Eshel & Zohar Kaufman\n",
      "\n",
      "50k\n",
      "                      \u001b[0m\n",
      "Prompt after formatting:\n",
      "\u001b[32;1m\u001b[1;3mHuman: \n",
      "                      Write a summary of this chunk of text that includes all the main points and any important details. \n",
      "                      Ignore code snippets or technical markup. Include all important names and terms mentioned.\n",
      "                      Adopted by 50,000 Businesses Worldwide\n",
      "\n",
      "110\n",
      "\n",
      "Deployed in Over 110 Countries Worldwide\n",
      "\n",
      "Our Investors\n",
      "\n",
      "\n",
      "\n",
      "\n",
      "\n",
      "\n",
      "\n",
      "\n",
      "\n",
      "\n",
      "\n",
      "\n",
      "\n",
      "\n",
      "\n",
      "Located Worldwide\n",
      "\n",
      "North America\n",
      "\n",
      "Europe\n",
      "\n",
      "Asia\n",
      "\n",
      "Australia\n",
      "\n",
      "Recognized as an Industry Leader\n",
      "\n",
      "\n",
      "\n",
      "\n",
      "\n",
      "\n",
      "\n",
      "\n",
      "\n",
      "\n",
      "\n",
      "\n",
      "\n",
      "\n",
      "\n",
      "\n",
      "\n",
      "\n",
      "\n",
      "The Latest Buzz\n",
      "\n",
      "Keep up with the latest news, posts, events, webinars and more\n",
      "\n",
      "News\n",
      "\n",
      "News\n",
      "\n",
      "Stockage : Ctera verrouille en écriture les données… de production\n",
      "\n",
      "Learn More\n",
      "\n",
      "All News\n",
      "\n",
      "Events\n",
      "\n",
      "Events\n",
      "\n",
      "Elite CIO/CISO Atlanta\n",
      "\n",
      "Learn More\n",
      "\n",
      "Webinars\n",
      "\n",
      "Webinars\n",
      "                      \u001b[0m\n",
      "Prompt after formatting:\n",
      "\u001b[32;1m\u001b[1;3mHuman: \n",
      "                      Write a summary of this chunk of text that includes all the main points and any important details. \n",
      "                      Ignore code snippets or technical markup. Include all important names and terms mentioned.\n",
      "                      Top 5 Insights on File Storage Evolution with CTERA and GigaOm\n",
      "\n",
      "Learn More\n",
      "\n",
      "Blog\n",
      "\n",
      "Blog\n",
      "\n",
      "Navigating the Edge: Our Webinar with Hitachi Vantara\n",
      "\n",
      "Learn More\n",
      "\n",
      "View Blog\n",
      "\n",
      "Careers\n",
      "\n",
      "Join our rapidly growing, challenging and innovative workplace, peppered with a fun and casual vibe.\n",
      "\n",
      "Visit CTERA Careers\n",
      "\n",
      "Our Team\n",
      "\n",
      "We're managed by a seasoned results-driven team with proven success in leading high-growth technology startups.\n",
      "\n",
      "Learn More\n",
      "                      \u001b[0m\n",
      "Prompt after formatting:\n",
      "\u001b[32;1m\u001b[1;3mHuman: \n",
      "                      Write a summary of this chunk of text that includes all the main points and any important details. \n",
      "                      Ignore code snippets or technical markup. Include all important names and terms mentioned.\n",
      "                      Previous                        \n",
      "                        Contact\n",
      "                                                                        \n",
      "\t                        Let us know how we can help you. Use contact information or direct contact form for any from your Ctera product and technical needs!\n",
      "                      \u001b[0m\n",
      "Prompt after formatting:\n",
      "\u001b[32;1m\u001b[1;3mHuman: \n",
      "                      Write a summary of this chunk of text that includes all the main points and any important details. \n",
      "                      Ignore code snippets or technical markup. Include all important names and terms mentioned.\n",
      "                      Next                        \n",
      "                        Our Team\n",
      "\t\t\t\t        \t\t\t\t\t        \t\t\t\t\t\t        \n",
      "\t\t\t\t\t\t\t        We’re a well-oiled, experienced team with an extensive track record of growing high-growth technology startups.\n",
      "                      \u001b[0m\n",
      "\n",
      "\u001b[1m> Finished chain.\u001b[0m\n",
      "\n",
      "\n",
      "\u001b[1m> Entering new LLMChain chain...\u001b[0m\n",
      "Prompt after formatting:\n",
      "\u001b[32;1m\u001b[1;3mHuman: \n",
      "                      Write a clear concise summary of the following article delimited by triple backquotes. Use elegant prose that is not repetitive.\n",
      "                      Return your response as a clear explanation in markdown format while covering the key points of the text.\n",
      "                      Use a flowing clear article style.\n",
      "                      ```CTERA offers Secure Enterprise File Services through their Enterprise File Services Platform, which connects remote sites and users to the cloud while maintaining security and performance. The platform includes features such as Unified Edge, which allows for data access from various devices and locations, and supports multi-cloud environments. Customers can book a demo to learn more about the industry's most feature-rich platform.\n",
      "\n",
      "The text discusses the importance of choosing between private, public, or hybrid cloud options for optimal security, compliance, and economics. It also mentions the ability to migrate data seamlessly across clouds to meet evolving business needs. The CTERA architecture allows for full visibility into unstructured data across distributed locations, such as headquarters, branches, and home offices, to prevent data leakage, protect against ransomware, and maintain business continuity. The CTERA product line includes CTERA Edge Filers and Virtual Edition (CTERA EV).\n",
      "\n",
      "The text outlines different options for CTERA's product line, including the HC100 for small branches or work-from-home setups with up to 2TB and 20 users, the HC400T for small offices with 4TB and 100 users, the HC400/E for medium offices with 24TB and 1,000 users, the HC1200 for large offices with 64TB and 3,000 users, and the HC2400M for media editions with 128TB. Additionally, there is mention of CTERA Drive, CTERA Drive Connect for Mac and Windows caching with full Windows ACL support, and CTERA Drive Share.\n",
      "\n",
      "The text discusses CTERA's product line, including CTERA Drive Protect for endpoint backup, CTERA Portal & Add-ons, CTERA Security Pack for military-grade security, and CTERA Insight for online data monitoring and analytics. It also mentions different editions of CTERA Portal, such as Private Edition, Virtual Private Edition, and Hosted Edition, which can be customer-hosted in a datacenter or VPC, CTERA or partner-dedicated hosted, or CTERA or partner-hosted.\n",
      "\n",
      "CTERA offers an Enterprise File Services Platform that is the most feature-rich solution available. The platform integrates endpoint, office, and cloud file services with strong IT security, cloud choice, and cloud automation. Features include data classification, file asset discovery, and identification. For more information, users can download the solution brief or view additional resources on CTERA's website.\n",
      "\n",
      "CTERA is a company focused on optimizing enterprise file services by enabling cloud-driven IT organizations to deliver secure file services. They believe that modern organizations should be able to utilize the benefits of the cloud, such as agility, scalability, collaboration, and cost efficiencies, without compromising data performance, availability, or security. CTERA emphasizes the importance of security in cloud services.\n",
      "\n",
      "CTERA Networks, founded in 2008 by IT security veterans, was created in anticipation of the digital transformation brought by cloud computing to enterprise IT. The founders recognized the challenges that cloud computing presented for infrastructure management, data governance, privacy, and security.\n",
      "\n",
      "CTERA is a company that has developed a secure enterprise file services platform to manage file storage, control, and governance for modern enterprises. They focus on data flowing between clouds, offices, and endpoints. The company's approach involves unified multi-cloud data management from edge to cloud. A whitepaper comparing CTERA and NetApp has been published by DCIG.\n",
      "\n",
      "CTERA recognized the limitations of traditional file storage and collaboration solutions in the modern enterprise workplace. Legacy point solutions create data silos, lack comprehensive data governance and security features, and increase IT management costs. In response, CTERA developed a unified solution that integrates local file services with cloud storage to provide a more efficient and cost-effective option for businesses.\n",
      "\n",
      "The CTERA Enterprise File Services Platform integrates endpoint, branch office, and cloud file services to provide advanced file storage, collaboration, data protection, and disaster recovery capabilities. It is powered by a cloud-native global file system that allows for multi-cloud data management with control over data residency, high-level security measures, and edge-to-cloud acceleration for desktops and branch offices.\n",
      "\n",
      "CTERA is a company that played a key role in advancing enterprise file services delivery in the cloud era. They achieved this by developing secure and efficient protocols for transferring data from edge devices to the cloud, implementing RESTful APIs for improved operational efficiency, and creating a multi-tenant data management model to guarantee data isolation and confidentiality. This innovation has positioned CTERA as a leader in cloud-based file services.\n",
      "\n",
      "In the text, it is mentioned that the \"C\" in CTERA stands for cloud, indicating a focus on cloud technology. In 2008, enterprise adoption of cloud was low, but today there has been a significant increase in adoption. By 2024, large enterprises are expected to triple their unstructured data stored in various locations, including on-premises, at the edge, and in the public cloud. As enterprises transition to the cloud, they require a balance of file services and security measures.\n",
      "\n",
      "The text discusses how there is a shift towards 'IT-as-a-Service' in enterprises, leading to the adoption of the CTERA Enterprise File Services Platform. This platform offers superior control compared to traditional methods and aligns with the requirements seen in the service provider market. This transformation is rapidly changing strategies across enterprises globally.\n",
      "\n",
      "CTERA is a leading provider of hybrid cloud storage solutions, with over 50,000 connected sites and millions of corporate users. The company was founded in 2008 by Liran Eshel and Zohar Kaufman. Their customers include leading global banks, insurance companies, telecommunications firms, and federal and defense organizations.\n",
      "\n",
      "This text highlights that the company has been adopted by 50,000 businesses worldwide and deployed in over 110 countries. The investors of the company are located worldwide, including in North America, Europe, Asia, and Australia. The company is recognized as an industry leader. The latest news, posts, events, webinars, and more can be found on their website. Some specific events mentioned include Elite CIO/CISO Atlanta.\n",
      "\n",
      "The text discusses the evolution of file storage with CTERA and GigaOm, highlighting the top 5 insights gained from their collaboration. It mentions a webinar with Hitachi Vantara on navigating the edge, and invites readers to learn more on their blog. The text also promotes career opportunities at CTERA, emphasizing a fun and innovative workplace culture. The company is managed by a seasoned team with experience in leading technology startups.\n",
      "\n",
      "The text is prompting the reader to reach out for assistance with their Ctera product by providing contact information or using a direct contact form. It emphasizes the importance of letting them know how they can help with any technical needs related to Ctera.\n",
      "\n",
      "The text describes a well-oiled and experienced team with a track record of growing high-growth technology startups. The team is highlighted as being skilled and successful in their field.```\n",
      "                      SHORT ARTICLE:\n",
      "                      \u001b[0m\n",
      "\n",
      "\u001b[1m> Finished chain.\u001b[0m\n",
      "\n",
      "\u001b[1m> Finished chain.\u001b[0m\n"
     ]
    },
    {
     "data": {
      "text/plain": [
       "{'input_documents': [Document(page_content=\"Solutions\\n\\nProducts\\n\\nSecure Enterprise File Services\\n\\nThe CTERA Enterprise File Services Platform powers a next-generation global file system connecting remote sites and users to your cloud without compromising security or performance.\\n\\nBook a Demo\\n\\nThe Industry's Most Feature-Rich Platform\\n\\nUnified Edge\\n\\nCTERA is the only global file system to span across branch filers, desktop endpoints, mobile and VDI clients. Always-on data access from any location and any device.\\n\\nMulti-Cloud\", metadata={'source': 'https://www.ctera.com/all-products/', 'title': 'CTERA: Next-Gen Enterprise File Services and Security', 'description': 'CTERA: Secure, Next-Gen Cloud File System for Enterprises. Connect remote sites & users without sacrificing security or performance.', 'language': 'en-US'}),\n",
       "  Document(page_content='Choose from private, public, or hybrid cloud options for optimal security, compliance, and economics. Migrate data seamlessly across clouds to meet evolving business needs.\\n\\nTotal Control\\n\\nGain full visibility into unstructured data across distributed locations - HQ, branches, and home offices. Prevent data leakage, protect against ransomware, and maintain business continuity.\\n\\nThe CTERA Architecture\\n\\nPRODUCT LINE\\n\\nCTERA Edge Filers\\n\\nLearn More\\n\\nVirtual Edition\\n\\nCTERA EV', metadata={'source': 'https://www.ctera.com/all-products/', 'title': 'CTERA: Next-Gen Enterprise File Services and Security', 'description': 'CTERA: Secure, Next-Gen Cloud File System for Enterprises. Connect remote sites & users without sacrificing security or performance.', 'language': 'en-US'}),\n",
       "  Document(page_content='Up to 256TB, 5,000 users\\n\\nSmall Branch / WFH\\n\\nCTERA HC100\\n\\nNano, 2TB, 20 Users\\n\\nLearn More\\n\\nSmall Office\\n\\nCTERA HC400T\\n\\nTower, 4TB, 100 users\\n\\nLearn More\\n\\nMedium Office\\n\\nCTERA HC400/E\\n\\n1U, 24TB, 1,000 users\\n\\nLearn More\\n\\nLarge Office\\n\\nCTERA HC1200\\n\\n2U, 64TB, 3,000 users\\n\\nLearn More\\n\\nMedia Edition\\n\\nCTERA HC2400M\\n\\n6U, 128TB (SSD/NL-SAS)\\n\\nLearn More\\n\\nPRODUCT LINE\\n\\nCTERA Drive\\n\\nLearn More\\n\\nCTERA Drive Connect\\n\\nMac and Windows Caching with Full Windows ACL Support\\n\\nLearn More\\n\\nCTERA Drive Share', metadata={'source': 'https://www.ctera.com/all-products/', 'title': 'CTERA: Next-Gen Enterprise File Services and Security', 'description': 'CTERA: Secure, Next-Gen Cloud File System for Enterprises. Connect remote sites & users without sacrificing security or performance.', 'language': 'en-US'}),\n",
       "  Document(page_content='Cached Drive, File Sync & Share\\n\\nLearn More\\n\\nCTERA Drive Protect\\n\\nEndpoint Backup\\n\\nLearn More\\n\\nPRODUCT LINE\\n\\nCTERA Portal & Add-ons\\n\\nLearn More\\n\\nCTERA Portal\\n\\nPrivate Edition\\n\\nCustomer-hosted in datacenter or VPC\\n\\nLearn more\\n\\nCTERA Portal\\n\\nVirtual Private Edition\\n\\nCTERA or partner-dedicated hosted\\n\\nLearn More\\n\\nCTERA Portal\\n\\nHosted Edition\\n\\nCTERA or partner-hosted\\n\\nLearn More\\n\\nCTERA Security Pack\\n\\nMilitary-Grade Security\\n\\nLearn More\\n\\nCTERA Insight\\n\\nOnline data monitoring and analytics', metadata={'source': 'https://www.ctera.com/all-products/', 'title': 'CTERA: Next-Gen Enterprise File Services and Security', 'description': 'CTERA: Secure, Next-Gen Cloud File System for Enterprises. Connect remote sites & users without sacrificing security or performance.', 'language': 'en-US'}),\n",
       "  Document(page_content=\"Download Solution Brief\\n\\nData Classification\\n\\nFile asset discovery and identification\\n\\nMore Resources\\n\\nView Features\\n\\nCTERA's Enterprise File Services Platform is the most feature-rich solution available.\\n\\nLearn More\\n\\nView Architecture\\n\\nCTERA is the only company to integrate endpoint, office and cloud file services with uncompromising IT security, cloud choice and cloud automation.\\n\\nLearn More\", metadata={'source': 'https://www.ctera.com/all-products/', 'title': 'CTERA: Next-Gen Enterprise File Services and Security', 'description': 'CTERA: Secure, Next-Gen Cloud File System for Enterprises. Connect remote sites & users without sacrificing security or performance.', 'language': 'en-US'}),\n",
       "  Document(page_content='Company\\n\\nOptimizing Enterprise File Services\\n\\nCTERA’s mission is to enable cloud-driven enterprise IT organizations to deliver secure file services. We believe modern organizations should be able to harness the agility, scalability, collaboration and cost efficiencies of the cloud, without compromising the performance, availability or security of their data.\\n\\nAbout Us\\n\\nWe Live in the Cloud... and Breathe Security', metadata={'source': 'https://www.ctera.com/company/', 'title': 'Enterprise File Services from Edge to Cloud | CTERA', 'description': 'CTERA is the edge-to-cloud file services leader, enabling enterprise organizations to modernize legacy NAS infrastructure.', 'language': 'en-US'}),\n",
       "  Document(page_content='CTERA Networks was founded in 2008 by IT security veterans, who anticipated the digital transformation that cloud computing would bring to enterprise IT, as well as the challenges it presented for infrastructure management, data governance, privacy and security.', metadata={'source': 'https://www.ctera.com/company/', 'title': 'Enterprise File Services from Edge to Cloud | CTERA', 'description': 'CTERA is the edge-to-cloud file services leader, enabling enterprise organizations to modernize legacy NAS infrastructure.', 'language': 'en-US'}),\n",
       "  Document(page_content='In a world where data flows between clouds, offices and endpoints – CTERA has focused on building a secure enterprise file services platform that centrally manages the file storage, control and governance needs of the modern enterprise.\\n\\nGlobal File System Whitepaper\\n\\nDCIG Compares CTERA and NetApp\\n\\nOur Approach\\n\\nUnified Multi-Cloud Data Management\\n\\nfrom Edge to Cloud', metadata={'source': 'https://www.ctera.com/company/', 'title': 'Enterprise File Services from Edge to Cloud | CTERA', 'description': 'CTERA is the edge-to-cloud file services leader, enabling enterprise organizations to modernize legacy NAS infrastructure.', 'language': 'en-US'}),\n",
       "  Document(page_content='From the outset, CTERA realized that traditional file storage and collaboration solutions are not suitable for the modern enterprise workplace. Legacy point solutions generate data silos, do not provide a holistic view of data governance and security, and inflate IT management overhead and costs. To address this void, CTERA built a unified solution that combines the benefits of local file services at the edge with cloud storage.', metadata={'source': 'https://www.ctera.com/company/', 'title': 'Enterprise File Services from Edge to Cloud | CTERA', 'description': 'CTERA is the edge-to-cloud file services leader, enabling enterprise organizations to modernize legacy NAS infrastructure.', 'language': 'en-US'}),\n",
       "  Document(page_content='The CTERA Enterprise File Services Platform unifies endpoint, branch office and cloud file services to enable next-generation file storage, collaboration, data protection, and disaster recovery.\\n\\nPowered by a cloud-native global file system, CTERA’s platform enables multi-cloud data management with full control over data residency, military-grade security and edge-to-cloud acceleration for desktops and branch offices.', metadata={'source': 'https://www.ctera.com/company/', 'title': 'Enterprise File Services from Edge to Cloud | CTERA', 'description': 'CTERA is the edge-to-cloud file services leader, enabling enterprise organizations to modernize legacy NAS infrastructure.', 'language': 'en-US'}),\n",
       "  Document(page_content='CTERA helped pioneer enterprise file services delivery in the cloud era by building secure and efficient protocols for edge-to-cloud data transport, RESTful APIs that drive operational efficiencies, and a multi-tenant data management model to ensure data isolation and confidentiality.\\n\\nThe Time is Now', metadata={'source': 'https://www.ctera.com/company/', 'title': 'Enterprise File Services from Edge to Cloud | CTERA', 'description': 'CTERA is the edge-to-cloud file services leader, enabling enterprise organizations to modernize legacy NAS infrastructure.', 'language': 'en-US'}),\n",
       "  Document(page_content='The “C” in CTERA stands for cloud – in 2008 the level of enterprise adoption of cloud was very low as we continued to build out and mature our platform. But today an entirely different picture has emerged. In fact, by 2024, large enterprises will triple their unstructured data stored as file or object storage on-premises, at the edge or in the public cloud, compared to 20201. As enterprises move to adopt cloud, they need the right balance of choice of file services and a level of security and', metadata={'source': 'https://www.ctera.com/company/', 'title': 'Enterprise File Services from Edge to Cloud | CTERA', 'description': 'CTERA is the edge-to-cloud file services leader, enabling enterprise organizations to modernize legacy NAS infrastructure.', 'language': 'en-US'}),\n",
       "  Document(page_content='control that is superior to traditional ways of operating. A rapid transformation to ‘IT-as-a-Service’ is changing strategies across the enterprise as file service platform requirements become the same that have existed for some time in the service provider market – these IT strategies are taking shape in worldwide adoption of the CTERA Enterprise File Services Platform.', metadata={'source': 'https://www.ctera.com/company/', 'title': 'Enterprise File Services from Edge to Cloud | CTERA', 'description': 'CTERA is the edge-to-cloud file services leader, enabling enterprise organizations to modernize legacy NAS infrastructure.', 'language': 'en-US'}),\n",
       "  Document(page_content='Gartner Market Guide for Hybrid Cloud Storage March 2020\\n\\nOur Customers\\n\\nThe Trusted Choice of Leading Enterprises\\n\\nWith over 50,000 connected sites and millions of corporate users, CTERA powers the file services transformations of leading global banks, insurance companies, telecommunications firms, and federal and defense organizations.\\n\\nSee All Customers\\n\\n\\n\\n\\n\\n\\n\\n\\n\\n\\n\\n\\n\\n\\n\\n\\n\\n\\n\\n\\n\\n\\n\\n\\n\\n\\n\\n\\n\\n\\n\\n\\n\\nCTERA at a Glance\\n\\n‘08\\n\\nFounded in 2008 by Liran Eshel & Zohar Kaufman\\n\\n50k', metadata={'source': 'https://www.ctera.com/company/', 'title': 'Enterprise File Services from Edge to Cloud | CTERA', 'description': 'CTERA is the edge-to-cloud file services leader, enabling enterprise organizations to modernize legacy NAS infrastructure.', 'language': 'en-US'}),\n",
       "  Document(page_content='Adopted by 50,000 Businesses Worldwide\\n\\n110\\n\\nDeployed in Over 110 Countries Worldwide\\n\\nOur Investors\\n\\n\\n\\n\\n\\n\\n\\n\\n\\n\\n\\n\\n\\n\\n\\nLocated Worldwide\\n\\nNorth America\\n\\nEurope\\n\\nAsia\\n\\nAustralia\\n\\nRecognized as an Industry Leader\\n\\n\\n\\n\\n\\n\\n\\n\\n\\n\\n\\n\\n\\n\\n\\n\\n\\n\\n\\nThe Latest Buzz\\n\\nKeep up with the latest news, posts, events, webinars and more\\n\\nNews\\n\\nNews\\n\\nStockage : Ctera verrouille en écriture les données… de production\\n\\nLearn More\\n\\nAll News\\n\\nEvents\\n\\nEvents\\n\\nElite CIO/CISO Atlanta\\n\\nLearn More\\n\\nWebinars\\n\\nWebinars', metadata={'source': 'https://www.ctera.com/company/', 'title': 'Enterprise File Services from Edge to Cloud | CTERA', 'description': 'CTERA is the edge-to-cloud file services leader, enabling enterprise organizations to modernize legacy NAS infrastructure.', 'language': 'en-US'}),\n",
       "  Document(page_content=\"Top 5 Insights on File Storage Evolution with CTERA and GigaOm\\n\\nLearn More\\n\\nBlog\\n\\nBlog\\n\\nNavigating the Edge: Our Webinar with Hitachi Vantara\\n\\nLearn More\\n\\nView Blog\\n\\nCareers\\n\\nJoin our rapidly growing, challenging and innovative workplace, peppered with a fun and casual vibe.\\n\\nVisit CTERA Careers\\n\\nOur Team\\n\\nWe're managed by a seasoned results-driven team with proven success in leading high-growth technology startups.\\n\\nLearn More\", metadata={'source': 'https://www.ctera.com/company/', 'title': 'Enterprise File Services from Edge to Cloud | CTERA', 'description': 'CTERA is the edge-to-cloud file services leader, enabling enterprise organizations to modernize legacy NAS infrastructure.', 'language': 'en-US'}),\n",
       "  Document(page_content='Previous                        \\n                        Contact\\n                                                                        \\n\\t                        Let us know how we can help you. Use contact information or direct contact form for any from your Ctera product and technical needs!', metadata={'source': 'https://www.ctera.com/company/', 'title': 'Enterprise File Services from Edge to Cloud | CTERA', 'description': 'CTERA is the edge-to-cloud file services leader, enabling enterprise organizations to modernize legacy NAS infrastructure.', 'language': 'en-US'}),\n",
       "  Document(page_content='Next                        \\n                        Our Team\\n\\t\\t\\t\\t        \\t\\t\\t\\t\\t        \\t\\t\\t\\t\\t\\t        \\n\\t\\t\\t\\t\\t\\t\\t        We’re a well-oiled, experienced team with an extensive track record of growing high-growth technology startups.', metadata={'source': 'https://www.ctera.com/company/', 'title': 'Enterprise File Services from Edge to Cloud | CTERA', 'description': 'CTERA is the edge-to-cloud file services leader, enabling enterprise organizations to modernize legacy NAS infrastructure.', 'language': 'en-US'})],\n",
       " 'intermediate_steps': [\"CTERA offers Secure Enterprise File Services through their Enterprise File Services Platform, which connects remote sites and users to the cloud while maintaining security and performance. The platform includes features such as Unified Edge, which allows for data access from various devices and locations, and supports multi-cloud environments. Customers can book a demo to learn more about the industry's most feature-rich platform.\",\n",
       "  'The text discusses the importance of choosing between private, public, or hybrid cloud options for optimal security, compliance, and economics. It also mentions the ability to migrate data seamlessly across clouds to meet evolving business needs. The CTERA architecture allows for full visibility into unstructured data across distributed locations, such as headquarters, branches, and home offices, to prevent data leakage, protect against ransomware, and maintain business continuity. The CTERA product line includes CTERA Edge Filers and Virtual Edition (CTERA EV).',\n",
       "  \"The text outlines different options for CTERA's product line, including the HC100 for small branches or work-from-home setups with up to 2TB and 20 users, the HC400T for small offices with 4TB and 100 users, the HC400/E for medium offices with 24TB and 1,000 users, the HC1200 for large offices with 64TB and 3,000 users, and the HC2400M for media editions with 128TB. Additionally, there is mention of CTERA Drive, CTERA Drive Connect for Mac and Windows caching with full Windows ACL support, and CTERA Drive Share.\",\n",
       "  \"The text discusses CTERA's product line, including CTERA Drive Protect for endpoint backup, CTERA Portal & Add-ons, CTERA Security Pack for military-grade security, and CTERA Insight for online data monitoring and analytics. It also mentions different editions of CTERA Portal, such as Private Edition, Virtual Private Edition, and Hosted Edition, which can be customer-hosted in a datacenter or VPC, CTERA or partner-dedicated hosted, or CTERA or partner-hosted.\",\n",
       "  \"CTERA offers an Enterprise File Services Platform that is the most feature-rich solution available. The platform integrates endpoint, office, and cloud file services with strong IT security, cloud choice, and cloud automation. Features include data classification, file asset discovery, and identification. For more information, users can download the solution brief or view additional resources on CTERA's website.\",\n",
       "  'CTERA is a company focused on optimizing enterprise file services by enabling cloud-driven IT organizations to deliver secure file services. They believe that modern organizations should be able to utilize the benefits of the cloud, such as agility, scalability, collaboration, and cost efficiencies, without compromising data performance, availability, or security. CTERA emphasizes the importance of security in cloud services.',\n",
       "  'CTERA Networks, founded in 2008 by IT security veterans, was created in anticipation of the digital transformation brought by cloud computing to enterprise IT. The founders recognized the challenges that cloud computing presented for infrastructure management, data governance, privacy, and security.',\n",
       "  \"CTERA is a company that has developed a secure enterprise file services platform to manage file storage, control, and governance for modern enterprises. They focus on data flowing between clouds, offices, and endpoints. The company's approach involves unified multi-cloud data management from edge to cloud. A whitepaper comparing CTERA and NetApp has been published by DCIG.\",\n",
       "  'CTERA recognized the limitations of traditional file storage and collaboration solutions in the modern enterprise workplace. Legacy point solutions create data silos, lack comprehensive data governance and security features, and increase IT management costs. In response, CTERA developed a unified solution that integrates local file services with cloud storage to provide a more efficient and cost-effective option for businesses.',\n",
       "  'The CTERA Enterprise File Services Platform integrates endpoint, branch office, and cloud file services to provide advanced file storage, collaboration, data protection, and disaster recovery capabilities. It is powered by a cloud-native global file system that allows for multi-cloud data management with control over data residency, high-level security measures, and edge-to-cloud acceleration for desktops and branch offices.',\n",
       "  'CTERA is a company that played a key role in advancing enterprise file services delivery in the cloud era. They achieved this by developing secure and efficient protocols for transferring data from edge devices to the cloud, implementing RESTful APIs for improved operational efficiency, and creating a multi-tenant data management model to guarantee data isolation and confidentiality. This innovation has positioned CTERA as a leader in cloud-based file services.',\n",
       "  'In the text, it is mentioned that the \"C\" in CTERA stands for cloud, indicating a focus on cloud technology. In 2008, enterprise adoption of cloud was low, but today there has been a significant increase in adoption. By 2024, large enterprises are expected to triple their unstructured data stored in various locations, including on-premises, at the edge, and in the public cloud. As enterprises transition to the cloud, they require a balance of file services and security measures.',\n",
       "  \"The text discusses how there is a shift towards 'IT-as-a-Service' in enterprises, leading to the adoption of the CTERA Enterprise File Services Platform. This platform offers superior control compared to traditional methods and aligns with the requirements seen in the service provider market. This transformation is rapidly changing strategies across enterprises globally.\",\n",
       "  'CTERA is a leading provider of hybrid cloud storage solutions, with over 50,000 connected sites and millions of corporate users. The company was founded in 2008 by Liran Eshel and Zohar Kaufman. Their customers include leading global banks, insurance companies, telecommunications firms, and federal and defense organizations.',\n",
       "  'This text highlights that the company has been adopted by 50,000 businesses worldwide and deployed in over 110 countries. The investors of the company are located worldwide, including in North America, Europe, Asia, and Australia. The company is recognized as an industry leader. The latest news, posts, events, webinars, and more can be found on their website. Some specific events mentioned include Elite CIO/CISO Atlanta.',\n",
       "  'The text discusses the evolution of file storage with CTERA and GigaOm, highlighting the top 5 insights gained from their collaboration. It mentions a webinar with Hitachi Vantara on navigating the edge, and invites readers to learn more on their blog. The text also promotes career opportunities at CTERA, emphasizing a fun and innovative workplace culture. The company is managed by a seasoned team with experience in leading technology startups.',\n",
       "  'The text is prompting the reader to reach out for assistance with their Ctera product by providing contact information or using a direct contact form. It emphasizes the importance of letting them know how they can help with any technical needs related to Ctera.',\n",
       "  'The text describes a well-oiled and experienced team with a track record of growing high-growth technology startups. The team is highlighted as being skilled and successful in their field.'],\n",
       " 'output_text': \"```CTERA offers Secure Enterprise File Services through their Enterprise File Services Platform, connecting remote sites and users to the cloud securely and efficiently. The platform includes features like Unified Edge for data access from various devices and locations, supporting multi-cloud environments. Customers can book a demo to explore the platform's rich features.\\n\\nThe article emphasizes the importance of choosing between private, public, or hybrid cloud options for optimal security, compliance, and economics. CTERA's architecture provides full visibility into unstructured data across distributed locations to prevent data leakage, ransomware attacks, and ensure business continuity. The product line includes various options catering to different office sizes and needs.\\n\\nCTERA's product line encompasses solutions like CTERA Drive for endpoint backup, CTERA Portal & Add-ons, and CTERA Security Pack for enhanced security. The company focuses on delivering secure file services for modern enterprises, emphasizing the benefits of cloud technology without compromising data performance or security.\\n\\nCTERA's Enterprise File Services Platform integrates endpoint, office, and cloud file services, offering advanced storage, collaboration, data protection, and disaster recovery capabilities. The company's innovative approach has positioned them as a leader in cloud-based file services, catering to the evolving needs of enterprises transitioning to the cloud.\\n\\nCTERA, founded in 2008, has played a significant role in advancing enterprise file services delivery in the cloud era. With a focus on cloud technology and a strong customer base, the company continues to innovate and provide secure and efficient solutions for businesses worldwide.```\"}"
      ]
     },
     "execution_count": 21,
     "metadata": {},
     "output_type": "execute_result"
    }
   ],
   "source": [
    "from langchain.chains.summarize import load_summarize_chain\n",
    "\n",
    "map_prompt_template = \"\"\"\n",
    "                      Write a summary of this chunk of text that includes all the main points and any important details. \n",
    "                      Ignore code snippets or technical markup. Include all important names and terms mentioned.\n",
    "                      {text}\n",
    "                      \"\"\"\n",
    "\n",
    "map_prompt = ChatPromptTemplate.from_template(map_prompt_template)\n",
    "\n",
    "combine_prompt_template = \"\"\"\n",
    "                      Write a clear concise summary of the following article delimited by triple backquotes. Use elegant prose that is not repetitive.\n",
    "                      Return your response as a clear explanation in markdown format while covering the key points of the text.\n",
    "                      Use a flowing clear article style.\n",
    "                      ```{text}```\n",
    "                      SHORT ARTICLE:\n",
    "                      \"\"\"\n",
    "\n",
    "combine_prompt = ChatPromptTemplate.from_template(\n",
    "    template=combine_prompt_template\n",
    ")\n",
    "\n",
    "chain = load_summarize_chain(\n",
    "    llm,\n",
    "    chain_type=\"map_reduce\",\n",
    "    map_prompt=map_prompt,\n",
    "    combine_prompt=combine_prompt,\n",
    "    return_intermediate_steps=True,\n",
    "    verbose=True\n",
    ")\n",
    "result = chain.invoke(texts)\n",
    "\n",
    "result"
   ]
  },
  {
   "cell_type": "code",
   "execution_count": 22,
   "metadata": {},
   "outputs": [
    {
     "data": {
      "text/markdown": [
       "```CTERA offers Secure Enterprise File Services through their Enterprise File Services Platform, connecting remote sites and users to the cloud securely and efficiently. The platform includes features like Unified Edge for data access from various devices and locations, supporting multi-cloud environments. Customers can book a demo to explore the platform's rich features.\n",
       "\n",
       "The article emphasizes the importance of choosing between private, public, or hybrid cloud options for optimal security, compliance, and economics. CTERA's architecture provides full visibility into unstructured data across distributed locations to prevent data leakage, ransomware attacks, and ensure business continuity. The product line includes various options catering to different office sizes and needs.\n",
       "\n",
       "CTERA's product line encompasses solutions like CTERA Drive for endpoint backup, CTERA Portal & Add-ons, and CTERA Security Pack for enhanced security. The company focuses on delivering secure file services for modern enterprises, emphasizing the benefits of cloud technology without compromising data performance or security.\n",
       "\n",
       "CTERA's Enterprise File Services Platform integrates endpoint, office, and cloud file services, offering advanced storage, collaboration, data protection, and disaster recovery capabilities. The company's innovative approach has positioned them as a leader in cloud-based file services, catering to the evolving needs of enterprises transitioning to the cloud.\n",
       "\n",
       "CTERA, founded in 2008, has played a significant role in advancing enterprise file services delivery in the cloud era. With a focus on cloud technology and a strong customer base, the company continues to innovate and provide secure and efficient solutions for businesses worldwide.```"
      ],
      "text/plain": [
       "<IPython.core.display.Markdown object>"
      ]
     },
     "metadata": {},
     "output_type": "display_data"
    }
   ],
   "source": [
    "from IPython.display import Markdown\n",
    "\n",
    "display(Markdown(result['output_text']))"
   ]
  },
  {
   "cell_type": "markdown",
   "metadata": {},
   "source": [
    "# Summarize with Refine Chain"
   ]
  },
  {
   "cell_type": "code",
   "execution_count": 23,
   "metadata": {},
   "outputs": [
    {
     "data": {
      "text/plain": [
       "{'input_documents': [Document(page_content=\"Solutions\\n\\nProducts\\n\\nSecure Enterprise File Services\\n\\nThe CTERA Enterprise File Services Platform powers a next-generation global file system connecting remote sites and users to your cloud without compromising security or performance.\\n\\nBook a Demo\\n\\nThe Industry's Most Feature-Rich Platform\\n\\nUnified Edge\\n\\nCTERA is the only global file system to span across branch filers, desktop endpoints, mobile and VDI clients. Always-on data access from any location and any device.\\n\\nMulti-Cloud\", metadata={'source': 'https://www.ctera.com/all-products/', 'title': 'CTERA: Next-Gen Enterprise File Services and Security', 'description': 'CTERA: Secure, Next-Gen Cloud File System for Enterprises. Connect remote sites & users without sacrificing security or performance.', 'language': 'en-US'}),\n",
       "  Document(page_content='Choose from private, public, or hybrid cloud options for optimal security, compliance, and economics. Migrate data seamlessly across clouds to meet evolving business needs.\\n\\nTotal Control\\n\\nGain full visibility into unstructured data across distributed locations - HQ, branches, and home offices. Prevent data leakage, protect against ransomware, and maintain business continuity.\\n\\nThe CTERA Architecture\\n\\nPRODUCT LINE\\n\\nCTERA Edge Filers\\n\\nLearn More\\n\\nVirtual Edition\\n\\nCTERA EV', metadata={'source': 'https://www.ctera.com/all-products/', 'title': 'CTERA: Next-Gen Enterprise File Services and Security', 'description': 'CTERA: Secure, Next-Gen Cloud File System for Enterprises. Connect remote sites & users without sacrificing security or performance.', 'language': 'en-US'}),\n",
       "  Document(page_content='Up to 256TB, 5,000 users\\n\\nSmall Branch / WFH\\n\\nCTERA HC100\\n\\nNano, 2TB, 20 Users\\n\\nLearn More\\n\\nSmall Office\\n\\nCTERA HC400T\\n\\nTower, 4TB, 100 users\\n\\nLearn More\\n\\nMedium Office\\n\\nCTERA HC400/E\\n\\n1U, 24TB, 1,000 users\\n\\nLearn More\\n\\nLarge Office\\n\\nCTERA HC1200\\n\\n2U, 64TB, 3,000 users\\n\\nLearn More\\n\\nMedia Edition\\n\\nCTERA HC2400M\\n\\n6U, 128TB (SSD/NL-SAS)\\n\\nLearn More\\n\\nPRODUCT LINE\\n\\nCTERA Drive\\n\\nLearn More\\n\\nCTERA Drive Connect\\n\\nMac and Windows Caching with Full Windows ACL Support\\n\\nLearn More\\n\\nCTERA Drive Share', metadata={'source': 'https://www.ctera.com/all-products/', 'title': 'CTERA: Next-Gen Enterprise File Services and Security', 'description': 'CTERA: Secure, Next-Gen Cloud File System for Enterprises. Connect remote sites & users without sacrificing security or performance.', 'language': 'en-US'}),\n",
       "  Document(page_content='Cached Drive, File Sync & Share\\n\\nLearn More\\n\\nCTERA Drive Protect\\n\\nEndpoint Backup\\n\\nLearn More\\n\\nPRODUCT LINE\\n\\nCTERA Portal & Add-ons\\n\\nLearn More\\n\\nCTERA Portal\\n\\nPrivate Edition\\n\\nCustomer-hosted in datacenter or VPC\\n\\nLearn more\\n\\nCTERA Portal\\n\\nVirtual Private Edition\\n\\nCTERA or partner-dedicated hosted\\n\\nLearn More\\n\\nCTERA Portal\\n\\nHosted Edition\\n\\nCTERA or partner-hosted\\n\\nLearn More\\n\\nCTERA Security Pack\\n\\nMilitary-Grade Security\\n\\nLearn More\\n\\nCTERA Insight\\n\\nOnline data monitoring and analytics', metadata={'source': 'https://www.ctera.com/all-products/', 'title': 'CTERA: Next-Gen Enterprise File Services and Security', 'description': 'CTERA: Secure, Next-Gen Cloud File System for Enterprises. Connect remote sites & users without sacrificing security or performance.', 'language': 'en-US'}),\n",
       "  Document(page_content=\"Download Solution Brief\\n\\nData Classification\\n\\nFile asset discovery and identification\\n\\nMore Resources\\n\\nView Features\\n\\nCTERA's Enterprise File Services Platform is the most feature-rich solution available.\\n\\nLearn More\\n\\nView Architecture\\n\\nCTERA is the only company to integrate endpoint, office and cloud file services with uncompromising IT security, cloud choice and cloud automation.\\n\\nLearn More\", metadata={'source': 'https://www.ctera.com/all-products/', 'title': 'CTERA: Next-Gen Enterprise File Services and Security', 'description': 'CTERA: Secure, Next-Gen Cloud File System for Enterprises. Connect remote sites & users without sacrificing security or performance.', 'language': 'en-US'}),\n",
       "  Document(page_content='Company\\n\\nOptimizing Enterprise File Services\\n\\nCTERA’s mission is to enable cloud-driven enterprise IT organizations to deliver secure file services. We believe modern organizations should be able to harness the agility, scalability, collaboration and cost efficiencies of the cloud, without compromising the performance, availability or security of their data.\\n\\nAbout Us\\n\\nWe Live in the Cloud... and Breathe Security', metadata={'source': 'https://www.ctera.com/company/', 'title': 'Enterprise File Services from Edge to Cloud | CTERA', 'description': 'CTERA is the edge-to-cloud file services leader, enabling enterprise organizations to modernize legacy NAS infrastructure.', 'language': 'en-US'}),\n",
       "  Document(page_content='CTERA Networks was founded in 2008 by IT security veterans, who anticipated the digital transformation that cloud computing would bring to enterprise IT, as well as the challenges it presented for infrastructure management, data governance, privacy and security.', metadata={'source': 'https://www.ctera.com/company/', 'title': 'Enterprise File Services from Edge to Cloud | CTERA', 'description': 'CTERA is the edge-to-cloud file services leader, enabling enterprise organizations to modernize legacy NAS infrastructure.', 'language': 'en-US'}),\n",
       "  Document(page_content='In a world where data flows between clouds, offices and endpoints – CTERA has focused on building a secure enterprise file services platform that centrally manages the file storage, control and governance needs of the modern enterprise.\\n\\nGlobal File System Whitepaper\\n\\nDCIG Compares CTERA and NetApp\\n\\nOur Approach\\n\\nUnified Multi-Cloud Data Management\\n\\nfrom Edge to Cloud', metadata={'source': 'https://www.ctera.com/company/', 'title': 'Enterprise File Services from Edge to Cloud | CTERA', 'description': 'CTERA is the edge-to-cloud file services leader, enabling enterprise organizations to modernize legacy NAS infrastructure.', 'language': 'en-US'}),\n",
       "  Document(page_content='From the outset, CTERA realized that traditional file storage and collaboration solutions are not suitable for the modern enterprise workplace. Legacy point solutions generate data silos, do not provide a holistic view of data governance and security, and inflate IT management overhead and costs. To address this void, CTERA built a unified solution that combines the benefits of local file services at the edge with cloud storage.', metadata={'source': 'https://www.ctera.com/company/', 'title': 'Enterprise File Services from Edge to Cloud | CTERA', 'description': 'CTERA is the edge-to-cloud file services leader, enabling enterprise organizations to modernize legacy NAS infrastructure.', 'language': 'en-US'}),\n",
       "  Document(page_content='The CTERA Enterprise File Services Platform unifies endpoint, branch office and cloud file services to enable next-generation file storage, collaboration, data protection, and disaster recovery.\\n\\nPowered by a cloud-native global file system, CTERA’s platform enables multi-cloud data management with full control over data residency, military-grade security and edge-to-cloud acceleration for desktops and branch offices.', metadata={'source': 'https://www.ctera.com/company/', 'title': 'Enterprise File Services from Edge to Cloud | CTERA', 'description': 'CTERA is the edge-to-cloud file services leader, enabling enterprise organizations to modernize legacy NAS infrastructure.', 'language': 'en-US'}),\n",
       "  Document(page_content='CTERA helped pioneer enterprise file services delivery in the cloud era by building secure and efficient protocols for edge-to-cloud data transport, RESTful APIs that drive operational efficiencies, and a multi-tenant data management model to ensure data isolation and confidentiality.\\n\\nThe Time is Now', metadata={'source': 'https://www.ctera.com/company/', 'title': 'Enterprise File Services from Edge to Cloud | CTERA', 'description': 'CTERA is the edge-to-cloud file services leader, enabling enterprise organizations to modernize legacy NAS infrastructure.', 'language': 'en-US'}),\n",
       "  Document(page_content='The “C” in CTERA stands for cloud – in 2008 the level of enterprise adoption of cloud was very low as we continued to build out and mature our platform. But today an entirely different picture has emerged. In fact, by 2024, large enterprises will triple their unstructured data stored as file or object storage on-premises, at the edge or in the public cloud, compared to 20201. As enterprises move to adopt cloud, they need the right balance of choice of file services and a level of security and', metadata={'source': 'https://www.ctera.com/company/', 'title': 'Enterprise File Services from Edge to Cloud | CTERA', 'description': 'CTERA is the edge-to-cloud file services leader, enabling enterprise organizations to modernize legacy NAS infrastructure.', 'language': 'en-US'}),\n",
       "  Document(page_content='control that is superior to traditional ways of operating. A rapid transformation to ‘IT-as-a-Service’ is changing strategies across the enterprise as file service platform requirements become the same that have existed for some time in the service provider market – these IT strategies are taking shape in worldwide adoption of the CTERA Enterprise File Services Platform.', metadata={'source': 'https://www.ctera.com/company/', 'title': 'Enterprise File Services from Edge to Cloud | CTERA', 'description': 'CTERA is the edge-to-cloud file services leader, enabling enterprise organizations to modernize legacy NAS infrastructure.', 'language': 'en-US'}),\n",
       "  Document(page_content='Gartner Market Guide for Hybrid Cloud Storage March 2020\\n\\nOur Customers\\n\\nThe Trusted Choice of Leading Enterprises\\n\\nWith over 50,000 connected sites and millions of corporate users, CTERA powers the file services transformations of leading global banks, insurance companies, telecommunications firms, and federal and defense organizations.\\n\\nSee All Customers\\n\\n\\n\\n\\n\\n\\n\\n\\n\\n\\n\\n\\n\\n\\n\\n\\n\\n\\n\\n\\n\\n\\n\\n\\n\\n\\n\\n\\n\\n\\n\\n\\n\\nCTERA at a Glance\\n\\n‘08\\n\\nFounded in 2008 by Liran Eshel & Zohar Kaufman\\n\\n50k', metadata={'source': 'https://www.ctera.com/company/', 'title': 'Enterprise File Services from Edge to Cloud | CTERA', 'description': 'CTERA is the edge-to-cloud file services leader, enabling enterprise organizations to modernize legacy NAS infrastructure.', 'language': 'en-US'}),\n",
       "  Document(page_content='Adopted by 50,000 Businesses Worldwide\\n\\n110\\n\\nDeployed in Over 110 Countries Worldwide\\n\\nOur Investors\\n\\n\\n\\n\\n\\n\\n\\n\\n\\n\\n\\n\\n\\n\\n\\nLocated Worldwide\\n\\nNorth America\\n\\nEurope\\n\\nAsia\\n\\nAustralia\\n\\nRecognized as an Industry Leader\\n\\n\\n\\n\\n\\n\\n\\n\\n\\n\\n\\n\\n\\n\\n\\n\\n\\n\\n\\nThe Latest Buzz\\n\\nKeep up with the latest news, posts, events, webinars and more\\n\\nNews\\n\\nNews\\n\\nStockage : Ctera verrouille en écriture les données… de production\\n\\nLearn More\\n\\nAll News\\n\\nEvents\\n\\nEvents\\n\\nElite CIO/CISO Atlanta\\n\\nLearn More\\n\\nWebinars\\n\\nWebinars', metadata={'source': 'https://www.ctera.com/company/', 'title': 'Enterprise File Services from Edge to Cloud | CTERA', 'description': 'CTERA is the edge-to-cloud file services leader, enabling enterprise organizations to modernize legacy NAS infrastructure.', 'language': 'en-US'}),\n",
       "  Document(page_content=\"Top 5 Insights on File Storage Evolution with CTERA and GigaOm\\n\\nLearn More\\n\\nBlog\\n\\nBlog\\n\\nNavigating the Edge: Our Webinar with Hitachi Vantara\\n\\nLearn More\\n\\nView Blog\\n\\nCareers\\n\\nJoin our rapidly growing, challenging and innovative workplace, peppered with a fun and casual vibe.\\n\\nVisit CTERA Careers\\n\\nOur Team\\n\\nWe're managed by a seasoned results-driven team with proven success in leading high-growth technology startups.\\n\\nLearn More\", metadata={'source': 'https://www.ctera.com/company/', 'title': 'Enterprise File Services from Edge to Cloud | CTERA', 'description': 'CTERA is the edge-to-cloud file services leader, enabling enterprise organizations to modernize legacy NAS infrastructure.', 'language': 'en-US'}),\n",
       "  Document(page_content='Previous                        \\n                        Contact\\n                                                                        \\n\\t                        Let us know how we can help you. Use contact information or direct contact form for any from your Ctera product and technical needs!', metadata={'source': 'https://www.ctera.com/company/', 'title': 'Enterprise File Services from Edge to Cloud | CTERA', 'description': 'CTERA is the edge-to-cloud file services leader, enabling enterprise organizations to modernize legacy NAS infrastructure.', 'language': 'en-US'}),\n",
       "  Document(page_content='Next                        \\n                        Our Team\\n\\t\\t\\t\\t        \\t\\t\\t\\t\\t        \\t\\t\\t\\t\\t\\t        \\n\\t\\t\\t\\t\\t\\t\\t        We’re a well-oiled, experienced team with an extensive track record of growing high-growth technology startups.', metadata={'source': 'https://www.ctera.com/company/', 'title': 'Enterprise File Services from Edge to Cloud | CTERA', 'description': 'CTERA is the edge-to-cloud file services leader, enabling enterprise organizations to modernize legacy NAS infrastructure.', 'language': 'en-US'})],\n",
       " 'intermediate_steps': ['CTERA offers secure enterprise file services through their platform, which connects remote sites and users to the cloud without compromising security or performance. Their platform is feature-rich and allows for unified access across various devices and locations, including branch filers, desktop endpoints, mobile, and VDI clients. Additionally, CTERA supports multi-cloud environments.',\n",
       "  '**CTERA offers secure enterprise file services through their platform, connecting remote sites and users to the cloud without compromising security or performance. Their feature-rich platform allows for unified access across various devices and locations, including branch filers, desktop endpoints, mobile, and VDI clients. CTERA supports multi-cloud environments, offering private, public, or hybrid cloud options for optimal security, compliance, and economics. Users can seamlessly migrate data across clouds to meet evolving business needs. Gain full visibility into unstructured data across distributed locations with CTERA, preventing data leakage, protecting against ransomware, and maintaining business continuity. The CTERA architecture includes products like CTERA Edge Filers and Virtual Edition (CTERA EV).**',\n",
       "  '**CTERA offers secure enterprise file services through their platform, connecting remote sites and users to the cloud without compromising security or performance. Their feature-rich platform allows for unified access across various devices and locations, including branch filers, desktop endpoints, mobile, and VDI clients. CTERA supports multi-cloud environments, offering private, public, or hybrid cloud options for optimal security, compliance, and economics. Users can seamlessly migrate data across clouds to meet evolving business needs. Gain full visibility into unstructured data across distributed locations with CTERA, preventing data leakage, protecting against ransomware, and maintaining business continuity. The CTERA architecture includes products like CTERA Edge Filers and Virtual Edition (CTERA EV). Additionally, CTERA offers a range of hardware options tailored to different office sizes and user capacities, such as the CTERA HC100 for small branches or WFH setups, the CTERA HC400T for small offices, the CTERA HC400/E for medium offices, the CTERA HC1200 for large offices, and the CTERA HC2400M for media editions. CTERA also provides products like CTERA Drive for secure file sharing and CTERA Drive Connect for Mac and Windows caching with full Windows ACL support.**',\n",
       "  '**CTERA offers secure enterprise file services through their platform, connecting remote sites and users to the cloud without compromising security or performance. Their feature-rich platform allows for unified access across various devices and locations, including branch filers, desktop endpoints, mobile, and VDI clients. CTERA supports multi-cloud environments, offering private, public, or hybrid cloud options for optimal security, compliance, and economics. Users can seamlessly migrate data across clouds to meet evolving business needs. Gain full visibility into unstructured data across distributed locations with CTERA, preventing data leakage, protecting against ransomware, and maintaining business continuity. The CTERA architecture includes products like CTERA Edge Filers and Virtual Edition (CTERA EV). Additionally, CTERA offers a range of hardware options tailored to different office sizes and user capacities, such as the CTERA HC100 for small branches or WFH setups, the CTERA HC400T for small offices, the CTERA HC400/E for medium offices, the CTERA HC1200 for large offices, and the CTERA HC2400M for media editions. CTERA also provides products like CTERA Drive for secure file sharing and CTERA Drive Connect for Mac and Windows caching with full Windows ACL support. CTERA also offers a range of products including CTERA Portal & Add-ons, CTERA Drive Protect for endpoint backup, CTERA Security Pack for military-grade security, and CTERA Insight for online data monitoring and analytics. The CTERA Portal comes in different editions such as Private Edition for customer-hosted in datacenter or VPC, Virtual Private Edition for CTERA or partner-dedicated hosting, and Hosted Edition for CTERA or partner-hosted solutions.**',\n",
       "  \"**CTERA offers secure enterprise file services through their platform, connecting remote sites and users to the cloud without compromising security or performance. Their feature-rich platform allows for unified access across various devices and locations, including branch filers, desktop endpoints, mobile, and VDI clients. CTERA supports multi-cloud environments, offering private, public, or hybrid cloud options for optimal security, compliance, and economics. Users can seamlessly migrate data across clouds to meet evolving business needs. Gain full visibility into unstructured data across distributed locations with CTERA, preventing data leakage, protecting against ransomware, and maintaining business continuity. The CTERA architecture includes products like CTERA Edge Filers and Virtual Edition (CTERA EV). Additionally, CTERA offers a range of hardware options tailored to different office sizes and user capacities, such as the CTERA HC100 for small branches or WFH setups, the CTERA HC400T for small offices, the CTERA HC400/E for medium offices, the CTERA HC1200 for large offices, and the CTERA HC2400M for media editions. CTERA also provides products like CTERA Drive for secure file sharing and CTERA Drive Connect for Mac and Windows caching with full Windows ACL support. CTERA also offers a range of products including CTERA Portal & Add-ons, CTERA Drive Protect for endpoint backup, CTERA Security Pack for military-grade security, and CTERA Insight for online data monitoring and analytics. The CTERA Portal comes in different editions such as Private Edition for customer-hosted in datacenter or VPC, Virtual Private Edition for CTERA or partner-dedicated hosting, and Hosted Edition for CTERA or partner-hosted solutions. CTERA's Enterprise File Services Platform is the most feature-rich solution available, integrating endpoint, office, and cloud file services with uncompromising IT security, cloud choice, and cloud automation.**\",\n",
       "  \"**CTERA offers secure enterprise file services through their platform, connecting remote sites and users to the cloud without compromising security or performance. Their feature-rich platform allows for unified access across various devices and locations, including branch filers, desktop endpoints, mobile, and VDI clients. CTERA supports multi-cloud environments, offering private, public, or hybrid cloud options for optimal security, compliance, and economics. Users can seamlessly migrate data across clouds to meet evolving business needs. Gain full visibility into unstructured data across distributed locations with CTERA, preventing data leakage, protecting against ransomware, and maintaining business continuity. The CTERA architecture includes products like CTERA Edge Filers and Virtual Edition (CTERA EV). Additionally, CTERA offers a range of hardware options tailored to different office sizes and user capacities, such as the CTERA HC100 for small branches or WFH setups, the CTERA HC400T for small offices, the CTERA HC400/E for medium offices, the CTERA HC1200 for large offices, and the CTERA HC2400M for media editions. CTERA also provides products like CTERA Drive for secure file sharing and CTERA Drive Connect for Mac and Windows caching with full Windows ACL support. CTERA also offers a range of products including CTERA Portal & Add-ons, CTERA Drive Protect for endpoint backup, CTERA Security Pack for military-grade security, and CTERA Insight for online data monitoring and analytics. The CTERA Portal comes in different editions such as Private Edition for customer-hosted in datacenter or VPC, Virtual Private Edition for CTERA or partner-dedicated hosting, and Hosted Edition for CTERA or partner-hosted solutions. CTERA's Enterprise File Services Platform is the most feature-rich solution available, integrating endpoint, office, and cloud file services with uncompromising IT security, cloud choice, and cloud automation. CTERA's mission is to enable cloud-driven enterprise IT organizations to deliver secure file services, ensuring organizations can harness the agility, scalability, collaboration, and cost efficiencies of the cloud without compromising data performance, availability, or security.**\",\n",
       "  \"**CTERA Networks was founded in 2008 by IT security veterans, who anticipated the digital transformation that cloud computing would bring to enterprise IT, as well as the challenges it presented for infrastructure management, data governance, privacy, and security. CTERA offers secure enterprise file services through their platform, connecting remote sites and users to the cloud without compromising security or performance. Their feature-rich platform allows for unified access across various devices and locations, including branch filers, desktop endpoints, mobile, and VDI clients. CTERA supports multi-cloud environments, offering private, public, or hybrid cloud options for optimal security, compliance, and economics. Users can seamlessly migrate data across clouds to meet evolving business needs. Gain full visibility into unstructured data across distributed locations with CTERA, preventing data leakage, protecting against ransomware, and maintaining business continuity. The CTERA architecture includes products like CTERA Edge Filers and Virtual Edition (CTERA EV). Additionally, CTERA offers a range of hardware options tailored to different office sizes and user capacities, such as the CTERA HC100 for small branches or WFH setups, the CTERA HC400T for small offices, the CTERA HC400/E for medium offices, the CTERA HC1200 for large offices, and the CTERA HC2400M for media editions. CTERA also provides products like CTERA Drive for secure file sharing and CTERA Drive Connect for Mac and Windows caching with full Windows ACL support. CTERA also offers a range of products including CTERA Portal & Add-ons, CTERA Drive Protect for endpoint backup, CTERA Security Pack for military-grade security, and CTERA Insight for online data monitoring and analytics. The CTERA Portal comes in different editions such as Private Edition for customer-hosted in datacenter or VPC, Virtual Private Edition for CTERA or partner-dedicated hosting, and Hosted Edition for CTERA or partner-hosted solutions. CTERA's Enterprise File Services Platform is the most feature-rich solution available, integrating endpoint, office, and cloud file services with uncompromising IT security, cloud choice, and cloud automation. CTERA's mission is to enable cloud-driven enterprise IT organizations to deliver secure file services, ensuring organizations can harness the agility, scalability, collaboration, and cost efficiencies of the cloud without compromising data performance, availability, or security.**\",\n",
       "  \"**CTERA Networks was founded in 2008 by IT security veterans, who anticipated the digital transformation that cloud computing would bring to enterprise IT, as well as the challenges it presented for infrastructure management, data governance, privacy, and security. CTERA offers secure enterprise file services through their platform, connecting remote sites and users to the cloud without compromising security or performance. Their feature-rich platform allows for unified access across various devices and locations, including branch filers, desktop endpoints, mobile, and VDI clients. CTERA supports multi-cloud environments, offering private, public, or hybrid cloud options for optimal security, compliance, and economics. Users can seamlessly migrate data across clouds to meet evolving business needs. Gain full visibility into unstructured data across distributed locations with CTERA, preventing data leakage, protecting against ransomware, and maintaining business continuity. The CTERA architecture includes products like CTERA Edge Filers and Virtual Edition (CTERA EV). Additionally, CTERA offers a range of hardware options tailored to different office sizes and user capacities, such as the CTERA HC100 for small branches or WFH setups, the CTERA HC400T for small offices, the CTERA HC400/E for medium offices, the CTERA HC1200 for large offices, and the CTERA HC2400M for media editions. CTERA also provides products like CTERA Drive for secure file sharing and CTERA Drive Connect for Mac and Windows caching with full Windows ACL support. CTERA also offers a range of products including CTERA Portal & Add-ons, CTERA Drive Protect for endpoint backup, CTERA Security Pack for military-grade security, and CTERA Insight for online data monitoring and analytics. The CTERA Portal comes in different editions such as Private Edition for customer-hosted in datacenter or VPC, Virtual Private Edition for CTERA or partner-dedicated hosting, and Hosted Edition for CTERA or partner-hosted solutions. CTERA's Enterprise File Services Platform is the most feature-rich solution available, integrating endpoint, office, and cloud file services with uncompromising IT security, cloud choice, and cloud automation. CTERA's mission is to enable cloud-driven enterprise IT organizations to deliver secure file services, ensuring organizations can harness the agility, scalability, collaboration, and cost efficiencies of the cloud without compromising data performance, availability, or security. CTERA has focused on building a secure enterprise file services platform that centrally manages the file storage, control, and governance needs of the modern enterprise, with a unified multi-cloud data management approach from Edge to Cloud.**\",\n",
       "  \"**CTERA Networks was founded in 2008 by IT security veterans, who anticipated the digital transformation that cloud computing would bring to enterprise IT, as well as the challenges it presented for infrastructure management, data governance, privacy, and security. CTERA offers secure enterprise file services through their platform, connecting remote sites and users to the cloud without compromising security or performance. Their feature-rich platform allows for unified access across various devices and locations, including branch filers, desktop endpoints, mobile, and VDI clients. CTERA supports multi-cloud environments, offering private, public, or hybrid cloud options for optimal security, compliance, and economics. Users can seamlessly migrate data across clouds to meet evolving business needs. Gain full visibility into unstructured data across distributed locations with CTERA, preventing data leakage, protecting against ransomware, and maintaining business continuity. The CTERA architecture includes products like CTERA Edge Filers and Virtual Edition (CTERA EV). Additionally, CTERA offers a range of hardware options tailored to different office sizes and user capacities, such as the CTERA HC100 for small branches or WFH setups, the CTERA HC400T for small offices, the CTERA HC400/E for medium offices, the CTERA HC1200 for large offices, and the CTERA HC2400M for media editions. CTERA also provides products like CTERA Drive for secure file sharing and CTERA Drive Connect for Mac and Windows caching with full Windows ACL support. CTERA also offers a range of products including CTERA Portal & Add-ons, CTERA Drive Protect for endpoint backup, CTERA Security Pack for military-grade security, and CTERA Insight for online data monitoring and analytics. The CTERA Portal comes in different editions such as Private Edition for customer-hosted in datacenter or VPC, Virtual Private Edition for CTERA or partner-dedicated hosting, and Hosted Edition for CTERA or partner-hosted solutions. CTERA's Enterprise File Services Platform is the most feature-rich solution available, integrating endpoint, office, and cloud file services with uncompromising IT security, cloud choice, and cloud automation. CTERA's mission is to enable cloud-driven enterprise IT organizations to deliver secure file services, ensuring organizations can harness the agility, scalability, collaboration, and cost efficiencies of the cloud without compromising data performance, availability, or security. CTERA has focused on building a secure enterprise file services platform that centrally manages the file storage, control, and governance needs of the modern enterprise, with a unified multi-cloud data management approach from Edge to Cloud. CTERA realized that traditional file storage and collaboration solutions are not suitable for the modern enterprise workplace, leading them to build a unified solution that combines the benefits of local file services at the edge with cloud storage.**\",\n",
       "  \"## CTERA Networks Summary:\\n\\nCTERA Networks was founded in 2008 by IT security veterans who anticipated the digital transformation that cloud computing would bring to enterprise IT. They offer secure enterprise file services through their platform, connecting remote sites and users to the cloud without compromising security or performance. CTERA's feature-rich platform allows for unified access across various devices and locations, including branch filers, desktop endpoints, mobile, and VDI clients. They support multi-cloud environments, offering private, public, or hybrid cloud options for optimal security, compliance, and economics. Users can seamlessly migrate data across clouds to meet evolving business needs.\\n\\nCTERA's Enterprise File Services Platform unifies endpoint, branch office, and cloud file services to enable next-generation file storage, collaboration, data protection, and disaster recovery. Powered by a cloud-native global file system, CTERA's platform enables multi-cloud data management with full control over data residency, military-grade security, and edge-to-cloud acceleration for desktops and branch offices.\\n\\nCTERA's mission is to enable cloud-driven enterprise IT organizations to deliver secure file services, ensuring organizations can harness the agility, scalability, collaboration, and cost efficiencies of the cloud without compromising data performance, availability, or security. They have focused on building a secure enterprise file services platform that centrally manages the file storage, control, and governance needs of the modern enterprise, with a unified multi-cloud data management approach from Edge to Cloud.\",\n",
       "  \"## CTERA Networks Summary:\\n\\nCTERA Networks, founded in 2008 by IT security veterans, offers secure enterprise file services through their platform, connecting remote sites and users to the cloud without compromising security or performance. Their feature-rich platform allows for unified access across various devices and locations, supporting multi-cloud environments for optimal security, compliance, and economics. CTERA's Enterprise File Services Platform unifies endpoint, branch office, and cloud file services, enabling next-generation file storage, collaboration, data protection, and disaster recovery. Their mission is to enable cloud-driven enterprise IT organizations to deliver secure file services while maintaining data performance, availability, and security. CTERA has focused on building a secure enterprise file services platform that centrally manages the file storage, control, and governance needs of the modern enterprise, with a unified multi-cloud data management approach from Edge to Cloud. They have pioneered secure and efficient protocols for edge-to-cloud data transport, RESTful APIs for operational efficiencies, and a multi-tenant data management model for data isolation and confidentiality.\",\n",
       "  \"## CTERA Networks Summary:\\n\\nCTERA Networks, founded in 2008 by IT security veterans, offers secure enterprise file services through their platform, connecting remote sites and users to the cloud without compromising security or performance. Their feature-rich platform allows for unified access across various devices and locations, supporting multi-cloud environments for optimal security, compliance, and economics. CTERA's Enterprise File Services Platform unifies endpoint, branch office, and cloud file services, enabling next-generation file storage, collaboration, data protection, and disaster recovery. Their mission is to enable cloud-driven enterprise IT organizations to deliver secure file services while maintaining data performance, availability, and security. CTERA has focused on building a secure enterprise file services platform that centrally manages the file storage, control, and governance needs of the modern enterprise, with a unified multi-cloud data management approach from Edge to Cloud. They have pioneered secure and efficient protocols for edge-to-cloud data transport, RESTful APIs for operational efficiencies, and a multi-tenant data management model for data isolation and confidentiality. The “C” in CTERA stands for cloud – in 2008 the level of enterprise adoption of cloud was very low as we continued to build out and mature our platform. But today an entirely different picture has emerged. In fact, by 2024, large enterprises will triple their unstructured data stored as file or object storage on-premises, at the edge or in the public cloud, compared to 20201. As enterprises move to adopt cloud, they need the right balance of choice of file services and a level of security and.\",\n",
       "  \"## CTERA Networks Summary:\\n\\nCTERA Networks, founded in 2008 by IT security veterans, offers secure enterprise file services through their platform, connecting remote sites and users to the cloud without compromising security or performance. Their feature-rich platform allows for unified access across various devices and locations, supporting multi-cloud environments for optimal security, compliance, and economics. CTERA's Enterprise File Services Platform unifies endpoint, branch office, and cloud file services, enabling next-generation file storage, collaboration, data protection, and disaster recovery. Their mission is to enable cloud-driven enterprise IT organizations to deliver secure file services while maintaining data performance, availability, and security. CTERA has focused on building a secure enterprise file services platform that centrally manages the file storage, control, and governance needs of the modern enterprise, with a unified multi-cloud data management approach from Edge to Cloud. They have pioneered secure and efficient protocols for edge-to-cloud data transport, RESTful APIs for operational efficiencies, and a multi-tenant data management model for data isolation and confidentiality. The “C” in CTERA stands for cloud – in 2008 the level of enterprise adoption of cloud was very low as we continued to build out and mature our platform. But today an entirely different picture has emerged. In fact, by 2024, large enterprises will triple their unstructured data stored as file or object storage on-premises, at the edge or in the public cloud, compared to 20201. As enterprises move to adopt cloud, they need the right balance of choice of file services and a level of security and control that is superior to traditional ways of operating. A rapid transformation to ‘IT-as-a-Service’ is changing strategies across the enterprise as file service platform requirements become the same that have existed for some time in the service provider market – these IT strategies are taking shape in worldwide adoption of the CTERA Enterprise File Services Platform.\",\n",
       "  \"## CTERA Networks Summary:\\n\\nCTERA Networks, founded in 2008 by IT security veterans Liran Eshel and Zohar Kaufman, offers secure enterprise file services through their platform, connecting remote sites and users to the cloud without compromising security or performance. Their feature-rich platform allows for unified access across various devices and locations, supporting multi-cloud environments for optimal security, compliance, and economics. CTERA's Enterprise File Services Platform unifies endpoint, branch office, and cloud file services, enabling next-generation file storage, collaboration, data protection, and disaster recovery. Their mission is to enable cloud-driven enterprise IT organizations to deliver secure file services while maintaining data performance, availability, and security. CTERA has focused on building a secure enterprise file services platform that centrally manages the file storage, control, and governance needs of the modern enterprise, with a unified multi-cloud data management approach from Edge to Cloud. They have pioneered secure and efficient protocols for edge-to-cloud data transport, RESTful APIs for operational efficiencies, and a multi-tenant data management model for data isolation and confidentiality. The “C” in CTERA stands for cloud – in 2008 the level of enterprise adoption of cloud was very low as we continued to build out and mature our platform. But today an entirely different picture has emerged. In fact, by 2024, large enterprises will triple their unstructured data stored as file or object storage on-premises, at the edge or in the public cloud, compared to 20201. As enterprises move to adopt cloud, they need the right balance of choice of file services and a level of security and control that is superior to traditional ways of operating. A rapid transformation to ‘IT-as-a-Service’ is changing strategies across the enterprise as file service platform requirements become the same that have existed for some time in the service provider market – these IT strategies are taking shape in worldwide adoption of the CTERA Enterprise File Services Platform. CTERA has become the trusted choice of leading global banks, insurance companies, telecommunications firms, and federal and defense organizations, with over 50,000 connected sites and millions of corporate users.\",\n",
       "  \"## CTERA Networks Summary:\\n\\nCTERA Networks, founded in 2008 by IT security veterans Liran Eshel and Zohar Kaufman, offers secure enterprise file services through their platform, connecting remote sites and users to the cloud without compromising security or performance. Their feature-rich platform allows for unified access across various devices and locations, supporting multi-cloud environments for optimal security, compliance, and economics. CTERA's Enterprise File Services Platform unifies endpoint, branch office, and cloud file services, enabling next-generation file storage, collaboration, data protection, and disaster recovery. Their mission is to enable cloud-driven enterprise IT organizations to deliver secure file services while maintaining data performance, availability, and security. CTERA has focused on building a secure enterprise file services platform that centrally manages the file storage, control, and governance needs of the modern enterprise, with a unified multi-cloud data management approach from Edge to Cloud. They have pioneered secure and efficient protocols for edge-to-cloud data transport, RESTful APIs for operational efficiencies, and a multi-tenant data management model for data isolation and confidentiality. The “C” in CTERA stands for cloud – in 2008 the level of enterprise adoption of cloud was very low as we continued to build out and mature our platform. But today an entirely different picture has emerged. In fact, by 2024, large enterprises will triple their unstructured data stored as file or object storage on-premises, at the edge or in the public cloud, compared to 20201. As enterprises move to adopt cloud, they need the right balance of choice of file services and a level of security and control that is superior to traditional ways of operating. A rapid transformation to ‘IT-as-a-Service’ is changing strategies across the enterprise as file service platform requirements become the same that have existed for some time in the service provider market – these IT strategies are taking shape in worldwide adoption of the CTERA Enterprise File Services Platform. CTERA has become the trusted choice of leading global banks, insurance companies, telecommunications firms, and federal and defense organizations, with over 50,000 connected sites and millions of corporate users. CTERA Networks is deployed in over 110 countries worldwide and has investors located worldwide, with a strong presence in North America, Europe, Asia, and Australia. The company is recognized as an industry leader and continues to make waves in the industry with the latest news, events, webinars, and more.\",\n",
       "  \"## CTERA Networks Summary:\\n\\nCTERA Networks, founded in 2008 by IT security veterans Liran Eshel and Zohar Kaufman, offers secure enterprise file services through their platform, connecting remote sites and users to the cloud without compromising security or performance. Their feature-rich platform allows for unified access across various devices and locations, supporting multi-cloud environments for optimal security, compliance, and economics. CTERA's Enterprise File Services Platform unifies endpoint, branch office, and cloud file services, enabling next-generation file storage, collaboration, data protection, and disaster recovery. Their mission is to enable cloud-driven enterprise IT organizations to deliver secure file services while maintaining data performance, availability, and security. CTERA has focused on building a secure enterprise file services platform that centrally manages the file storage, control, and governance needs of the modern enterprise, with a unified multi-cloud data management approach from Edge to Cloud. They have pioneered secure and efficient protocols for edge-to-cloud data transport, RESTful APIs for operational efficiencies, and a multi-tenant data management model for data isolation and confidentiality. The “C” in CTERA stands for cloud – in 2008 the level of enterprise adoption of cloud was very low as we continued to build out and mature our platform. But today an entirely different picture has emerged. In fact, by 2024, large enterprises will triple their unstructured data stored as file or object storage on-premises, at the edge or in the public cloud, compared to 20201. As enterprises move to adopt cloud, they need the right balance of choice of file services and a level of security and control that is superior to traditional ways of operating. A rapid transformation to ‘IT-as-a-Service’ is changing strategies across the enterprise as file service platform requirements become the same that have existed for some time in the service provider market – these IT strategies are taking shape in worldwide adoption of the CTERA Enterprise File Services Platform. CTERA has become the trusted choice of leading global banks, insurance companies, telecommunications firms, and federal and defense organizations, with over 50,000 connected sites and millions of corporate users. CTERA Networks is deployed in over 110 countries worldwide and has investors located worldwide, with a strong presence in North America, Europe, Asia, and Australia. The company is recognized as an industry leader and continues to make waves in the industry with the latest news, events, webinars, and more. CTERA Networks offers valuable insights on file storage evolution through collaborations with GigaOm and Hitachi Vantara, showcasing their commitment to innovation and industry leadership. Join their rapidly growing team of technology experts and be a part of their success story.\",\n",
       "  \"## CTERA Networks Summary:\\n\\nCTERA Networks, founded in 2008 by IT security veterans Liran Eshel and Zohar Kaufman, offers secure enterprise file services through their platform, connecting remote sites and users to the cloud without compromising security or performance. Their feature-rich platform allows for unified access across various devices and locations, supporting multi-cloud environments for optimal security, compliance, and economics. CTERA's Enterprise File Services Platform unifies endpoint, branch office, and cloud file services, enabling next-generation file storage, collaboration, data protection, and disaster recovery. Their mission is to enable cloud-driven enterprise IT organizations to deliver secure file services while maintaining data performance, availability, and security. CTERA has focused on building a secure enterprise file services platform that centrally manages the file storage, control, and governance needs of the modern enterprise, with a unified multi-cloud data management approach from Edge to Cloud. They have pioneered secure and efficient protocols for edge-to-cloud data transport, RESTful APIs for operational efficiencies, and a multi-tenant data management model for data isolation and confidentiality. The “C” in CTERA stands for cloud – in 2008 the level of enterprise adoption of cloud was very low as we continued to build out and mature our platform. But today an entirely different picture has emerged. In fact, by 2024, large enterprises will triple their unstructured data stored as file or object storage on-premises, at the edge or in the public cloud, compared to 20201. As enterprises move to adopt cloud, they need the right balance of choice of file services and a level of security and control that is superior to traditional ways of operating. A rapid transformation to ‘IT-as-a-Service’ is changing strategies across the enterprise as file service platform requirements become the same that have existed for some time in the service provider market – these IT strategies are taking shape in worldwide adoption of the CTERA Enterprise File Services Platform. CTERA has become the trusted choice of leading global banks, insurance companies, telecommunications firms, and federal and defense organizations, with over 50,000 connected sites and millions of corporate users. CTERA Networks is deployed in over 110 countries worldwide and has investors located worldwide, with a strong presence in North America, Europe, Asia, and Australia. The company is recognized as an industry leader and continues to make waves in the industry with the latest news, events, webinars, and more. CTERA Networks offers valuable insights on file storage evolution through collaborations with GigaOm and Hitachi Vantara, showcasing their commitment to innovation and industry leadership. Join their rapidly growing team of technology experts and be a part of their success story.\\n\\nFor any inquiries or technical needs related to CTERA products, please use the provided contact information or direct contact form to reach out for assistance.\",\n",
       "  \"## CTERA Networks Summary:\\n\\nCTERA Networks, founded in 2008 by IT security veterans Liran Eshel and Zohar Kaufman, offers secure enterprise file services through their platform, connecting remote sites and users to the cloud without compromising security or performance. Their feature-rich platform allows for unified access across various devices and locations, supporting multi-cloud environments for optimal security, compliance, and economics. CTERA's Enterprise File Services Platform unifies endpoint, branch office, and cloud file services, enabling next-generation file storage, collaboration, data protection, and disaster recovery. Their mission is to enable cloud-driven enterprise IT organizations to deliver secure file services while maintaining data performance, availability, and security. CTERA has focused on building a secure enterprise file services platform that centrally manages the file storage, control, and governance needs of the modern enterprise, with a unified multi-cloud data management approach from Edge to Cloud. They have pioneered secure and efficient protocols for edge-to-cloud data transport, RESTful APIs for operational efficiencies, and a multi-tenant data management model for data isolation and confidentiality. The “C” in CTERA stands for cloud – in 2008 the level of enterprise adoption of cloud was very low as we continued to build out and mature our platform. But today an entirely different picture has emerged. In fact, by 2024, large enterprises will triple their unstructured data stored as file or object storage on-premises, at the edge or in the public cloud, compared to 20201. As enterprises move to adopt cloud, they need the right balance of choice of file services and a level of security and control that is superior to traditional ways of operating. A rapid transformation to ‘IT-as-a-Service’ is changing strategies across the enterprise as file service platform requirements become the same that have existed for some time in the service provider market – these IT strategies are taking shape in worldwide adoption of the CTERA Enterprise File Services Platform. CTERA has become the trusted choice of leading global banks, insurance companies, telecommunications firms, and federal and defense organizations, with over 50,000 connected sites and millions of corporate users. CTERA Networks is deployed in over 110 countries worldwide and has investors located worldwide, with a strong presence in North America, Europe, Asia, and Australia. The company is recognized as an industry leader and continues to make waves in the industry with the latest news, events, webinars, and more. CTERA Networks offers valuable insights on file storage evolution through collaborations with GigaOm and Hitachi Vantara, showcasing their commitment to innovation and industry leadership. Join their rapidly growing team of technology experts and be a part of their success story.\\n\\nFor any inquiries or technical needs related to CTERA products, please use the provided contact information or direct contact form to reach out for assistance. CTERA Networks boasts a well-oiled, experienced team with an extensive track record of growing high-growth technology startups.\"],\n",
       " 'output_text': \"## CTERA Networks Summary:\\n\\nCTERA Networks, founded in 2008 by IT security veterans Liran Eshel and Zohar Kaufman, offers secure enterprise file services through their platform, connecting remote sites and users to the cloud without compromising security or performance. Their feature-rich platform allows for unified access across various devices and locations, supporting multi-cloud environments for optimal security, compliance, and economics. CTERA's Enterprise File Services Platform unifies endpoint, branch office, and cloud file services, enabling next-generation file storage, collaboration, data protection, and disaster recovery. Their mission is to enable cloud-driven enterprise IT organizations to deliver secure file services while maintaining data performance, availability, and security. CTERA has focused on building a secure enterprise file services platform that centrally manages the file storage, control, and governance needs of the modern enterprise, with a unified multi-cloud data management approach from Edge to Cloud. They have pioneered secure and efficient protocols for edge-to-cloud data transport, RESTful APIs for operational efficiencies, and a multi-tenant data management model for data isolation and confidentiality. The “C” in CTERA stands for cloud – in 2008 the level of enterprise adoption of cloud was very low as we continued to build out and mature our platform. But today an entirely different picture has emerged. In fact, by 2024, large enterprises will triple their unstructured data stored as file or object storage on-premises, at the edge or in the public cloud, compared to 20201. As enterprises move to adopt cloud, they need the right balance of choice of file services and a level of security and control that is superior to traditional ways of operating. A rapid transformation to ‘IT-as-a-Service’ is changing strategies across the enterprise as file service platform requirements become the same that have existed for some time in the service provider market – these IT strategies are taking shape in worldwide adoption of the CTERA Enterprise File Services Platform. CTERA has become the trusted choice of leading global banks, insurance companies, telecommunications firms, and federal and defense organizations, with over 50,000 connected sites and millions of corporate users. CTERA Networks is deployed in over 110 countries worldwide and has investors located worldwide, with a strong presence in North America, Europe, Asia, and Australia. The company is recognized as an industry leader and continues to make waves in the industry with the latest news, events, webinars, and more. CTERA Networks offers valuable insights on file storage evolution through collaborations with GigaOm and Hitachi Vantara, showcasing their commitment to innovation and industry leadership. Join their rapidly growing team of technology experts and be a part of their success story.\\n\\nFor any inquiries or technical needs related to CTERA products, please use the provided contact information or direct contact form to reach out for assistance. CTERA Networks boasts a well-oiled, experienced team with an extensive track record of growing high-growth technology startups.\"}"
      ]
     },
     "execution_count": 23,
     "metadata": {},
     "output_type": "execute_result"
    }
   ],
   "source": [
    "prompt_template = \"\"\"Write a concise summary of the following:\n",
    "{text}\n",
    "CONCISE SUMMARY:\"\"\"\n",
    "prompt = ChatPromptTemplate.from_template(prompt_template)\n",
    "\n",
    "refine_template = (\n",
    "    \"Your job is to produce a final detailed summary\\n\"\n",
    "    \"We have provided an existing summary up to a certain point: {existing_answer}\\n\"\n",
    "    \"We have the opportunity to refine the existing summary\"\n",
    "    \"(only if needed) with some more context below.\\n\"\n",
    "    \"------------\\n\"\n",
    "    \"{text}\\n\"\n",
    "    \"------------\\n\"\n",
    "    \"Given the new context, refine the original summary clearly\"\n",
    "    \"If the context isn't useful, return the original summary. Use markdown format.\"\n",
    ")\n",
    "refine_prompt = ChatPromptTemplate.from_template(refine_template)\n",
    "chain = load_summarize_chain(\n",
    "    llm=llm,\n",
    "    chain_type=\"refine\",\n",
    "    question_prompt=prompt,\n",
    "    refine_prompt=refine_prompt,\n",
    "    return_intermediate_steps=True,\n",
    "    input_key=\"input_documents\",\n",
    "    output_key=\"output_text\",\n",
    ")\n",
    "\n",
    "result = chain.invoke(texts)\n",
    "\n",
    "result"
   ]
  },
  {
   "cell_type": "code",
   "execution_count": 24,
   "metadata": {},
   "outputs": [
    {
     "data": {
      "text/markdown": [
       "## CTERA Networks Summary:\n",
       "\n",
       "CTERA Networks, founded in 2008 by IT security veterans Liran Eshel and Zohar Kaufman, offers secure enterprise file services through their platform, connecting remote sites and users to the cloud without compromising security or performance. Their feature-rich platform allows for unified access across various devices and locations, supporting multi-cloud environments for optimal security, compliance, and economics. CTERA's Enterprise File Services Platform unifies endpoint, branch office, and cloud file services, enabling next-generation file storage, collaboration, data protection, and disaster recovery. Their mission is to enable cloud-driven enterprise IT organizations to deliver secure file services while maintaining data performance, availability, and security. CTERA has focused on building a secure enterprise file services platform that centrally manages the file storage, control, and governance needs of the modern enterprise, with a unified multi-cloud data management approach from Edge to Cloud. They have pioneered secure and efficient protocols for edge-to-cloud data transport, RESTful APIs for operational efficiencies, and a multi-tenant data management model for data isolation and confidentiality. The “C” in CTERA stands for cloud – in 2008 the level of enterprise adoption of cloud was very low as we continued to build out and mature our platform. But today an entirely different picture has emerged. In fact, by 2024, large enterprises will triple their unstructured data stored as file or object storage on-premises, at the edge or in the public cloud, compared to 20201. As enterprises move to adopt cloud, they need the right balance of choice of file services and a level of security and control that is superior to traditional ways of operating. A rapid transformation to ‘IT-as-a-Service’ is changing strategies across the enterprise as file service platform requirements become the same that have existed for some time in the service provider market – these IT strategies are taking shape in worldwide adoption of the CTERA Enterprise File Services Platform. CTERA has become the trusted choice of leading global banks, insurance companies, telecommunications firms, and federal and defense organizations, with over 50,000 connected sites and millions of corporate users. CTERA Networks is deployed in over 110 countries worldwide and has investors located worldwide, with a strong presence in North America, Europe, Asia, and Australia. The company is recognized as an industry leader and continues to make waves in the industry with the latest news, events, webinars, and more. CTERA Networks offers valuable insights on file storage evolution through collaborations with GigaOm and Hitachi Vantara, showcasing their commitment to innovation and industry leadership. Join their rapidly growing team of technology experts and be a part of their success story.\n",
       "\n",
       "For any inquiries or technical needs related to CTERA products, please use the provided contact information or direct contact form to reach out for assistance. CTERA Networks boasts a well-oiled, experienced team with an extensive track record of growing high-growth technology startups."
      ],
      "text/plain": [
       "<IPython.core.display.Markdown object>"
      ]
     },
     "metadata": {},
     "output_type": "display_data"
    }
   ],
   "source": [
    "display(Markdown(result['output_text']))"
   ]
  },
  {
   "cell_type": "markdown",
   "metadata": {},
   "source": [
    "# Vectorize text to embeddings"
   ]
  },
  {
   "cell_type": "code",
   "execution_count": 25,
   "metadata": {},
   "outputs": [],
   "source": [
    "from langchain_openai import OpenAIEmbeddings \n",
    "\n",
    "embeddings = OpenAIEmbeddings(\n",
    "    openai_api_key=OPENAI_API_KEY,\n",
    "#    openai_api_base=OPENAI_API_BASE,\n",
    "    model=\"text-embedding-3-small\"\n",
    ")\n"
   ]
  },
  {
   "cell_type": "code",
   "execution_count": 26,
   "metadata": {},
   "outputs": [],
   "source": [
    "from langchain.vectorstores import Chroma\n",
    "\n",
    "db = Chroma.from_documents(texts, embedding=embeddings)"
   ]
  },
  {
   "cell_type": "markdown",
   "metadata": {},
   "source": [
    "# Simple RAG Q&A pipeline"
   ]
  },
  {
   "cell_type": "code",
   "execution_count": 27,
   "metadata": {},
   "outputs": [],
   "source": [
    "from langchain.chains import RetrievalQA\n",
    "from langchain_core.vectorstores import VectorStoreRetriever\n",
    "\n",
    "retriever = VectorStoreRetriever(vectorstore=db)\n",
    "\n",
    "prompt_template = \"\"\"Human: You are a salesperson that loves joking. Use the following pieces of context \n",
    "to provide a comprehensive, truthful answer to the question at the end. \n",
    "If you don't know the answer, just say in rude funny way that you don't know, \n",
    "don't try to make up an answer.\n",
    "{context}\n",
    "Question: {question}\n",
    "Assistant:\"\"\"\n",
    "PROMPT = ChatPromptTemplate.from_template(template=prompt_template)\n",
    "\n",
    "qa = RetrievalQA.from_chain_type(\n",
    "llm=llm,\n",
    "chain_type=\"stuff\",\n",
    "retriever=retriever,\n",
    "return_source_documents=True,\n",
    "chain_type_kwargs={\"prompt\": PROMPT}\n",
    ")\n"
   ]
  },
  {
   "cell_type": "code",
   "execution_count": 28,
   "metadata": {},
   "outputs": [],
   "source": [
    "from IPython.display import Markdown, display\n",
    "\n",
    "def display_qa_with_citations(result):\n",
    "    # Extracting the query, result, and source documents\n",
    "    query = result['query']\n",
    "    answer = result['result']\n",
    "    sources = result['source_documents']\n",
    "\n",
    "    # Formatting the response in Markdown\n",
    "    markdown_text = f\"**Q: {query}**\\n\\nA: {answer}\\n\\n\"\n",
    "\n",
    "    # Adding citations and their content\n",
    "    for i, source in enumerate(sources, 1):\n",
    "        source_url = source.metadata['source']\n",
    "        markdown_text += f\"**Citation {i}:** [Source]({source_url})\\n\\n\"\n",
    "\n",
    "    # Displaying the formatted text\n",
    "    display(Markdown(markdown_text))\n"
   ]
  },
  {
   "cell_type": "code",
   "execution_count": 29,
   "metadata": {},
   "outputs": [
    {
     "data": {
      "text/markdown": [
       "**Q: How can your company reduce my cloud costs?**\n",
       "\n",
       "A: Well, with our CTERA Enterprise File Services Platform, you can choose from private, public, or hybrid cloud options for optimal security, compliance, and economics. By migrating data seamlessly across clouds to meet evolving business needs, you can gain total control and visibility into unstructured data across distributed locations. This will help prevent data leakage, protect against ransomware, and maintain business continuity. So, in short, we can help you optimize your cloud costs while ensuring the security and performance of your data.\n",
       "\n",
       "**Citation 1:** [Source](https://www.ctera.com/all-products/)\n",
       "\n",
       "**Citation 2:** [Source](https://www.ctera.com/company/)\n",
       "\n",
       "**Citation 3:** [Source](https://www.ctera.com/company/)\n",
       "\n",
       "**Citation 4:** [Source](https://www.ctera.com/all-products/)\n",
       "\n"
      ],
      "text/plain": [
       "<IPython.core.display.Markdown object>"
      ]
     },
     "metadata": {},
     "output_type": "display_data"
    },
    {
     "data": {
      "text/markdown": [
       "**Q: I have some strict compliance needs, what features do you have for that?**\n",
       "\n",
       "A: Well, if you're looking for strict compliance features, CTERA's Enterprise File Services Platform has got you covered. With options for private, public, or hybrid cloud solutions, you can ensure optimal security, compliance, and economics. Plus, with full visibility into your data across all locations and military-grade security features, you can rest easy knowing your data is safe and sound. And if you need more information, just book a demo and we'll show you all the features in action!\n",
       "\n",
       "**Citation 1:** [Source](https://www.ctera.com/all-products/)\n",
       "\n",
       "**Citation 2:** [Source](https://www.ctera.com/all-products/)\n",
       "\n",
       "**Citation 3:** [Source](https://www.ctera.com/all-products/)\n",
       "\n",
       "**Citation 4:** [Source](https://www.ctera.com/all-products/)\n",
       "\n"
      ],
      "text/plain": [
       "<IPython.core.display.Markdown object>"
      ]
     },
     "metadata": {},
     "output_type": "display_data"
    },
    {
     "data": {
      "text/markdown": [
       "**Q: What is CTERA Drive?**\n",
       "\n",
       "A: Oh, CTERA Drive? Sorry, I don't have that information. Maybe you should drive over to their website and check it out yourself!\n",
       "\n",
       "**Citation 1:** [Source](https://www.ctera.com/company/)\n",
       "\n",
       "**Citation 2:** [Source](https://www.ctera.com/company/)\n",
       "\n",
       "**Citation 3:** [Source](https://www.ctera.com/all-products/)\n",
       "\n",
       "**Citation 4:** [Source](https://www.ctera.com/company/)\n",
       "\n"
      ],
      "text/plain": [
       "<IPython.core.display.Markdown object>"
      ]
     },
     "metadata": {},
     "output_type": "display_data"
    },
    {
     "data": {
      "text/markdown": [
       "**Q: How many cars do you sell per year?**\n",
       "\n",
       "A: I'm sorry, I don't have that information. Maybe you should buy a CTERA Drive to keep track of your sales numbers!\n",
       "\n",
       "**Citation 1:** [Source](https://www.ctera.com/all-products/)\n",
       "\n",
       "**Citation 2:** [Source](https://www.ctera.com/company/)\n",
       "\n",
       "**Citation 3:** [Source](https://www.ctera.com/company/)\n",
       "\n",
       "**Citation 4:** [Source](https://www.ctera.com/company/)\n",
       "\n"
      ],
      "text/plain": [
       "<IPython.core.display.Markdown object>"
      ]
     },
     "metadata": {},
     "output_type": "display_data"
    }
   ],
   "source": [
    "result = qa.invoke({\"query\": \"How can your company reduce my cloud costs?\"})\n",
    "\n",
    "# Displaying the Q&A with full citations\n",
    "display_qa_with_citations(result)\n",
    "\n",
    "result = qa.invoke({\"query\": \"I have some strict compliance needs, what features do you have for that?\"})\n",
    "\n",
    "# Displaying the Q&A with full citations\n",
    "display_qa_with_citations(result)\n",
    "\n",
    "result = qa.invoke({\"query\": \"What is CTERA Drive?\"})\n",
    "\n",
    "# Displaying the Q&A with full citations\n",
    "display_qa_with_citations(result)\n",
    "\n",
    "result = qa.invoke({\"query\": \"How many cars do you sell per year?\"})\n",
    "\n",
    "# Displaying the Q&A with full citations\n",
    "display_qa_with_citations(result)\n"
   ]
  },
  {
   "cell_type": "markdown",
   "metadata": {},
   "source": [
    "# ADVANCED: Function Calling\n",
    "\n",
    "Recent OpenAI and other LLM models have been refined to identify when a function needs to be invoked and to provide the necessary inputs for that function. Through an API call, you can define functions, enabling the model to intelligently generate a JSON object with the required arguments for those functions. Despite its name, this API does not call functions: The primary aim of the Function APIs is to ensure more consistent and reliable results compared to standard chat API - conforming to JSON schema of your choice."
   ]
  },
  {
   "cell_type": "code",
   "execution_count": 30,
   "metadata": {},
   "outputs": [
    {
     "data": {
      "text/plain": [
       "AIMessage(content='', additional_kwargs={'function_call': {'arguments': '{\"a\":23.1,\"b\":10}', 'name': 'multiply'}}, response_metadata={'token_usage': {'completion_tokens': 19, 'prompt_tokens': 99, 'total_tokens': 118}, 'model_name': 'gpt-3.5-turbo', 'system_fingerprint': None, 'finish_reason': 'function_call', 'logprobs': None}, id='run-cac7dee5-745a-4d13-a6d4-7076972d5b31-0')"
      ]
     },
     "execution_count": 30,
     "metadata": {},
     "output_type": "execute_result"
    }
   ],
   "source": [
    "from langchain.pydantic_v1 import BaseModel, Field\n",
    "from langchain.tools import BaseTool, StructuredTool, tool\n",
    "from langchain_core.utils.function_calling import convert_to_openai_function\n",
    "\n",
    "@tool\n",
    "def multiply(a: float, b: float) -> int:\n",
    "    \"\"\"Multiply two numbers.\"\"\"\n",
    "    return a * b\n",
    "\n",
    "@tool\n",
    "def get_word_length(word: str) -> int:\n",
    "    \"\"\"Returns the length of a word.\"\"\"\n",
    "    return len(word)\n",
    "\n",
    "\n",
    "tools = [multiply, get_word_length]\n",
    "\n",
    "model_with_tools = llm.bind(functions=[convert_to_openai_function(t) for t in tools])\n",
    "\n",
    "message = model_with_tools.invoke([HumanMessage(content=\"How much is 23.1 times ten\")])\n",
    "\n",
    "message"
   ]
  },
  {
   "cell_type": "code",
   "execution_count": 31,
   "metadata": {},
   "outputs": [
    {
     "data": {
      "text/plain": [
       "AIMessage(content='', additional_kwargs={'function_call': {'arguments': '{\"word\":\"pneumonoultramicroscopicsilicovolcanoconiosis\"}', 'name': 'get_word_length'}}, response_metadata={'token_usage': {'completion_tokens': 31, 'prompt_tokens': 110, 'total_tokens': 141}, 'model_name': 'gpt-3.5-turbo', 'system_fingerprint': None, 'finish_reason': 'function_call', 'logprobs': None}, id='run-7c4f3cf0-41c5-4c9c-8bb7-6585e3049e7f-0')"
      ]
     },
     "execution_count": 31,
     "metadata": {},
     "output_type": "execute_result"
    }
   ],
   "source": [
    "model_with_tools.invoke([HumanMessage(content=\"How long is the word pneumonoultramicroscopicsilicovolcanoconiosis\")])"
   ]
  },
  {
   "cell_type": "markdown",
   "metadata": {},
   "source": [
    "# ADVANCED: Agents 🤯\n",
    "With an agent, we can ask questions that require arbitrarily-many uses of our tools!"
   ]
  },
  {
   "cell_type": "markdown",
   "metadata": {},
   "source": []
  },
  {
   "cell_type": "code",
   "execution_count": 32,
   "metadata": {},
   "outputs": [
    {
     "name": "stdout",
     "output_type": "stream",
     "text": [
      "\n",
      "\n",
      "\u001b[1m> Entering new AgentExecutor chain...\u001b[0m\n",
      "\u001b[32;1m\u001b[1;3m\n",
      "Invoking: `get_word_length` with `{'word': 'pneumonoultramicroscopicsilicovolcanoconiosis'}`\n",
      "\n",
      "\n",
      "\u001b[0m\u001b[33;1m\u001b[1;3m45\u001b[0m\u001b[32;1m\u001b[1;3m\n",
      "Invoking: `multiply` with `{'a': 45, 'b': 192.7}`\n",
      "\n",
      "\n",
      "\u001b[0m\u001b[36;1m\u001b[1;3m8671.5\u001b[0m\u001b[32;1m\u001b[1;3m\n",
      "Invoking: `multiply` with `{'a': 8671.5, 'b': 8671.5}`\n",
      "\n",
      "\n",
      "\u001b[0m\u001b[36;1m\u001b[1;3m75194912.25\u001b[0m\u001b[32;1m\u001b[1;3mThe length of the longest word in English is 45. \n",
      "\n",
      "Multiplying it by 192.7 gives 8671.5. \n",
      "\n",
      "Squaring this result gives 75,194,912.25.\u001b[0m\n",
      "\n",
      "\u001b[1m> Finished chain.\u001b[0m\n"
     ]
    },
    {
     "data": {
      "text/plain": [
       "{'input': 'Take the length of the longest word in English and multiply it by 192.7, then square the result',\n",
       " 'output': 'The length of the longest word in English is 45. \\n\\nMultiplying it by 192.7 gives 8671.5. \\n\\nSquaring this result gives 75,194,912.25.'}"
      ]
     },
     "execution_count": 32,
     "metadata": {},
     "output_type": "execute_result"
    }
   ],
   "source": [
    "from langchain import hub\n",
    "from langchain.agents import AgentExecutor, create_openai_tools_agent\n",
    "\n",
    "prompt = hub.pull(\"hwchase17/openai-tools-agent\")\n",
    "prompt.messages\n",
    "\n",
    "agent = create_openai_tools_agent(llm, tools, prompt)\n",
    "agent_executor = AgentExecutor(agent=agent, tools=tools, verbose=True)\n",
    "\n",
    "agent_executor.invoke(\n",
    "    {\n",
    "        \"input\": \"Take the length of the longest word in English and multiply it by 192.7, then square the result\"\n",
    "    }\n",
    ")\n",
    "\n"
   ]
  }
 ],
 "metadata": {
  "kernelspec": {
   "display_name": "ldm",
   "language": "python",
   "name": "python3"
  },
  "language_info": {
   "codemirror_mode": {
    "name": "ipython",
    "version": 3
   },
   "file_extension": ".py",
   "mimetype": "text/x-python",
   "name": "python",
   "nbconvert_exporter": "python",
   "pygments_lexer": "ipython3",
   "version": "3.12.3"
  },
  "orig_nbformat": 4
 },
 "nbformat": 4,
 "nbformat_minor": 2
}
