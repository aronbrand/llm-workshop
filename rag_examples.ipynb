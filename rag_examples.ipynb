{
 "cells": [
  {
   "cell_type": "markdown",
   "metadata": {},
   "source": [
    "# LLM Workshop Notebook - Additional RAG examples\n",
    "\n",
    "**Author:** Aron Brand\n",
    "\n",
    "**Copyright (c) 2024**\n",
    "\n",
    "This notebook is an integral part of Aron Brand's LLM Workshop, designed to explore and utilize the capabilities of large language models (LLMs).\n",
    "\n",
    "**License:**\n",
    "\n",
    "This program is free software: you are encouraged to redistribute and/or modify it under the terms of the GNU General Public License as published by the Free Software Foundation. This software is provided under either version 3 of the License, or (at your discretion) any later version.\n",
    "\n",
    "The program is distributed in the hope that it will be useful and informative. However, it comes with no warranty; not even the implied warranty of merchantability or fitness for a particular purpose. For more details, please refer to the GNU General Public License.\n",
    "\n",
    "For a copy of the GNU General Public License, please visit [https://www.gnu.org/licenses/](https://www.gnu.org/licenses/)."
   ]
  },
  {
   "cell_type": "code",
   "execution_count": 2,
   "metadata": {},
   "outputs": [
    {
     "name": "stdout",
     "output_type": "stream",
     "text": [
      "Requirement already satisfied: langchain_chroma in ./venv/lib/python3.12/site-packages (0.1.0)\n",
      "Requirement already satisfied: chromadb<0.5.0,>=0.4.0 in ./venv/lib/python3.12/site-packages (from langchain_chroma) (0.4.24)\n",
      "Requirement already satisfied: fastapi<1,>=0.95.2 in ./venv/lib/python3.12/site-packages (from langchain_chroma) (0.111.0)\n",
      "Requirement already satisfied: langchain-core<0.2.0,>=0.1.40 in ./venv/lib/python3.12/site-packages (from langchain_chroma) (0.1.52)\n",
      "Requirement already satisfied: numpy<2,>=1 in ./venv/lib/python3.12/site-packages (from langchain_chroma) (1.26.4)\n",
      "Requirement already satisfied: build>=1.0.3 in ./venv/lib/python3.12/site-packages (from chromadb<0.5.0,>=0.4.0->langchain_chroma) (1.2.1)\n",
      "Requirement already satisfied: requests>=2.28 in ./venv/lib/python3.12/site-packages (from chromadb<0.5.0,>=0.4.0->langchain_chroma) (2.31.0)\n",
      "Requirement already satisfied: pydantic>=1.9 in ./venv/lib/python3.12/site-packages (from chromadb<0.5.0,>=0.4.0->langchain_chroma) (2.7.1)\n",
      "Requirement already satisfied: chroma-hnswlib==0.7.3 in ./venv/lib/python3.12/site-packages (from chromadb<0.5.0,>=0.4.0->langchain_chroma) (0.7.3)\n",
      "Requirement already satisfied: uvicorn>=0.18.3 in ./venv/lib/python3.12/site-packages (from uvicorn[standard]>=0.18.3->chromadb<0.5.0,>=0.4.0->langchain_chroma) (0.29.0)\n",
      "Requirement already satisfied: posthog>=2.4.0 in ./venv/lib/python3.12/site-packages (from chromadb<0.5.0,>=0.4.0->langchain_chroma) (3.5.0)\n",
      "Requirement already satisfied: typing-extensions>=4.5.0 in ./venv/lib/python3.12/site-packages (from chromadb<0.5.0,>=0.4.0->langchain_chroma) (4.11.0)\n",
      "Requirement already satisfied: pulsar-client>=3.1.0 in ./venv/lib/python3.12/site-packages (from chromadb<0.5.0,>=0.4.0->langchain_chroma) (3.5.0)\n",
      "Requirement already satisfied: onnxruntime>=1.14.1 in ./venv/lib/python3.12/site-packages (from chromadb<0.5.0,>=0.4.0->langchain_chroma) (1.17.3)\n",
      "Requirement already satisfied: opentelemetry-api>=1.2.0 in ./venv/lib/python3.12/site-packages (from chromadb<0.5.0,>=0.4.0->langchain_chroma) (1.24.0)\n",
      "Requirement already satisfied: opentelemetry-exporter-otlp-proto-grpc>=1.2.0 in ./venv/lib/python3.12/site-packages (from chromadb<0.5.0,>=0.4.0->langchain_chroma) (1.24.0)\n",
      "Requirement already satisfied: opentelemetry-instrumentation-fastapi>=0.41b0 in ./venv/lib/python3.12/site-packages (from chromadb<0.5.0,>=0.4.0->langchain_chroma) (0.45b0)\n",
      "Requirement already satisfied: opentelemetry-sdk>=1.2.0 in ./venv/lib/python3.12/site-packages (from chromadb<0.5.0,>=0.4.0->langchain_chroma) (1.24.0)\n",
      "Requirement already satisfied: tokenizers>=0.13.2 in ./venv/lib/python3.12/site-packages (from chromadb<0.5.0,>=0.4.0->langchain_chroma) (0.19.1)\n",
      "Requirement already satisfied: pypika>=0.48.9 in ./venv/lib/python3.12/site-packages (from chromadb<0.5.0,>=0.4.0->langchain_chroma) (0.48.9)\n",
      "Requirement already satisfied: tqdm>=4.65.0 in ./venv/lib/python3.12/site-packages (from chromadb<0.5.0,>=0.4.0->langchain_chroma) (4.66.4)\n",
      "Requirement already satisfied: overrides>=7.3.1 in ./venv/lib/python3.12/site-packages (from chromadb<0.5.0,>=0.4.0->langchain_chroma) (7.7.0)\n",
      "Requirement already satisfied: importlib-resources in ./venv/lib/python3.12/site-packages (from chromadb<0.5.0,>=0.4.0->langchain_chroma) (6.4.0)\n",
      "Requirement already satisfied: grpcio>=1.58.0 in ./venv/lib/python3.12/site-packages (from chromadb<0.5.0,>=0.4.0->langchain_chroma) (1.63.0)\n",
      "Requirement already satisfied: bcrypt>=4.0.1 in ./venv/lib/python3.12/site-packages (from chromadb<0.5.0,>=0.4.0->langchain_chroma) (4.1.3)\n",
      "Requirement already satisfied: typer>=0.9.0 in ./venv/lib/python3.12/site-packages (from chromadb<0.5.0,>=0.4.0->langchain_chroma) (0.12.3)\n",
      "Requirement already satisfied: kubernetes>=28.1.0 in ./venv/lib/python3.12/site-packages (from chromadb<0.5.0,>=0.4.0->langchain_chroma) (29.0.0)\n",
      "Requirement already satisfied: tenacity>=8.2.3 in ./venv/lib/python3.12/site-packages (from chromadb<0.5.0,>=0.4.0->langchain_chroma) (8.2.3)\n",
      "Requirement already satisfied: PyYAML>=6.0.0 in ./venv/lib/python3.12/site-packages (from chromadb<0.5.0,>=0.4.0->langchain_chroma) (6.0.1)\n",
      "Requirement already satisfied: mmh3>=4.0.1 in ./venv/lib/python3.12/site-packages (from chromadb<0.5.0,>=0.4.0->langchain_chroma) (4.1.0)\n",
      "Requirement already satisfied: orjson>=3.9.12 in ./venv/lib/python3.12/site-packages (from chromadb<0.5.0,>=0.4.0->langchain_chroma) (3.10.3)\n",
      "Requirement already satisfied: starlette<0.38.0,>=0.37.2 in ./venv/lib/python3.12/site-packages (from fastapi<1,>=0.95.2->langchain_chroma) (0.37.2)\n",
      "Requirement already satisfied: fastapi-cli>=0.0.2 in ./venv/lib/python3.12/site-packages (from fastapi<1,>=0.95.2->langchain_chroma) (0.0.2)\n",
      "Requirement already satisfied: httpx>=0.23.0 in ./venv/lib/python3.12/site-packages (from fastapi<1,>=0.95.2->langchain_chroma) (0.27.0)\n",
      "Requirement already satisfied: jinja2>=2.11.2 in ./venv/lib/python3.12/site-packages (from fastapi<1,>=0.95.2->langchain_chroma) (3.1.4)\n",
      "Requirement already satisfied: python-multipart>=0.0.7 in ./venv/lib/python3.12/site-packages (from fastapi<1,>=0.95.2->langchain_chroma) (0.0.9)\n",
      "Requirement already satisfied: ujson!=4.0.2,!=4.1.0,!=4.2.0,!=4.3.0,!=5.0.0,!=5.1.0,>=4.0.1 in ./venv/lib/python3.12/site-packages (from fastapi<1,>=0.95.2->langchain_chroma) (5.9.0)\n",
      "Requirement already satisfied: email_validator>=2.0.0 in ./venv/lib/python3.12/site-packages (from fastapi<1,>=0.95.2->langchain_chroma) (2.1.1)\n",
      "Requirement already satisfied: jsonpatch<2.0,>=1.33 in ./venv/lib/python3.12/site-packages (from langchain-core<0.2.0,>=0.1.40->langchain_chroma) (1.33)\n",
      "Requirement already satisfied: langsmith<0.2.0,>=0.1.0 in ./venv/lib/python3.12/site-packages (from langchain-core<0.2.0,>=0.1.40->langchain_chroma) (0.1.54)\n",
      "Requirement already satisfied: packaging<24.0,>=23.2 in ./venv/lib/python3.12/site-packages (from langchain-core<0.2.0,>=0.1.40->langchain_chroma) (23.2)\n",
      "Requirement already satisfied: pyproject_hooks in ./venv/lib/python3.12/site-packages (from build>=1.0.3->chromadb<0.5.0,>=0.4.0->langchain_chroma) (1.1.0)\n",
      "Requirement already satisfied: dnspython>=2.0.0 in ./venv/lib/python3.12/site-packages (from email_validator>=2.0.0->fastapi<1,>=0.95.2->langchain_chroma) (2.6.1)\n",
      "Requirement already satisfied: idna>=2.0.0 in ./venv/lib/python3.12/site-packages (from email_validator>=2.0.0->fastapi<1,>=0.95.2->langchain_chroma) (3.7)\n",
      "Requirement already satisfied: anyio in ./venv/lib/python3.12/site-packages (from httpx>=0.23.0->fastapi<1,>=0.95.2->langchain_chroma) (4.3.0)\n",
      "Requirement already satisfied: certifi in ./venv/lib/python3.12/site-packages (from httpx>=0.23.0->fastapi<1,>=0.95.2->langchain_chroma) (2024.2.2)\n",
      "Requirement already satisfied: httpcore==1.* in ./venv/lib/python3.12/site-packages (from httpx>=0.23.0->fastapi<1,>=0.95.2->langchain_chroma) (1.0.5)\n",
      "Requirement already satisfied: sniffio in ./venv/lib/python3.12/site-packages (from httpx>=0.23.0->fastapi<1,>=0.95.2->langchain_chroma) (1.3.1)\n",
      "Requirement already satisfied: h11<0.15,>=0.13 in ./venv/lib/python3.12/site-packages (from httpcore==1.*->httpx>=0.23.0->fastapi<1,>=0.95.2->langchain_chroma) (0.14.0)\n",
      "Requirement already satisfied: MarkupSafe>=2.0 in ./venv/lib/python3.12/site-packages (from jinja2>=2.11.2->fastapi<1,>=0.95.2->langchain_chroma) (2.1.5)\n",
      "Requirement already satisfied: jsonpointer>=1.9 in ./venv/lib/python3.12/site-packages (from jsonpatch<2.0,>=1.33->langchain-core<0.2.0,>=0.1.40->langchain_chroma) (2.4)\n",
      "Requirement already satisfied: six>=1.9.0 in ./venv/lib/python3.12/site-packages (from kubernetes>=28.1.0->chromadb<0.5.0,>=0.4.0->langchain_chroma) (1.16.0)\n",
      "Requirement already satisfied: python-dateutil>=2.5.3 in ./venv/lib/python3.12/site-packages (from kubernetes>=28.1.0->chromadb<0.5.0,>=0.4.0->langchain_chroma) (2.9.0.post0)\n",
      "Requirement already satisfied: google-auth>=1.0.1 in ./venv/lib/python3.12/site-packages (from kubernetes>=28.1.0->chromadb<0.5.0,>=0.4.0->langchain_chroma) (2.29.0)\n",
      "Requirement already satisfied: websocket-client!=0.40.0,!=0.41.*,!=0.42.*,>=0.32.0 in ./venv/lib/python3.12/site-packages (from kubernetes>=28.1.0->chromadb<0.5.0,>=0.4.0->langchain_chroma) (1.8.0)\n",
      "Requirement already satisfied: requests-oauthlib in ./venv/lib/python3.12/site-packages (from kubernetes>=28.1.0->chromadb<0.5.0,>=0.4.0->langchain_chroma) (2.0.0)\n",
      "Requirement already satisfied: oauthlib>=3.2.2 in ./venv/lib/python3.12/site-packages (from kubernetes>=28.1.0->chromadb<0.5.0,>=0.4.0->langchain_chroma) (3.2.2)\n",
      "Requirement already satisfied: urllib3>=1.24.2 in ./venv/lib/python3.12/site-packages (from kubernetes>=28.1.0->chromadb<0.5.0,>=0.4.0->langchain_chroma) (2.2.1)\n",
      "Requirement already satisfied: coloredlogs in ./venv/lib/python3.12/site-packages (from onnxruntime>=1.14.1->chromadb<0.5.0,>=0.4.0->langchain_chroma) (15.0.1)\n",
      "Requirement already satisfied: flatbuffers in ./venv/lib/python3.12/site-packages (from onnxruntime>=1.14.1->chromadb<0.5.0,>=0.4.0->langchain_chroma) (24.3.25)\n",
      "Requirement already satisfied: protobuf in ./venv/lib/python3.12/site-packages (from onnxruntime>=1.14.1->chromadb<0.5.0,>=0.4.0->langchain_chroma) (4.25.3)\n",
      "Requirement already satisfied: sympy in ./venv/lib/python3.12/site-packages (from onnxruntime>=1.14.1->chromadb<0.5.0,>=0.4.0->langchain_chroma) (1.12)\n",
      "Requirement already satisfied: deprecated>=1.2.6 in ./venv/lib/python3.12/site-packages (from opentelemetry-api>=1.2.0->chromadb<0.5.0,>=0.4.0->langchain_chroma) (1.2.14)\n",
      "Requirement already satisfied: importlib-metadata<=7.0,>=6.0 in ./venv/lib/python3.12/site-packages (from opentelemetry-api>=1.2.0->chromadb<0.5.0,>=0.4.0->langchain_chroma) (7.0.0)\n",
      "Requirement already satisfied: googleapis-common-protos~=1.52 in ./venv/lib/python3.12/site-packages (from opentelemetry-exporter-otlp-proto-grpc>=1.2.0->chromadb<0.5.0,>=0.4.0->langchain_chroma) (1.63.0)\n",
      "Requirement already satisfied: opentelemetry-exporter-otlp-proto-common==1.24.0 in ./venv/lib/python3.12/site-packages (from opentelemetry-exporter-otlp-proto-grpc>=1.2.0->chromadb<0.5.0,>=0.4.0->langchain_chroma) (1.24.0)\n",
      "Requirement already satisfied: opentelemetry-proto==1.24.0 in ./venv/lib/python3.12/site-packages (from opentelemetry-exporter-otlp-proto-grpc>=1.2.0->chromadb<0.5.0,>=0.4.0->langchain_chroma) (1.24.0)\n",
      "Requirement already satisfied: opentelemetry-instrumentation-asgi==0.45b0 in ./venv/lib/python3.12/site-packages (from opentelemetry-instrumentation-fastapi>=0.41b0->chromadb<0.5.0,>=0.4.0->langchain_chroma) (0.45b0)\n",
      "Requirement already satisfied: opentelemetry-instrumentation==0.45b0 in ./venv/lib/python3.12/site-packages (from opentelemetry-instrumentation-fastapi>=0.41b0->chromadb<0.5.0,>=0.4.0->langchain_chroma) (0.45b0)\n",
      "Requirement already satisfied: opentelemetry-semantic-conventions==0.45b0 in ./venv/lib/python3.12/site-packages (from opentelemetry-instrumentation-fastapi>=0.41b0->chromadb<0.5.0,>=0.4.0->langchain_chroma) (0.45b0)\n",
      "Requirement already satisfied: opentelemetry-util-http==0.45b0 in ./venv/lib/python3.12/site-packages (from opentelemetry-instrumentation-fastapi>=0.41b0->chromadb<0.5.0,>=0.4.0->langchain_chroma) (0.45b0)\n",
      "Requirement already satisfied: setuptools>=16.0 in ./venv/lib/python3.12/site-packages (from opentelemetry-instrumentation==0.45b0->opentelemetry-instrumentation-fastapi>=0.41b0->chromadb<0.5.0,>=0.4.0->langchain_chroma) (69.5.1)\n",
      "Requirement already satisfied: wrapt<2.0.0,>=1.0.0 in ./venv/lib/python3.12/site-packages (from opentelemetry-instrumentation==0.45b0->opentelemetry-instrumentation-fastapi>=0.41b0->chromadb<0.5.0,>=0.4.0->langchain_chroma) (1.16.0)\n",
      "Requirement already satisfied: asgiref~=3.0 in ./venv/lib/python3.12/site-packages (from opentelemetry-instrumentation-asgi==0.45b0->opentelemetry-instrumentation-fastapi>=0.41b0->chromadb<0.5.0,>=0.4.0->langchain_chroma) (3.8.1)\n",
      "Requirement already satisfied: monotonic>=1.5 in ./venv/lib/python3.12/site-packages (from posthog>=2.4.0->chromadb<0.5.0,>=0.4.0->langchain_chroma) (1.6)\n",
      "Requirement already satisfied: backoff>=1.10.0 in ./venv/lib/python3.12/site-packages (from posthog>=2.4.0->chromadb<0.5.0,>=0.4.0->langchain_chroma) (2.2.1)\n",
      "Requirement already satisfied: annotated-types>=0.4.0 in ./venv/lib/python3.12/site-packages (from pydantic>=1.9->chromadb<0.5.0,>=0.4.0->langchain_chroma) (0.6.0)\n",
      "Requirement already satisfied: pydantic-core==2.18.2 in ./venv/lib/python3.12/site-packages (from pydantic>=1.9->chromadb<0.5.0,>=0.4.0->langchain_chroma) (2.18.2)\n",
      "Requirement already satisfied: charset-normalizer<4,>=2 in ./venv/lib/python3.12/site-packages (from requests>=2.28->chromadb<0.5.0,>=0.4.0->langchain_chroma) (3.3.2)\n",
      "Requirement already satisfied: huggingface-hub<1.0,>=0.16.4 in ./venv/lib/python3.12/site-packages (from tokenizers>=0.13.2->chromadb<0.5.0,>=0.4.0->langchain_chroma) (0.23.0)\n",
      "Requirement already satisfied: click>=8.0.0 in ./venv/lib/python3.12/site-packages (from typer>=0.9.0->chromadb<0.5.0,>=0.4.0->langchain_chroma) (8.1.7)\n",
      "Requirement already satisfied: shellingham>=1.3.0 in ./venv/lib/python3.12/site-packages (from typer>=0.9.0->chromadb<0.5.0,>=0.4.0->langchain_chroma) (1.5.4)\n",
      "Requirement already satisfied: rich>=10.11.0 in ./venv/lib/python3.12/site-packages (from typer>=0.9.0->chromadb<0.5.0,>=0.4.0->langchain_chroma) (13.7.1)\n",
      "Requirement already satisfied: httptools>=0.5.0 in ./venv/lib/python3.12/site-packages (from uvicorn[standard]>=0.18.3->chromadb<0.5.0,>=0.4.0->langchain_chroma) (0.6.1)\n",
      "Requirement already satisfied: python-dotenv>=0.13 in ./venv/lib/python3.12/site-packages (from uvicorn[standard]>=0.18.3->chromadb<0.5.0,>=0.4.0->langchain_chroma) (1.0.1)\n",
      "Requirement already satisfied: uvloop!=0.15.0,!=0.15.1,>=0.14.0 in ./venv/lib/python3.12/site-packages (from uvicorn[standard]>=0.18.3->chromadb<0.5.0,>=0.4.0->langchain_chroma) (0.19.0)\n",
      "Requirement already satisfied: watchfiles>=0.13 in ./venv/lib/python3.12/site-packages (from uvicorn[standard]>=0.18.3->chromadb<0.5.0,>=0.4.0->langchain_chroma) (0.21.0)\n",
      "Requirement already satisfied: websockets>=10.4 in ./venv/lib/python3.12/site-packages (from uvicorn[standard]>=0.18.3->chromadb<0.5.0,>=0.4.0->langchain_chroma) (12.0)\n",
      "Requirement already satisfied: cachetools<6.0,>=2.0.0 in ./venv/lib/python3.12/site-packages (from google-auth>=1.0.1->kubernetes>=28.1.0->chromadb<0.5.0,>=0.4.0->langchain_chroma) (5.3.3)\n",
      "Requirement already satisfied: pyasn1-modules>=0.2.1 in ./venv/lib/python3.12/site-packages (from google-auth>=1.0.1->kubernetes>=28.1.0->chromadb<0.5.0,>=0.4.0->langchain_chroma) (0.4.0)\n",
      "Requirement already satisfied: rsa<5,>=3.1.4 in ./venv/lib/python3.12/site-packages (from google-auth>=1.0.1->kubernetes>=28.1.0->chromadb<0.5.0,>=0.4.0->langchain_chroma) (4.9)\n",
      "Requirement already satisfied: filelock in ./venv/lib/python3.12/site-packages (from huggingface-hub<1.0,>=0.16.4->tokenizers>=0.13.2->chromadb<0.5.0,>=0.4.0->langchain_chroma) (3.14.0)\n",
      "Requirement already satisfied: fsspec>=2023.5.0 in ./venv/lib/python3.12/site-packages (from huggingface-hub<1.0,>=0.16.4->tokenizers>=0.13.2->chromadb<0.5.0,>=0.4.0->langchain_chroma) (2024.3.1)\n",
      "Requirement already satisfied: zipp>=0.5 in ./venv/lib/python3.12/site-packages (from importlib-metadata<=7.0,>=6.0->opentelemetry-api>=1.2.0->chromadb<0.5.0,>=0.4.0->langchain_chroma) (3.18.1)\n",
      "Requirement already satisfied: markdown-it-py>=2.2.0 in ./venv/lib/python3.12/site-packages (from rich>=10.11.0->typer>=0.9.0->chromadb<0.5.0,>=0.4.0->langchain_chroma) (3.0.0)\n",
      "Requirement already satisfied: pygments<3.0.0,>=2.13.0 in ./venv/lib/python3.12/site-packages (from rich>=10.11.0->typer>=0.9.0->chromadb<0.5.0,>=0.4.0->langchain_chroma) (2.18.0)\n",
      "Requirement already satisfied: humanfriendly>=9.1 in ./venv/lib/python3.12/site-packages (from coloredlogs->onnxruntime>=1.14.1->chromadb<0.5.0,>=0.4.0->langchain_chroma) (10.0)\n",
      "Requirement already satisfied: mpmath>=0.19 in ./venv/lib/python3.12/site-packages (from sympy->onnxruntime>=1.14.1->chromadb<0.5.0,>=0.4.0->langchain_chroma) (1.3.0)\n",
      "Requirement already satisfied: mdurl~=0.1 in ./venv/lib/python3.12/site-packages (from markdown-it-py>=2.2.0->rich>=10.11.0->typer>=0.9.0->chromadb<0.5.0,>=0.4.0->langchain_chroma) (0.1.2)\n",
      "Requirement already satisfied: pyasn1<0.7.0,>=0.4.6 in ./venv/lib/python3.12/site-packages (from pyasn1-modules>=0.2.1->google-auth>=1.0.1->kubernetes>=28.1.0->chromadb<0.5.0,>=0.4.0->langchain_chroma) (0.6.0)\n",
      "Note: you may need to restart the kernel to use updated packages.\n"
     ]
    }
   ],
   "source": [
    "%pip install langchain_chroma"
   ]
  },
  {
   "cell_type": "markdown",
   "metadata": {},
   "source": [
    "Prepare OpenAI Connection"
   ]
  },
  {
   "cell_type": "code",
   "execution_count": 3,
   "metadata": {},
   "outputs": [],
   "source": [
    "import configparser\n",
    "\n",
    "# Create a ConfigParser object\n",
    "config = configparser.ConfigParser()\n",
    "\n",
    "# Read the configuration file\n",
    "config.read('config.ini')\n",
    "\n",
    "# Access the values\n",
    "OPENAI_API_KEY = config['openai']['OPENAI_API_KEY']"
   ]
  },
  {
   "cell_type": "code",
   "execution_count": 4,
   "metadata": {},
   "outputs": [],
   "source": [
    "from langchain_openai import ChatOpenAI\n",
    "\n",
    "llm = ChatOpenAI(\n",
    "    openai_api_key=OPENAI_API_KEY,\n",
    "    model_name=\"gpt-3.5-turbo\",\n",
    "    temperature=0.2\n",
    ")"
   ]
  },
  {
   "cell_type": "code",
   "execution_count": 5,
   "metadata": {},
   "outputs": [],
   "source": [
    "from langchain_openai import OpenAIEmbeddings \n",
    "\n",
    "embeddings = OpenAIEmbeddings(\n",
    "    openai_api_key=OPENAI_API_KEY,\n",
    "    model=\"text-embedding-3-small\"\n",
    ")\n"
   ]
  },
  {
   "cell_type": "markdown",
   "metadata": {},
   "source": [
    "RAG for CSV Files\n",
    "\n",
    "This example demonstrates how to use Retrieval-Augmented Generation (RAG) on a CSV file containing city information. It retrieves a recommended city for a user query based on the information in the file.\n",
    "\n",
    "Each row in the CSV is treated as a document. To facilitate embedding in a vector database, these documents are further split into chunks of up to 200 characters.\n",
    "\n",
    "To retrieve the complete row (parent document) for each matching chunk, the ParentDocumentRetriever is employed."
   ]
  },
  {
   "cell_type": "code",
   "execution_count": 6,
   "metadata": {},
   "outputs": [],
   "source": [
    "from langchain_community.document_loaders.csv_loader import CSVLoader\n",
    "\n",
    "loader = CSVLoader(file_path=\"./cities.csv\", source_column=\"City\")\n",
    "\n",
    "data = loader.load()\n",
    "\n"
   ]
  },
  {
   "cell_type": "code",
   "execution_count": 7,
   "metadata": {},
   "outputs": [],
   "source": [
    "from langchain.retrievers import ParentDocumentRetriever\n",
    "from langchain.storage import InMemoryStore\n",
    "from langchain_chroma import Chroma\n",
    "from langchain_text_splitters import RecursiveCharacterTextSplitter\n",
    "\n",
    "vectorstore = Chroma(collection_name=\"full_documents\", embedding_function=embeddings)\n",
    "\n",
    "child_splitter = RecursiveCharacterTextSplitter(chunk_size=200, chunk_overlap=5)\n",
    "\n",
    "# The storage layer for the parent documents\n",
    "store = InMemoryStore()\n",
    "retriever = ParentDocumentRetriever(\n",
    "    vectorstore=vectorstore,\n",
    "    docstore=store,\n",
    "    child_splitter=child_splitter,\n",
    ")"
   ]
  },
  {
   "cell_type": "code",
   "execution_count": 8,
   "metadata": {},
   "outputs": [],
   "source": [
    "retriever.add_documents(data, ids=None)"
   ]
  },
  {
   "cell_type": "markdown",
   "metadata": {},
   "source": [
    "This finds the top k (4) chunks that match a given query"
   ]
  },
  {
   "cell_type": "code",
   "execution_count": 9,
   "metadata": {},
   "outputs": [
    {
     "data": {
      "text/plain": [
       "[Document(page_content='Timezone: UTC+7\\nMayor: Anies Baswedan\\nFamous for: Culture\\nTourist Attractions: Ancol Dreamland\\nAirport Code: CGK\\nHotel Name: The Ritz-Carlton Jakarta\\nRestaurant Name: Nasi Goreng', metadata={'doc_id': 'c722724c-0d77-4426-aed5-e07e0f886358', 'row': 21, 'source': 'Jakarta'}),\n",
       " Document(page_content='Mayor: Eric Garcetti\\nFamous for: Entertainment\\nTourist Attractions: Hollywood Walk of Fame\\nAirport Code: LAX\\nHotel Name: The Beverly Hills Hotel\\nRestaurant Name: Providence\\nMuseum Name: Getty Center', metadata={'doc_id': '28c82c64-a1c2-4a39-b92c-3627d7b50940', 'row': 5, 'source': 'Los Angeles'}),\n",
       " Document(page_content='Mayor: Kishori Pednekar\\nFamous for: Bollywood\\nTourist Attractions: Marine Drive\\nAirport Code: BOM\\nHotel Name: Taj Mahal Palace\\nRestaurant Name: Gajalee', metadata={'doc_id': 'aafa14b4-f21a-4ce0-b06b-e376428761cc', 'row': 18, 'source': 'Mumbai'}),\n",
       " Document(page_content='Public Transportation: Metro\\nUniversities: Fudan University\\nSports Teams: Shanghai SIPG F.C.\\nFamous Festivals: Chinese New Year\\nFamous Foods: Xiao long bao\\nMajor Industries: Finance', metadata={'doc_id': '0b24bddc-613c-4455-b2c5-b9e47a016054', 'row': 14, 'source': 'Shanghai'})]"
      ]
     },
     "execution_count": 9,
     "metadata": {},
     "output_type": "execute_result"
    }
   ],
   "source": [
    "vectorstore.similarity_search(\"city with cinema event\")"
   ]
  },
  {
   "cell_type": "markdown",
   "metadata": {},
   "source": [
    "This finds the top parent documents (rows) that match a given query"
   ]
  },
  {
   "cell_type": "code",
   "execution_count": 10,
   "metadata": {},
   "outputs": [
    {
     "data": {
      "text/plain": [
       "[Document(page_content='City: Toronto\\nCountry: Canada\\nPopulation: 2930000\\nArea (sq. km): 630.21\\nGDP ($): 276000000000\\nMajor Landmark: CN Tower\\nClimate: Humid continental\\nLanguage: English\\nCurrency: Canadian Dollar\\nTimezone: UTC-5\\nMayor: John Tory\\nFamous for: Diversity\\nTourist Attractions: Royal Ontario Museum\\nAirport Code: YYZ\\nHotel Name: The Ritz-Carlton\\nRestaurant Name: Canoe\\nMuseum Name: Art Gallery of Ontario\\nPark Name: High Park\\nPopulation Density (/sq. km): 4652\\nAnnual Visitors: 27400000\\nAverage Temperature (Celsius): 8\\nAnnual Rainfall (mm): 831\\nElevation (m): 76\\nPublic Transportation: TTC\\nUniversities: University of Toronto\\nSports Teams: Toronto Maple Leafs\\nFamous Festivals: Toronto International Film Festival\\nFamous Foods: Poutine\\nMajor Industries: Technology', metadata={'source': 'Toronto', 'row': 19}),\n",
       " Document(page_content='City: Delhi\\nCountry: India\\nPopulation: 30236316\\nArea (sq. km): 1484\\nGDP ($): 300000000000\\nMajor Landmark: India Gate\\nClimate: Semi-arid\\nLanguage: Hindi\\nCurrency: Indian Rupee\\nTimezone: UTC+5:30\\nMayor: Arvind Kejriwal\\nFamous for: History\\nTourist Attractions: Qutub Minar\\nAirport Code: DEL\\nHotel Name: The Leela Palace New Delhi\\nRestaurant Name: Indian Accent\\nMuseum Name: National Museum\\nPark Name: Lodhi Gardens\\nPopulation Density (/sq. km): 20389\\nAnnual Visitors: 18500000\\nAverage Temperature (Celsius): 25\\nAnnual Rainfall (mm): 714\\nElevation (m): 220\\nPublic Transportation: Metro\\nUniversities: University of Delhi\\nSports Teams: Delhi Capitals\\nFamous Festivals: Diwali\\nFamous Foods: Butter Chicken\\nMajor Industries: Tourism', metadata={'source': 'Delhi', 'row': 22}),\n",
       " Document(page_content='City: Mumbai\\nCountry: India\\nPopulation: 18414288\\nArea (sq. km): 603.4\\nGDP ($): 370000000000\\nMajor Landmark: Gateway of India\\nClimate: Tropical\\nLanguage: Hindi\\nCurrency: Indian Rupee\\nTimezone: UTC+5:30\\nMayor: Kishori Pednekar\\nFamous for: Bollywood\\nTourist Attractions: Marine Drive\\nAirport Code: BOM\\nHotel Name: Taj Mahal Palace\\nRestaurant Name: Gajalee\\nMuseum Name: Chhatrapati Shivaji Maharaj Vastu Sangrahalaya\\nPark Name: Sanjay Gandhi National Park\\nPopulation Density (/sq. km): 30496\\nAnnual Visitors: 21500000\\nAverage Temperature (Celsius): 27\\nAnnual Rainfall (mm): 2310\\nElevation (m): 14\\nPublic Transportation: Local Train\\nUniversities: University of Mumbai\\nSports Teams: Mumbai Indians\\nFamous Festivals: Diwali\\nFamous Foods: Vada Pav\\nMajor Industries: Finance', metadata={'source': 'Mumbai', 'row': 18})]"
      ]
     },
     "execution_count": 10,
     "metadata": {},
     "output_type": "execute_result"
    }
   ],
   "source": [
    "retrieved_docs = retriever.invoke(\"a great festival for movie lovers\")\n",
    "retrieved_docs"
   ]
  },
  {
   "cell_type": "markdown",
   "metadata": {},
   "source": [
    "This shows how to do perform RAG with the cities CSV data"
   ]
  },
  {
   "cell_type": "code",
   "execution_count": 11,
   "metadata": {},
   "outputs": [],
   "source": [
    "from langchain.chains import RetrievalQA\n",
    "from langchain_core.vectorstores import VectorStoreRetriever\n",
    "from langchain_core.prompts import ChatPromptTemplate, PromptTemplate\n",
    "\n",
    "prompt_template = \"\"\"You are a travel agent. Recommend a single travel destination from the below list based on the user preferences, and explain why. \n",
    "Rely only on the provided context and do not provide any additional details on the city. Provide a booking code and Airport Code, average Temperature.\n",
    "If there is no suitable city, say you don't have any suitable recommendation.\n",
    "Destinations: {context}\n",
    "User preferences: {question}\n",
    "\"\"\"\n",
    "\n",
    "document_prompt = PromptTemplate(input_variables=[\"page_content\", \"row\"], template=\"{page_content}, booking_code: {row}\")\n",
    "\n",
    "cityqa = RetrievalQA.from_chain_type(\n",
    "llm=llm,\n",
    "chain_type=\"stuff\",\n",
    "retriever=retriever,\n",
    "return_source_documents=True,\n",
    "chain_type_kwargs={\"prompt\": ChatPromptTemplate.from_template(template=prompt_template), \"document_prompt\": document_prompt}\n",
    ")"
   ]
  },
  {
   "cell_type": "code",
   "execution_count": 12,
   "metadata": {},
   "outputs": [
    {
     "data": {
      "text/plain": [
       "{'query': 'I like religious sites',\n",
       " 'result': \"I recommend the city of Bangkok, Thailand. Bangkok is famous for its temples, with attractions such as Wat Phra Kaew and the Grand Palace. The city's rich cultural heritage and religious sites make it a perfect destination for travelers who enjoy exploring religious landmarks. \\n\\nBooking Code: 11\\nAirport Code: BKK\\nAverage Temperature: 28°C\",\n",
       " 'source_documents': [Document(page_content='City: Bangkok\\nCountry: Thailand\\nPopulation: 8271051\\nArea (sq. km): 1568.7\\nGDP ($): 403000000000\\nMajor Landmark: Grand Palace\\nClimate: Tropical\\nLanguage: Thai\\nCurrency: Thai Baht\\nTimezone: UTC+7\\nMayor: Aswin Kwanmuang\\nFamous for: Temples\\nTourist Attractions: Wat Phra Kaew\\nAirport Code: BKK\\nHotel Name: Mandarin Oriental\\nRestaurant Name: Nahm\\nMuseum Name: Bangkok National Museum\\nPark Name: Lumpini Park\\nPopulation Density (/sq. km): 5282\\nAnnual Visitors: 22700000\\nAverage Temperature (Celsius): 28\\nAnnual Rainfall (mm): 1500\\nElevation (m): 1\\nPublic Transportation: BTS Skytrain\\nUniversities: Chulalongkorn University\\nSports Teams: Bangkok United F.C.\\nFamous Festivals: Songkran\\nFamous Foods: Pad Thai\\nMajor Industries: Tourism', metadata={'source': 'Bangkok', 'row': 11}),\n",
       "  Document(page_content='City: Istanbul\\nCountry: Turkey\\nPopulation: 15401025\\nArea (sq. km): 5461\\nGDP ($): 537000000000\\nMajor Landmark: Hagia Sophia\\nClimate: Mediterranean\\nLanguage: Turkish\\nCurrency: Turkish Lira\\nTimezone: UTC+3\\nMayor: Ekrem İmamoğlu\\nFamous for: Culture\\nTourist Attractions: Topkapı Palace\\nAirport Code: IST\\nHotel Name: Four Seasons Hotel Istanbul at Sultanahmet\\nRestaurant Name: Ciya Sofrası\\nMuseum Name: Istanbul Archaeology Museums\\nPark Name: Emirgan Park\\nPopulation Density (/sq. km): 2820\\nAnnual Visitors: 15100000\\nAverage Temperature (Celsius): 14\\nAnnual Rainfall (mm): 844\\nElevation (m): 39\\nPublic Transportation: Metro\\nUniversities: Boğaziçi University\\nSports Teams: Galatasaray S.K.\\nFamous Festivals: Istanbul Tulip Festival\\nFamous Foods: Kebab\\nMajor Industries: Tourism', metadata={'source': 'Istanbul', 'row': 10}),\n",
       "  Document(page_content='City: Beijing\\nCountry: China\\nPopulation: 21707000\\nArea (sq. km): 16410.54\\nGDP ($): 1210000000000\\nMajor Landmark: Great Wall of China\\nClimate: Temperate\\nLanguage: Mandarin\\nCurrency: Renminbi\\nTimezone: UTC+8\\nMayor: Chen Jining\\nFamous for: History\\nTourist Attractions: Forbidden City\\nAirport Code: PEK\\nHotel Name: Grand Hyatt Beijing\\nRestaurant Name: Da Dong Roast Duck Restaurant\\nMuseum Name: National Museum of China\\nPark Name: Temple of Heaven Park\\nPopulation Density (/sq. km): 1319\\nAnnual Visitors: 28400000\\nAverage Temperature (Celsius): 12\\nAnnual Rainfall (mm): 570\\nElevation (m): 44\\nPublic Transportation: Subway\\nUniversities: Peking University\\nSports Teams: Beijing Guoan F.C.\\nFamous Festivals: Spring Festival\\nFamous Foods: Peking Duck\\nMajor Industries: Manufacturing', metadata={'source': 'Beijing', 'row': 3}),\n",
       "  Document(page_content='City: Tokyo\\nCountry: Japan\\nPopulation: 13929286\\nArea (sq. km): 2187.66\\nGDP ($): 1630000000000\\nMajor Landmark: Tokyo Tower\\nClimate: Temperate\\nLanguage: Japanese\\nCurrency: Japanese Yen\\nTimezone: UTC+9\\nMayor: Yuriko Koike\\nFamous for: Technology\\nTourist Attractions: Tokyo Skytree\\nAirport Code: HND\\nHotel Name: Park Hyatt Tokyo\\nRestaurant Name: Sukiyabashi Jiro\\nMuseum Name: Tokyo National Museum\\nPark Name: Shinjuku Gyoen\\nPopulation Density (/sq. km): 6369\\nAnnual Visitors: 31300000\\nAverage Temperature (Celsius): 16\\nAnnual Rainfall (mm): 1526\\nElevation (m): 40\\nPublic Transportation: Subway\\nUniversities: University of Tokyo\\nSports Teams: Yomiuri Giants\\nFamous Festivals: Gion Matsuri\\nFamous Foods: Sushi\\nMajor Industries: Technology', metadata={'source': 'Tokyo', 'row': 1})]}"
      ]
     },
     "execution_count": 12,
     "metadata": {},
     "output_type": "execute_result"
    }
   ],
   "source": [
    "cityqa.invoke({\"query\": \"I like religious sites\"})"
   ]
  },
  {
   "cell_type": "code",
   "execution_count": 13,
   "metadata": {},
   "outputs": [
    {
     "data": {
      "text/plain": [
       "{'query': 'I want to meet the mayor of a city famous for cinema',\n",
       " 'result': \"I recommend Los Angeles, USA. Los Angeles is famous for its entertainment industry, including Hollywood, and is home to many celebrities and movie studios. The city's mayor, Eric Garcetti, is actively involved in promoting the city's film industry and is a great person to meet if you are interested in cinema. Additionally, Los Angeles has a Mediterranean climate with an average temperature of 19 degrees Celsius, making it a pleasant destination to visit. \\n\\nBooking code: 5\\nAirport Code: LAX\\nAverage Temperature: 19°C\",\n",
       " 'source_documents': [Document(page_content='City: Los Angeles\\nCountry: USA\\nPopulation: 3990456\\nArea (sq. km): 1302\\nGDP ($): 866000000000\\nMajor Landmark: Hollywood Sign\\nClimate: Mediterranean\\nLanguage: English\\nCurrency: US Dollar\\nTimezone: UTC-8\\nMayor: Eric Garcetti\\nFamous for: Entertainment\\nTourist Attractions: Hollywood Walk of Fame\\nAirport Code: LAX\\nHotel Name: The Beverly Hills Hotel\\nRestaurant Name: Providence\\nMuseum Name: Getty Center\\nPark Name: Griffith Park\\nPopulation Density (/sq. km): 3059\\nAnnual Visitors: 50700000\\nAverage Temperature (Celsius): 19\\nAnnual Rainfall (mm): 377\\nElevation (m): 71\\nPublic Transportation: Metro\\nUniversities: University of California\\nSports Teams: Los Angeles Lakers\\nFamous Festivals: Rose Parade\\nFamous Foods: In-N-Out Burger\\nMajor Industries: Entertainment', metadata={'source': 'Los Angeles', 'row': 5}),\n",
       "  Document(page_content=\"City: Paris\\nCountry: France\\nPopulation: 2148327\\nArea (sq. km): 105.4\\nGDP ($): 970000000000\\nMajor Landmark: Eiffel Tower\\nClimate: Temperate\\nLanguage: French\\nCurrency: Euro\\nTimezone: UTC+1\\nMayor: Anne Hidalgo\\nFamous for: Fashion\\nTourist Attractions: Louvre Museum\\nAirport Code: CDG\\nHotel Name: The Peninsula Paris\\nRestaurant Name: Le Meurice\\nMuseum Name: Musée d'Orsay\\nPark Name: Luxembourg Gardens\\nPopulation Density (/sq. km): 20389\\nAnnual Visitors: 30900000\\nAverage Temperature (Celsius): 12\\nAnnual Rainfall (mm): 640\\nElevation (m): 35\\nPublic Transportation: Métro\\nUniversities: Sorbonne University\\nSports Teams: Paris Saint-Germain F.C.\\nFamous Festivals: Bastille Day\\nFamous Foods: Croissant\\nMajor Industries: Fashion\", metadata={'source': 'Paris', 'row': 4}),\n",
       "  Document(page_content='City: Mumbai\\nCountry: India\\nPopulation: 18414288\\nArea (sq. km): 603.4\\nGDP ($): 370000000000\\nMajor Landmark: Gateway of India\\nClimate: Tropical\\nLanguage: Hindi\\nCurrency: Indian Rupee\\nTimezone: UTC+5:30\\nMayor: Kishori Pednekar\\nFamous for: Bollywood\\nTourist Attractions: Marine Drive\\nAirport Code: BOM\\nHotel Name: Taj Mahal Palace\\nRestaurant Name: Gajalee\\nMuseum Name: Chhatrapati Shivaji Maharaj Vastu Sangrahalaya\\nPark Name: Sanjay Gandhi National Park\\nPopulation Density (/sq. km): 30496\\nAnnual Visitors: 21500000\\nAverage Temperature (Celsius): 27\\nAnnual Rainfall (mm): 2310\\nElevation (m): 14\\nPublic Transportation: Local Train\\nUniversities: University of Mumbai\\nSports Teams: Mumbai Indians\\nFamous Festivals: Diwali\\nFamous Foods: Vada Pav\\nMajor Industries: Finance', metadata={'source': 'Mumbai', 'row': 18}),\n",
       "  Document(page_content='City: London\\nCountry: UK\\nPopulation: 8982256\\nArea (sq. km): 1572\\nGDP ($): 935000000000\\nMajor Landmark: Big Ben\\nClimate: Temperate\\nLanguage: English\\nCurrency: Pound Sterling\\nTimezone: UTC+0\\nMayor: Sadiq Khan\\nFamous for: Culture\\nTourist Attractions: London Eye\\nAirport Code: LHR\\nHotel Name: The Ritz London\\nRestaurant Name: Dishoom\\nMuseum Name: British Museum\\nPark Name: Hyde Park\\nPopulation Density (/sq. km): 5711\\nAnnual Visitors: 19200000\\nAverage Temperature (Celsius): 11\\nAnnual Rainfall (mm): 601\\nElevation (m): 35\\nPublic Transportation: Tube\\nUniversities: Imperial College London\\nSports Teams: Chelsea F.C.\\nFamous Festivals: Notting Hill Carnival\\nFamous Foods: Fish and Chips\\nMajor Industries: Finance', metadata={'source': 'London', 'row': 2})]}"
      ]
     },
     "execution_count": 13,
     "metadata": {},
     "output_type": "execute_result"
    }
   ],
   "source": [
    "cityqa.invoke({\"query\": \"I want to meet the mayor of a city famous for cinema\"})"
   ]
  },
  {
   "cell_type": "markdown",
   "metadata": {},
   "source": [
    "Next, we will demonstrate how to perform Retrieval-Augmented Generation (RAG) using data stored in Python dictionaries. In this example, we will showcase how to utilize only the \"description\" field for the embedding process. Other city attributes will be stored as metadata, meaning they are not included in the retrieval process but are still provided to the Large Language Model (LLM) during the generation phase of RAG."
   ]
  },
  {
   "cell_type": "code",
   "execution_count": 14,
   "metadata": {},
   "outputs": [],
   "source": [
    "cities = [\n",
    "    {\n",
    "        \"city_name\": \"Paris\",\n",
    "        \"description\": \"Paris is known for its iconic landmarks such as the Eiffel Tower, Louvre Museum, and Notre-Dame Cathedral. Visitors can also explore charming neighborhoods like Montmartre and enjoy delicious French cuisine. The city's elevation is approximately 35 meters (115 feet) above sea level.\",\n",
    "        \"booking_code\": 35,\n",
    "    },\n",
    "    {\n",
    "        \"city_name\": \"Tokyo\",\n",
    "        \"description\": \"Tokyo, the capital of Japan, offers a blend of modern skyscrapers and historic temples. Tourists can visit attractions like the Tokyo Tower, Senso-ji Temple, and the bustling Shibuya crossing. With an elevation of about 40 meters (131 feet) above sea level, Tokyo is a vibrant metropolis.\",\n",
    "        \"booking_code\": 40\n",
    "    },\n",
    "    {\n",
    "        \"city_name\": \"Rome\",\n",
    "        \"description\": \"Rome is a city steeped in history, with landmarks such as the Colosseum, Vatican City, and the Trevi Fountain. Visitors can explore ancient ruins, dine on authentic Italian cuisine, and soak in the vibrant atmosphere. Rome's elevation is approximately 21 meters (69 feet) above sea level.\",\n",
    "        \"booking_code\": 21\n",
    "    },\n",
    "    {\n",
    "        \"city_name\": \"New York City\",\n",
    "        \"description\": \"New York City, also known as the Big Apple, is a bustling metropolis with iconic sights like Times Square, Central Park, and the Statue of Liberty. Visitors can enjoy Broadway shows, world-class museums, and diverse cuisine options. The city's elevation varies, but most of Manhattan is around 10 meters (33 feet) above sea level.\",\n",
    "        \"booking_code\": 10\n",
    "    },\n",
    "    {\n",
    "        \"city_name\": \"Sydney\",\n",
    "        \"description\": \"Sydney, located on Australia's east coast, boasts attractions such as the Sydney Opera House, Sydney Harbour Bridge, and Bondi Beach. Visitors can explore the city's vibrant culture, enjoy outdoor activities, and savor fresh seafood. Sydney's elevation is approximately 19 meters (62 feet) above sea level.\",\n",
    "        \"booking_code\": 19\n",
    "    },\n",
    "    {\n",
    "        \"city_name\": \"Rio de Janeiro\",\n",
    "        \"description\": \"Rio de Janeiro is famous for its stunning beaches, including Copacabana and Ipanema, as well as landmarks like Christ the Redeemer and Sugarloaf Mountain. Visitors can experience the vibrant Carnival atmosphere, explore lush rainforests, and enjoy breathtaking views. The city's elevation is around 0 meters (0 feet) above sea level.\",\n",
    "        \"booking_code\": 0\n",
    "    },\n",
    "    {\n",
    "        \"city_name\": \"London\",\n",
    "        \"description\": \"London, the capital of England, offers a mix of history, culture, and modernity. Tourists can visit attractions such as the Tower of London, Buckingham Palace, and the British Museum. With an elevation of approximately 35 meters (115 feet) above sea level, London is a dynamic global city.\",\n",
    "        \"booking_code\": 35\n",
    "    },\n",
    "    {\n",
    "        \"city_name\": \"Cape Town\",\n",
    "        \"description\": \"Cape Town is a coastal city in South Africa known for its stunning natural beauty, including Table Mountain and Cape Point. Visitors can explore historic sites like Robben Island, indulge in wine tasting in the nearby Winelands, and enjoy outdoor activities like hiking and surfing. The city's elevation varies, but most areas are around 10 meters (33 feet) above sea level.\",\n",
    "        \"booking_code\": 10\n",
    "    },\n",
    "    {\n",
    "        \"city_name\": \"Venice\",\n",
    "        \"description\": \"Venice is a unique city built on water, famous for its picturesque canals, historic architecture, and romantic ambiance. Tourists can visit landmarks such as St. Mark's Basilica, the Grand Canal, and the Rialto Bridge. With an elevation of around 1 meter (3 feet) above sea level, Venice is a must-visit destination.\",\n",
    "        \"booking_code\": 1\n",
    "    },\n",
    "    {\n",
    "        \"city_name\": \"Dubai\",\n",
    "        \"description\": \"Dubai is known for its futuristic skyline, luxury shopping malls, and extravagant attractions like the Burj Khalifa and Palm Jumeirah. Visitors can experience desert safaris, indoor skiing, and world-class dining. The city's elevation is approximately 16 meters (52 feet) above sea level.\",\n",
    "        \"booking_code\": 16\n",
    "    }\n",
    "]\n"
   ]
  },
  {
   "cell_type": "code",
   "execution_count": 15,
   "metadata": {},
   "outputs": [
    {
     "data": {
      "text/plain": [
       "[Document(page_content=\"Paris is known for its iconic landmarks such as the Eiffel Tower, Louvre Museum, and Notre-Dame Cathedral. Visitors can also explore charming neighborhoods like Montmartre and enjoy delicious French cuisine. The city's elevation is approximately 35 meters (115 feet) above sea level.\", metadata={'city_name': 'Paris', 'booking_code': 35}),\n",
       " Document(page_content='Tokyo, the capital of Japan, offers a blend of modern skyscrapers and historic temples. Tourists can visit attractions like the Tokyo Tower, Senso-ji Temple, and the bustling Shibuya crossing. With an elevation of about 40 meters (131 feet) above sea level, Tokyo is a vibrant metropolis.', metadata={'city_name': 'Tokyo', 'booking_code': 40}),\n",
       " Document(page_content=\"Rome is a city steeped in history, with landmarks such as the Colosseum, Vatican City, and the Trevi Fountain. Visitors can explore ancient ruins, dine on authentic Italian cuisine, and soak in the vibrant atmosphere. Rome's elevation is approximately 21 meters (69 feet) above sea level.\", metadata={'city_name': 'Rome', 'booking_code': 21}),\n",
       " Document(page_content=\"New York City, also known as the Big Apple, is a bustling metropolis with iconic sights like Times Square, Central Park, and the Statue of Liberty. Visitors can enjoy Broadway shows, world-class museums, and diverse cuisine options. The city's elevation varies, but most of Manhattan is around 10 meters (33 feet) above sea level.\", metadata={'city_name': 'New York City', 'booking_code': 10}),\n",
       " Document(page_content=\"Sydney, located on Australia's east coast, boasts attractions such as the Sydney Opera House, Sydney Harbour Bridge, and Bondi Beach. Visitors can explore the city's vibrant culture, enjoy outdoor activities, and savor fresh seafood. Sydney's elevation is approximately 19 meters (62 feet) above sea level.\", metadata={'city_name': 'Sydney', 'booking_code': 19}),\n",
       " Document(page_content=\"Rio de Janeiro is famous for its stunning beaches, including Copacabana and Ipanema, as well as landmarks like Christ the Redeemer and Sugarloaf Mountain. Visitors can experience the vibrant Carnival atmosphere, explore lush rainforests, and enjoy breathtaking views. The city's elevation is around 0 meters (0 feet) above sea level.\", metadata={'city_name': 'Rio de Janeiro', 'booking_code': 0}),\n",
       " Document(page_content='London, the capital of England, offers a mix of history, culture, and modernity. Tourists can visit attractions such as the Tower of London, Buckingham Palace, and the British Museum. With an elevation of approximately 35 meters (115 feet) above sea level, London is a dynamic global city.', metadata={'city_name': 'London', 'booking_code': 35}),\n",
       " Document(page_content=\"Cape Town is a coastal city in South Africa known for its stunning natural beauty, including Table Mountain and Cape Point. Visitors can explore historic sites like Robben Island, indulge in wine tasting in the nearby Winelands, and enjoy outdoor activities like hiking and surfing. The city's elevation varies, but most areas are around 10 meters (33 feet) above sea level.\", metadata={'city_name': 'Cape Town', 'booking_code': 10}),\n",
       " Document(page_content=\"Venice is a unique city built on water, famous for its picturesque canals, historic architecture, and romantic ambiance. Tourists can visit landmarks such as St. Mark's Basilica, the Grand Canal, and the Rialto Bridge. With an elevation of around 1 meter (3 feet) above sea level, Venice is a must-visit destination.\", metadata={'city_name': 'Venice', 'booking_code': 1}),\n",
       " Document(page_content=\"Dubai is known for its futuristic skyline, luxury shopping malls, and extravagant attractions like the Burj Khalifa and Palm Jumeirah. Visitors can experience desert safaris, indoor skiing, and world-class dining. The city's elevation is approximately 16 meters (52 feet) above sea level.\", metadata={'city_name': 'Dubai', 'booking_code': 16})]"
      ]
     },
     "execution_count": 15,
     "metadata": {},
     "output_type": "execute_result"
    }
   ],
   "source": [
    "from langchain_core.documents import Document\n",
    "import copy\n",
    "\n",
    "# Function to convert city dictionaries to Document instances\n",
    "def dict_to_document(dict):\n",
    "    dict_copy = copy.deepcopy(dict)\n",
    "    description = dict_copy.pop('description')\n",
    "    return Document(page_content=description, metadata=dict_copy)\n",
    "\n",
    "# Convert cities array to documents array\n",
    "documents = [dict_to_document(city) for city in cities]\n",
    "\n",
    "documents\n"
   ]
  },
  {
   "cell_type": "code",
   "execution_count": 16,
   "metadata": {},
   "outputs": [],
   "source": [
    "\n",
    "from langchain.vectorstores import Chroma\n",
    "\n",
    "db = Chroma.from_documents(documents, embedding=embeddings)"
   ]
  },
  {
   "cell_type": "code",
   "execution_count": 17,
   "metadata": {},
   "outputs": [],
   "source": [
    "from langchain.chains import RetrievalQA\n",
    "from langchain_core.vectorstores import VectorStoreRetriever\n",
    "from langchain_core.prompts import ChatPromptTemplate, PromptTemplate\n",
    "\n",
    "retriever = VectorStoreRetriever(vectorstore=db)\n",
    "\n",
    "prompt_template = \"\"\"You are a travel agent. Recommend a single travel destination from the below list based on the user preferences, and explain why.\n",
    "Rely only on the provided context and do not provide any additional details on the city. \n",
    "Say if you want to book, provide booking code (the code).\n",
    "If there is no suitable city, say you don't have any suitable recommendation.\n",
    "Destinations: {context}\n",
    "User preferences: {question}\n",
    "\"\"\"\n",
    "\n",
    "document_prompt = PromptTemplate(input_variables=[\"page_content\", \"booking_code\"], template=\"{page_content}, booking_code: {booking_code}\")\n",
    "\n",
    "qa = RetrievalQA.from_chain_type(\n",
    "llm=llm,\n",
    "chain_type=\"stuff\",\n",
    "retriever=retriever,\n",
    "return_source_documents=True,\n",
    "chain_type_kwargs={\"prompt\": ChatPromptTemplate.from_template(template=prompt_template), \"document_prompt\": document_prompt}\n",
    ")\n"
   ]
  },
  {
   "cell_type": "code",
   "execution_count": 18,
   "metadata": {},
   "outputs": [
    {
     "data": {
      "text/plain": [
       "{'query': 'I like religious sites in the far east',\n",
       " 'result': 'Based on your preference for religious sites in the far east, I recommend Tokyo, the capital of Japan. Tokyo offers a mix of modern skyscrapers and historic temples, including the famous Senso-ji Temple. You can also explore other attractions like the Tokyo Tower while experiencing the vibrant metropolis. \\n\\nIf you would like to book a trip to Tokyo, please use booking code: 40.',\n",
       " 'source_documents': [Document(page_content='Tokyo, the capital of Japan, offers a blend of modern skyscrapers and historic temples. Tourists can visit attractions like the Tokyo Tower, Senso-ji Temple, and the bustling Shibuya crossing. With an elevation of about 40 meters (131 feet) above sea level, Tokyo is a vibrant metropolis.', metadata={'booking_code': 40, 'city_name': 'Tokyo'}),\n",
       "  Document(page_content=\"Sydney, located on Australia's east coast, boasts attractions such as the Sydney Opera House, Sydney Harbour Bridge, and Bondi Beach. Visitors can explore the city's vibrant culture, enjoy outdoor activities, and savor fresh seafood. Sydney's elevation is approximately 19 meters (62 feet) above sea level.\", metadata={'booking_code': 19, 'city_name': 'Sydney'}),\n",
       "  Document(page_content=\"Rome is a city steeped in history, with landmarks such as the Colosseum, Vatican City, and the Trevi Fountain. Visitors can explore ancient ruins, dine on authentic Italian cuisine, and soak in the vibrant atmosphere. Rome's elevation is approximately 21 meters (69 feet) above sea level.\", metadata={'booking_code': 21, 'city_name': 'Rome'}),\n",
       "  Document(page_content=\"Venice is a unique city built on water, famous for its picturesque canals, historic architecture, and romantic ambiance. Tourists can visit landmarks such as St. Mark's Basilica, the Grand Canal, and the Rialto Bridge. With an elevation of around 1 meter (3 feet) above sea level, Venice is a must-visit destination.\", metadata={'booking_code': 1, 'city_name': 'Venice'})]}"
      ]
     },
     "execution_count": 18,
     "metadata": {},
     "output_type": "execute_result"
    }
   ],
   "source": [
    "qa.invoke({\"query\": \"I like religious sites in the far east\"})"
   ]
  },
  {
   "cell_type": "code",
   "execution_count": 19,
   "metadata": {},
   "outputs": [
    {
     "data": {
      "text/plain": [
       "{'query': 'I like boats',\n",
       " 'result': \"I recommend Venice for you. Venice is a unique city built on water, famous for its picturesque canals. You can explore the city by boat and enjoy the romantic ambiance of this historic destination. Don't miss landmarks such as St. Mark's Basilica, the Grand Canal, and the Rialto Bridge. To book your trip to Venice, use booking code 1.\",\n",
       " 'source_documents': [Document(page_content=\"Venice is a unique city built on water, famous for its picturesque canals, historic architecture, and romantic ambiance. Tourists can visit landmarks such as St. Mark's Basilica, the Grand Canal, and the Rialto Bridge. With an elevation of around 1 meter (3 feet) above sea level, Venice is a must-visit destination.\", metadata={'booking_code': 1, 'city_name': 'Venice'}),\n",
       "  Document(page_content=\"Sydney, located on Australia's east coast, boasts attractions such as the Sydney Opera House, Sydney Harbour Bridge, and Bondi Beach. Visitors can explore the city's vibrant culture, enjoy outdoor activities, and savor fresh seafood. Sydney's elevation is approximately 19 meters (62 feet) above sea level.\", metadata={'booking_code': 19, 'city_name': 'Sydney'}),\n",
       "  Document(page_content=\"Rio de Janeiro is famous for its stunning beaches, including Copacabana and Ipanema, as well as landmarks like Christ the Redeemer and Sugarloaf Mountain. Visitors can experience the vibrant Carnival atmosphere, explore lush rainforests, and enjoy breathtaking views. The city's elevation is around 0 meters (0 feet) above sea level.\", metadata={'booking_code': 0, 'city_name': 'Rio de Janeiro'}),\n",
       "  Document(page_content=\"Cape Town is a coastal city in South Africa known for its stunning natural beauty, including Table Mountain and Cape Point. Visitors can explore historic sites like Robben Island, indulge in wine tasting in the nearby Winelands, and enjoy outdoor activities like hiking and surfing. The city's elevation varies, but most areas are around 10 meters (33 feet) above sea level.\", metadata={'booking_code': 10, 'city_name': 'Cape Town'})]}"
      ]
     },
     "execution_count": 19,
     "metadata": {},
     "output_type": "execute_result"
    }
   ],
   "source": [
    "qa.invoke({\"query\": \"I like boats\"})"
   ]
  },
  {
   "cell_type": "code",
   "execution_count": 24,
   "metadata": {},
   "outputs": [
    {
     "data": {
      "text/plain": [
       "{'query': 'I like dogs',\n",
       " 'result': \"I don't have any suitable recommendation based on the user preferences provided.\",\n",
       " 'source_documents': [Document(page_content=\"Rio de Janeiro is famous for its stunning beaches, including Copacabana and Ipanema, as well as landmarks like Christ the Redeemer and Sugarloaf Mountain. Visitors can experience the vibrant Carnival atmosphere, explore lush rainforests, and enjoy breathtaking views. The city's elevation is around 0 meters (0 feet) above sea level.\", metadata={'booking_code': 0, 'city_name': 'Rio de Janeiro'}),\n",
       "  Document(page_content=\"Dubai is known for its futuristic skyline, luxury shopping malls, and extravagant attractions like the Burj Khalifa and Palm Jumeirah. Visitors can experience desert safaris, indoor skiing, and world-class dining. The city's elevation is approximately 16 meters (52 feet) above sea level.\", metadata={'booking_code': 16, 'city_name': 'Dubai'}),\n",
       "  Document(page_content=\"Venice is a unique city built on water, famous for its picturesque canals, historic architecture, and romantic ambiance. Tourists can visit landmarks such as St. Mark's Basilica, the Grand Canal, and the Rialto Bridge. With an elevation of around 1 meter (3 feet) above sea level, Venice is a must-visit destination.\", metadata={'booking_code': 1, 'city_name': 'Venice'}),\n",
       "  Document(page_content=\"Cape Town is a coastal city in South Africa known for its stunning natural beauty, including Table Mountain and Cape Point. Visitors can explore historic sites like Robben Island, indulge in wine tasting in the nearby Winelands, and enjoy outdoor activities like hiking and surfing. The city's elevation varies, but most areas are around 10 meters (33 feet) above sea level.\", metadata={'booking_code': 10, 'city_name': 'Cape Town'})]}"
      ]
     },
     "execution_count": 24,
     "metadata": {},
     "output_type": "execute_result"
    }
   ],
   "source": [
    "qa.invoke({\"query\": \"I like dogs\"})"
   ]
  },
  {
   "cell_type": "code",
   "execution_count": 25,
   "metadata": {},
   "outputs": [
    {
     "data": {
      "text/plain": [
       "{'query': 'I like nature and romance',\n",
       " 'result': \"I would recommend Venice for you. Venice is a unique city built on water, known for its picturesque canals and romantic ambiance. You can explore historic architecture, take a gondola ride through the canals, and visit landmarks like St. Mark's Basilica. The city's elevation is around 1 meter (3 feet) above sea level, making it a must-visit destination for nature lovers and those seeking a romantic getaway.\\n\\nBooking code: 1\",\n",
       " 'source_documents': [Document(page_content=\"Rio de Janeiro is famous for its stunning beaches, including Copacabana and Ipanema, as well as landmarks like Christ the Redeemer and Sugarloaf Mountain. Visitors can experience the vibrant Carnival atmosphere, explore lush rainforests, and enjoy breathtaking views. The city's elevation is around 0 meters (0 feet) above sea level.\", metadata={'booking_code': 0, 'city_name': 'Rio de Janeiro'}),\n",
       "  Document(page_content=\"Venice is a unique city built on water, famous for its picturesque canals, historic architecture, and romantic ambiance. Tourists can visit landmarks such as St. Mark's Basilica, the Grand Canal, and the Rialto Bridge. With an elevation of around 1 meter (3 feet) above sea level, Venice is a must-visit destination.\", metadata={'booking_code': 1, 'city_name': 'Venice'}),\n",
       "  Document(page_content=\"Cape Town is a coastal city in South Africa known for its stunning natural beauty, including Table Mountain and Cape Point. Visitors can explore historic sites like Robben Island, indulge in wine tasting in the nearby Winelands, and enjoy outdoor activities like hiking and surfing. The city's elevation varies, but most areas are around 10 meters (33 feet) above sea level.\", metadata={'booking_code': 10, 'city_name': 'Cape Town'}),\n",
       "  Document(page_content=\"Rome is a city steeped in history, with landmarks such as the Colosseum, Vatican City, and the Trevi Fountain. Visitors can explore ancient ruins, dine on authentic Italian cuisine, and soak in the vibrant atmosphere. Rome's elevation is approximately 21 meters (69 feet) above sea level.\", metadata={'booking_code': 21, 'city_name': 'Rome'})]}"
      ]
     },
     "execution_count": 25,
     "metadata": {},
     "output_type": "execute_result"
    }
   ],
   "source": [
    "qa.invoke({\"query\": \"I like nature and romance\"})"
   ]
  },
  {
   "cell_type": "code",
   "execution_count": 29,
   "metadata": {},
   "outputs": [
    {
     "data": {
      "text/plain": [
       "{'query': 'Find the most modern city that is not too hot',\n",
       " 'result': 'Based on the user preferences of finding the most modern city that is not too hot, I would recommend Tokyo, the capital of Japan. Tokyo offers a blend of modern skyscrapers and futuristic technology while also maintaining a comfortable temperature for most of the year. With an elevation of about 40 meters (131 feet) above sea level, Tokyo is a vibrant metropolis that is not too hot compared to other cities on the list. \\n\\nBooking code: 40',\n",
       " 'source_documents': [Document(page_content='Tokyo, the capital of Japan, offers a blend of modern skyscrapers and historic temples. Tourists can visit attractions like the Tokyo Tower, Senso-ji Temple, and the bustling Shibuya crossing. With an elevation of about 40 meters (131 feet) above sea level, Tokyo is a vibrant metropolis.', metadata={'booking_code': 40, 'city_name': 'Tokyo'}),\n",
       "  Document(page_content='London, the capital of England, offers a mix of history, culture, and modernity. Tourists can visit attractions such as the Tower of London, Buckingham Palace, and the British Museum. With an elevation of approximately 35 meters (115 feet) above sea level, London is a dynamic global city.', metadata={'booking_code': 35, 'city_name': 'London'}),\n",
       "  Document(page_content=\"Dubai is known for its futuristic skyline, luxury shopping malls, and extravagant attractions like the Burj Khalifa and Palm Jumeirah. Visitors can experience desert safaris, indoor skiing, and world-class dining. The city's elevation is approximately 16 meters (52 feet) above sea level.\", metadata={'booking_code': 16, 'city_name': 'Dubai'}),\n",
       "  Document(page_content=\"New York City, also known as the Big Apple, is a bustling metropolis with iconic sights like Times Square, Central Park, and the Statue of Liberty. Visitors can enjoy Broadway shows, world-class museums, and diverse cuisine options. The city's elevation varies, but most of Manhattan is around 10 meters (33 feet) above sea level.\", metadata={'booking_code': 10, 'city_name': 'New York City'})]}"
      ]
     },
     "execution_count": 29,
     "metadata": {},
     "output_type": "execute_result"
    }
   ],
   "source": [
    "qa.invoke({\"query\": \"Find the most modern city that is not too hot\"})"
   ]
  }
 ],
 "metadata": {
  "kernelspec": {
   "display_name": "venv",
   "language": "python",
   "name": "python3"
  },
  "language_info": {
   "codemirror_mode": {
    "name": "ipython",
    "version": 3
   },
   "file_extension": ".py",
   "mimetype": "text/x-python",
   "name": "python",
   "nbconvert_exporter": "python",
   "pygments_lexer": "ipython3",
   "version": "3.12.3"
  }
 },
 "nbformat": 4,
 "nbformat_minor": 2
}
